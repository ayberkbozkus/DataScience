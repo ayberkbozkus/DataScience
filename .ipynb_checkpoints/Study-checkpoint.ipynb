{
 "cells": [
  {
   "cell_type": "code",
   "execution_count": 1,
   "metadata": {},
   "outputs": [
    {
     "name": "stdout",
     "output_type": "stream",
     "text": [
      "Hello World\n"
     ]
    }
   ],
   "source": [
    "print(\"Hello World\")"
   ]
  },
  {
   "cell_type": "markdown",
   "metadata": {},
   "source": [
    "# Başlık1\n",
    "## Başlık2\n",
    "### Başlık3\n",
    "deneme"
   ]
  },
  {
   "cell_type": "code",
   "execution_count": 8,
   "metadata": {},
   "outputs": [],
   "source": [
    "import pandas as pd"
   ]
  },
  {
   "cell_type": "code",
   "execution_count": 9,
   "metadata": {},
   "outputs": [],
   "source": [
    "import numpy as np"
   ]
  },
  {
   "cell_type": "code",
   "execution_count": 13,
   "metadata": {},
   "outputs": [],
   "source": [
    "import time"
   ]
  },
  {
   "cell_type": "code",
   "execution_count": 26,
   "metadata": {},
   "outputs": [
    {
     "data": {
      "text/plain": [
       "array([1, 2, 3, 4, 5, 6])"
      ]
     },
     "execution_count": 26,
     "metadata": {},
     "output_type": "execute_result"
    }
   ],
   "source": [
    "k = np.array([1,2,3,4,5,6])\n",
    "k"
   ]
  },
  {
   "cell_type": "code",
   "execution_count": 22,
   "metadata": {},
   "outputs": [
    {
     "name": "stdout",
     "output_type": "stream",
     "text": [
      "155241.73747841106\n"
     ]
    }
   ],
   "source": [
    "start_time = time.time()\n",
    "A= np.array(50000000)\n",
    "A ** 2\n",
    "time1 = time.time() - start_time\n",
    "start_time2 = time.time()\n",
    "L = range(50000000)\n",
    "[i ** 2 for i in L]\n",
    "time2 = time.time() - start_time2\n",
    "\n",
    "print(time2/time1)"
   ]
  },
  {
   "cell_type": "code",
   "execution_count": 27,
   "metadata": {},
   "outputs": [
    {
     "name": "stdout",
     "output_type": "stream",
     "text": [
      "[4 5 6 7]\n"
     ]
    }
   ],
   "source": [
    "x = np.array([4,5,6,7])\n",
    "print(x)"
   ]
  },
  {
   "cell_type": "code",
   "execution_count": 28,
   "metadata": {},
   "outputs": [
    {
     "name": "stdout",
     "output_type": "stream",
     "text": [
      "<class 'numpy.ndarray'>\n",
      "(4,)\n",
      "4\n",
      "1\n",
      "32\n",
      "int64\n"
     ]
    }
   ],
   "source": [
    "print(type(x))\n",
    "print(x.shape)\n",
    "print(x.size)\n",
    "print(x.ndim)\n",
    "print(x.nbytes)\n",
    "print(x.dtype)"
   ]
  },
  {
   "cell_type": "code",
   "execution_count": 31,
   "metadata": {},
   "outputs": [
    {
     "name": "stdout",
     "output_type": "stream",
     "text": [
      "[[1 2 3]\n",
      " [4 5 6]]\n",
      "<class 'numpy.ndarray'>\n",
      "(2, 3)\n",
      "6\n",
      "2\n",
      "48\n",
      "int64\n"
     ]
    }
   ],
   "source": [
    "t = np.array([[1,2,3],[4,5,6]])\n",
    "y = t\n",
    "print(y)\n",
    "print(type(y))\n",
    "print(y.shape)\n",
    "print(y.size)\n",
    "print(y.ndim)\n",
    "print(y.nbytes)\n",
    "print(y.dtype)"
   ]
  },
  {
   "cell_type": "code",
   "execution_count": 32,
   "metadata": {},
   "outputs": [
    {
     "name": "stdout",
     "output_type": "stream",
     "text": [
      "[[[1 2 3]\n",
      "  [4 5 6]]\n",
      "\n",
      " [[1 2 3]\n",
      "  [4 5 6]]]\n",
      "<class 'numpy.ndarray'>\n",
      "(2, 2, 3)\n",
      "12\n",
      "3\n",
      "96\n",
      "int64\n"
     ]
    }
   ],
   "source": [
    "z = np.array([[[1,2,3],[4,5,6]],[[1,2,3],[4,5,6]]])\n",
    "y = z\n",
    "print(y)\n",
    "print(type(y))\n",
    "print(y.shape)\n",
    "print(y.size)\n",
    "print(y.ndim)\n",
    "print(y.nbytes)\n",
    "print(y.dtype)"
   ]
  },
  {
   "cell_type": "code",
   "execution_count": 36,
   "metadata": {},
   "outputs": [
    {
     "name": "stdout",
     "output_type": "stream",
     "text": [
      "<U21\n"
     ]
    }
   ],
   "source": [
    "x = np.array([1,\"2\",3])\n",
    "print(x.dtype)"
   ]
  },
  {
   "cell_type": "code",
   "execution_count": 39,
   "metadata": {},
   "outputs": [
    {
     "name": "stdout",
     "output_type": "stream",
     "text": [
      "complex128\n",
      "[1.+0.j 2.+0.j 3.+0.j]\n"
     ]
    }
   ],
   "source": [
    "x = np.array([1,2.0,3], dtype=np.complex)\n",
    "print(x.dtype)\n",
    "print(x)"
   ]
  },
  {
   "cell_type": "code",
   "execution_count": 41,
   "metadata": {},
   "outputs": [
    {
     "name": "stdout",
     "output_type": "stream",
     "text": [
      "[1 2 3]\n",
      "int64\n"
     ]
    }
   ],
   "source": [
    "x = np.array([1.2,2.7,3.8], dtype=np.int)\n",
    "print(x)\n",
    "print(x.dtype)"
   ]
  },
  {
   "cell_type": "code",
   "execution_count": 44,
   "metadata": {},
   "outputs": [
    {
     "name": "stdout",
     "output_type": "stream",
     "text": [
      "[1. 2. 3.]\n",
      "float64\n"
     ]
    }
   ],
   "source": [
    "x = np.array(x, dtype=float)\n",
    "print(x)\n",
    "print(x.dtype)"
   ]
  },
  {
   "cell_type": "code",
   "execution_count": 46,
   "metadata": {},
   "outputs": [
    {
     "name": "stdout",
     "output_type": "stream",
     "text": [
      "[1 2 3]\n"
     ]
    }
   ],
   "source": [
    "x = x.astype(np.int)\n",
    "print(x)"
   ]
  },
  {
   "cell_type": "code",
   "execution_count": 48,
   "metadata": {},
   "outputs": [
    {
     "name": "stdout",
     "output_type": "stream",
     "text": [
      "[6.2 4.8 7.9]\n",
      "float64\n"
     ]
    }
   ],
   "source": [
    "x1 = np.array([1,2,3],dtype=np.int)\n",
    "x2 = np.array([5.2,2.8,4.9],dtype=np.float)\n",
    "\n",
    "print(x1+x2)\n",
    "print((x1+x2).dtype)"
   ]
  },
  {
   "cell_type": "code",
   "execution_count": 55,
   "metadata": {},
   "outputs": [
    {
     "name": "stdout",
     "output_type": "stream",
     "text": [
      "[0.+1.j 3.+0.j 2.+0.j]\n",
      "complex128\n",
      "<class 'numpy.ndarray'>\n",
      "[0. 3. 2.]\n",
      "[1. 0. 0.]\n",
      "float64\n",
      "float64\n"
     ]
    }
   ],
   "source": [
    "x = np.sqrt(np.array([-1,9,4], dtype=np.complex))\n",
    "print(x)\n",
    "print(x.dtype)\n",
    "print(type(x))\n",
    "print(x.real)\n",
    "print(x.imag)\n",
    "print(x.real.dtype)\n",
    "print(x.imag.dtype)"
   ]
  },
  {
   "cell_type": "code",
   "execution_count": 56,
   "metadata": {},
   "outputs": [],
   "source": [
    "np.save('ndarray_1',x)"
   ]
  },
  {
   "cell_type": "code",
   "execution_count": 58,
   "metadata": {},
   "outputs": [
    {
     "name": "stdout",
     "output_type": "stream",
     "text": [
      "[0.+1.j 3.+0.j 2.+0.j]\n",
      "(3,)\n"
     ]
    }
   ],
   "source": [
    "y = np.load('ndarray_1.npy')\n",
    "print(y)\n",
    "print(y.shape)"
   ]
  },
  {
   "cell_type": "code",
   "execution_count": 59,
   "metadata": {},
   "outputs": [
    {
     "name": "stdout",
     "output_type": "stream",
     "text": [
      "[0. 0. 0. 0.]\n",
      "float64\n",
      "[1. 1. 1. 1.]\n",
      "float64\n"
     ]
    }
   ],
   "source": [
    "x1 = np.zeros(4)\n",
    "print(x1)\n",
    "print(x1.dtype)\n",
    "x2 = np.ones(4)\n",
    "print(x2)\n",
    "print(x2.dtype)"
   ]
  },
  {
   "cell_type": "code",
   "execution_count": 64,
   "metadata": {},
   "outputs": [
    {
     "name": "stdout",
     "output_type": "stream",
     "text": [
      "[[[0 0 0 0]\n",
      "  [0 0 0 0]\n",
      "  [0 0 0 0]]\n",
      "\n",
      " [[0 0 0 0]\n",
      "  [0 0 0 0]\n",
      "  [0 0 0 0]]]\n",
      "int64\n"
     ]
    }
   ],
   "source": [
    "x1 = np.zeros((2,3,4), dtype=np.int)\n",
    "print(x1)\n",
    "print(x1.dtype)"
   ]
  },
  {
   "cell_type": "code",
   "execution_count": 65,
   "metadata": {},
   "outputs": [
    {
     "name": "stdout",
     "output_type": "stream",
     "text": [
      "[[10 10 10]\n",
      " [10 10 10]]\n"
     ]
    }
   ],
   "source": [
    "x = np.full((2,3),10)\n",
    "print(x)"
   ]
  },
  {
   "cell_type": "code",
   "execution_count": 66,
   "metadata": {},
   "outputs": [
    {
     "name": "stdout",
     "output_type": "stream",
     "text": [
      "[[0. 0.]\n",
      " [0. 0.]]\n"
     ]
    }
   ],
   "source": [
    "x = np.empty((2,2))\n",
    "print(x)"
   ]
  },
  {
   "cell_type": "code",
   "execution_count": 67,
   "metadata": {},
   "outputs": [
    {
     "name": "stdout",
     "output_type": "stream",
     "text": [
      "[[3. 3.]\n",
      " [3. 3.]]\n"
     ]
    }
   ],
   "source": [
    "x.fill(3)\n",
    "print(x)"
   ]
  },
  {
   "cell_type": "code",
   "execution_count": 70,
   "metadata": {},
   "outputs": [
    {
     "name": "stdout",
     "output_type": "stream",
     "text": [
      "[[1. 0. 0. 0.]\n",
      " [0. 1. 0. 0.]\n",
      " [0. 0. 1. 0.]\n",
      " [0. 0. 0. 1.]]\n"
     ]
    }
   ],
   "source": [
    "x = np.eye(4)\n",
    "print(x)"
   ]
  },
  {
   "cell_type": "code",
   "execution_count": 71,
   "metadata": {},
   "outputs": [
    {
     "name": "stdout",
     "output_type": "stream",
     "text": [
      "[[1. 0. 0. 0.]\n",
      " [0. 1. 0. 0.]\n",
      " [0. 0. 1. 0.]\n",
      " [0. 0. 0. 1.]\n",
      " [0. 0. 0. 0.]]\n"
     ]
    }
   ],
   "source": [
    "y = np.eye(5,4)\n",
    "print(y)"
   ]
  },
  {
   "cell_type": "code",
   "execution_count": 73,
   "metadata": {},
   "outputs": [
    {
     "name": "stdout",
     "output_type": "stream",
     "text": [
      "[[1. 0. 0. 0. 0. 0.]\n",
      " [0. 1. 0. 0. 0. 0.]\n",
      " [0. 0. 1. 0. 0. 0.]\n",
      " [0. 0. 0. 1. 0. 0.]\n",
      " [0. 0. 0. 0. 1. 0.]\n",
      " [0. 0. 0. 0. 0. 1.]]\n",
      "[[0. 0. 0. 1. 0. 0.]\n",
      " [0. 0. 0. 0. 1. 0.]\n",
      " [0. 0. 0. 0. 0. 1.]\n",
      " [0. 0. 0. 0. 0. 0.]\n",
      " [0. 0. 0. 0. 0. 0.]\n",
      " [0. 0. 0. 0. 0. 0.]]\n"
     ]
    }
   ],
   "source": [
    "x = np.eye(6)\n",
    "print(x)\n",
    "y = np.eye(6,k=3)\n",
    "print(y)"
   ]
  },
  {
   "cell_type": "code",
   "execution_count": 75,
   "metadata": {},
   "outputs": [
    {
     "name": "stdout",
     "output_type": "stream",
     "text": [
      "[[1. 0. 0. 0. 0.]\n",
      " [0. 1. 0. 0. 0.]\n",
      " [0. 0. 1. 0. 0.]\n",
      " [0. 0. 0. 1. 0.]\n",
      " [0. 0. 0. 0. 1.]]\n"
     ]
    }
   ],
   "source": [
    "x = np.identity(5)\n",
    "print(x)"
   ]
  },
  {
   "cell_type": "code",
   "execution_count": 77,
   "metadata": {},
   "outputs": [
    {
     "name": "stdout",
     "output_type": "stream",
     "text": [
      "[[ 3  0  0  0]\n",
      " [ 0  4  0  0]\n",
      " [ 0  0  7  0]\n",
      " [ 0  0  0 11]]\n"
     ]
    }
   ],
   "source": [
    "x = np.diag([3,4,7,11])\n",
    "print(x)"
   ]
  },
  {
   "cell_type": "code",
   "execution_count": 78,
   "metadata": {},
   "outputs": [
    {
     "name": "stdout",
     "output_type": "stream",
     "text": [
      "[0 1 2 3 4 5 6 7 8 9]\n"
     ]
    }
   ],
   "source": [
    "x = np.arange(10)\n",
    "print(x)"
   ]
  },
  {
   "cell_type": "code",
   "execution_count": 79,
   "metadata": {},
   "outputs": [
    {
     "name": "stdout",
     "output_type": "stream",
     "text": [
      "[10 11 12 13 14 15 16 17 18 19]\n"
     ]
    }
   ],
   "source": [
    "x = np.arange(10,20)\n",
    "print(x)"
   ]
  },
  {
   "cell_type": "code",
   "execution_count": 80,
   "metadata": {},
   "outputs": [
    {
     "name": "stdout",
     "output_type": "stream",
     "text": [
      "[10 12 14 16 18]\n"
     ]
    }
   ],
   "source": [
    "x = np.arange(10,20,2)\n",
    "print(x)"
   ]
  },
  {
   "cell_type": "code",
   "execution_count": 82,
   "metadata": {},
   "outputs": [
    {
     "data": {
      "text/plain": [
       "array([ 0.        ,  1.66666667,  3.33333333,  5.        ,  6.66666667,\n",
       "        8.33333333, 10.        , 11.66666667, 13.33333333, 15.        ])"
      ]
     },
     "execution_count": 82,
     "metadata": {},
     "output_type": "execute_result"
    }
   ],
   "source": [
    "x = np.linspace(0,15,10)\n",
    "x"
   ]
  },
  {
   "cell_type": "code",
   "execution_count": 89,
   "metadata": {},
   "outputs": [
    {
     "data": {
      "text/plain": [
       "array([ 0. ,  0.5,  1. ,  1.5,  2. ,  2.5,  3. ,  3.5,  4. ,  4.5,  5. ,\n",
       "        5.5,  6. ,  6.5,  7. ,  7.5,  8. ,  8.5,  9. ,  9.5, 10. , 10.5,\n",
       "       11. , 11.5, 12. , 12.5, 13. , 13.5, 14. , 14.5, 15. , 15.5, 16. ,\n",
       "       16.5, 17. , 17.5, 18. , 18.5, 19. , 19.5, 20. , 20.5, 21. , 21.5,\n",
       "       22. , 22.5, 23. , 23.5, 24. , 24.5])"
      ]
     },
     "execution_count": 89,
     "metadata": {},
     "output_type": "execute_result"
    }
   ],
   "source": [
    "x = np.linspace(0,25, endpoint=False)\n",
    "x"
   ]
  },
  {
   "cell_type": "code",
   "execution_count": 90,
   "metadata": {},
   "outputs": [
    {
     "name": "stdout",
     "output_type": "stream",
     "text": [
      "[ 0  1  2  3  4  5  6  7  8  9 10 11 12 13 14 15 16 17 18 19]\n",
      "[[ 0  1  2  3  4]\n",
      " [ 5  6  7  8  9]\n",
      " [10 11 12 13 14]\n",
      " [15 16 17 18 19]]\n"
     ]
    }
   ],
   "source": [
    "x = np.arange(20)\n",
    "print(x)\n",
    "\n",
    "x = np.reshape(x, (4,5))\n",
    "print(x)"
   ]
  },
  {
   "cell_type": "code",
   "execution_count": 96,
   "metadata": {},
   "outputs": [
    {
     "name": "stdout",
     "output_type": "stream",
     "text": [
      "[ 0.  1.  2.  3.  4.  5.  6.  7.  8.  9. 10. 11. 12. 13. 14. 15. 16. 17.\n",
      " 18. 19.]\n",
      "[[ 0.  1.  2.  3.  4.  5.  6.  7.  8.  9.]\n",
      " [10. 11. 12. 13. 14. 15. 16. 17. 18. 19.]]\n",
      "20\n",
      "20\n"
     ]
    }
   ],
   "source": [
    "x = np.linspace(0,19,20)\n",
    "print(x)\n",
    "\n",
    "y = np.reshape(x, (2,10))\n",
    "print(y)\n",
    "print(x.size)\n",
    "print(y.size)"
   ]
  },
  {
   "cell_type": "code",
   "execution_count": 98,
   "metadata": {},
   "outputs": [
    {
     "name": "stdout",
     "output_type": "stream",
     "text": [
      "[[ 0.  1.  2.  3.  4.  5.  6.  7.  8.  9.]\n",
      " [10. 11. 12. 13. 14. 15. 16. 17. 18. 19.]]\n"
     ]
    }
   ],
   "source": [
    "z = np.linspace(0,19,20).reshape(2,10)\n",
    "print(z)\n"
   ]
  },
  {
   "cell_type": "code",
   "execution_count": 104,
   "metadata": {},
   "outputs": [
    {
     "data": {
      "text/plain": [
       "array([[0.64909577, 0.47861897, 0.89611385],\n",
       "       [0.10076378, 0.2640292 , 0.58770533]])"
      ]
     },
     "execution_count": 104,
     "metadata": {},
     "output_type": "execute_result"
    }
   ],
   "source": [
    "x = np.random.random((2,3))\n",
    "x"
   ]
  },
  {
   "cell_type": "code",
   "execution_count": 110,
   "metadata": {},
   "outputs": [
    {
     "data": {
      "text/plain": [
       "array([[ 7,  5],\n",
       "       [10, 10],\n",
       "       [ 5,  4]])"
      ]
     },
     "execution_count": 110,
     "metadata": {},
     "output_type": "execute_result"
    }
   ],
   "source": [
    "x = np.random.randint(3,12, size=(3,2))\n",
    "x"
   ]
  },
  {
   "cell_type": "code",
   "execution_count": 113,
   "metadata": {},
   "outputs": [
    {
     "name": "stdout",
     "output_type": "stream",
     "text": [
      "[0 1 2 3 4]\n",
      "2\n",
      "2\n"
     ]
    }
   ],
   "source": [
    "x = np.arange(5)\n",
    "print(x)\n",
    "print(x[2])\n",
    "print(x[-3])"
   ]
  },
  {
   "cell_type": "code",
   "execution_count": 115,
   "metadata": {},
   "outputs": [
    {
     "data": {
      "text/plain": [
       "array([  0,   1, 200,   3,   4])"
      ]
     },
     "execution_count": 115,
     "metadata": {},
     "output_type": "execute_result"
    }
   ],
   "source": [
    "x[2] = 200\n",
    "x"
   ]
  },
  {
   "cell_type": "code",
   "execution_count": 116,
   "metadata": {},
   "outputs": [
    {
     "data": {
      "text/plain": [
       "array([[ 0,  1,  2,  3],\n",
       "       [ 4,  5,  6,  7],\n",
       "       [ 8,  9, 10, 11]])"
      ]
     },
     "execution_count": 116,
     "metadata": {},
     "output_type": "execute_result"
    }
   ],
   "source": [
    "x = np.arange(12).reshape(3,4)\n",
    "x"
   ]
  },
  {
   "cell_type": "code",
   "execution_count": 122,
   "metadata": {},
   "outputs": [
    {
     "data": {
      "text/plain": [
       "array([[  0,   1,   2, 300],\n",
       "       [  4,   5,   6,   7],\n",
       "       [  8,   9, 600, 600]])"
      ]
     },
     "execution_count": 122,
     "metadata": {},
     "output_type": "execute_result"
    }
   ],
   "source": [
    "x[0,1]\n",
    "x[0,3],x[2,2] = 300,600\n",
    "x"
   ]
  },
  {
   "cell_type": "code",
   "execution_count": 124,
   "metadata": {},
   "outputs": [
    {
     "name": "stdout",
     "output_type": "stream",
     "text": [
      "[0 1 2 3 4 5]\n",
      "[0 1 2 3 4 5]\n",
      "[1 2 4 5]\n"
     ]
    }
   ],
   "source": [
    "x = np.arange(6)\n",
    "print(x)\n",
    "y = np.delete(x, [0,3])\n",
    "print(x)\n",
    "print(y)"
   ]
  },
  {
   "cell_type": "markdown",
   "metadata": {},
   "source": [
    "# axis = 0 -> row (satır), axis = 1 -> column (sütun)"
   ]
  },
  {
   "cell_type": "code",
   "execution_count": 128,
   "metadata": {},
   "outputs": [
    {
     "name": "stdout",
     "output_type": "stream",
     "text": [
      "[[ 0  1  2  3]\n",
      " [ 4  5  6  7]\n",
      " [ 8  9 10 11]\n",
      " [12 13 14 15]]\n",
      "[[ 0  1  2  3]\n",
      " [ 8  9 10 11]\n",
      " [12 13 14 15]]\n",
      "[[ 0  2  3]\n",
      " [ 8 10 11]\n",
      " [12 14 15]]\n"
     ]
    }
   ],
   "source": [
    "x = np.arange(16).reshape(4,4)\n",
    "print(x)\n",
    "x = np.delete(x,1,axis=0)\n",
    "print(x)\n",
    "x = np.delete(x,1,axis=1)\n",
    "print(x)"
   ]
  },
  {
   "cell_type": "code",
   "execution_count": 129,
   "metadata": {},
   "outputs": [
    {
     "name": "stdout",
     "output_type": "stream",
     "text": [
      "[[ 0  1  2  3]\n",
      " [ 4  5  6  7]\n",
      " [ 8  9 10 11]\n",
      " [12 13 14 15]]\n",
      "[[ 1  3]\n",
      " [ 5  7]\n",
      " [ 9 11]\n",
      " [13 15]]\n"
     ]
    }
   ],
   "source": [
    "x = np.arange(16).reshape(4,4)\n",
    "print(x)\n",
    "x = np.delete(x, [0,2], axis=1)\n",
    "print(x)"
   ]
  },
  {
   "cell_type": "code",
   "execution_count": 132,
   "metadata": {},
   "outputs": [
    {
     "name": "stdout",
     "output_type": "stream",
     "text": [
      "[0 1 2 3 4]\n",
      "[  0   1   2   3   4 100]\n",
      "[  0   1   2   3   4 100 200 300]\n"
     ]
    }
   ],
   "source": [
    "x = np.arange(5)\n",
    "print(x)\n",
    "x = np.append(x,100)\n",
    "print(x)\n",
    "x = np.append(x,[200,300])\n",
    "print(x)"
   ]
  },
  {
   "cell_type": "code",
   "execution_count": 136,
   "metadata": {},
   "outputs": [
    {
     "name": "stdout",
     "output_type": "stream",
     "text": [
      "[[0 1 2]\n",
      " [3 4 5]\n",
      " [6 7 8]]\n",
      "[[  0   1   2]\n",
      " [  3   4   5]\n",
      " [  6   7   8]\n",
      " [100 200 300]]\n"
     ]
    }
   ],
   "source": [
    "x = np.arange(9).reshape(3,3)\n",
    "print(x)\n",
    "x = np.append(x,[[100,200,300]], axis = 0)\n",
    "print(x)"
   ]
  },
  {
   "cell_type": "code",
   "execution_count": 140,
   "metadata": {},
   "outputs": [
    {
     "name": "stdout",
     "output_type": "stream",
     "text": [
      "[[  0   1   2  10]\n",
      " [  3   4   5  20]\n",
      " [  6   7   8  30]\n",
      " [100 200 300  40]]\n"
     ]
    }
   ],
   "source": [
    "x = np.append(x,[[10],[20],[30],[40]], axis = 1)\n",
    "print(x)"
   ]
  },
  {
   "cell_type": "code",
   "execution_count": 143,
   "metadata": {},
   "outputs": [
    {
     "name": "stdout",
     "output_type": "stream",
     "text": [
      "[0 1 2 3 4]\n",
      "[10  0  1  2  3  4]\n"
     ]
    }
   ],
   "source": [
    "#np.insert ---> np.insert(ndarray, index, element, axis)\n",
    "x = np.arange(5)\n",
    "print(x)\n",
    "x= np.insert(x,0,10)\n",
    "print(x)"
   ]
  },
  {
   "cell_type": "code",
   "execution_count": 144,
   "metadata": {},
   "outputs": [
    {
     "name": "stdout",
     "output_type": "stream",
     "text": [
      "[ 10   0 300 400   1   2   3   4]\n"
     ]
    }
   ],
   "source": [
    "x= np.insert(x,2,[300,400])\n",
    "print(x)"
   ]
  },
  {
   "cell_type": "code",
   "execution_count": 152,
   "metadata": {},
   "outputs": [
    {
     "name": "stdout",
     "output_type": "stream",
     "text": [
      "[[0 1 2]\n",
      " [3 4 5]\n",
      " [6 7 8]]\n",
      "[[  0   1   2]\n",
      " [100 200 300]\n",
      " [  3   4   5]\n",
      " [  6   7   8]]\n",
      "[[100   0   1   2]\n",
      " [200   3   4   5]\n",
      " [300   6   7   8]]\n",
      "[[100   0   1   2]\n",
      " [100   3   4   5]\n",
      " [100   6   7   8]]\n",
      "[[100 200   0   1   2]\n",
      " [100 200   3   4   5]\n",
      " [100 200   6   7   8]]\n"
     ]
    }
   ],
   "source": [
    "x = np.arange(9).reshape(3,3)\n",
    "print(x)\n",
    "y = np.insert(x,1,[100,200,300], axis=0)\n",
    "print(y)\n",
    "y = np.insert(x,0,[100,200,300], axis=1)\n",
    "print(y)\n",
    "y = np.insert(x,0,[100], axis=1)\n",
    "print(y)\n",
    "y = np.insert(x,0,[[100],[200]], axis=1)\n",
    "print(y)"
   ]
  },
  {
   "cell_type": "code",
   "execution_count": 158,
   "metadata": {},
   "outputs": [
    {
     "name": "stdout",
     "output_type": "stream",
     "text": [
      "[0 1 2]\n",
      "[[0 1 2]\n",
      " [3 4 5]\n",
      " [6 7 8]]\n",
      "[[0 1 2]\n",
      " [0 1 2]\n",
      " [3 4 5]\n",
      " [6 7 8]]\n",
      "[0 1 2 3 4 5 6 7 8]\n",
      "[0 1 2 0 1 2 3 4 5 6 7 8]\n"
     ]
    }
   ],
   "source": [
    "x = np.arange(3)\n",
    "print(x)\n",
    "\n",
    "y = np.arange(9).reshape(3,3)\n",
    "print(y)\n",
    "\n",
    "z = np.vstack((x,y))\n",
    "print(z)\n",
    "\n",
    "y = y.reshape(9,)\n",
    "print(y)\n",
    "\n",
    "t = np.hstack((x,y))\n",
    "print(t)\n",
    "\n",
    "#np.stack"
   ]
  },
  {
   "cell_type": "code",
   "execution_count": 163,
   "metadata": {},
   "outputs": [
    {
     "name": "stdout",
     "output_type": "stream",
     "text": [
      "[0 1 2 3 4 5 6 7 8 9]\n",
      "[2 3 4 5]\n",
      "[4 5 6 7 8 9]\n",
      "[0 1 2 3 4 5 6]\n",
      "[0 1 2 3 4 5 6 7 8]\n",
      "[6 7]\n"
     ]
    }
   ],
   "source": [
    "x = np.arange(10)\n",
    "print(x)\n",
    "print(x[2:6])\n",
    "print(x[4:])\n",
    "print(x[:7])\n",
    "print(x[:-1])\n",
    "print(x[-4:-2])"
   ]
  },
  {
   "cell_type": "code",
   "execution_count": 162,
   "metadata": {},
   "outputs": [
    {
     "name": "stdout",
     "output_type": "stream",
     "text": [
      "[[ 0  1  2  3  4]\n",
      " [ 5  6  7  8  9]\n",
      " [10 11 12 13 14]\n",
      " [15 16 17 18 19]\n",
      " [20 21 22 23 24]]\n"
     ]
    }
   ],
   "source": [
    "x = np.arange(25).reshape(5,5)\n",
    "print(x)"
   ]
  },
  {
   "cell_type": "code",
   "execution_count": 169,
   "metadata": {},
   "outputs": [
    {
     "name": "stdout",
     "output_type": "stream",
     "text": [
      "[[ 0  1  2  3  4]\n",
      " [ 5  6  7  8  9]\n",
      " [10 11 12 13 14]\n",
      " [15 16 17 18 19]\n",
      " [20 21 22 23 24]] \n",
      "\n",
      "[[ 1  2  3]\n",
      " [ 6  7  8]\n",
      " [11 12 13]] \n",
      "\n",
      "[[10 11 12 13 14]\n",
      " [15 16 17 18 19]\n",
      " [20 21 22 23 24]] \n",
      "\n",
      "[[ 0  1  2  3  4]\n",
      " [ 5  6  7  8  9]\n",
      " [10 11 12 13 14]\n",
      " [15 16 17 18 19]\n",
      " [20 21 22 23 24]] \n",
      "\n",
      "[[ 3  4]\n",
      " [ 8  9]\n",
      " [13 14]\n",
      " [18 19]\n",
      " [23 24]]\n"
     ]
    }
   ],
   "source": [
    "x = np.arange(25).reshape(5,5)\n",
    "print(x,\"\\n\")\n",
    "y = x[0:3,1:4]\n",
    "print(y,\"\\n\")\n",
    "\n",
    "z = x[2:]\n",
    "print(z,\"\\n\")\n",
    "\n",
    "t = x[::]\n",
    "print(t,\"\\n\")\n",
    "\n",
    "v = x[:,3:]\n",
    "print(v)"
   ]
  },
  {
   "cell_type": "code",
   "execution_count": 174,
   "metadata": {},
   "outputs": [
    {
     "name": "stdout",
     "output_type": "stream",
     "text": [
      "[[0 1 2]\n",
      " [3 4 5]\n",
      " [6 7 8]] \n",
      "\n",
      "[[3 4]]\n",
      "[[  0   1   2]\n",
      " [100   4   5]\n",
      " [  6   7   8]] \n",
      "\n",
      "True\n"
     ]
    }
   ],
   "source": [
    "x = np.arange(9).reshape(3,3)\n",
    "print(x,\"\\n\")\n",
    "\n",
    "y = x[1:2,0:2]\n",
    "print(y)\n",
    "y[0,0] = 100\n",
    "print(x,\"\\n\")\n",
    "\n",
    "print(np.shares_memory(x,y))"
   ]
  },
  {
   "cell_type": "code",
   "execution_count": 179,
   "metadata": {},
   "outputs": [
    {
     "name": "stdout",
     "output_type": "stream",
     "text": [
      "[[ 0  1  2  3]\n",
      " [ 4  5  6  7]\n",
      " [ 8  9 10 11]\n",
      " [12 13 14 15]]\n",
      "\n",
      "[[ 1  2]\n",
      " [ 5  6]\n",
      " [ 9 10]]\n",
      "\n",
      "[[ 0  1  2  3]\n",
      " [ 4  5  6  7]\n",
      " [ 8  9 10 11]\n",
      " [12 13 14 15]]\n",
      "\n",
      "[[  1 500]\n",
      " [  5   6]\n",
      " [  9  10]]\n",
      "\n",
      "[[5]]\n",
      "False\n"
     ]
    }
   ],
   "source": [
    "x = np.arange(16).reshape(4,4)\n",
    "print(x)\n",
    "print()\n",
    "y = np.copy(x[0:3,1:3])\n",
    "print(y)\n",
    "print()\n",
    "y[0,1] = 500\n",
    "print(x)\n",
    "print()\n",
    "print(y)\n",
    "print()\n",
    "z = x[1:2,1:2].copy()\n",
    "print(z)\n",
    "print(np.shares_memory(x,z))"
   ]
  },
  {
   "cell_type": "code",
   "execution_count": 186,
   "metadata": {},
   "outputs": [
    {
     "name": "stdout",
     "output_type": "stream",
     "text": [
      "10\n",
      "[[ 1.  3.  5.  7.  9.]\n",
      " [11. 13. 15. 17. 19.]]\n"
     ]
    }
   ],
   "source": [
    "x = np.linspace(1,19,10).reshape(2,5)\n",
    "print(x.size)\n",
    "print(x)"
   ]
  },
  {
   "cell_type": "code",
   "execution_count": 188,
   "metadata": {},
   "outputs": [
    {
     "name": "stdout",
     "output_type": "stream",
     "text": [
      "11\n",
      "[ 1.  3.  5.  7.  9. 11. 13. 15. 17. 19. 21.]\n",
      "[2 4 7]\n",
      "[ 5.  9. 15.]\n"
     ]
    }
   ],
   "source": [
    "x = np.linspace(1,21,11)\n",
    "print(x.size)\n",
    "print(x)\n",
    "y = np.array([2,4,7])\n",
    "print(y)\n",
    "print(x[y])"
   ]
  },
  {
   "cell_type": "code",
   "execution_count": 193,
   "metadata": {},
   "outputs": [
    {
     "name": "stdout",
     "output_type": "stream",
     "text": [
      "[[ 0  1  2  3  4]\n",
      " [ 5  6  7  8  9]\n",
      " [10 11 12 13 14]\n",
      " [15 16 17 18 19]\n",
      " [20 21 22 23 24]]\n",
      "[1 2]\n",
      "\n",
      "[[ 5  6  7  8  9]\n",
      " [10 11 12 13 14]]\n",
      "[[ 5  6  7  8  9]\n",
      " [10 11 12 13 14]]\n",
      "\n",
      "[[100   6   7   8   9]\n",
      " [ 10  11  12  13  14]]\n",
      "\n",
      "[[ 0  1  2  3  4]\n",
      " [ 5  6  7  8  9]\n",
      " [10 11 12 13 14]\n",
      " [15 16 17 18 19]\n",
      " [20 21 22 23 24]]\n",
      "False\n"
     ]
    }
   ],
   "source": [
    "x = np.arange(25).reshape(5,5)\n",
    "print(x)\n",
    "y = np.array([1,2])\n",
    "print(y)\n",
    "print()\n",
    "print(x[y,:])\n",
    "\n",
    "# fancy indexing\n",
    "\n",
    "z = x[y,:]\n",
    "print(z)\n",
    "z[0,0] = 100\n",
    "print()\n",
    "print(z)\n",
    "print()\n",
    "print(x)\n",
    "\n",
    "print(np.shares_memory(x,z))"
   ]
  },
  {
   "cell_type": "code",
   "execution_count": 196,
   "metadata": {},
   "outputs": [
    {
     "name": "stdout",
     "output_type": "stream",
     "text": [
      "[0 1 2 3 4 5 6 7 8 9]\n",
      "\n",
      "[0 2 4 6 8]\n",
      "\n",
      "[10  2  4  6  8]\n",
      "\n",
      "[0 1 2 3 4 5 6 7 8 9]\n",
      "\n"
     ]
    }
   ],
   "source": [
    "# boolean indezing\n",
    "\n",
    "x = np.arange(10)\n",
    "print(x)\n",
    "print()\n",
    "z = x[(x % 2 == 0)]\n",
    "print(z)\n",
    "print()\n",
    "z[0] = 10\n",
    "print(z)\n",
    "print()\n",
    "print(x)\n",
    "print()"
   ]
  },
  {
   "cell_type": "code",
   "execution_count": 245,
   "metadata": {},
   "outputs": [
    {
     "name": "stdout",
     "output_type": "stream",
     "text": [
      "[2 5 9 6 9 9 5 2 7 2]\n",
      "[1 1 0 1 0 1 1 1 0 0]\n",
      "[ True  True  True  True  True  True  True  True  True  True]\n",
      "<class 'numpy.ndarray'>\n",
      "bool\n",
      "True\n",
      "True\n"
     ]
    }
   ],
   "source": [
    "x = np.random.randint(10,size=10)\n",
    "y = np.random.randint(2,size=10)\n",
    "print(x)\n",
    "print(y)\n",
    "print(x>y)\n",
    "print(type(x>y))\n",
    "print((x>y).dtype)\n",
    "\n",
    "print(np.all(x>y))\n",
    "print(np.any(x>y))"
   ]
  },
  {
   "cell_type": "code",
   "execution_count": 251,
   "metadata": {},
   "outputs": [
    {
     "name": "stdout",
     "output_type": "stream",
     "text": [
      "[ 1.  3.  5.  7.  9. 11. 13. 15. 17. 19. 21.]\n",
      "[False  True False False  True False False  True False False  True]\n",
      "<class 'numpy.ndarray'>\n",
      "[ 3.  9. 15. 21.]\n",
      "[ 1.  1.  5.  7.  1. 11. 13.  1. 17. 19.  1.]\n"
     ]
    }
   ],
   "source": [
    "x = np.linspace(1,21,11)\n",
    "print(x)\n",
    "mask = (x % 3 == 0)\n",
    "print(mask)\n",
    "print(type(mask))\n",
    "print(x[mask])\n",
    "x[mask] = 1\n",
    "print(x)"
   ]
  },
  {
   "cell_type": "code",
   "execution_count": 254,
   "metadata": {},
   "outputs": [
    {
     "name": "stdout",
     "output_type": "stream",
     "text": [
      "<class 'numpy.ndarray'>\n"
     ]
    }
   ],
   "source": [
    "x = np.array([2,5,3,6,9])\n",
    "y = np.array([6,1,8,7,3])\n",
    "\n",
    "z = np.intersect1d(x,y)\n",
    "\n",
    "print(type(z))"
   ]
  },
  {
   "cell_type": "code",
   "execution_count": 256,
   "metadata": {},
   "outputs": [
    {
     "name": "stdout",
     "output_type": "stream",
     "text": [
      "[2 5 9]\n",
      "[1 7 8]\n"
     ]
    }
   ],
   "source": [
    "print(np.setdiff1d(x,y))\n",
    "print(np.setdiff1d(y,x))"
   ]
  },
  {
   "cell_type": "code",
   "execution_count": 257,
   "metadata": {},
   "outputs": [
    {
     "name": "stdout",
     "output_type": "stream",
     "text": [
      "[1 2 3 5 6 7 8 9]\n"
     ]
    }
   ],
   "source": [
    "print(np.union1d(x,y))"
   ]
  },
  {
   "cell_type": "code",
   "execution_count": 258,
   "metadata": {},
   "outputs": [
    {
     "name": "stdout",
     "output_type": "stream",
     "text": [
      "[False False  True  True False]\n"
     ]
    }
   ],
   "source": [
    "print(np.in1d(x,y))"
   ]
  },
  {
   "cell_type": "code",
   "execution_count": 259,
   "metadata": {},
   "outputs": [
    {
     "name": "stdout",
     "output_type": "stream",
     "text": [
      "[0 2 3 4 5 6 9]\n"
     ]
    }
   ],
   "source": [
    "x = np.array([2,5,3,6,9,4,3,6,5,0])\n",
    "print(np.unique(x))"
   ]
  },
  {
   "cell_type": "code",
   "execution_count": 268,
   "metadata": {},
   "outputs": [
    {
     "name": "stdout",
     "output_type": "stream",
     "text": [
      "[4 7 4 1 6 4 3 5 4 1]\n",
      "[1 1 3 4 4 4 4 5 6 7]\n",
      "[4 7 4 1 6 4 3 5 4 1]\n",
      "\n",
      "[6 1 3 4 8 4 9 9 7 6]\n",
      "[1 3 4 4 6 6 7 8 9 9]\n"
     ]
    }
   ],
   "source": [
    "#sort\n",
    "\n",
    "x = np.random.randint(1,10,size=(10,))\n",
    "print(x)\n",
    "print(np.sort(x))\n",
    "print(x)\n",
    "print()\n",
    "\n",
    "y = np.random.randint(1,10, size=(10,))\n",
    "print(y)\n",
    "y.sort()\n",
    "print(y)"
   ]
  },
  {
   "cell_type": "code",
   "execution_count": 271,
   "metadata": {},
   "outputs": [
    {
     "name": "stdout",
     "output_type": "stream",
     "text": [
      "[[1 1 1 8 3]\n",
      " [9 7 7 3 9]\n",
      " [7 2 7 6 2]\n",
      " [6 9 3 8 2]\n",
      " [5 3 6 3 6]]\n",
      "\n",
      "[[1 1 1 3 2]\n",
      " [5 2 3 3 2]\n",
      " [6 3 6 6 3]\n",
      " [7 7 7 8 6]\n",
      " [9 9 7 8 9]]\n",
      "\n",
      "[[1 1 1 3 8]\n",
      " [3 7 7 9 9]\n",
      " [2 2 6 7 7]\n",
      " [2 3 6 8 9]\n",
      " [3 3 5 6 6]]\n",
      "\n"
     ]
    }
   ],
   "source": [
    "x = np.random.randint(1,10, size = (5,5))\n",
    "print(x)\n",
    "print()\n",
    "print(np.sort(x,axis=0))\n",
    "print()\n",
    "print(np.sort(x,axis=1))\n",
    "print()"
   ]
  },
  {
   "cell_type": "code",
   "execution_count": 278,
   "metadata": {},
   "outputs": [
    {
     "name": "stdout",
     "output_type": "stream",
     "text": [
      "[8 4 4 7 3]\n",
      "[3 3 5 1 8]\n",
      "[11  7  9  8 11]\n",
      "[11  7  9  8 11]\n",
      "<class 'numpy.ndarray'>\n",
      "<class 'numpy.ndarray'>\n",
      "[ 5  1 -1  6 -5]\n",
      "[ 5  1 -1  6 -5]\n",
      "[24 12 20  7 24]\n",
      "[24 12 20  7 24]\n",
      "[2.66666667 1.33333333 0.8        7.         0.375     ]\n",
      "[2.66666667 1.33333333 0.8        7.         0.375     ]\n"
     ]
    }
   ],
   "source": [
    "x = np.random.randint(1,10,size=(5,))\n",
    "y = np.random.randint(1,10,size=(5,))\n",
    "print(x)\n",
    "print(y)\n",
    "\n",
    "print(x+y)\n",
    "print(np.add(x,y))\n",
    "print(type(x+y))\n",
    "print(type(np.add(x,y)))\n",
    "\n",
    "print(x-y)\n",
    "print(np.subtract(x,y))\n",
    "\n",
    "print(x*y)\n",
    "print(np.multiply(x,y))\n",
    "\n",
    "print(x/y)\n",
    "print(np.divide(x,y))"
   ]
  },
  {
   "cell_type": "code",
   "execution_count": 280,
   "metadata": {},
   "outputs": [
    {
     "name": "stdout",
     "output_type": "stream",
     "text": [
      "[11  7  7 10  6]\n",
      "[5 1 1 4 0]\n",
      "[24 12 12 21  9]\n",
      "[2.66666667 1.33333333 1.33333333 2.33333333 1.        ]\n",
      "[False False False False False]\n"
     ]
    }
   ],
   "source": [
    "print(x+3)\n",
    "print(x-3)\n",
    "print(x*3)\n",
    "print(x/3)\n",
    "print(x == y)"
   ]
  },
  {
   "cell_type": "code",
   "execution_count": 281,
   "metadata": {},
   "outputs": [
    {
     "name": "stdout",
     "output_type": "stream",
     "text": [
      "False\n"
     ]
    }
   ],
   "source": [
    "print(np.array_equal(x,y))"
   ]
  },
  {
   "cell_type": "code",
   "execution_count": 288,
   "metadata": {},
   "outputs": [
    {
     "name": "stdout",
     "output_type": "stream",
     "text": [
      "[2.82842712 2.         2.         2.64575131 1.73205081]\n",
      "[512  64  64 343  27]\n",
      "[8 4 4 7 3]\n",
      "[2980.95798704   54.59815003   54.59815003 1096.63315843   20.08553692]\n"
     ]
    }
   ],
   "source": [
    "print(np.sqrt(x))\n",
    "print(np.power(x,3))\n",
    "print(x)\n",
    "print(np.exp(x))\n"
   ]
  },
  {
   "cell_type": "code",
   "execution_count": 291,
   "metadata": {},
   "outputs": [
    {
     "name": "stdout",
     "output_type": "stream",
     "text": [
      "[[3 3 4]\n",
      " [6 5 2]\n",
      " [8 8 1]]\n",
      "40\n",
      "[17 16  7]\n",
      "[10 13 17]\n",
      "1\n",
      "8\n",
      "8\n",
      "6\n"
     ]
    }
   ],
   "source": [
    "x = np.random.randint(1,10,size=(3,3))\n",
    "print(x)\n",
    "print(np.sum(x))\n",
    "print(x.sum(axis=0))\n",
    "print(x.sum(axis=1))\n",
    "print(x.min())\n",
    "print(x.max())\n",
    "print(x.argmin()) # min elemanın index sırası\n",
    "print(x.argmax()) # max elemanın index sırası"
   ]
  },
  {
   "cell_type": "code",
   "execution_count": 295,
   "metadata": {},
   "outputs": [
    {
     "name": "stdout",
     "output_type": "stream",
     "text": [
      "[7 2 6 1 8 6 6 3]\n",
      "\n",
      "4.875\n",
      "\n",
      "6.0\n",
      "\n",
      "2.368411915187052\n",
      "\n"
     ]
    }
   ],
   "source": [
    "x = np.random.randint(1,10,size=(8,))\n",
    "print(x)\n",
    "print()\n",
    "print(x.mean())\n",
    "print()\n",
    "print(np.median(x))\n",
    "print()\n",
    "print(x.std())\n",
    "print()"
   ]
  },
  {
   "cell_type": "code",
   "execution_count": 301,
   "metadata": {},
   "outputs": [
    {
     "name": "stdout",
     "output_type": "stream",
     "text": [
      "[[5 6 9]\n",
      " [8 7 9]\n",
      " [3 5 3]\n",
      " [5 6 1]]\n",
      "\n",
      "[5.25 6.   5.5 ]\n",
      "\n",
      "[6.66666667 8.         3.66666667 4.        ]\n",
      "\n",
      "[1.78535711 0.70710678 3.57071421]\n"
     ]
    }
   ],
   "source": [
    "y = np.random.randint(1,10,size=(4,3))\n",
    "print(y)\n",
    "print()\n",
    "print(y.mean(axis=0))\n",
    "print()\n",
    "print(y.mean(axis=1))\n",
    "print()\n",
    "print(y.std(axis=0))"
   ]
  },
  {
   "cell_type": "code",
   "execution_count": 305,
   "metadata": {},
   "outputs": [
    {
     "name": "stdout",
     "output_type": "stream",
     "text": [
      "[7]\n",
      "\n",
      "[[6 4]\n",
      " [5 5]\n",
      " [2 6]]\n",
      "\n",
      "[[13 11]\n",
      " [12 12]\n",
      " [ 9 13]]\n"
     ]
    }
   ],
   "source": [
    "x = np.random.randint(1,10,size=(1,))\n",
    "y = np.random.randint(1,10,size=(3,2))\n",
    "print(x)\n",
    "print()\n",
    "print(y)\n",
    "print()\n",
    "print(x+y)"
   ]
  },
  {
   "cell_type": "code",
   "execution_count": 307,
   "metadata": {},
   "outputs": [
    {
     "name": "stdout",
     "output_type": "stream",
     "text": [
      "[0. 0. 0. 0. 0.]\n",
      "[1. 1. 1. 1. 1.]\n"
     ]
    }
   ],
   "source": [
    "x = np.zeros(5)\n",
    "y = np.ones(5)\n",
    "print(x)\n",
    "print(y)"
   ]
  },
  {
   "cell_type": "code",
   "execution_count": 308,
   "metadata": {},
   "outputs": [
    {
     "name": "stdout",
     "output_type": "stream",
     "text": [
      "[ 7  9 11 13 15 17 19 21 23 25 27 29 31 33 35 37 39 41]\n"
     ]
    }
   ],
   "source": [
    "x = np.arange(7,42,2)\n",
    "print(x)"
   ]
  },
  {
   "cell_type": "code",
   "execution_count": 311,
   "metadata": {},
   "outputs": [
    {
     "name": "stdout",
     "output_type": "stream",
     "text": [
      "[[ 1.   1.6  2.2  2.8]\n",
      " [ 3.4  4.   4.6  5.2]\n",
      " [ 5.8  6.4  7.   7.6]\n",
      " [ 8.2  8.8  9.4 10. ]]\n"
     ]
    }
   ],
   "source": [
    "x = np.linspace(1,10,16).reshape(4,4)\n",
    "print(x)"
   ]
  },
  {
   "cell_type": "code",
   "execution_count": 314,
   "metadata": {},
   "outputs": [
    {
     "name": "stdout",
     "output_type": "stream",
     "text": [
      "[[5 4 1 7]\n",
      " [1 4 8 5]\n",
      " [2 7 7 2]\n",
      " [7 4 4 4]]\n"
     ]
    }
   ],
   "source": [
    "x = np.random.randint(1,10,size=(4,4))\n",
    "print(x)"
   ]
  },
  {
   "cell_type": "code",
   "execution_count": 315,
   "metadata": {},
   "outputs": [
    {
     "name": "stdout",
     "output_type": "stream",
     "text": [
      "[0.1 0.2 0.3 0.4 0.5 0.6 0.7 0.8 0.9 1. ]\n"
     ]
    }
   ],
   "source": [
    "x = np.linspace(0.1,1,10)\n",
    "print(x)"
   ]
  },
  {
   "cell_type": "code",
   "execution_count": 318,
   "metadata": {},
   "outputs": [
    {
     "name": "stdout",
     "output_type": "stream",
     "text": [
      "[[ 7  8]\n",
      " [12 13]]\n"
     ]
    }
   ],
   "source": [
    "x = np.arange(25).reshape(5,5)\n",
    "print(x[1:3,2:4])"
   ]
  },
  {
   "cell_type": "code",
   "execution_count": 320,
   "metadata": {},
   "outputs": [
    {
     "name": "stdout",
     "output_type": "stream",
     "text": [
      "[[ 1  2  3  4]\n",
      " [ 5  6  7  8]\n",
      " [ 9 10 11 12]\n",
      " [13 14 15 16]]\n"
     ]
    }
   ],
   "source": [
    "x = np.arange(1,17).reshape(4,4)\n",
    "print(x)"
   ]
  },
  {
   "cell_type": "code",
   "execution_count": 325,
   "metadata": {},
   "outputs": [
    {
     "name": "stdout",
     "output_type": "stream",
     "text": [
      "[[ 2  4  6  8]\n",
      " [10 12 14 16]]\n"
     ]
    }
   ],
   "source": [
    "y = x[:,[1,3]].reshape(2,4) \n",
    "# y = x[x%2==0].reshaper(2,4)\n",
    "print(y)"
   ]
  },
  {
   "cell_type": "code",
   "execution_count": 329,
   "metadata": {},
   "outputs": [
    {
     "name": "stdout",
     "output_type": "stream",
     "text": [
      "[[ 1  1]\n",
      " [ 5 10]]\n",
      "\n",
      "[100 700]\n",
      "\n",
      "[60. 40.]\n"
     ]
    }
   ],
   "source": [
    "A = np.array([[1,1],[5,10]])\n",
    "B = np.array([100,700])\n",
    "print(A)\n",
    "print()\n",
    "print(B)\n",
    "print()\n",
    "x = np.linalg.solve(A,B)\n",
    "print(x)"
   ]
  },
  {
   "cell_type": "code",
   "execution_count": 331,
   "metadata": {},
   "outputs": [
    {
     "name": "stdout",
     "output_type": "stream",
     "text": [
      "[1 4 3 1]\n",
      "[2 2 1 2]\n",
      "\n",
      "15\n"
     ]
    }
   ],
   "source": [
    "x = np.random.randint(1,5,4)\n",
    "print(x)\n",
    "y = np.random.randint(1,5,4)\n",
    "print(y)\n",
    "print()\n",
    "print(np.dot(x,y))"
   ]
  },
  {
   "cell_type": "code",
   "execution_count": 332,
   "metadata": {},
   "outputs": [
    {
     "name": "stdout",
     "output_type": "stream",
     "text": [
      "[[3 3]\n",
      " [3 1]]\n",
      "[[1 3]\n",
      " [4 1]]\n",
      "\n",
      "[[15 12]\n",
      " [ 7 10]]\n"
     ]
    }
   ],
   "source": [
    "x = np.random.randint(1,5,size = (2,2))\n",
    "print(x)\n",
    "y = np.random.randint(1,5,size = (2,2))\n",
    "print(y)\n",
    "print()\n",
    "print(np.dot(x,y))"
   ]
  },
  {
   "cell_type": "code",
   "execution_count": 333,
   "metadata": {},
   "outputs": [
    {
     "name": "stdout",
     "output_type": "stream",
     "text": [
      "1.1.4\n"
     ]
    }
   ],
   "source": [
    "print(pd.__version__)"
   ]
  },
  {
   "cell_type": "code",
   "execution_count": 338,
   "metadata": {},
   "outputs": [
    {
     "name": "stdout",
     "output_type": "stream",
     "text": [
      "['Arin', 23, 'CE']\n",
      "<class 'list'>\n",
      "\n",
      "0    Arin\n",
      "1      23\n",
      "2      CE\n",
      "dtype: object\n",
      "<class 'pandas.core.series.Series'>\n"
     ]
    }
   ],
   "source": [
    "student = ['Arin',23,'CE']\n",
    "print(student)\n",
    "print(type(student))\n",
    "\n",
    "print()\n",
    "\n",
    "ps_student = pd.Series(student)\n",
    "print(ps_student)\n",
    "print(type(ps_student))"
   ]
  },
  {
   "cell_type": "code",
   "execution_count": 342,
   "metadata": {},
   "outputs": [
    {
     "name": "stdout",
     "output_type": "stream",
     "text": [
      "{'name': 'Arin', 'age': 23, 'department': 'CE'}\n",
      "<class 'dict'>\n",
      "\n",
      "name          Arin\n",
      "age             23\n",
      "department      CE\n",
      "dtype: object\n",
      "<class 'pandas.core.series.Series'>\n"
     ]
    }
   ],
   "source": [
    "student = {\n",
    "    'name': 'Arin',\n",
    "    'age' : 23,\n",
    "    'department': 'CE'\n",
    "}\n",
    "print(student)\n",
    "print(type(student))\n",
    "print()\n",
    "\n",
    "ps_student = pd.Series(student)\n",
    "print(ps_student)\n",
    "print(type(ps_student))"
   ]
  },
  {
   "cell_type": "code",
   "execution_count": 343,
   "metadata": {},
   "outputs": [
    {
     "name": "stdout",
     "output_type": "stream",
     "text": [
      "0    Arin\n",
      "1      23\n",
      "2      CE\n",
      "dtype: object\n",
      "<class 'pandas.core.series.Series'>\n"
     ]
    }
   ],
   "source": [
    "student = pd.Series(['Arin', 23, 'CE'])\n",
    "print(student)\n",
    "print(type(student))"
   ]
  },
  {
   "cell_type": "code",
   "execution_count": 344,
   "metadata": {},
   "outputs": [
    {
     "name": "stdout",
     "output_type": "stream",
     "text": [
      "0    24\n",
      "1    37\n",
      "2    43\n",
      "dtype: int64\n",
      "<class 'pandas.core.series.Series'>\n"
     ]
    }
   ],
   "source": [
    "numbers = pd.Series([24,37,43])\n",
    "print(numbers)\n",
    "print(type(numbers))"
   ]
  },
  {
   "cell_type": "code",
   "execution_count": 345,
   "metadata": {},
   "outputs": [
    {
     "name": "stdout",
     "output_type": "stream",
     "text": [
      "0     True\n",
      "1    False\n",
      "2     True\n",
      "dtype: bool\n",
      "<class 'pandas.core.series.Series'>\n"
     ]
    }
   ],
   "source": [
    "booleans = pd.Series([True,False,True])\n",
    "print(booleans)\n",
    "print(type(booleans))"
   ]
  },
  {
   "cell_type": "code",
   "execution_count": 353,
   "metadata": {},
   "outputs": [
    {
     "name": "stdout",
     "output_type": "stream",
     "text": [
      "name          Arin\n",
      "age             23\n",
      "department      CE\n",
      "dtype: object\n",
      "\n",
      "<class 'pandas.core.series.Series'>\n",
      "\n",
      "['Arin' 23 'CE']\n",
      "\n",
      "Index(['name', 'age', 'department'], dtype='object')\n",
      "\n",
      "(3,)\n",
      "\n",
      "1\n",
      "\n",
      "3\n",
      "\n",
      "test\n",
      "\n",
      "object\n",
      "\n"
     ]
    }
   ],
   "source": [
    "student = pd.Series(data=['Arin', 23, 'CE'], index = ['name','age','department'])\n",
    "print(student)\n",
    "print()\n",
    "print(type(student))\n",
    "print()\n",
    "print(student.values)\n",
    "print()\n",
    "print(student.index)\n",
    "print()\n",
    "print(student.shape)\n",
    "print()\n",
    "print(student.ndim)\n",
    "print()\n",
    "print(student.size)\n",
    "print()\n",
    "student.name = 'test'\n",
    "print(student.name)\n",
    "print()\n",
    "print(student.dtype)\n",
    "print()"
   ]
  },
  {
   "cell_type": "code",
   "execution_count": 354,
   "metadata": {},
   "outputs": [
    {
     "name": "stdout",
     "output_type": "stream",
     "text": [
      "True\n",
      "False\n"
     ]
    }
   ],
   "source": [
    "x = 'name' in student\n",
    "print(x)\n",
    "\n",
    "y = 'job' in student\n",
    "print(y)"
   ]
  },
  {
   "cell_type": "code",
   "execution_count": 355,
   "metadata": {},
   "outputs": [
    {
     "name": "stdout",
     "output_type": "stream",
     "text": [
      "False\n",
      "True\n"
     ]
    }
   ],
   "source": [
    "x = 'Ahmet' in student.values\n",
    "print(x)\n",
    "y = 'Arin' in student.values\n",
    "print(y)"
   ]
  },
  {
   "cell_type": "code",
   "execution_count": 356,
   "metadata": {},
   "outputs": [
    {
     "name": "stdout",
     "output_type": "stream",
     "text": [
      "0    4.0\n",
      "1    2.5\n",
      "2    2.0\n",
      "dtype: float64\n",
      "8.5\n",
      "2.8333333333333335\n",
      "20.0\n"
     ]
    }
   ],
   "source": [
    "numbers = pd.Series([4,2.5,2])\n",
    "print(numbers)\n",
    "print(numbers.sum())\n",
    "print(numbers.mean())\n",
    "print(numbers.product())"
   ]
  },
  {
   "cell_type": "code",
   "execution_count": 358,
   "metadata": {},
   "outputs": [
    {
     "name": "stdout",
     "output_type": "stream",
     "text": [
      "name              Arin\n",
      "surname       Software\n",
      "age                 23\n",
      "department          CE\n",
      "dtype: object\n"
     ]
    }
   ],
   "source": [
    "student = pd.Series(data=['Arin','Software',23,'CE'], index = ['name','surname','age','department'])\n",
    "print(student)"
   ]
  },
  {
   "cell_type": "code",
   "execution_count": 359,
   "metadata": {},
   "outputs": [
    {
     "data": {
      "text/plain": [
       "\u001b[0;31mInit signature:\u001b[0m\n",
       "\u001b[0mpd\u001b[0m\u001b[0;34m.\u001b[0m\u001b[0mSeries\u001b[0m\u001b[0;34m(\u001b[0m\u001b[0;34m\u001b[0m\n",
       "\u001b[0;34m\u001b[0m    \u001b[0mdata\u001b[0m\u001b[0;34m=\u001b[0m\u001b[0;32mNone\u001b[0m\u001b[0;34m,\u001b[0m\u001b[0;34m\u001b[0m\n",
       "\u001b[0;34m\u001b[0m    \u001b[0mindex\u001b[0m\u001b[0;34m=\u001b[0m\u001b[0;32mNone\u001b[0m\u001b[0;34m,\u001b[0m\u001b[0;34m\u001b[0m\n",
       "\u001b[0;34m\u001b[0m    \u001b[0mdtype\u001b[0m\u001b[0;34m=\u001b[0m\u001b[0;32mNone\u001b[0m\u001b[0;34m,\u001b[0m\u001b[0;34m\u001b[0m\n",
       "\u001b[0;34m\u001b[0m    \u001b[0mname\u001b[0m\u001b[0;34m=\u001b[0m\u001b[0;32mNone\u001b[0m\u001b[0;34m,\u001b[0m\u001b[0;34m\u001b[0m\n",
       "\u001b[0;34m\u001b[0m    \u001b[0mcopy\u001b[0m\u001b[0;34m=\u001b[0m\u001b[0;32mFalse\u001b[0m\u001b[0;34m,\u001b[0m\u001b[0;34m\u001b[0m\n",
       "\u001b[0;34m\u001b[0m    \u001b[0mfastpath\u001b[0m\u001b[0;34m=\u001b[0m\u001b[0;32mFalse\u001b[0m\u001b[0;34m,\u001b[0m\u001b[0;34m\u001b[0m\n",
       "\u001b[0;34m\u001b[0m\u001b[0;34m)\u001b[0m\u001b[0;34m\u001b[0m\u001b[0;34m\u001b[0m\u001b[0m\n",
       "\u001b[0;31mDocstring:\u001b[0m     \n",
       "One-dimensional ndarray with axis labels (including time series).\n",
       "\n",
       "Labels need not be unique but must be a hashable type. The object\n",
       "supports both integer- and label-based indexing and provides a host of\n",
       "methods for performing operations involving the index. Statistical\n",
       "methods from ndarray have been overridden to automatically exclude\n",
       "missing data (currently represented as NaN).\n",
       "\n",
       "Operations between Series (+, -, /, *, **) align values based on their\n",
       "associated index values-- they need not be the same length. The result\n",
       "index will be the sorted union of the two indexes.\n",
       "\n",
       "Parameters\n",
       "----------\n",
       "data : array-like, Iterable, dict, or scalar value\n",
       "    Contains data stored in Series.\n",
       "\n",
       "    .. versionchanged:: 0.23.0\n",
       "       If data is a dict, argument order is maintained for Python 3.6\n",
       "       and later.\n",
       "\n",
       "index : array-like or Index (1d)\n",
       "    Values must be hashable and have the same length as `data`.\n",
       "    Non-unique index values are allowed. Will default to\n",
       "    RangeIndex (0, 1, 2, ..., n) if not provided. If both a dict and index\n",
       "    sequence are used, the index will override the keys found in the\n",
       "    dict.\n",
       "dtype : str, numpy.dtype, or ExtensionDtype, optional\n",
       "    Data type for the output Series. If not specified, this will be\n",
       "    inferred from `data`.\n",
       "    See the :ref:`user guide <basics.dtypes>` for more usages.\n",
       "name : str, optional\n",
       "    The name to give to the Series.\n",
       "copy : bool, default False\n",
       "    Copy input data.\n",
       "\u001b[0;31mFile:\u001b[0m           /usr/local/lib/python3.9/site-packages/pandas/core/series.py\n",
       "\u001b[0;31mType:\u001b[0m           type\n",
       "\u001b[0;31mSubclasses:\u001b[0m     SubclassedSeries\n"
      ]
     },
     "metadata": {},
     "output_type": "display_data"
    }
   ],
   "source": [
    "pd.Series?"
   ]
  },
  {
   "cell_type": "code",
   "execution_count": 371,
   "metadata": {},
   "outputs": [
    {
     "name": "stdout",
     "output_type": "stream",
     "text": [
      "name    Arin\n",
      "age       23\n",
      "dtype: object\n",
      "---------------------------------------------\n",
      "<class 'pandas.core.series.Series'>\n",
      "---------------------------------------------\n",
      "Software\n",
      "---------------------------------------------\n",
      "name    Arin\n",
      "age       23\n",
      "dtype: object\n",
      "---------------------------------------------\n",
      "name           Arin\n",
      "surname    Software\n",
      "dtype: object\n",
      "---------------------------------------------\n",
      "23\n",
      "---------------------------------------------\n",
      "name              Arin\n",
      "surname       Software\n",
      "age                 23\n",
      "department          CE\n",
      "dtype: object\n",
      "---------------------------------------------\n",
      "age           23\n",
      "department    CE\n",
      "dtype: object\n",
      "---------------------------------------------\n",
      "name              Arin\n",
      "surname       Software\n",
      "age                 23\n",
      "department          CE\n",
      "dtype: object\n"
     ]
    }
   ],
   "source": [
    "print(student[['name','age']])\n",
    "print('---------------------------------------------')\n",
    "print(type(student[['name','age']]))\n",
    "print('---------------------------------------------')\n",
    "print(student[1])\n",
    "print('---------------------------------------------')\n",
    "print(student[[0,2]])\n",
    "print('---------------------------------------------')\n",
    "print(student[0:2])\n",
    "print('---------------------------------------------')\n",
    "print(student[-2])\n",
    "print('---------------------------------------------')\n",
    "print(student[0:])\n",
    "print('---------------------------------------------')\n",
    "print(student[-2:])\n",
    "print('---------------------------------------------')\n",
    "print(student['name':'department'])"
   ]
  },
  {
   "cell_type": "code",
   "execution_count": 376,
   "metadata": {},
   "outputs": [
    {
     "name": "stdout",
     "output_type": "stream",
     "text": [
      "23\n",
      "---------------------------------------------\n",
      "name           Arin\n",
      "surname    Software\n",
      "dtype: object\n",
      "---------------------------------------------\n",
      "23\n"
     ]
    }
   ],
   "source": [
    "#loc -> location, iloc -> index location\n",
    "\n",
    "print(student.loc['age'])\n",
    "print('---------------------------------------------')\n",
    "print(student.iloc[0:2])\n",
    "print('---------------------------------------------')\n",
    "print(student.iloc[2])"
   ]
  },
  {
   "cell_type": "code",
   "execution_count": 386,
   "metadata": {},
   "outputs": [
    {
     "name": "stdout",
     "output_type": "stream",
     "text": [
      "surname       Software\n",
      "age                 15\n",
      "department          CE\n",
      "dtype: object\n",
      "\n",
      "surname       Software\n",
      "age                 15\n",
      "department          CE\n",
      "name              Elis\n",
      "dtype: object\n",
      "surname       Software\n",
      "age                 15\n",
      "department          15\n",
      "name              Elis\n",
      "dtype: object\n"
     ]
    }
   ],
   "source": [
    "print(student)\n",
    "print()\n",
    "student['name']='Elis'\n",
    "print(student)\n",
    "student.iloc[2]=15\n",
    "print(student)\n",
    "\n",
    "# Pandas Series --> mutable"
   ]
  },
  {
   "cell_type": "code",
   "execution_count": 388,
   "metadata": {},
   "outputs": [
    {
     "name": "stdout",
     "output_type": "stream",
     "text": [
      "---------------------------------------------\n",
      "surname       Software\n",
      "age                 15\n",
      "department          15\n",
      "name              Elis\n",
      "dtype: object\n",
      "---------------------------------------------\n",
      "surname       Software\n",
      "age                 15\n",
      "department          15\n",
      "dtype: object\n",
      "---------------------------------------------\n",
      "surname       Software\n",
      "department          15\n",
      "dtype: object\n"
     ]
    }
   ],
   "source": [
    "student2 = student.drop('name')\n",
    "print('---------------------------------------------')\n",
    "print(student)\n",
    "print('---------------------------------------------')\n",
    "print(student2)\n",
    "print('---------------------------------------------')\n",
    "student2.drop('age', inplace=True)\n",
    "print(student2)"
   ]
  },
  {
   "cell_type": "code",
   "execution_count": 392,
   "metadata": {},
   "outputs": [
    {
     "name": "stdout",
     "output_type": "stream",
     "text": [
      "4\n",
      "---------------------------------------------\n",
      "['Software', 15, 15, 'Elis']\n",
      "---------------------------------------------\n",
      "{'surname': 'Software', 'age': 15, 'department': 15, 'name': 'Elis'}\n",
      "---------------------------------------------\n"
     ]
    },
    {
     "ename": "TypeError",
     "evalue": "'<' not supported between instances of 'int' and 'str'",
     "output_type": "error",
     "traceback": [
      "\u001b[0;31m---------------------------------------------------------------------------\u001b[0m",
      "\u001b[0;31mTypeError\u001b[0m                                 Traceback (most recent call last)",
      "\u001b[0;32m<ipython-input-392-90a16d7c40ed>\u001b[0m in \u001b[0;36m<module>\u001b[0;34m\u001b[0m\n\u001b[1;32m      5\u001b[0m \u001b[0mprint\u001b[0m\u001b[0;34m(\u001b[0m\u001b[0mdict\u001b[0m\u001b[0;34m(\u001b[0m\u001b[0mstudent\u001b[0m\u001b[0;34m)\u001b[0m\u001b[0;34m)\u001b[0m\u001b[0;34m\u001b[0m\u001b[0;34m\u001b[0m\u001b[0m\n\u001b[1;32m      6\u001b[0m \u001b[0mprint\u001b[0m\u001b[0;34m(\u001b[0m\u001b[0;34m'---------------------------------------------'\u001b[0m\u001b[0;34m)\u001b[0m\u001b[0;34m\u001b[0m\u001b[0;34m\u001b[0m\u001b[0m\n\u001b[0;32m----> 7\u001b[0;31m \u001b[0mprint\u001b[0m\u001b[0;34m(\u001b[0m\u001b[0msorted\u001b[0m\u001b[0;34m(\u001b[0m\u001b[0mstudent2\u001b[0m\u001b[0;34m)\u001b[0m\u001b[0;34m)\u001b[0m\u001b[0;34m\u001b[0m\u001b[0;34m\u001b[0m\u001b[0m\n\u001b[0m",
      "\u001b[0;31mTypeError\u001b[0m: '<' not supported between instances of 'int' and 'str'"
     ]
    }
   ],
   "source": [
    "print(len(student))\n",
    "print('---------------------------------------------')\n",
    "print(list(student))\n",
    "print('---------------------------------------------')\n",
    "print(dict(student))\n",
    "print('---------------------------------------------')\n",
    "print(sorted(student2))"
   ]
  },
  {
   "cell_type": "code",
   "execution_count": 396,
   "metadata": {},
   "outputs": [
    {
     "name": "stdout",
     "output_type": "stream",
     "text": [
      "name              Arin\n",
      "surname       Software\n",
      "department          CE\n",
      "dtype: object\n",
      "---------------------------------------------\n",
      "['Arin', 'CE', 'Software']\n",
      "---------------------------------------------\n",
      "Software\n",
      "---------------------------------------------\n",
      "Arin\n"
     ]
    }
   ],
   "source": [
    "student = pd.Series(data=['Arin','Software','CE'], index = ['name','surname','department'])\n",
    "print(student)\n",
    "print('---------------------------------------------')\n",
    "print(sorted(student))\n",
    "print('---------------------------------------------')\n",
    "print(max(student))\n",
    "print('---------------------------------------------')\n",
    "print(min(student))"
   ]
  },
  {
   "cell_type": "code",
   "execution_count": 397,
   "metadata": {},
   "outputs": [],
   "source": [
    "import csv"
   ]
  },
  {
   "cell_type": "code",
   "execution_count": 431,
   "metadata": {},
   "outputs": [
    {
     "name": "stdout",
     "output_type": "stream",
     "text": [
      "<class 'pandas.core.series.Series'>\n"
     ]
    }
   ],
   "source": [
    "review_content = pd.read_csv('./ReviewContent.csv',usecols=['Review ID'], squeeze=True, encoding='utf-8',engine='python')\n",
    "print(type(review_content))"
   ]
  },
  {
   "cell_type": "code",
   "execution_count": 411,
   "metadata": {},
   "outputs": [
    {
     "name": "stdout",
     "output_type": "stream",
     "text": [
      "0       4055629\n",
      "1      25329416\n",
      "2      21705849\n",
      "3      41133812\n",
      "4       7465026\n",
      "         ...   \n",
      "995    44498863\n",
      "996    30544438\n",
      "997    46642535\n",
      "998    21403195\n",
      "999    38944752\n",
      "Name: Review ID, Length: 1000, dtype: int64\n"
     ]
    }
   ],
   "source": [
    "print(review_content)"
   ]
  },
  {
   "cell_type": "code",
   "execution_count": 416,
   "metadata": {},
   "outputs": [
    {
     "name": "stdout",
     "output_type": "stream",
     "text": [
      "0     4055629\n",
      "1    25329416\n",
      "2    21705849\n",
      "3    41133812\n",
      "4     7465026\n",
      "5    11372151\n",
      "6    20417380\n",
      "7    10787310\n",
      "8    37085487\n",
      "9    15542291\n",
      "Name: Review ID, dtype: int64\n"
     ]
    }
   ],
   "source": [
    "print(review_content.head(10)) #default 5 veri"
   ]
  },
  {
   "cell_type": "code",
   "execution_count": 417,
   "metadata": {},
   "outputs": [
    {
     "name": "stdout",
     "output_type": "stream",
     "text": [
      "990    32907620\n",
      "991    35585745\n",
      "992    13423090\n",
      "993    27392171\n",
      "994    28605533\n",
      "995    44498863\n",
      "996    30544438\n",
      "997    46642535\n",
      "998    21403195\n",
      "999    38944752\n",
      "Name: Review ID, dtype: int64\n"
     ]
    }
   ],
   "source": [
    "print(review_content.tail(10)) #default 5 veri"
   ]
  },
  {
   "cell_type": "code",
   "execution_count": 430,
   "metadata": {},
   "outputs": [
    {
     "name": "stdout",
     "output_type": "stream",
     "text": [
      "0     4055629\n",
      "1    25329416\n",
      "2    21705849\n",
      "3    41133812\n",
      "4     7465026\n",
      "5    11372151\n",
      "6    20417380\n",
      "7    10787310\n",
      "8    37085487\n",
      "9    15542291\n",
      "Name: Review ID, dtype: int64\n",
      "---------------------------------------------\n",
      "516     41756\n",
      "535     67176\n",
      "766     97586\n",
      "741    123549\n",
      "560    151811\n",
      "847    205942\n",
      "188    432284\n",
      "65     443786\n",
      "954    499085\n",
      "453    503200\n",
      "Name: Review ID, dtype: int64\n",
      "---------------------------------------------\n",
      "0     4055629\n",
      "1    25329416\n",
      "2    21705849\n",
      "3    41133812\n",
      "4     7465026\n",
      "5    11372151\n",
      "6    20417380\n",
      "7    10787310\n",
      "8    37085487\n",
      "9    15542291\n",
      "Name: Review ID, dtype: int64\n",
      "---------------------------------------------\n",
      "---------------------------------------------\n",
      "453    503200\n",
      "954    499085\n",
      "65     443786\n",
      "188    432284\n",
      "847    205942\n",
      "560    151811\n",
      "741    123549\n",
      "766     97586\n",
      "535     67176\n",
      "516     41756\n",
      "Name: Review ID, dtype: int64\n"
     ]
    }
   ],
   "source": [
    "print(review_content.head(10))\n",
    "print('---------------------------------------------')\n",
    "print(review_content.sort_values().head(10)) \n",
    "print('---------------------------------------------')\n",
    "print(review_content.head(10)) #kalıcı sıralama\n",
    "print('---------------------------------------------')\n",
    "review_content.sort_values(inplace=True)\n",
    "print('---------------------------------------------')\n",
    "print(review_content.sort_values(ascending=False).tail(10))"
   ]
  },
  {
   "cell_type": "code",
   "execution_count": 434,
   "metadata": {},
   "outputs": [
    {
     "name": "stdout",
     "output_type": "stream",
     "text": [
      "999    38944752\n",
      "998    21403195\n",
      "997    46642535\n",
      "996    30544438\n",
      "995    44498863\n",
      "Name: Review ID, dtype: int64\n",
      "---------------------------------------------\n",
      "0     4055629\n",
      "1    25329416\n",
      "2    21705849\n",
      "3    41133812\n",
      "4     7465026\n",
      "Name: Review ID, dtype: int64\n"
     ]
    }
   ],
   "source": [
    "review_content.sort_index(ascending=False,inplace=True)\n",
    "print(review_content.head())\n",
    "print('---------------------------------------------')\n",
    "review_content.sort_index(ascending=True,inplace=True)\n",
    "print(review_content.head())"
   ]
  },
  {
   "cell_type": "code",
   "execution_count": 440,
   "metadata": {},
   "outputs": [
    {
     "name": "stdout",
     "output_type": "stream",
     "text": [
      "4     7465026\n",
      "5    11372151\n",
      "6    20417380\n",
      "7    10787310\n",
      "Name: Review ID, dtype: int64\n",
      "---------------------------------------------\n",
      "7465026\n",
      "---------------------------------------------\n",
      "---------------------------------------------\n",
      "Eleman Yok!\n",
      "---------------------------------------------\n",
      "<class 'numpy.int64'>\n",
      "---------------------------------------------\n",
      "<class 'numpy.int64'>\n",
      "---------------------------------------------\n",
      "<class 'pandas.core.series.Series'>\n",
      "---------------------------------------------\n"
     ]
    }
   ],
   "source": [
    "print(review_content[4:8])\n",
    "print('---------------------------------------------')\n",
    "print(review_content.get(4))\n",
    "print('---------------------------------------------')\n",
    "#print(review_content[1004]) -> hata\n",
    "print('---------------------------------------------')\n",
    "print(review_content.get(1004, default='Eleman Yok!'))\n",
    "print('---------------------------------------------')\n",
    "print(type(review_content.get(4)))\n",
    "print('---------------------------------------------')\n",
    "print(type(review_content.get(4)))\n",
    "print('---------------------------------------------')\n",
    "print(type(review_content.get([0,4])))\n",
    "print('---------------------------------------------')"
   ]
  },
  {
   "cell_type": "code",
   "execution_count": 445,
   "metadata": {},
   "outputs": [
    {
     "name": "stdout",
     "output_type": "stream",
     "text": [
      "[{'name': 'arin', 'age': 21, 'gender': 'F'}, {'name': 'fatih', 'age': 20, 'gender': 'M'}, {'name': 'elis', 'age': 24, 'gender': 'F'}]\n",
      "---------------------------------------------\n",
      "<class 'list'>\n",
      "---------------------------------------------\n",
      "---------------------------------------------\n",
      "    name  age gender\n",
      "0   arin   21      F\n",
      "1  fatih   20      M\n",
      "2   elis   24      F\n",
      "---------------------------------------------\n",
      "<class 'pandas.core.frame.DataFrame'>\n",
      "---------------------------------------------\n",
      "---------------------------------------------\n"
     ]
    }
   ],
   "source": [
    "students = [\n",
    "    {\n",
    "        'name':'arin',\n",
    "        'age':21,\n",
    "        'gender':'F'\n",
    "    },\n",
    "    {\n",
    "        'name':'fatih',\n",
    "        'age':20,\n",
    "        'gender':'M'\n",
    "    },\n",
    "    {\n",
    "        'name':'elis',\n",
    "        'age':24,\n",
    "        'gender':'F'\n",
    "    }\n",
    "]\n",
    "print(students)\n",
    "print('---------------------------------------------')\n",
    "print(type(students))\n",
    "print('---------------------------------------------')\n",
    "df_students = pd.DataFrame(students)\n",
    "print('---------------------------------------------')\n",
    "print(df_students)\n",
    "print('---------------------------------------------')\n",
    "print(type(df_students))\n",
    "print('---------------------------------------------')\n"
   ]
  },
  {
   "cell_type": "code",
   "execution_count": 447,
   "metadata": {},
   "outputs": [
    {
     "name": "stdout",
     "output_type": "stream",
     "text": [
      "---------------------------------------------\n",
      "{'names': ['ahmet', 'cansu', 'hakan'], 'ages': [41, 36, 40], 'gender': ['M', 'F', 'M']}\n",
      "---------------------------------------------\n",
      "<class 'dict'>\n",
      "---------------------------------------------\n",
      "---------------------------------------------\n",
      "   names  ages gender\n",
      "0  ahmet    41      M\n",
      "1  cansu    36      F\n",
      "2  hakan    40      M\n",
      "---------------------------------------------\n",
      "<class 'pandas.core.frame.DataFrame'>\n",
      "---------------------------------------------\n"
     ]
    }
   ],
   "source": [
    "teachers= {\n",
    "    'names': ['ahmet','cansu', 'hakan'],\n",
    "    'ages': [41,36, 40],\n",
    "    'gender': ['M','F', 'M'],\n",
    "}\n",
    "print('---------------------------------------------')\n",
    "print(teachers)\n",
    "print('---------------------------------------------')\n",
    "print(type(teachers))\n",
    "df_teachers = pd.DataFrame(teachers)\n",
    "print('---------------------------------------------')\n",
    "print(df_teachers)\n",
    "print('---------------------------------------------')\n",
    "print(type(df_teachers))\n",
    "print('---------------------------------------------')"
   ]
  },
  {
   "cell_type": "code",
   "execution_count": 450,
   "metadata": {},
   "outputs": [
    {
     "name": "stdout",
     "output_type": "stream",
     "text": [
      "---------------------------------------------\n",
      "[['ahmet', 'mehmet', 'ayşe'], [44, 39, 51]]\n",
      "---------------------------------------------\n",
      "<class 'list'>\n",
      "---------------------------------------------\n",
      "       0       1     2\n",
      "0  ahmet  mehmet  ayşe\n",
      "1     44      39    51\n",
      "---------------------------------------------\n",
      "<class 'pandas.core.frame.DataFrame'>\n",
      "---------------------------------------------\n"
     ]
    }
   ],
   "source": [
    "list_of_list= [\n",
    "    ['ahmet','mehmet', 'ayşe'],\n",
    "    [44, 39, 51],\n",
    "]\n",
    "print('---------------------------------------------')\n",
    "print(list_of_list)\n",
    "print('---------------------------------------------')\n",
    "print(type(list_of_list))\n",
    "df_list_of_list = pd.DataFrame(list_of_list)\n",
    "print('---------------------------------------------')\n",
    "print(df_list_of_list)\n",
    "print('---------------------------------------------')\n",
    "print(type(df_list_of_list))\n",
    "print('---------------------------------------------')"
   ]
  },
  {
   "cell_type": "code",
   "execution_count": 451,
   "metadata": {},
   "outputs": [
    {
     "name": "stdout",
     "output_type": "stream",
     "text": [
      "['ahmet', 'mahmut', 'fatih']\n",
      "<class 'list'>\n",
      "\n",
      "        0\n",
      "0   ahmet\n",
      "1  mahmut\n",
      "2   fatih\n",
      "<class 'pandas.core.frame.DataFrame'>\n",
      "2\n"
     ]
    }
   ],
   "source": [
    "names = ['ahmet', 'mahmut', 'fatih']\n",
    "print(names)\n",
    "print(type(names))\n",
    "\n",
    "df_names = pd.DataFrame(names)\n",
    "print()\n",
    "print(df_names)\n",
    "print(type(df_names))\n",
    "print(df_names.ndim)"
   ]
  },
  {
   "cell_type": "code",
   "execution_count": 452,
   "metadata": {},
   "outputs": [
    {
     "name": "stdout",
     "output_type": "stream",
     "text": [
      "{'name': 'hale', 'age': 24}\n",
      "<class 'dict'>\n"
     ]
    },
    {
     "ename": "ValueError",
     "evalue": "If using all scalar values, you must pass an index",
     "output_type": "error",
     "traceback": [
      "\u001b[0;31m---------------------------------------------------------------------------\u001b[0m",
      "\u001b[0;31mValueError\u001b[0m                                Traceback (most recent call last)",
      "\u001b[0;32m<ipython-input-452-a8a22b689015>\u001b[0m in \u001b[0;36m<module>\u001b[0;34m\u001b[0m\n\u001b[1;32m      3\u001b[0m \u001b[0mprint\u001b[0m\u001b[0;34m(\u001b[0m\u001b[0mtype\u001b[0m\u001b[0;34m(\u001b[0m\u001b[0mstudents\u001b[0m\u001b[0;34m)\u001b[0m\u001b[0;34m)\u001b[0m\u001b[0;34m\u001b[0m\u001b[0;34m\u001b[0m\u001b[0m\n\u001b[1;32m      4\u001b[0m \u001b[0;34m\u001b[0m\u001b[0m\n\u001b[0;32m----> 5\u001b[0;31m \u001b[0mdf_students\u001b[0m \u001b[0;34m=\u001b[0m \u001b[0mpd\u001b[0m\u001b[0;34m.\u001b[0m\u001b[0mDataFrame\u001b[0m\u001b[0;34m(\u001b[0m\u001b[0mstudents\u001b[0m\u001b[0;34m)\u001b[0m\u001b[0;34m\u001b[0m\u001b[0;34m\u001b[0m\u001b[0m\n\u001b[0m",
      "\u001b[0;32m/usr/local/lib/python3.9/site-packages/pandas/core/frame.py\u001b[0m in \u001b[0;36m__init__\u001b[0;34m(self, data, index, columns, dtype, copy)\u001b[0m\n\u001b[1;32m    466\u001b[0m \u001b[0;34m\u001b[0m\u001b[0m\n\u001b[1;32m    467\u001b[0m         \u001b[0;32melif\u001b[0m \u001b[0misinstance\u001b[0m\u001b[0;34m(\u001b[0m\u001b[0mdata\u001b[0m\u001b[0;34m,\u001b[0m \u001b[0mdict\u001b[0m\u001b[0;34m)\u001b[0m\u001b[0;34m:\u001b[0m\u001b[0;34m\u001b[0m\u001b[0;34m\u001b[0m\u001b[0m\n\u001b[0;32m--> 468\u001b[0;31m             \u001b[0mmgr\u001b[0m \u001b[0;34m=\u001b[0m \u001b[0minit_dict\u001b[0m\u001b[0;34m(\u001b[0m\u001b[0mdata\u001b[0m\u001b[0;34m,\u001b[0m \u001b[0mindex\u001b[0m\u001b[0;34m,\u001b[0m \u001b[0mcolumns\u001b[0m\u001b[0;34m,\u001b[0m \u001b[0mdtype\u001b[0m\u001b[0;34m=\u001b[0m\u001b[0mdtype\u001b[0m\u001b[0;34m)\u001b[0m\u001b[0;34m\u001b[0m\u001b[0;34m\u001b[0m\u001b[0m\n\u001b[0m\u001b[1;32m    469\u001b[0m         \u001b[0;32melif\u001b[0m \u001b[0misinstance\u001b[0m\u001b[0;34m(\u001b[0m\u001b[0mdata\u001b[0m\u001b[0;34m,\u001b[0m \u001b[0mma\u001b[0m\u001b[0;34m.\u001b[0m\u001b[0mMaskedArray\u001b[0m\u001b[0;34m)\u001b[0m\u001b[0;34m:\u001b[0m\u001b[0;34m\u001b[0m\u001b[0;34m\u001b[0m\u001b[0m\n\u001b[1;32m    470\u001b[0m             \u001b[0;32mimport\u001b[0m \u001b[0mnumpy\u001b[0m\u001b[0;34m.\u001b[0m\u001b[0mma\u001b[0m\u001b[0;34m.\u001b[0m\u001b[0mmrecords\u001b[0m \u001b[0;32mas\u001b[0m \u001b[0mmrecords\u001b[0m\u001b[0;34m\u001b[0m\u001b[0;34m\u001b[0m\u001b[0m\n",
      "\u001b[0;32m/usr/local/lib/python3.9/site-packages/pandas/core/internals/construction.py\u001b[0m in \u001b[0;36minit_dict\u001b[0;34m(data, index, columns, dtype)\u001b[0m\n\u001b[1;32m    281\u001b[0m             \u001b[0marr\u001b[0m \u001b[0;32mif\u001b[0m \u001b[0;32mnot\u001b[0m \u001b[0mis_datetime64tz_dtype\u001b[0m\u001b[0;34m(\u001b[0m\u001b[0marr\u001b[0m\u001b[0;34m)\u001b[0m \u001b[0;32melse\u001b[0m \u001b[0marr\u001b[0m\u001b[0;34m.\u001b[0m\u001b[0mcopy\u001b[0m\u001b[0;34m(\u001b[0m\u001b[0;34m)\u001b[0m \u001b[0;32mfor\u001b[0m \u001b[0marr\u001b[0m \u001b[0;32min\u001b[0m \u001b[0marrays\u001b[0m\u001b[0;34m\u001b[0m\u001b[0;34m\u001b[0m\u001b[0m\n\u001b[1;32m    282\u001b[0m         ]\n\u001b[0;32m--> 283\u001b[0;31m     \u001b[0;32mreturn\u001b[0m \u001b[0marrays_to_mgr\u001b[0m\u001b[0;34m(\u001b[0m\u001b[0marrays\u001b[0m\u001b[0;34m,\u001b[0m \u001b[0mdata_names\u001b[0m\u001b[0;34m,\u001b[0m \u001b[0mindex\u001b[0m\u001b[0;34m,\u001b[0m \u001b[0mcolumns\u001b[0m\u001b[0;34m,\u001b[0m \u001b[0mdtype\u001b[0m\u001b[0;34m=\u001b[0m\u001b[0mdtype\u001b[0m\u001b[0;34m)\u001b[0m\u001b[0;34m\u001b[0m\u001b[0;34m\u001b[0m\u001b[0m\n\u001b[0m\u001b[1;32m    284\u001b[0m \u001b[0;34m\u001b[0m\u001b[0m\n\u001b[1;32m    285\u001b[0m \u001b[0;34m\u001b[0m\u001b[0m\n",
      "\u001b[0;32m/usr/local/lib/python3.9/site-packages/pandas/core/internals/construction.py\u001b[0m in \u001b[0;36marrays_to_mgr\u001b[0;34m(arrays, arr_names, index, columns, dtype, verify_integrity)\u001b[0m\n\u001b[1;32m     76\u001b[0m         \u001b[0;31m# figure out the index, if necessary\u001b[0m\u001b[0;34m\u001b[0m\u001b[0;34m\u001b[0m\u001b[0;34m\u001b[0m\u001b[0m\n\u001b[1;32m     77\u001b[0m         \u001b[0;32mif\u001b[0m \u001b[0mindex\u001b[0m \u001b[0;32mis\u001b[0m \u001b[0;32mNone\u001b[0m\u001b[0;34m:\u001b[0m\u001b[0;34m\u001b[0m\u001b[0;34m\u001b[0m\u001b[0m\n\u001b[0;32m---> 78\u001b[0;31m             \u001b[0mindex\u001b[0m \u001b[0;34m=\u001b[0m \u001b[0mextract_index\u001b[0m\u001b[0;34m(\u001b[0m\u001b[0marrays\u001b[0m\u001b[0;34m)\u001b[0m\u001b[0;34m\u001b[0m\u001b[0;34m\u001b[0m\u001b[0m\n\u001b[0m\u001b[1;32m     79\u001b[0m         \u001b[0;32melse\u001b[0m\u001b[0;34m:\u001b[0m\u001b[0;34m\u001b[0m\u001b[0;34m\u001b[0m\u001b[0m\n\u001b[1;32m     80\u001b[0m             \u001b[0mindex\u001b[0m \u001b[0;34m=\u001b[0m \u001b[0mensure_index\u001b[0m\u001b[0;34m(\u001b[0m\u001b[0mindex\u001b[0m\u001b[0;34m)\u001b[0m\u001b[0;34m\u001b[0m\u001b[0;34m\u001b[0m\u001b[0m\n",
      "\u001b[0;32m/usr/local/lib/python3.9/site-packages/pandas/core/internals/construction.py\u001b[0m in \u001b[0;36mextract_index\u001b[0;34m(data)\u001b[0m\n\u001b[1;32m    385\u001b[0m \u001b[0;34m\u001b[0m\u001b[0m\n\u001b[1;32m    386\u001b[0m         \u001b[0;32mif\u001b[0m \u001b[0;32mnot\u001b[0m \u001b[0mindexes\u001b[0m \u001b[0;32mand\u001b[0m \u001b[0;32mnot\u001b[0m \u001b[0mraw_lengths\u001b[0m\u001b[0;34m:\u001b[0m\u001b[0;34m\u001b[0m\u001b[0;34m\u001b[0m\u001b[0m\n\u001b[0;32m--> 387\u001b[0;31m             \u001b[0;32mraise\u001b[0m \u001b[0mValueError\u001b[0m\u001b[0;34m(\u001b[0m\u001b[0;34m\"If using all scalar values, you must pass an index\"\u001b[0m\u001b[0;34m)\u001b[0m\u001b[0;34m\u001b[0m\u001b[0;34m\u001b[0m\u001b[0m\n\u001b[0m\u001b[1;32m    388\u001b[0m \u001b[0;34m\u001b[0m\u001b[0m\n\u001b[1;32m    389\u001b[0m         \u001b[0;32mif\u001b[0m \u001b[0mhave_series\u001b[0m\u001b[0;34m:\u001b[0m\u001b[0;34m\u001b[0m\u001b[0;34m\u001b[0m\u001b[0m\n",
      "\u001b[0;31mValueError\u001b[0m: If using all scalar values, you must pass an index"
     ]
    }
   ],
   "source": [
    "students = {'name': 'hale', 'age': 24'}\n",
    "print(students)\n",
    "print(type(students))\n",
    "\n",
    "df_students = pd.DataFrame(students)"
   ]
  },
  {
   "cell_type": "code",
   "execution_count": 456,
   "metadata": {},
   "outputs": [
    {
     "name": "stdout",
     "output_type": "stream",
     "text": [
      "{'Hale': age            25\n",
      "gender          F\n",
      "department     CE\n",
      "height        172\n",
      "dtype: object, 'Ahmet': age           32\n",
      "gender         M\n",
      "department    EE\n",
      "weight        83\n",
      "dtype: object}\n",
      "---------------------------------------------\n",
      "<class 'dict'>\n",
      "---------------------------------------------\n",
      "---------------------------------------------\n",
      "           Hale Ahmet\n",
      "age          25    32\n",
      "department   CE    EE\n",
      "gender        F     M\n",
      "height      172   NaN\n",
      "weight      NaN    83\n",
      "---------------------------------------------\n",
      "<class 'pandas.core.frame.DataFrame'>\n"
     ]
    }
   ],
   "source": [
    "students = {'Hale':pd.Series(data=[25,'F','CE',172], index=['age','gender','department','height']),\n",
    "            'Ahmet':pd.Series(data=[32,'M','EE',83], index=['age','gender','department','weight'])}\n",
    "print(students)\n",
    "print('---------------------------------------------')\n",
    "print(type(students))\n",
    "print('---------------------------------------------')\n",
    "df_students = pd.DataFrame(students)\n",
    "print('---------------------------------------------')\n",
    "print(df_students)\n",
    "print('---------------------------------------------')\n",
    "print(type(df_students))"
   ]
  },
  {
   "cell_type": "code",
   "execution_count": 510,
   "metadata": {},
   "outputs": [
    {
     "name": "stdout",
     "output_type": "stream",
     "text": [
      "           Hale Ahmet Fatma\n",
      "age          25    32    40\n",
      "gender        F     M     F\n",
      "department   CE    EE    TT\n",
      "height      172    83    55\n",
      "---------------------------------------------\n",
      "           Hale Ahmet\n",
      "age          25    32\n",
      "gender        F     M\n",
      "department   CE    EE\n",
      "height      172    83\n",
      "---------------------------------------------\n",
      "       Hale Ahmet Fatma\n",
      "age      25    32    40\n",
      "gender    F     M     F\n",
      "---------------------------------------------\n",
      "           Hale Ahmet\n",
      "department   CE    EE\n",
      "height      172    83\n"
     ]
    }
   ],
   "source": [
    "students = {'Hale':pd.Series(data=[25,'F','CE',172], index=['age','gender','department','height']),\n",
    "            'Ahmet':pd.Series(data=[32,'M','EE',83], index=['age','gender','department','height']),\n",
    "            'Fatma':pd.Series(data=[40,'F','TT',55], index=['age','gender','department','height'])}\n",
    "df_students = pd.DataFrame(students)\n",
    "print(df_students)\n",
    "print('---------------------------------------------')\n",
    "df_students2 = pd.DataFrame(students, columns=['Hale','Ahmet'])\n",
    "print(df_students2)\n",
    "print('---------------------------------------------')\n",
    "df_students3 = pd.DataFrame(students, index=['age','gender'])\n",
    "print(df_students3)\n",
    "print('---------------------------------------------')\n",
    "df_students4 = pd.DataFrame(students,columns=['Hale','Ahmet'], index=['department','height'])\n",
    "print(df_students4)\n"
   ]
  },
  {
   "cell_type": "code",
   "execution_count": 498,
   "metadata": {},
   "outputs": [
    {
     "name": "stdout",
     "output_type": "stream",
     "text": [
      "age           32\n",
      "gender         M\n",
      "department    EE\n",
      "height        83\n",
      "Name: Ahmet, dtype: object\n",
      "<class 'pandas.core.series.Series'>\n"
     ]
    }
   ],
   "source": [
    "# Series\n",
    "print(df_students['Ahmet'])\n",
    "print(type(df_students['Ahmet']))"
   ]
  },
  {
   "cell_type": "code",
   "execution_count": 499,
   "metadata": {},
   "outputs": [
    {
     "name": "stdout",
     "output_type": "stream",
     "text": [
      "           Ahmet\n",
      "age           32\n",
      "gender         M\n",
      "department    EE\n",
      "height        83\n",
      "<class 'pandas.core.frame.DataFrame'>\n"
     ]
    }
   ],
   "source": [
    "# DataFrame\n",
    "print(df_students[['Ahmet']])\n",
    "print(type(df_students[['Ahmet']]))"
   ]
  },
  {
   "cell_type": "code",
   "execution_count": 500,
   "metadata": {},
   "outputs": [
    {
     "name": "stdout",
     "output_type": "stream",
     "text": [
      "           Ahmet Hale\n",
      "age           32   25\n",
      "gender         M    F\n",
      "department    EE   CE\n",
      "height        83  172\n",
      "<class 'pandas.core.frame.DataFrame'>\n"
     ]
    }
   ],
   "source": [
    "print(df_students[['Ahmet','Hale']])\n",
    "print(type(df_students[['Ahmet','Hale']]))"
   ]
  },
  {
   "cell_type": "code",
   "execution_count": 501,
   "metadata": {},
   "outputs": [
    {
     "name": "stdout",
     "output_type": "stream",
     "text": [
      "Hale     25\n",
      "Ahmet    32\n",
      "Fatma    40\n",
      "Name: age, dtype: object\n",
      "<class 'pandas.core.series.Series'>\n"
     ]
    }
   ],
   "source": [
    "print(df_students.loc['age'])\n",
    "print(type(df_students.loc['age']))"
   ]
  },
  {
   "cell_type": "code",
   "execution_count": 502,
   "metadata": {},
   "outputs": [
    {
     "name": "stdout",
     "output_type": "stream",
     "text": [
      "       Hale Ahmet Fatma\n",
      "age      25    32    40\n",
      "gender    F     M     F\n",
      "---------------------------------------------\n",
      "<class 'pandas.core.frame.DataFrame'>\n"
     ]
    }
   ],
   "source": [
    "print(df_students.loc[['age','gender']])\n",
    "print('---------------------------------------------')\n",
    "print(type(df_students.loc[['age','gender']]))"
   ]
  },
  {
   "cell_type": "code",
   "execution_count": 503,
   "metadata": {},
   "outputs": [
    {
     "name": "stdout",
     "output_type": "stream",
     "text": [
      "25\n",
      "TT\n"
     ]
    }
   ],
   "source": [
    "print(df_students['Hale']['age'])\n",
    "print(df_students['Fatma']['department'])"
   ]
  },
  {
   "cell_type": "code",
   "execution_count": 504,
   "metadata": {},
   "outputs": [
    {
     "name": "stdout",
     "output_type": "stream",
     "text": [
      "           Hale Ahmet Fatma Fatih\n",
      "age          25    32    40    17\n",
      "gender        F     M     F     M\n",
      "department   CE    EE    TT   ELH\n",
      "height      172    83    55   190\n",
      "           Hale Ahmet Fatma Fatih Fatih2\n",
      "age          25    32    40    17     57\n",
      "gender        F     M     F     M     FM\n",
      "department   CE    EE    TT   ELH  TTELH\n",
      "height      172    83    55   190    245\n"
     ]
    }
   ],
   "source": [
    "df_students['Fatih'] = [17,'M','ELH',190]\n",
    "print(df_students)\n",
    "\n",
    "df_students['Fatih2'] = df_students['Fatma'] + df_students['Fatih']\n",
    "print(df_students)"
   ]
  },
  {
   "cell_type": "code",
   "execution_count": 505,
   "metadata": {},
   "outputs": [
    {
     "name": "stdout",
     "output_type": "stream",
     "text": [
      "             Hale  Ahmet  Fatma Fatih Fatih2\n",
      "age            25     32     40    17     57\n",
      "gender          F      M      F     M     FM\n",
      "department     CE     EE     TT   ELH  TTELH\n",
      "height        172     83     55   190    245\n",
      "surname     kurek  manav  yolcu   NaN    NaN\n"
     ]
    }
   ],
   "source": [
    "new_row = pd.DataFrame({'Hale':'kurek', 'Ahmet':'manav','Fatma':'yolcu'}, index=['surname'])\n",
    "df_students = df_students.append(new_row)\n",
    "print(df_students)"
   ]
  },
  {
   "cell_type": "code",
   "execution_count": 506,
   "metadata": {},
   "outputs": [
    {
     "name": "stdout",
     "output_type": "stream",
     "text": [
      "             Hale  Fatma Fatih Fatih2\n",
      "age            25     40    17     57\n",
      "gender          F      F     M     FM\n",
      "department     CE     TT   ELH  TTELH\n",
      "height        172     55   190    245\n",
      "surname     kurek  yolcu   NaN    NaN\n"
     ]
    }
   ],
   "source": [
    "# pop -> col\n",
    "# drop -> col - row (axis)\n",
    "\n",
    "df_students.pop('Ahmet')\n",
    "print(df_students)\n",
    "\n",
    "df_students = df_students.drop('Hale', axis=1)"
   ]
  },
  {
   "cell_type": "code",
   "execution_count": 507,
   "metadata": {},
   "outputs": [
    {
     "name": "stdout",
     "output_type": "stream",
     "text": [
      "            Fatma Fatih Fatih2\n",
      "age            40    17     57\n",
      "gender          F     M     FM\n",
      "department     TT   ELH  TTELH\n",
      "height         55   190    245\n",
      "surname     yolcu   NaN    NaN\n"
     ]
    }
   ],
   "source": [
    "print(df_students)"
   ]
  },
  {
   "cell_type": "code",
   "execution_count": 508,
   "metadata": {},
   "outputs": [
    {
     "name": "stdout",
     "output_type": "stream",
     "text": [
      "           Fatih\n",
      "age           17\n",
      "gender         M\n",
      "department   ELH\n",
      "height       190\n",
      "surname      NaN\n"
     ]
    }
   ],
   "source": [
    "df_students = df_students.drop(['Fatih2','Fatma'], axis=1)\n",
    "print(df_students)"
   ]
  },
  {
   "cell_type": "code",
   "execution_count": 518,
   "metadata": {},
   "outputs": [
    {
     "name": "stdout",
     "output_type": "stream",
     "text": [
      "             Hale Ahmet   Fatma\n",
      "age            25    32      40\n",
      "department     CE    EE      TT\n",
      "gender        NaN     M     NaN\n",
      "height        161   NaN     175\n",
      "surname     Cetin   NaN  Gulsen\n",
      "weight        NaN    83     NaN\n",
      "---------------------------------------------\n",
      "             Hale  Ahmet  Fatma\n",
      "age         False  False  False\n",
      "department  False  False  False\n",
      "gender       True  False   True\n",
      "height      False   True  False\n",
      "surname     False   True  False\n",
      "weight       True  False   True\n",
      "<class 'pandas.core.frame.DataFrame'>\n",
      "---------------------------------------------\n",
      "            Hale  Ahmet  Fatma\n",
      "age          0.0    0.0    0.0\n",
      "department   0.0    0.0    0.0\n",
      "gender       NaN    0.0    NaN\n",
      "height       0.0    NaN    0.0\n",
      "surname      0.0    NaN    0.0\n",
      "weight       NaN    0.0    NaN\n",
      "---------------------------------------------\n",
      "Hale     2\n",
      "Ahmet    2\n",
      "Fatma    2\n",
      "dtype: int64\n",
      "<class 'pandas.core.series.Series'>\n",
      "---------------------------------------------\n",
      "6\n",
      "<class 'numpy.int64'>\n"
     ]
    }
   ],
   "source": [
    "students = {'Hale':pd.Series(data=[25,'Cetin','CE',161], index=['age','surname','department','height']),\n",
    "            'Ahmet':pd.Series(data=[32,'M','EE',83], index=['age','gender','department','weight']),\n",
    "            'Fatma':pd.Series(data=[40,'Gulsen','TT',175], index=['age','surname','department','height'])}\n",
    "df_students = pd.DataFrame(students)\n",
    "print(df_students)\n",
    "print('---------------------------------------------')\n",
    "# isnull\n",
    "x = df_students.isnull()\n",
    "print(x)\n",
    "print(type(x))\n",
    "print('---------------------------------------------')\n",
    "z = x[(x == False)]\n",
    "print(z)\n",
    "print('---------------------------------------------')\n",
    "# stunlardaki null sayısı\n",
    "y = df_students.isnull().sum() \n",
    "print(y)\n",
    "print(type(y))\n",
    "print('---------------------------------------------')\n",
    "# toplam null sayısı\n",
    "z = df_students.isnull().sum().sum()\n",
    "print(z)\n",
    "print(type(z))\n"
   ]
  },
  {
   "cell_type": "code",
   "execution_count": 519,
   "metadata": {},
   "outputs": [
    {
     "name": "stdout",
     "output_type": "stream",
     "text": [
      "---------------------------------------------\n",
      "             Hale  Ahmet  Fatma\n",
      "age          True   True   True\n",
      "department   True   True   True\n",
      "gender      False   True  False\n",
      "height       True  False   True\n",
      "surname      True  False   True\n",
      "weight      False   True  False\n",
      "<class 'pandas.core.frame.DataFrame'>\n",
      "---------------------------------------------\n",
      "Hale     4\n",
      "Ahmet    4\n",
      "Fatma    4\n",
      "dtype: int64\n",
      "<class 'pandas.core.series.Series'>\n",
      "---------------------------------------------\n",
      "12\n",
      "<class 'numpy.int64'>\n",
      "---------------------------------------------\n"
     ]
    }
   ],
   "source": [
    "print('---------------------------------------------')\n",
    "# not null\n",
    "t = df_students.notnull()\n",
    "print(t)\n",
    "print(type(t))\n",
    "print('---------------------------------------------')\n",
    "# stunlardaki boş olmayan sayısı\n",
    "k = df_students.notnull().sum() \n",
    "print(k)\n",
    "print(type(k))\n",
    "print('---------------------------------------------')\n",
    "# toplam boş olmayan sayısı\n",
    "l = df_students.notnull().sum().sum()\n",
    "print(l)\n",
    "print(type(l))\n",
    "print('---------------------------------------------')"
   ]
  },
  {
   "cell_type": "code",
   "execution_count": 520,
   "metadata": {},
   "outputs": [
    {
     "name": "stdout",
     "output_type": "stream",
     "text": [
      "---------------------------------------------\n",
      "Hale     4\n",
      "Ahmet    4\n",
      "Fatma    4\n",
      "dtype: int64\n",
      "<class 'pandas.core.series.Series'>\n",
      "---------------------------------------------\n",
      "12\n",
      "<class 'numpy.int64'>\n",
      "---------------------------------------------\n",
      "12\n",
      "<class 'numpy.int64'>\n",
      "---------------------------------------------\n"
     ]
    }
   ],
   "source": [
    "print('---------------------------------------------')\n",
    "# count\n",
    "t = df_students.count()\n",
    "print(t)\n",
    "print(type(t))\n",
    "print('---------------------------------------------')\n",
    "# stunlardaki boş olmayan sayısı\n",
    "k = df_students.count().sum() \n",
    "print(k)\n",
    "print(type(k))\n",
    "print('---------------------------------------------')\n",
    "# toplam boş olmayan sayısı\n",
    "l = df_students.count().sum().sum()\n",
    "print(l)\n",
    "print(type(l))\n",
    "print('---------------------------------------------')"
   ]
  },
  {
   "cell_type": "code",
   "execution_count": 532,
   "metadata": {},
   "outputs": [
    {
     "name": "stdout",
     "output_type": "stream",
     "text": [
      "---------------------------------------------\n",
      "           Hale Ahmet Fatma\n",
      "age          25    32    40\n",
      "department   CE    EE    TT\n",
      "<class 'pandas.core.frame.DataFrame'>\n",
      "---------------------------------------------\n",
      "             Hale Ahmet   Fatma\n",
      "age            25    32      40\n",
      "department     CE    EE      TT\n",
      "gender        NaN     M     NaN\n",
      "height        161   NaN     175\n",
      "surname     Cetin   NaN  Gulsen\n",
      "weight        NaN   NaN     NaN\n",
      "---------------------------------------------\n",
      "             Hale Ahmet   Fatma\n",
      "age            25    32      40\n",
      "department     CE    EE      TT\n",
      "gender        NaN     M     NaN\n",
      "height        161   NaN     175\n",
      "surname     Cetin   NaN  Gulsen\n",
      "<class 'pandas.core.frame.DataFrame'>\n",
      "---------------------------------------------\n",
      "             Hale Ahmet   Fatma\n",
      "age            25    32      40\n",
      "department     CE    EE      TT\n",
      "height        161   NaN     175\n",
      "surname     Cetin   NaN  Gulsen\n",
      "<class 'pandas.core.frame.DataFrame'>\n",
      "---------------------------------------------\n",
      "           Hale Ahmet Fatma\n",
      "age          25    32    40\n",
      "department   CE    EE    TT\n",
      "<class 'pandas.core.frame.DataFrame'>\n",
      "---------------------------------------------\n",
      "Empty DataFrame\n",
      "Columns: []\n",
      "Index: [age, department, gender, height, surname, weight]\n",
      "<class 'pandas.core.frame.DataFrame'>\n",
      "---------------------------------------------\n",
      "             Hale Ahmet   Fatma\n",
      "age            25    32      40\n",
      "department     CE    EE      TT\n",
      "gender        NaN     M     NaN\n",
      "height        161   NaN     175\n",
      "surname     Cetin   NaN  Gulsen\n",
      "weight        NaN   NaN     NaN\n",
      "<class 'pandas.core.frame.DataFrame'>\n"
     ]
    }
   ],
   "source": [
    "print('---------------------------------------------')\n",
    "#nan olan satırlar siliniyor\n",
    "x = df_students.dropna()\n",
    "print(x)\n",
    "print(type(x))\n",
    "print('---------------------------------------------')\n",
    "print(df_students)\n",
    "print('---------------------------------------------')\n",
    "#tüm veriler 'nan olunca'\n",
    "df_students['Ahmet']['weight'] = np.nan #veya Null\n",
    "x = df_students.dropna(how=\"all\")\n",
    "print(x)\n",
    "print(type(x))\n",
    "print('---------------------------------------------')\n",
    "# thresh'e eşit veya daha büyük nan varsa gösterme\n",
    "x = df_students.dropna(thresh=2)\n",
    "print(x)\n",
    "print(type(x))\n",
    "print('---------------------------------------------')\n",
    "x = df_students.dropna(axis=0)\n",
    "print(x)\n",
    "print(type(x))\n",
    "print('---------------------------------------------')\n",
    "x = df_students.dropna(axis=1)\n",
    "print(x)\n",
    "print(type(x))\n",
    "print('---------------------------------------------')\n",
    "x = df_students.dropna(axis=1,thresh=3)\n",
    "print(x)\n",
    "print(type(x))"
   ]
  },
  {
   "cell_type": "code",
   "execution_count": 535,
   "metadata": {},
   "outputs": [
    {
     "data": {
      "text/plain": [
       "\u001b[0;31mSignature:\u001b[0m\n",
       "\u001b[0mdf_students\u001b[0m\u001b[0;34m.\u001b[0m\u001b[0mdropna\u001b[0m\u001b[0;34m(\u001b[0m\u001b[0;34m\u001b[0m\n",
       "\u001b[0;34m\u001b[0m    \u001b[0maxis\u001b[0m\u001b[0;34m=\u001b[0m\u001b[0;36m0\u001b[0m\u001b[0;34m,\u001b[0m\u001b[0;34m\u001b[0m\n",
       "\u001b[0;34m\u001b[0m    \u001b[0mhow\u001b[0m\u001b[0;34m=\u001b[0m\u001b[0;34m'any'\u001b[0m\u001b[0;34m,\u001b[0m\u001b[0;34m\u001b[0m\n",
       "\u001b[0;34m\u001b[0m    \u001b[0mthresh\u001b[0m\u001b[0;34m=\u001b[0m\u001b[0;32mNone\u001b[0m\u001b[0;34m,\u001b[0m\u001b[0;34m\u001b[0m\n",
       "\u001b[0;34m\u001b[0m    \u001b[0msubset\u001b[0m\u001b[0;34m=\u001b[0m\u001b[0;32mNone\u001b[0m\u001b[0;34m,\u001b[0m\u001b[0;34m\u001b[0m\n",
       "\u001b[0;34m\u001b[0m    \u001b[0minplace\u001b[0m\u001b[0;34m=\u001b[0m\u001b[0;32mFalse\u001b[0m\u001b[0;34m,\u001b[0m\u001b[0;34m\u001b[0m\n",
       "\u001b[0;34m\u001b[0m\u001b[0;34m)\u001b[0m\u001b[0;34m\u001b[0m\u001b[0;34m\u001b[0m\u001b[0m\n",
       "\u001b[0;31mDocstring:\u001b[0m\n",
       "Remove missing values.\n",
       "\n",
       "See the :ref:`User Guide <missing_data>` for more on which values are\n",
       "considered missing, and how to work with missing data.\n",
       "\n",
       "Parameters\n",
       "----------\n",
       "axis : {0 or 'index', 1 or 'columns'}, default 0\n",
       "    Determine if rows or columns which contain missing values are\n",
       "    removed.\n",
       "\n",
       "    * 0, or 'index' : Drop rows which contain missing values.\n",
       "    * 1, or 'columns' : Drop columns which contain missing value.\n",
       "\n",
       "    .. versionchanged:: 1.0.0\n",
       "\n",
       "       Pass tuple or list to drop on multiple axes.\n",
       "       Only a single axis is allowed.\n",
       "\n",
       "how : {'any', 'all'}, default 'any'\n",
       "    Determine if row or column is removed from DataFrame, when we have\n",
       "    at least one NA or all NA.\n",
       "\n",
       "    * 'any' : If any NA values are present, drop that row or column.\n",
       "    * 'all' : If all values are NA, drop that row or column.\n",
       "\n",
       "thresh : int, optional\n",
       "    Require that many non-NA values.\n",
       "subset : array-like, optional\n",
       "    Labels along other axis to consider, e.g. if you are dropping rows\n",
       "    these would be a list of columns to include.\n",
       "inplace : bool, default False\n",
       "    If True, do operation inplace and return None.\n",
       "\n",
       "Returns\n",
       "-------\n",
       "DataFrame\n",
       "    DataFrame with NA entries dropped from it.\n",
       "\n",
       "See Also\n",
       "--------\n",
       "DataFrame.isna: Indicate missing values.\n",
       "DataFrame.notna : Indicate existing (non-missing) values.\n",
       "DataFrame.fillna : Replace missing values.\n",
       "Series.dropna : Drop missing values.\n",
       "Index.dropna : Drop missing indices.\n",
       "\n",
       "Examples\n",
       "--------\n",
       ">>> df = pd.DataFrame({\"name\": ['Alfred', 'Batman', 'Catwoman'],\n",
       "...                    \"toy\": [np.nan, 'Batmobile', 'Bullwhip'],\n",
       "...                    \"born\": [pd.NaT, pd.Timestamp(\"1940-04-25\"),\n",
       "...                             pd.NaT]})\n",
       ">>> df\n",
       "       name        toy       born\n",
       "0    Alfred        NaN        NaT\n",
       "1    Batman  Batmobile 1940-04-25\n",
       "2  Catwoman   Bullwhip        NaT\n",
       "\n",
       "Drop the rows where at least one element is missing.\n",
       "\n",
       ">>> df.dropna()\n",
       "     name        toy       born\n",
       "1  Batman  Batmobile 1940-04-25\n",
       "\n",
       "Drop the columns where at least one element is missing.\n",
       "\n",
       ">>> df.dropna(axis='columns')\n",
       "       name\n",
       "0    Alfred\n",
       "1    Batman\n",
       "2  Catwoman\n",
       "\n",
       "Drop the rows where all elements are missing.\n",
       "\n",
       ">>> df.dropna(how='all')\n",
       "       name        toy       born\n",
       "0    Alfred        NaN        NaT\n",
       "1    Batman  Batmobile 1940-04-25\n",
       "2  Catwoman   Bullwhip        NaT\n",
       "\n",
       "Keep only the rows with at least 2 non-NA values.\n",
       "\n",
       ">>> df.dropna(thresh=2)\n",
       "       name        toy       born\n",
       "1    Batman  Batmobile 1940-04-25\n",
       "2  Catwoman   Bullwhip        NaT\n",
       "\n",
       "Define in which columns to look for missing values.\n",
       "\n",
       ">>> df.dropna(subset=['name', 'born'])\n",
       "       name        toy       born\n",
       "1    Batman  Batmobile 1940-04-25\n",
       "\n",
       "Keep the DataFrame with valid entries in the same variable.\n",
       "\n",
       ">>> df.dropna(inplace=True)\n",
       ">>> df\n",
       "     name        toy       born\n",
       "1  Batman  Batmobile 1940-04-25\n",
       "\u001b[0;31mFile:\u001b[0m      /usr/local/lib/python3.9/site-packages/pandas/core/frame.py\n",
       "\u001b[0;31mType:\u001b[0m      method\n"
      ]
     },
     "metadata": {},
     "output_type": "display_data"
    }
   ],
   "source": [
    "df_students.dropna?"
   ]
  },
  {
   "cell_type": "code",
   "execution_count": 537,
   "metadata": {},
   "outputs": [
    {
     "name": "stdout",
     "output_type": "stream",
     "text": [
      "             Hale Ahmet   Fatma\n",
      "age            25    32      40\n",
      "department     CE    EE      TT\n",
      "gender         CE     M      TT\n",
      "height        161     M     175\n",
      "surname     Cetin     M  Gulsen\n",
      "weight      Cetin     M  Gulsen\n",
      "---------------------------------------------\n",
      "             Hale  Ahmet   Fatma\n",
      "age            25     32      40\n",
      "department     CE     EE      TT\n",
      "gender        NaN      M       M\n",
      "height        161    161     175\n",
      "surname     Cetin  Cetin  Gulsen\n",
      "weight        NaN    NaN     NaN\n",
      "---------------------------------------------\n",
      "             Hale Ahmet   Fatma\n",
      "age            25    32      40\n",
      "department     CE    EE      TT\n",
      "gender        161     M     175\n",
      "height        161   NaN     175\n",
      "surname     Cetin   NaN  Gulsen\n",
      "weight        NaN   NaN     NaN\n",
      "---------------------------------------------\n",
      "---------------------------------------------\n",
      "---------------------------------------------\n"
     ]
    }
   ],
   "source": [
    "#fill na default br önceki değeri koy (satır) (ffill)\n",
    "x = df_students.fillna(method='ffill',axis=0)\n",
    "print(x)\n",
    "print('---------------------------------------------')\n",
    "#sütun\n",
    "x = df_students.fillna(method='ffill',axis=1)\n",
    "print(x)\n",
    "print('---------------------------------------------')\n",
    "#bir sonraki sütun (backfill)\n",
    "x = df_students.fillna(method='backfill',axis=0)\n",
    "print(x)\n",
    "print('---------------------------------------------')\n",
    "print('---------------------------------------------')\n",
    "print('---------------------------------------------')"
   ]
  },
  {
   "cell_type": "code",
   "execution_count": 541,
   "metadata": {},
   "outputs": [
    {
     "name": "stdout",
     "output_type": "stream",
     "text": [
      "   Review ID Review Date                                     Review Content  \\\n",
      "0    4055629  2012-10-06  Very nice accommodation in an aesthetically pl...   \n",
      "1   25329416  2013-11-03  Me and my friends had such a nice time at Dott...   \n",
      "2   21705849  2014-11-27  I stayed for 4night.She gave us a lot of snuck...   \n",
      "3   41133812  2012-05-08  The apartment was situated on the first floor ...   \n",
      "4    7465026  2013-08-16  Even though it was only for one night, we had ...   \n",
      "\n",
      "                         Listing Title            Neighbourhood  \\\n",
      "0  Nottinghill Portobello  Artist Flat   Kensington and Chelsea   \n",
      "1   Quiet Pink Studio in the PIJP area  De Pijp - Rivierenbuurt   \n",
      "2  PRIVATE Room in Spacious, Quiet Apt                   Harlem   \n",
      "3       Bonito estudio en pleno centro              Universidad   \n",
      "4        Acropolis Apartment brand new                 ΑΚΡΟΠΟΛΗ   \n",
      "\n",
      "            City                State          Country        Room Type  \\\n",
      "0         London              England   United Kingdom  Entire home/apt   \n",
      "1      Amsterdam        North Holland  The Netherlands     Private room   \n",
      "2  New York City             New York    United States     Private room   \n",
      "3         Madrid  Comunidad de Madrid            Spain  Entire home/apt   \n",
      "4         Athens               Attica           Greece  Entire home/apt   \n",
      "\n",
      "   Room Price  Room Availability  \n",
      "0         100                338  \n",
      "1          80                 10  \n",
      "2          57                268  \n",
      "3          38                274  \n",
      "4          62                281  \n"
     ]
    }
   ],
   "source": [
    "review = pd.read_csv('./ReviewContent.csv')\n",
    "print(review.head())"
   ]
  },
  {
   "cell_type": "code",
   "execution_count": 550,
   "metadata": {},
   "outputs": [
    {
     "name": "stdout",
     "output_type": "stream",
     "text": [
      "<class 'pandas.core.frame.DataFrame'>\n",
      "\n",
      "<class 'pandas.core.frame.DataFrame'>\n",
      "RangeIndex: 1000 entries, 0 to 999\n",
      "Data columns (total 11 columns):\n",
      " #   Column             Non-Null Count  Dtype \n",
      "---  ------             --------------  ----- \n",
      " 0   Review ID          1000 non-null   int64 \n",
      " 1   Review Date        1000 non-null   object\n",
      " 2   Review Content     999 non-null    object\n",
      " 3   Listing Title      1000 non-null   object\n",
      " 4   Neighbourhood      1000 non-null   object\n",
      " 5   City               1000 non-null   object\n",
      " 6   State              1000 non-null   object\n",
      " 7   Country            1000 non-null   object\n",
      " 8   Room Type          1000 non-null   object\n",
      " 9   Room Price         1000 non-null   int64 \n",
      " 10  Room Availability  1000 non-null   int64 \n",
      "dtypes: int64(3), object(8)\n",
      "memory usage: 86.1+ KB\n",
      "None\n",
      "---------------------------------------------\n",
      "Review ID             int64\n",
      "Review Date          object\n",
      "Review Content       object\n",
      "Listing Title        object\n",
      "Neighbourhood        object\n",
      "City                 object\n",
      "State                object\n",
      "Country              object\n",
      "Room Type            object\n",
      "Room Price            int64\n",
      "Room Availability     int64\n",
      "dtype: object\n",
      "---------------------------------------------\n",
      "2\n",
      "---------------------------------------------\n",
      "Index(['Review ID', 'Review Date', 'Review Content', 'Listing Title',\n",
      "       'Neighbourhood', 'City', 'State', 'Country', 'Room Type', 'Room Price',\n",
      "       'Room Availability'],\n",
      "      dtype='object')\n",
      "---------------------------------------------\n",
      "<class 'pandas.core.indexes.base.Index'>\n",
      "---------------------------------------------\n",
      "Index                 128\n",
      "Review ID            8000\n",
      "Review Date          8000\n",
      "Review Content       8000\n",
      "Listing Title        8000\n",
      "Neighbourhood        8000\n",
      "City                 8000\n",
      "State                8000\n",
      "Country              8000\n",
      "Room Type            8000\n",
      "Room Price           8000\n",
      "Room Availability    8000\n",
      "dtype: int64\n"
     ]
    }
   ],
   "source": [
    "print(type(review))\n",
    "print()\n",
    "print(review.info())\n",
    "print('---------------------------------------------')\n",
    "print(review.dtypes)\n",
    "print('---------------------------------------------')\n",
    "print(review.ndim)\n",
    "print('---------------------------------------------')\n",
    "print(review.columns)\n",
    "print('---------------------------------------------')\n",
    "print(type(review.columns))\n",
    "print('---------------------------------------------')\n",
    "print(review.memory_usage())"
   ]
  },
  {
   "cell_type": "code",
   "execution_count": 554,
   "metadata": {},
   "outputs": [
    {
     "name": "stdout",
     "output_type": "stream",
     "text": [
      "118048\n",
      "---------------------------------------------\n",
      "Review ID                                                  23758497050\n",
      "Review Date          2012-10-062013-11-032014-11-272012-05-082013-0...\n",
      "Listing Title        Nottinghill Portobello  Artist FlatQuiet Pink ...\n",
      "Neighbourhood        Kensington and ChelseaDe Pijp - RivierenbuurtH...\n",
      "City                 LondonAmsterdamNew York CityMadridAthensPortla...\n",
      "State                EnglandNorth HollandNew YorkComunidad de Madri...\n",
      "Country              United KingdomThe NetherlandsUnited StatesSpai...\n",
      "Room Type            Entire home/aptPrivate roomPrivate roomEntire ...\n",
      "Room Price                                                      118048\n",
      "Room Availability                                               253651\n",
      "dtype: object\n",
      "---------------------------------------------\n",
      "0      338\n",
      "1       10\n",
      "2      268\n",
      "3      274\n",
      "4      281\n",
      "      ... \n",
      "995    329\n",
      "996    309\n",
      "997     10\n",
      "998    357\n",
      "999    329\n",
      "Name: Room Availability, Length: 1000, dtype: int64\n",
      "---------------------------------------------\n",
      "0      348\n",
      "1       20\n",
      "2      278\n",
      "3      284\n",
      "4      291\n",
      "      ... \n",
      "995    339\n",
      "996    319\n",
      "997     20\n",
      "998    367\n",
      "999    339\n",
      "Name: Room Availability, Length: 1000, dtype: int64\n",
      "---------------------------------------------\n",
      "0      348\n",
      "1       20\n",
      "2      278\n",
      "3      284\n",
      "4      291\n",
      "      ... \n",
      "995    339\n",
      "996    319\n",
      "997     20\n",
      "998    367\n",
      "999    339\n",
      "Name: Room Availability, Length: 1000, dtype: int64\n"
     ]
    }
   ],
   "source": [
    "print(review[\"Room Price\"].sum())\n",
    "print('---------------------------------------------')\n",
    "print(review.sum())\n",
    "print('---------------------------------------------')\n",
    "print(review[\"Room Availability\"])\n",
    "print('---------------------------------------------')\n",
    "print(review[\"Room Availability\"].add(10))\n",
    "print('---------------------------------------------')\n",
    "print(review[\"Room Availability\"]+10)\n",
    "#sum, sub, mul, div, +, -, *, /"
   ]
  },
  {
   "cell_type": "code",
   "execution_count": 564,
   "metadata": {},
   "outputs": [
    {
     "name": "stdout",
     "output_type": "stream",
     "text": [
      "0             London\n",
      "1          Amsterdam\n",
      "2      New York City\n",
      "3             Madrid\n",
      "4             Athens\n",
      "           ...      \n",
      "995            Paris\n",
      "996      Los Angeles\n",
      "997           Boston\n",
      "998    New York City\n",
      "999    New York City\n",
      "Name: City, Length: 1000, dtype: object\n",
      "---------------------------------------------\n",
      "New York City    135\n",
      "London           104\n",
      "Paris            101\n",
      "Los Angeles       68\n",
      "Barcelona         61\n",
      "San Francisco     59\n",
      "Berlin            56\n",
      "Amsterdam         45\n",
      "Sydney            33\n",
      "Portland          28\n",
      "Madrid            28\n",
      "Montreal          27\n",
      "Toronto           23\n",
      "Seattle           23\n",
      "Brussels          23\n",
      "Austin            22\n",
      "New Orleans       22\n",
      "Boston            21\n",
      "Chicago           21\n",
      "Venice            21\n",
      "Washington        18\n",
      "Melbourne         14\n",
      "Vienna            14\n",
      "Nashville         13\n",
      "Athens            10\n",
      "Oakland            5\n",
      "Antwerp            5\n",
      "Name: City, dtype: int64\n",
      "---------------------------------------------\n",
      "Entire home/apt    648\n",
      "Private room       340\n",
      "Shared room         12\n",
      "Name: Room Type, dtype: int64\n",
      "---------------------------------------------\n",
      "80     32\n",
      "120    31\n",
      "75     27\n",
      "95     27\n",
      "60     26\n",
      "       ..\n",
      "222     1\n",
      "228     1\n",
      "265     1\n",
      "270     1\n",
      "800     1\n",
      "Name: Room Price, Length: 180, dtype: int64\n",
      "---------------------------------------------\n",
      "799    1500\n",
      "489     800\n",
      "518     775\n",
      "613     725\n",
      "555     650\n",
      "Name: Room Price, dtype: int64\n",
      "---------------------------------------------\n",
      "409     Amsterdam\n",
      "912     Amsterdam\n",
      "770     Amsterdam\n",
      "168     Amsterdam\n",
      "782     Amsterdam\n",
      "          ...    \n",
      "839    Washington\n",
      "139    Washington\n",
      "128    Washington\n",
      "589    Washington\n",
      "437    Washington\n",
      "Name: City, Length: 1000, dtype: object\n",
      "---------------------------------------------\n",
      "     Review ID Review Date                                     Review Content  \\\n",
      "740   37117583  2012-04-20  Alex is a very considerate airbnb host. He mad...   \n",
      "718   47355526  2012-08-05  Manuel was very sweet and helpful! Very nice a...   \n",
      "306   44838729  2012-06-03  It was easy to find and the room was clean. Ve...   \n",
      "452   11937812  2012-05-28  I just had a wonderfull time in there: good co...   \n",
      "795   37947941  2012-11-02  We only got to stay 12 hours, but this is exac...   \n",
      "..         ...         ...                                                ...   \n",
      "555    8381199  2014-10-25  This was my first Airbnb experience.  We were ...   \n",
      "613   41553198  2014-12-10  Brian and his team were great! We had a group ...   \n",
      "518   29952932  2013-06-15      Very beautiful apartment in a great location.   \n",
      "489   25836446  2012-03-05  The reservation was canceled 79 days before ar...   \n",
      "799    5239947  2013-01-15  The only issue that we had was that the elevat...   \n",
      "\n",
      "                           Listing Title               Neighbourhood  \\\n",
      "740     Good Vibes in the heart of BXL !                     Ixelles   \n",
      "718    Bernabéu, Twin Bedroom, Breakfast                  Berruguete   \n",
      "306        COSY ROOM-center-5 mn RAMBLAS                el Poble Sec   \n",
      "452  Camp Nou, Sants Staciò & University  la Maternitat i Sant Ramon   \n",
      "795   Cozy Private Room beside la Rambla                    el Raval   \n",
      "..                                   ...                         ...   \n",
      "555   SPACIOUS & LUXURIOUS 2-LEVEL CONDO              Haight Ashbury   \n",
      "613      Chic Massive 4 Bed Room Duplex!             Lower East Side   \n",
      "518    Stunning Townhouse - West Village                West Village   \n",
      "489  Mansion In The Sky-Duplex Penthouse                        Loop   \n",
      "799    Amazing hillside 4 bdrm 4k  sq ft               Monterey Park   \n",
      "\n",
      "              City                State        Country        Room Type  \\\n",
      "740       Brussels             Brussels        Belgium      Shared room   \n",
      "718         Madrid  Comunidad de Madrid          Spain     Private room   \n",
      "306      Barcelona            Catalonia          Spain     Private room   \n",
      "452      Barcelona            Catalonia          Spain     Private room   \n",
      "795      Barcelona            Catalonia          Spain     Private room   \n",
      "..             ...                  ...            ...              ...   \n",
      "555  San Francisco           California  United States  Entire home/apt   \n",
      "613  New York City             New York  United States  Entire home/apt   \n",
      "518  New York City             New York  United States  Entire home/apt   \n",
      "489        Chicago             Illinois  United States  Entire home/apt   \n",
      "799    Los Angeles           California  United States  Entire home/apt   \n",
      "\n",
      "     Room Price  Room Availability  \n",
      "740          16                326  \n",
      "718          16                112  \n",
      "306          19                336  \n",
      "452          19                333  \n",
      "795          22                 25  \n",
      "..          ...                ...  \n",
      "555         650                327  \n",
      "613         725                316  \n",
      "518         775                316  \n",
      "489         800                359  \n",
      "799        1500                365  \n",
      "\n",
      "[1000 rows x 11 columns]\n"
     ]
    }
   ],
   "source": [
    "print(review['City'])\n",
    "print('---------------------------------------------')\n",
    "print(review['City'].value_counts())\n",
    "print('---------------------------------------------')\n",
    "print(review['Room Type'].value_counts())\n",
    "print('---------------------------------------------')\n",
    "print(review['Room Price'].value_counts())\n",
    "print('---------------------------------------------')\n",
    "print(review['Room Price'].sort_values(ascending= False).head())\n",
    "print('---------------------------------------------')\n",
    "print(review['City'].sort_values())\n",
    "print('---------------------------------------------')\n",
    "print(review.sort_values(\"Room Price\"))"
   ]
  },
  {
   "cell_type": "code",
   "execution_count": null,
   "metadata": {},
   "outputs": [],
   "source": []
  }
 ],
 "metadata": {
  "kernelspec": {
   "display_name": "Python 3",
   "language": "python",
   "name": "python3"
  },
  "language_info": {
   "codemirror_mode": {
    "name": "ipython",
    "version": 3
   },
   "file_extension": ".py",
   "mimetype": "text/x-python",
   "name": "python",
   "nbconvert_exporter": "python",
   "pygments_lexer": "ipython3",
   "version": "3.9.1"
  }
 },
 "nbformat": 4,
 "nbformat_minor": 4
}
