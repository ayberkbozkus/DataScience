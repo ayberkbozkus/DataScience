{
 "cells": [
  {
   "cell_type": "code",
   "execution_count": 3,
   "metadata": {},
   "outputs": [
    {
     "name": "stdout",
     "output_type": "stream",
     "text": [
      "Hello World\n"
     ]
    }
   ],
   "source": [
    "print(\"Hello World\")"
   ]
  },
  {
   "cell_type": "markdown",
   "metadata": {},
   "source": [
    "# Başlık1\n",
    "## Başlık2\n",
    "### Başlık3\n",
    "deneme"
   ]
  },
  {
   "cell_type": "code",
   "execution_count": 4,
   "metadata": {},
   "outputs": [],
   "source": [
    "import pandas as pd"
   ]
  },
  {
   "cell_type": "code",
   "execution_count": 5,
   "metadata": {},
   "outputs": [],
   "source": [
    "import numpy as np"
   ]
  },
  {
   "cell_type": "code",
   "execution_count": 6,
   "metadata": {},
   "outputs": [],
   "source": [
    "import time"
   ]
  },
  {
   "cell_type": "code",
   "execution_count": 7,
   "metadata": {},
   "outputs": [
    {
     "data": {
      "text/plain": [
       "array([1, 2, 3, 4, 5, 6])"
      ]
     },
     "execution_count": 7,
     "metadata": {},
     "output_type": "execute_result"
    }
   ],
   "source": [
    "k = np.array([1,2,3,4,5,6])\n",
    "k"
   ]
  },
  {
   "cell_type": "code",
   "execution_count": 8,
   "metadata": {},
   "outputs": [
    {
     "name": "stdout",
     "output_type": "stream",
     "text": [
      "162180.0236886633\n"
     ]
    }
   ],
   "source": [
    "start_time = time.time()\n",
    "A= np.array(50000000)\n",
    "A ** 2\n",
    "time1 = time.time() - start_time\n",
    "start_time2 = time.time()\n",
    "L = range(50000000)\n",
    "[i ** 2 for i in L]\n",
    "time2 = time.time() - start_time2\n",
    "\n",
    "print(time2/time1)"
   ]
  },
  {
   "cell_type": "code",
   "execution_count": 9,
   "metadata": {},
   "outputs": [
    {
     "name": "stdout",
     "output_type": "stream",
     "text": [
      "[4 5 6 7]\n"
     ]
    }
   ],
   "source": [
    "x = np.array([4,5,6,7])\n",
    "print(x)"
   ]
  },
  {
   "cell_type": "code",
   "execution_count": 10,
   "metadata": {},
   "outputs": [
    {
     "name": "stdout",
     "output_type": "stream",
     "text": [
      "<class 'numpy.ndarray'>\n",
      "(4,)\n",
      "4\n",
      "1\n",
      "32\n",
      "int64\n"
     ]
    }
   ],
   "source": [
    "print(type(x))\n",
    "print(x.shape)\n",
    "print(x.size)\n",
    "print(x.ndim)\n",
    "print(x.nbytes)\n",
    "print(x.dtype)"
   ]
  },
  {
   "cell_type": "code",
   "execution_count": 11,
   "metadata": {},
   "outputs": [
    {
     "name": "stdout",
     "output_type": "stream",
     "text": [
      "[[1 2 3]\n",
      " [4 5 6]]\n",
      "<class 'numpy.ndarray'>\n",
      "(2, 3)\n",
      "6\n",
      "2\n",
      "48\n",
      "int64\n"
     ]
    }
   ],
   "source": [
    "t = np.array([[1,2,3],[4,5,6]])\n",
    "y = t\n",
    "print(y)\n",
    "print(type(y))\n",
    "print(y.shape)\n",
    "print(y.size)\n",
    "print(y.ndim)\n",
    "print(y.nbytes)\n",
    "print(y.dtype)"
   ]
  },
  {
   "cell_type": "code",
   "execution_count": 12,
   "metadata": {},
   "outputs": [
    {
     "name": "stdout",
     "output_type": "stream",
     "text": [
      "[[[1 2 3]\n",
      "  [4 5 6]]\n",
      "\n",
      " [[1 2 3]\n",
      "  [4 5 6]]]\n",
      "<class 'numpy.ndarray'>\n",
      "(2, 2, 3)\n",
      "12\n",
      "3\n",
      "96\n",
      "int64\n"
     ]
    }
   ],
   "source": [
    "z = np.array([[[1,2,3],[4,5,6]],[[1,2,3],[4,5,6]]])\n",
    "y = z\n",
    "print(y)\n",
    "print(type(y))\n",
    "print(y.shape)\n",
    "print(y.size)\n",
    "print(y.ndim)\n",
    "print(y.nbytes)\n",
    "print(y.dtype)"
   ]
  },
  {
   "cell_type": "code",
   "execution_count": 13,
   "metadata": {},
   "outputs": [
    {
     "name": "stdout",
     "output_type": "stream",
     "text": [
      "<U21\n"
     ]
    }
   ],
   "source": [
    "x = np.array([1,\"2\",3])\n",
    "print(x.dtype)"
   ]
  },
  {
   "cell_type": "code",
   "execution_count": 14,
   "metadata": {},
   "outputs": [
    {
     "name": "stdout",
     "output_type": "stream",
     "text": [
      "complex128\n",
      "[1.+0.j 2.+0.j 3.+0.j]\n"
     ]
    }
   ],
   "source": [
    "x = np.array([1,2.0,3], dtype=np.complex)\n",
    "print(x.dtype)\n",
    "print(x)"
   ]
  },
  {
   "cell_type": "code",
   "execution_count": 15,
   "metadata": {},
   "outputs": [
    {
     "name": "stdout",
     "output_type": "stream",
     "text": [
      "[1 2 3]\n",
      "int64\n"
     ]
    }
   ],
   "source": [
    "x = np.array([1.2,2.7,3.8], dtype=np.int)\n",
    "print(x)\n",
    "print(x.dtype)"
   ]
  },
  {
   "cell_type": "code",
   "execution_count": 16,
   "metadata": {},
   "outputs": [
    {
     "name": "stdout",
     "output_type": "stream",
     "text": [
      "[1. 2. 3.]\n",
      "float64\n"
     ]
    }
   ],
   "source": [
    "x = np.array(x, dtype=float)\n",
    "print(x)\n",
    "print(x.dtype)"
   ]
  },
  {
   "cell_type": "code",
   "execution_count": 17,
   "metadata": {},
   "outputs": [
    {
     "name": "stdout",
     "output_type": "stream",
     "text": [
      "[1 2 3]\n"
     ]
    }
   ],
   "source": [
    "x = x.astype(np.int)\n",
    "print(x)"
   ]
  },
  {
   "cell_type": "code",
   "execution_count": 18,
   "metadata": {},
   "outputs": [
    {
     "name": "stdout",
     "output_type": "stream",
     "text": [
      "[6.2 4.8 7.9]\n",
      "float64\n"
     ]
    }
   ],
   "source": [
    "x1 = np.array([1,2,3],dtype=np.int)\n",
    "x2 = np.array([5.2,2.8,4.9],dtype=np.float)\n",
    "\n",
    "print(x1+x2)\n",
    "print((x1+x2).dtype)"
   ]
  },
  {
   "cell_type": "code",
   "execution_count": 19,
   "metadata": {},
   "outputs": [
    {
     "name": "stdout",
     "output_type": "stream",
     "text": [
      "[0.+1.j 3.+0.j 2.+0.j]\n",
      "complex128\n",
      "<class 'numpy.ndarray'>\n",
      "[0. 3. 2.]\n",
      "[1. 0. 0.]\n",
      "float64\n",
      "float64\n"
     ]
    }
   ],
   "source": [
    "x = np.sqrt(np.array([-1,9,4], dtype=np.complex))\n",
    "print(x)\n",
    "print(x.dtype)\n",
    "print(type(x))\n",
    "print(x.real)\n",
    "print(x.imag)\n",
    "print(x.real.dtype)\n",
    "print(x.imag.dtype)"
   ]
  },
  {
   "cell_type": "code",
   "execution_count": 20,
   "metadata": {},
   "outputs": [],
   "source": [
    "np.save('ndarray_1',x)"
   ]
  },
  {
   "cell_type": "code",
   "execution_count": 21,
   "metadata": {},
   "outputs": [
    {
     "name": "stdout",
     "output_type": "stream",
     "text": [
      "[0.+1.j 3.+0.j 2.+0.j]\n",
      "(3,)\n"
     ]
    }
   ],
   "source": [
    "y = np.load('ndarray_1.npy')\n",
    "print(y)\n",
    "print(y.shape)"
   ]
  },
  {
   "cell_type": "code",
   "execution_count": 22,
   "metadata": {},
   "outputs": [
    {
     "name": "stdout",
     "output_type": "stream",
     "text": [
      "[0. 0. 0. 0.]\n",
      "float64\n",
      "[1. 1. 1. 1.]\n",
      "float64\n"
     ]
    }
   ],
   "source": [
    "x1 = np.zeros(4)\n",
    "print(x1)\n",
    "print(x1.dtype)\n",
    "x2 = np.ones(4)\n",
    "print(x2)\n",
    "print(x2.dtype)"
   ]
  },
  {
   "cell_type": "code",
   "execution_count": 23,
   "metadata": {},
   "outputs": [
    {
     "name": "stdout",
     "output_type": "stream",
     "text": [
      "[[[0 0 0 0]\n",
      "  [0 0 0 0]\n",
      "  [0 0 0 0]]\n",
      "\n",
      " [[0 0 0 0]\n",
      "  [0 0 0 0]\n",
      "  [0 0 0 0]]]\n",
      "int64\n"
     ]
    }
   ],
   "source": [
    "x1 = np.zeros((2,3,4), dtype=np.int)\n",
    "print(x1)\n",
    "print(x1.dtype)"
   ]
  },
  {
   "cell_type": "code",
   "execution_count": 24,
   "metadata": {},
   "outputs": [
    {
     "name": "stdout",
     "output_type": "stream",
     "text": [
      "[[10 10 10]\n",
      " [10 10 10]]\n"
     ]
    }
   ],
   "source": [
    "x = np.full((2,3),10)\n",
    "print(x)"
   ]
  },
  {
   "cell_type": "code",
   "execution_count": 25,
   "metadata": {},
   "outputs": [
    {
     "name": "stdout",
     "output_type": "stream",
     "text": [
      "[[0. 0.]\n",
      " [0. 0.]]\n"
     ]
    }
   ],
   "source": [
    "x = np.empty((2,2))\n",
    "print(x)"
   ]
  },
  {
   "cell_type": "code",
   "execution_count": 26,
   "metadata": {},
   "outputs": [
    {
     "name": "stdout",
     "output_type": "stream",
     "text": [
      "[[3. 3.]\n",
      " [3. 3.]]\n"
     ]
    }
   ],
   "source": [
    "x.fill(3)\n",
    "print(x)"
   ]
  },
  {
   "cell_type": "code",
   "execution_count": 27,
   "metadata": {},
   "outputs": [
    {
     "name": "stdout",
     "output_type": "stream",
     "text": [
      "[[1. 0. 0. 0.]\n",
      " [0. 1. 0. 0.]\n",
      " [0. 0. 1. 0.]\n",
      " [0. 0. 0. 1.]]\n"
     ]
    }
   ],
   "source": [
    "x = np.eye(4)\n",
    "print(x)"
   ]
  },
  {
   "cell_type": "code",
   "execution_count": 28,
   "metadata": {},
   "outputs": [
    {
     "name": "stdout",
     "output_type": "stream",
     "text": [
      "[[1. 0. 0. 0.]\n",
      " [0. 1. 0. 0.]\n",
      " [0. 0. 1. 0.]\n",
      " [0. 0. 0. 1.]\n",
      " [0. 0. 0. 0.]]\n"
     ]
    }
   ],
   "source": [
    "y = np.eye(5,4)\n",
    "print(y)"
   ]
  },
  {
   "cell_type": "code",
   "execution_count": 29,
   "metadata": {},
   "outputs": [
    {
     "name": "stdout",
     "output_type": "stream",
     "text": [
      "[[1. 0. 0. 0. 0. 0.]\n",
      " [0. 1. 0. 0. 0. 0.]\n",
      " [0. 0. 1. 0. 0. 0.]\n",
      " [0. 0. 0. 1. 0. 0.]\n",
      " [0. 0. 0. 0. 1. 0.]\n",
      " [0. 0. 0. 0. 0. 1.]]\n",
      "[[0. 0. 0. 1. 0. 0.]\n",
      " [0. 0. 0. 0. 1. 0.]\n",
      " [0. 0. 0. 0. 0. 1.]\n",
      " [0. 0. 0. 0. 0. 0.]\n",
      " [0. 0. 0. 0. 0. 0.]\n",
      " [0. 0. 0. 0. 0. 0.]]\n"
     ]
    }
   ],
   "source": [
    "x = np.eye(6)\n",
    "print(x)\n",
    "y = np.eye(6,k=3)\n",
    "print(y)"
   ]
  },
  {
   "cell_type": "code",
   "execution_count": 30,
   "metadata": {},
   "outputs": [
    {
     "name": "stdout",
     "output_type": "stream",
     "text": [
      "[[1. 0. 0. 0. 0.]\n",
      " [0. 1. 0. 0. 0.]\n",
      " [0. 0. 1. 0. 0.]\n",
      " [0. 0. 0. 1. 0.]\n",
      " [0. 0. 0. 0. 1.]]\n"
     ]
    }
   ],
   "source": [
    "x = np.identity(5)\n",
    "print(x)"
   ]
  },
  {
   "cell_type": "code",
   "execution_count": 31,
   "metadata": {},
   "outputs": [
    {
     "name": "stdout",
     "output_type": "stream",
     "text": [
      "[[ 3  0  0  0]\n",
      " [ 0  4  0  0]\n",
      " [ 0  0  7  0]\n",
      " [ 0  0  0 11]]\n"
     ]
    }
   ],
   "source": [
    "x = np.diag([3,4,7,11])\n",
    "print(x)"
   ]
  },
  {
   "cell_type": "code",
   "execution_count": 32,
   "metadata": {},
   "outputs": [
    {
     "name": "stdout",
     "output_type": "stream",
     "text": [
      "[0 1 2 3 4 5 6 7 8 9]\n"
     ]
    }
   ],
   "source": [
    "x = np.arange(10)\n",
    "print(x)"
   ]
  },
  {
   "cell_type": "code",
   "execution_count": 33,
   "metadata": {},
   "outputs": [
    {
     "name": "stdout",
     "output_type": "stream",
     "text": [
      "[10 11 12 13 14 15 16 17 18 19]\n"
     ]
    }
   ],
   "source": [
    "x = np.arange(10,20)\n",
    "print(x)"
   ]
  },
  {
   "cell_type": "code",
   "execution_count": 34,
   "metadata": {},
   "outputs": [
    {
     "name": "stdout",
     "output_type": "stream",
     "text": [
      "[10 12 14 16 18]\n"
     ]
    }
   ],
   "source": [
    "x = np.arange(10,20,2)\n",
    "print(x)"
   ]
  },
  {
   "cell_type": "code",
   "execution_count": 35,
   "metadata": {},
   "outputs": [
    {
     "data": {
      "text/plain": [
       "array([ 0.        ,  1.66666667,  3.33333333,  5.        ,  6.66666667,\n",
       "        8.33333333, 10.        , 11.66666667, 13.33333333, 15.        ])"
      ]
     },
     "execution_count": 35,
     "metadata": {},
     "output_type": "execute_result"
    }
   ],
   "source": [
    "x = np.linspace(0,15,10)\n",
    "x"
   ]
  },
  {
   "cell_type": "code",
   "execution_count": 36,
   "metadata": {},
   "outputs": [
    {
     "data": {
      "text/plain": [
       "array([ 0. ,  0.5,  1. ,  1.5,  2. ,  2.5,  3. ,  3.5,  4. ,  4.5,  5. ,\n",
       "        5.5,  6. ,  6.5,  7. ,  7.5,  8. ,  8.5,  9. ,  9.5, 10. , 10.5,\n",
       "       11. , 11.5, 12. , 12.5, 13. , 13.5, 14. , 14.5, 15. , 15.5, 16. ,\n",
       "       16.5, 17. , 17.5, 18. , 18.5, 19. , 19.5, 20. , 20.5, 21. , 21.5,\n",
       "       22. , 22.5, 23. , 23.5, 24. , 24.5])"
      ]
     },
     "execution_count": 36,
     "metadata": {},
     "output_type": "execute_result"
    }
   ],
   "source": [
    "x = np.linspace(0,25, endpoint=False)\n",
    "x"
   ]
  },
  {
   "cell_type": "code",
   "execution_count": 37,
   "metadata": {},
   "outputs": [
    {
     "name": "stdout",
     "output_type": "stream",
     "text": [
      "[ 0  1  2  3  4  5  6  7  8  9 10 11 12 13 14 15 16 17 18 19]\n",
      "[[ 0  1  2  3  4]\n",
      " [ 5  6  7  8  9]\n",
      " [10 11 12 13 14]\n",
      " [15 16 17 18 19]]\n"
     ]
    }
   ],
   "source": [
    "x = np.arange(20)\n",
    "print(x)\n",
    "\n",
    "x = np.reshape(x, (4,5))\n",
    "print(x)"
   ]
  },
  {
   "cell_type": "code",
   "execution_count": 38,
   "metadata": {},
   "outputs": [
    {
     "name": "stdout",
     "output_type": "stream",
     "text": [
      "[ 0.  1.  2.  3.  4.  5.  6.  7.  8.  9. 10. 11. 12. 13. 14. 15. 16. 17.\n",
      " 18. 19.]\n",
      "[[ 0.  1.  2.  3.  4.  5.  6.  7.  8.  9.]\n",
      " [10. 11. 12. 13. 14. 15. 16. 17. 18. 19.]]\n",
      "20\n",
      "20\n"
     ]
    }
   ],
   "source": [
    "x = np.linspace(0,19,20)\n",
    "print(x)\n",
    "\n",
    "y = np.reshape(x, (2,10))\n",
    "print(y)\n",
    "print(x.size)\n",
    "print(y.size)"
   ]
  },
  {
   "cell_type": "code",
   "execution_count": 39,
   "metadata": {},
   "outputs": [
    {
     "name": "stdout",
     "output_type": "stream",
     "text": [
      "[[ 0.  1.  2.  3.  4.  5.  6.  7.  8.  9.]\n",
      " [10. 11. 12. 13. 14. 15. 16. 17. 18. 19.]]\n"
     ]
    }
   ],
   "source": [
    "z = np.linspace(0,19,20).reshape(2,10)\n",
    "print(z)\n"
   ]
  },
  {
   "cell_type": "code",
   "execution_count": 40,
   "metadata": {},
   "outputs": [
    {
     "data": {
      "text/plain": [
       "array([[0.88714133, 0.34077978, 0.40109802],\n",
       "       [0.32194499, 0.80178331, 0.75053335]])"
      ]
     },
     "execution_count": 40,
     "metadata": {},
     "output_type": "execute_result"
    }
   ],
   "source": [
    "x = np.random.random((2,3))\n",
    "x"
   ]
  },
  {
   "cell_type": "code",
   "execution_count": 41,
   "metadata": {},
   "outputs": [
    {
     "data": {
      "text/plain": [
       "array([[ 9, 11],\n",
       "       [ 9,  6],\n",
       "       [ 8,  5]])"
      ]
     },
     "execution_count": 41,
     "metadata": {},
     "output_type": "execute_result"
    }
   ],
   "source": [
    "x = np.random.randint(3,12, size=(3,2))\n",
    "x"
   ]
  },
  {
   "cell_type": "code",
   "execution_count": 42,
   "metadata": {},
   "outputs": [
    {
     "name": "stdout",
     "output_type": "stream",
     "text": [
      "[0 1 2 3 4]\n",
      "2\n",
      "2\n"
     ]
    }
   ],
   "source": [
    "x = np.arange(5)\n",
    "print(x)\n",
    "print(x[2])\n",
    "print(x[-3])"
   ]
  },
  {
   "cell_type": "code",
   "execution_count": 43,
   "metadata": {},
   "outputs": [
    {
     "data": {
      "text/plain": [
       "array([  0,   1, 200,   3,   4])"
      ]
     },
     "execution_count": 43,
     "metadata": {},
     "output_type": "execute_result"
    }
   ],
   "source": [
    "x[2] = 200\n",
    "x"
   ]
  },
  {
   "cell_type": "code",
   "execution_count": 44,
   "metadata": {},
   "outputs": [
    {
     "data": {
      "text/plain": [
       "array([[ 0,  1,  2,  3],\n",
       "       [ 4,  5,  6,  7],\n",
       "       [ 8,  9, 10, 11]])"
      ]
     },
     "execution_count": 44,
     "metadata": {},
     "output_type": "execute_result"
    }
   ],
   "source": [
    "x = np.arange(12).reshape(3,4)\n",
    "x"
   ]
  },
  {
   "cell_type": "code",
   "execution_count": 45,
   "metadata": {},
   "outputs": [
    {
     "data": {
      "text/plain": [
       "array([[  0,   1,   2, 300],\n",
       "       [  4,   5,   6,   7],\n",
       "       [  8,   9, 600,  11]])"
      ]
     },
     "execution_count": 45,
     "metadata": {},
     "output_type": "execute_result"
    }
   ],
   "source": [
    "x[0,1]\n",
    "x[0,3],x[2,2] = 300,600\n",
    "x"
   ]
  },
  {
   "cell_type": "code",
   "execution_count": 46,
   "metadata": {},
   "outputs": [
    {
     "name": "stdout",
     "output_type": "stream",
     "text": [
      "[0 1 2 3 4 5]\n",
      "[0 1 2 3 4 5]\n",
      "[1 2 4 5]\n"
     ]
    }
   ],
   "source": [
    "x = np.arange(6)\n",
    "print(x)\n",
    "y = np.delete(x, [0,3])\n",
    "print(x)\n",
    "print(y)"
   ]
  },
  {
   "cell_type": "markdown",
   "metadata": {},
   "source": [
    "# axis = 0 -> row (satır), axis = 1 -> column (sütun)"
   ]
  },
  {
   "cell_type": "code",
   "execution_count": 47,
   "metadata": {},
   "outputs": [
    {
     "name": "stdout",
     "output_type": "stream",
     "text": [
      "[[ 0  1  2  3]\n",
      " [ 4  5  6  7]\n",
      " [ 8  9 10 11]\n",
      " [12 13 14 15]]\n",
      "[[ 0  1  2  3]\n",
      " [ 8  9 10 11]\n",
      " [12 13 14 15]]\n",
      "[[ 0  2  3]\n",
      " [ 8 10 11]\n",
      " [12 14 15]]\n"
     ]
    }
   ],
   "source": [
    "x = np.arange(16).reshape(4,4)\n",
    "print(x)\n",
    "x = np.delete(x,1,axis=0)\n",
    "print(x)\n",
    "x = np.delete(x,1,axis=1)\n",
    "print(x)"
   ]
  },
  {
   "cell_type": "code",
   "execution_count": 48,
   "metadata": {},
   "outputs": [
    {
     "name": "stdout",
     "output_type": "stream",
     "text": [
      "[[ 0  1  2  3]\n",
      " [ 4  5  6  7]\n",
      " [ 8  9 10 11]\n",
      " [12 13 14 15]]\n",
      "[[ 1  3]\n",
      " [ 5  7]\n",
      " [ 9 11]\n",
      " [13 15]]\n"
     ]
    }
   ],
   "source": [
    "x = np.arange(16).reshape(4,4)\n",
    "print(x)\n",
    "x = np.delete(x, [0,2], axis=1)\n",
    "print(x)"
   ]
  },
  {
   "cell_type": "code",
   "execution_count": 49,
   "metadata": {},
   "outputs": [
    {
     "name": "stdout",
     "output_type": "stream",
     "text": [
      "[0 1 2 3 4]\n",
      "[  0   1   2   3   4 100]\n",
      "[  0   1   2   3   4 100 200 300]\n"
     ]
    }
   ],
   "source": [
    "x = np.arange(5)\n",
    "print(x)\n",
    "x = np.append(x,100)\n",
    "print(x)\n",
    "x = np.append(x,[200,300])\n",
    "print(x)"
   ]
  },
  {
   "cell_type": "code",
   "execution_count": 50,
   "metadata": {},
   "outputs": [
    {
     "name": "stdout",
     "output_type": "stream",
     "text": [
      "[[0 1 2]\n",
      " [3 4 5]\n",
      " [6 7 8]]\n",
      "[[  0   1   2]\n",
      " [  3   4   5]\n",
      " [  6   7   8]\n",
      " [100 200 300]]\n"
     ]
    }
   ],
   "source": [
    "x = np.arange(9).reshape(3,3)\n",
    "print(x)\n",
    "x = np.append(x,[[100,200,300]], axis = 0)\n",
    "print(x)"
   ]
  },
  {
   "cell_type": "code",
   "execution_count": 51,
   "metadata": {},
   "outputs": [
    {
     "name": "stdout",
     "output_type": "stream",
     "text": [
      "[[  0   1   2  10]\n",
      " [  3   4   5  20]\n",
      " [  6   7   8  30]\n",
      " [100 200 300  40]]\n"
     ]
    }
   ],
   "source": [
    "x = np.append(x,[[10],[20],[30],[40]], axis = 1)\n",
    "print(x)"
   ]
  },
  {
   "cell_type": "code",
   "execution_count": 52,
   "metadata": {},
   "outputs": [
    {
     "name": "stdout",
     "output_type": "stream",
     "text": [
      "[0 1 2 3 4]\n",
      "[10  0  1  2  3  4]\n"
     ]
    }
   ],
   "source": [
    "#np.insert ---> np.insert(ndarray, index, element, axis)\n",
    "x = np.arange(5)\n",
    "print(x)\n",
    "x= np.insert(x,0,10)\n",
    "print(x)"
   ]
  },
  {
   "cell_type": "code",
   "execution_count": 53,
   "metadata": {},
   "outputs": [
    {
     "name": "stdout",
     "output_type": "stream",
     "text": [
      "[ 10   0 300 400   1   2   3   4]\n"
     ]
    }
   ],
   "source": [
    "x= np.insert(x,2,[300,400])\n",
    "print(x)"
   ]
  },
  {
   "cell_type": "code",
   "execution_count": 54,
   "metadata": {},
   "outputs": [
    {
     "name": "stdout",
     "output_type": "stream",
     "text": [
      "[[0 1 2]\n",
      " [3 4 5]\n",
      " [6 7 8]]\n",
      "[[  0   1   2]\n",
      " [100 200 300]\n",
      " [  3   4   5]\n",
      " [  6   7   8]]\n",
      "[[100   0   1   2]\n",
      " [200   3   4   5]\n",
      " [300   6   7   8]]\n",
      "[[100   0   1   2]\n",
      " [100   3   4   5]\n",
      " [100   6   7   8]]\n",
      "[[100 200   0   1   2]\n",
      " [100 200   3   4   5]\n",
      " [100 200   6   7   8]]\n"
     ]
    }
   ],
   "source": [
    "x = np.arange(9).reshape(3,3)\n",
    "print(x)\n",
    "y = np.insert(x,1,[100,200,300], axis=0)\n",
    "print(y)\n",
    "y = np.insert(x,0,[100,200,300], axis=1)\n",
    "print(y)\n",
    "y = np.insert(x,0,[100], axis=1)\n",
    "print(y)\n",
    "y = np.insert(x,0,[[100],[200]], axis=1)\n",
    "print(y)"
   ]
  },
  {
   "cell_type": "code",
   "execution_count": 55,
   "metadata": {},
   "outputs": [
    {
     "name": "stdout",
     "output_type": "stream",
     "text": [
      "[0 1 2]\n",
      "[[0 1 2]\n",
      " [3 4 5]\n",
      " [6 7 8]]\n",
      "[[0 1 2]\n",
      " [0 1 2]\n",
      " [3 4 5]\n",
      " [6 7 8]]\n",
      "[0 1 2 3 4 5 6 7 8]\n",
      "[0 1 2 0 1 2 3 4 5 6 7 8]\n"
     ]
    }
   ],
   "source": [
    "x = np.arange(3)\n",
    "print(x)\n",
    "\n",
    "y = np.arange(9).reshape(3,3)\n",
    "print(y)\n",
    "\n",
    "z = np.vstack((x,y))\n",
    "print(z)\n",
    "\n",
    "y = y.reshape(9,)\n",
    "print(y)\n",
    "\n",
    "t = np.hstack((x,y))\n",
    "print(t)\n",
    "\n",
    "#np.stack"
   ]
  },
  {
   "cell_type": "code",
   "execution_count": 56,
   "metadata": {},
   "outputs": [
    {
     "name": "stdout",
     "output_type": "stream",
     "text": [
      "[0 1 2 3 4 5 6 7 8 9]\n",
      "[2 3 4 5]\n",
      "[4 5 6 7 8 9]\n",
      "[0 1 2 3 4 5 6]\n",
      "[0 1 2 3 4 5 6 7 8]\n",
      "[6 7]\n"
     ]
    }
   ],
   "source": [
    "x = np.arange(10)\n",
    "print(x)\n",
    "print(x[2:6])\n",
    "print(x[4:])\n",
    "print(x[:7])\n",
    "print(x[:-1])\n",
    "print(x[-4:-2])"
   ]
  },
  {
   "cell_type": "code",
   "execution_count": 57,
   "metadata": {},
   "outputs": [
    {
     "name": "stdout",
     "output_type": "stream",
     "text": [
      "[[ 0  1  2  3  4]\n",
      " [ 5  6  7  8  9]\n",
      " [10 11 12 13 14]\n",
      " [15 16 17 18 19]\n",
      " [20 21 22 23 24]]\n"
     ]
    }
   ],
   "source": [
    "x = np.arange(25).reshape(5,5)\n",
    "print(x)"
   ]
  },
  {
   "cell_type": "code",
   "execution_count": 58,
   "metadata": {},
   "outputs": [
    {
     "name": "stdout",
     "output_type": "stream",
     "text": [
      "[[ 0  1  2  3  4]\n",
      " [ 5  6  7  8  9]\n",
      " [10 11 12 13 14]\n",
      " [15 16 17 18 19]\n",
      " [20 21 22 23 24]] \n",
      "\n",
      "[[ 1  2  3]\n",
      " [ 6  7  8]\n",
      " [11 12 13]] \n",
      "\n",
      "[[10 11 12 13 14]\n",
      " [15 16 17 18 19]\n",
      " [20 21 22 23 24]] \n",
      "\n",
      "[[ 0  1  2  3  4]\n",
      " [ 5  6  7  8  9]\n",
      " [10 11 12 13 14]\n",
      " [15 16 17 18 19]\n",
      " [20 21 22 23 24]] \n",
      "\n",
      "[[ 3  4]\n",
      " [ 8  9]\n",
      " [13 14]\n",
      " [18 19]\n",
      " [23 24]]\n"
     ]
    }
   ],
   "source": [
    "x = np.arange(25).reshape(5,5)\n",
    "print(x,\"\\n\")\n",
    "y = x[0:3,1:4]\n",
    "print(y,\"\\n\")\n",
    "\n",
    "z = x[2:]\n",
    "print(z,\"\\n\")\n",
    "\n",
    "t = x[::]\n",
    "print(t,\"\\n\")\n",
    "\n",
    "v = x[:,3:]\n",
    "print(v)"
   ]
  },
  {
   "cell_type": "code",
   "execution_count": 59,
   "metadata": {},
   "outputs": [
    {
     "name": "stdout",
     "output_type": "stream",
     "text": [
      "[[0 1 2]\n",
      " [3 4 5]\n",
      " [6 7 8]] \n",
      "\n",
      "[[3 4]]\n",
      "[[  0   1   2]\n",
      " [100   4   5]\n",
      " [  6   7   8]] \n",
      "\n",
      "True\n"
     ]
    }
   ],
   "source": [
    "x = np.arange(9).reshape(3,3)\n",
    "print(x,\"\\n\")\n",
    "\n",
    "y = x[1:2,0:2]\n",
    "print(y)\n",
    "y[0,0] = 100\n",
    "print(x,\"\\n\")\n",
    "\n",
    "print(np.shares_memory(x,y))"
   ]
  },
  {
   "cell_type": "code",
   "execution_count": 60,
   "metadata": {},
   "outputs": [
    {
     "name": "stdout",
     "output_type": "stream",
     "text": [
      "[[ 0  1  2  3]\n",
      " [ 4  5  6  7]\n",
      " [ 8  9 10 11]\n",
      " [12 13 14 15]]\n",
      "\n",
      "[[ 1  2]\n",
      " [ 5  6]\n",
      " [ 9 10]]\n",
      "\n",
      "[[ 0  1  2  3]\n",
      " [ 4  5  6  7]\n",
      " [ 8  9 10 11]\n",
      " [12 13 14 15]]\n",
      "\n",
      "[[  1 500]\n",
      " [  5   6]\n",
      " [  9  10]]\n",
      "\n",
      "[[5]]\n",
      "False\n"
     ]
    }
   ],
   "source": [
    "x = np.arange(16).reshape(4,4)\n",
    "print(x)\n",
    "print()\n",
    "y = np.copy(x[0:3,1:3])\n",
    "print(y)\n",
    "print()\n",
    "y[0,1] = 500\n",
    "print(x)\n",
    "print()\n",
    "print(y)\n",
    "print()\n",
    "z = x[1:2,1:2].copy()\n",
    "print(z)\n",
    "print(np.shares_memory(x,z))"
   ]
  },
  {
   "cell_type": "code",
   "execution_count": 61,
   "metadata": {},
   "outputs": [
    {
     "name": "stdout",
     "output_type": "stream",
     "text": [
      "10\n",
      "[[ 1.  3.  5.  7.  9.]\n",
      " [11. 13. 15. 17. 19.]]\n"
     ]
    }
   ],
   "source": [
    "x = np.linspace(1,19,10).reshape(2,5)\n",
    "print(x.size)\n",
    "print(x)"
   ]
  },
  {
   "cell_type": "code",
   "execution_count": 62,
   "metadata": {},
   "outputs": [
    {
     "name": "stdout",
     "output_type": "stream",
     "text": [
      "11\n",
      "[ 1.  3.  5.  7.  9. 11. 13. 15. 17. 19. 21.]\n",
      "[2 4 7]\n",
      "[ 5.  9. 15.]\n"
     ]
    }
   ],
   "source": [
    "x = np.linspace(1,21,11)\n",
    "print(x.size)\n",
    "print(x)\n",
    "y = np.array([2,4,7])\n",
    "print(y)\n",
    "print(x[y])"
   ]
  },
  {
   "cell_type": "code",
   "execution_count": 63,
   "metadata": {},
   "outputs": [
    {
     "name": "stdout",
     "output_type": "stream",
     "text": [
      "[[ 0  1  2  3  4]\n",
      " [ 5  6  7  8  9]\n",
      " [10 11 12 13 14]\n",
      " [15 16 17 18 19]\n",
      " [20 21 22 23 24]]\n",
      "[1 2]\n",
      "\n",
      "[[ 5  6  7  8  9]\n",
      " [10 11 12 13 14]]\n",
      "[[ 5  6  7  8  9]\n",
      " [10 11 12 13 14]]\n",
      "\n",
      "[[100   6   7   8   9]\n",
      " [ 10  11  12  13  14]]\n",
      "\n",
      "[[ 0  1  2  3  4]\n",
      " [ 5  6  7  8  9]\n",
      " [10 11 12 13 14]\n",
      " [15 16 17 18 19]\n",
      " [20 21 22 23 24]]\n",
      "False\n"
     ]
    }
   ],
   "source": [
    "x = np.arange(25).reshape(5,5)\n",
    "print(x)\n",
    "y = np.array([1,2])\n",
    "print(y)\n",
    "print()\n",
    "print(x[y,:])\n",
    "\n",
    "# fancy indexing\n",
    "\n",
    "z = x[y,:]\n",
    "print(z)\n",
    "z[0,0] = 100\n",
    "print()\n",
    "print(z)\n",
    "print()\n",
    "print(x)\n",
    "\n",
    "print(np.shares_memory(x,z))"
   ]
  },
  {
   "cell_type": "code",
   "execution_count": 64,
   "metadata": {},
   "outputs": [
    {
     "name": "stdout",
     "output_type": "stream",
     "text": [
      "[0 1 2 3 4 5 6 7 8 9]\n",
      "\n",
      "[0 2 4 6 8]\n",
      "\n",
      "[10  2  4  6  8]\n",
      "\n",
      "[0 1 2 3 4 5 6 7 8 9]\n",
      "\n"
     ]
    }
   ],
   "source": [
    "# boolean indezing\n",
    "\n",
    "x = np.arange(10)\n",
    "print(x)\n",
    "print()\n",
    "z = x[(x % 2 == 0)]\n",
    "print(z)\n",
    "print()\n",
    "z[0] = 10\n",
    "print(z)\n",
    "print()\n",
    "print(x)\n",
    "print()"
   ]
  },
  {
   "cell_type": "code",
   "execution_count": 65,
   "metadata": {},
   "outputs": [
    {
     "name": "stdout",
     "output_type": "stream",
     "text": [
      "[1 5 1 2 6 9 6 4 5 4]\n",
      "[1 0 1 1 1 1 1 0 1 0]\n",
      "[False  True False  True  True  True  True  True  True  True]\n",
      "<class 'numpy.ndarray'>\n",
      "bool\n",
      "False\n",
      "True\n"
     ]
    }
   ],
   "source": [
    "x = np.random.randint(10,size=10)\n",
    "y = np.random.randint(2,size=10)\n",
    "print(x)\n",
    "print(y)\n",
    "print(x>y)\n",
    "print(type(x>y))\n",
    "print((x>y).dtype)\n",
    "\n",
    "print(np.all(x>y))\n",
    "print(np.any(x>y))"
   ]
  },
  {
   "cell_type": "code",
   "execution_count": 66,
   "metadata": {},
   "outputs": [
    {
     "name": "stdout",
     "output_type": "stream",
     "text": [
      "[ 1.  3.  5.  7.  9. 11. 13. 15. 17. 19. 21.]\n",
      "[False  True False False  True False False  True False False  True]\n",
      "<class 'numpy.ndarray'>\n",
      "[ 3.  9. 15. 21.]\n",
      "[ 1.  1.  5.  7.  1. 11. 13.  1. 17. 19.  1.]\n"
     ]
    }
   ],
   "source": [
    "x = np.linspace(1,21,11)\n",
    "print(x)\n",
    "mask = (x % 3 == 0)\n",
    "print(mask)\n",
    "print(type(mask))\n",
    "print(x[mask])\n",
    "x[mask] = 1\n",
    "print(x)"
   ]
  },
  {
   "cell_type": "code",
   "execution_count": 67,
   "metadata": {},
   "outputs": [
    {
     "name": "stdout",
     "output_type": "stream",
     "text": [
      "<class 'numpy.ndarray'>\n"
     ]
    }
   ],
   "source": [
    "x = np.array([2,5,3,6,9])\n",
    "y = np.array([6,1,8,7,3])\n",
    "\n",
    "z = np.intersect1d(x,y)\n",
    "\n",
    "print(type(z))"
   ]
  },
  {
   "cell_type": "code",
   "execution_count": 68,
   "metadata": {},
   "outputs": [
    {
     "name": "stdout",
     "output_type": "stream",
     "text": [
      "[2 5 9]\n",
      "[1 7 8]\n"
     ]
    }
   ],
   "source": [
    "print(np.setdiff1d(x,y))\n",
    "print(np.setdiff1d(y,x))"
   ]
  },
  {
   "cell_type": "code",
   "execution_count": 69,
   "metadata": {},
   "outputs": [
    {
     "name": "stdout",
     "output_type": "stream",
     "text": [
      "[1 2 3 5 6 7 8 9]\n"
     ]
    }
   ],
   "source": [
    "print(np.union1d(x,y))"
   ]
  },
  {
   "cell_type": "code",
   "execution_count": 70,
   "metadata": {},
   "outputs": [
    {
     "name": "stdout",
     "output_type": "stream",
     "text": [
      "[False False  True  True False]\n"
     ]
    }
   ],
   "source": [
    "print(np.in1d(x,y))"
   ]
  },
  {
   "cell_type": "code",
   "execution_count": 71,
   "metadata": {},
   "outputs": [
    {
     "name": "stdout",
     "output_type": "stream",
     "text": [
      "[0 2 3 4 5 6 9]\n"
     ]
    }
   ],
   "source": [
    "x = np.array([2,5,3,6,9,4,3,6,5,0])\n",
    "print(np.unique(x))"
   ]
  },
  {
   "cell_type": "code",
   "execution_count": 72,
   "metadata": {},
   "outputs": [
    {
     "name": "stdout",
     "output_type": "stream",
     "text": [
      "[9 8 5 1 4 5 4 8 7 5]\n",
      "[1 4 4 5 5 5 7 8 8 9]\n",
      "[9 8 5 1 4 5 4 8 7 5]\n",
      "\n",
      "[1 4 1 4 3 3 3 7 6 3]\n",
      "[1 1 3 3 3 3 4 4 6 7]\n"
     ]
    }
   ],
   "source": [
    "#sort\n",
    "\n",
    "x = np.random.randint(1,10,size=(10,))\n",
    "print(x)\n",
    "print(np.sort(x))\n",
    "print(x)\n",
    "print()\n",
    "\n",
    "y = np.random.randint(1,10, size=(10,))\n",
    "print(y)\n",
    "y.sort()\n",
    "print(y)"
   ]
  },
  {
   "cell_type": "code",
   "execution_count": 73,
   "metadata": {},
   "outputs": [
    {
     "name": "stdout",
     "output_type": "stream",
     "text": [
      "[[9 7 9 1 8]\n",
      " [2 3 2 4 1]\n",
      " [4 6 6 5 9]\n",
      " [1 2 7 6 4]\n",
      " [2 5 1 7 4]]\n",
      "\n",
      "[[1 2 1 1 1]\n",
      " [2 3 2 4 4]\n",
      " [2 5 6 5 4]\n",
      " [4 6 7 6 8]\n",
      " [9 7 9 7 9]]\n",
      "\n",
      "[[1 7 8 9 9]\n",
      " [1 2 2 3 4]\n",
      " [4 5 6 6 9]\n",
      " [1 2 4 6 7]\n",
      " [1 2 4 5 7]]\n",
      "\n"
     ]
    }
   ],
   "source": [
    "x = np.random.randint(1,10, size = (5,5))\n",
    "print(x)\n",
    "print()\n",
    "print(np.sort(x,axis=0))\n",
    "print()\n",
    "print(np.sort(x,axis=1))\n",
    "print()"
   ]
  },
  {
   "cell_type": "code",
   "execution_count": 74,
   "metadata": {},
   "outputs": [
    {
     "name": "stdout",
     "output_type": "stream",
     "text": [
      "[5 6 5 2 2]\n",
      "[5 2 7 4 4]\n",
      "[10  8 12  6  6]\n",
      "[10  8 12  6  6]\n",
      "<class 'numpy.ndarray'>\n",
      "<class 'numpy.ndarray'>\n",
      "[ 0  4 -2 -2 -2]\n",
      "[ 0  4 -2 -2 -2]\n",
      "[25 12 35  8  8]\n",
      "[25 12 35  8  8]\n",
      "[1.         3.         0.71428571 0.5        0.5       ]\n",
      "[1.         3.         0.71428571 0.5        0.5       ]\n"
     ]
    }
   ],
   "source": [
    "x = np.random.randint(1,10,size=(5,))\n",
    "y = np.random.randint(1,10,size=(5,))\n",
    "print(x)\n",
    "print(y)\n",
    "\n",
    "print(x+y)\n",
    "print(np.add(x,y))\n",
    "print(type(x+y))\n",
    "print(type(np.add(x,y)))\n",
    "\n",
    "print(x-y)\n",
    "print(np.subtract(x,y))\n",
    "\n",
    "print(x*y)\n",
    "print(np.multiply(x,y))\n",
    "\n",
    "print(x/y)\n",
    "print(np.divide(x,y))"
   ]
  },
  {
   "cell_type": "code",
   "execution_count": 75,
   "metadata": {},
   "outputs": [
    {
     "name": "stdout",
     "output_type": "stream",
     "text": [
      "[8 9 8 5 5]\n",
      "[ 2  3  2 -1 -1]\n",
      "[15 18 15  6  6]\n",
      "[1.66666667 2.         1.66666667 0.66666667 0.66666667]\n",
      "[ True False False False False]\n"
     ]
    }
   ],
   "source": [
    "print(x+3)\n",
    "print(x-3)\n",
    "print(x*3)\n",
    "print(x/3)\n",
    "print(x == y)"
   ]
  },
  {
   "cell_type": "code",
   "execution_count": 76,
   "metadata": {},
   "outputs": [
    {
     "name": "stdout",
     "output_type": "stream",
     "text": [
      "False\n"
     ]
    }
   ],
   "source": [
    "print(np.array_equal(x,y))"
   ]
  },
  {
   "cell_type": "code",
   "execution_count": 77,
   "metadata": {},
   "outputs": [
    {
     "name": "stdout",
     "output_type": "stream",
     "text": [
      "[2.23606798 2.44948974 2.23606798 1.41421356 1.41421356]\n",
      "[125 216 125   8   8]\n",
      "[5 6 5 2 2]\n",
      "[148.4131591  403.42879349 148.4131591    7.3890561    7.3890561 ]\n"
     ]
    }
   ],
   "source": [
    "print(np.sqrt(x))\n",
    "print(np.power(x,3))\n",
    "print(x)\n",
    "print(np.exp(x))\n"
   ]
  },
  {
   "cell_type": "code",
   "execution_count": 78,
   "metadata": {},
   "outputs": [
    {
     "name": "stdout",
     "output_type": "stream",
     "text": [
      "[[3 6 8]\n",
      " [1 6 6]\n",
      " [5 6 4]]\n",
      "45\n",
      "[ 9 18 18]\n",
      "[17 13 15]\n",
      "1\n",
      "8\n",
      "3\n",
      "2\n"
     ]
    }
   ],
   "source": [
    "x = np.random.randint(1,10,size=(3,3))\n",
    "print(x)\n",
    "print(np.sum(x))\n",
    "print(x.sum(axis=0))\n",
    "print(x.sum(axis=1))\n",
    "print(x.min())\n",
    "print(x.max())\n",
    "print(x.argmin()) # min elemanın index sırası\n",
    "print(x.argmax()) # max elemanın index sırası"
   ]
  },
  {
   "cell_type": "code",
   "execution_count": 79,
   "metadata": {},
   "outputs": [
    {
     "name": "stdout",
     "output_type": "stream",
     "text": [
      "[1 9 6 2 1 1 2 1]\n",
      "\n",
      "2.875\n",
      "\n",
      "1.5\n",
      "\n",
      "2.8034576865007255\n",
      "\n"
     ]
    }
   ],
   "source": [
    "x = np.random.randint(1,10,size=(8,))\n",
    "print(x)\n",
    "print()\n",
    "print(x.mean())\n",
    "print()\n",
    "print(np.median(x))\n",
    "print()\n",
    "print(x.std())\n",
    "print()"
   ]
  },
  {
   "cell_type": "code",
   "execution_count": 80,
   "metadata": {},
   "outputs": [
    {
     "name": "stdout",
     "output_type": "stream",
     "text": [
      "[[4 8 5]\n",
      " [6 3 5]\n",
      " [7 8 8]\n",
      " [1 9 7]]\n",
      "\n",
      "[4.5  7.   6.25]\n",
      "\n",
      "[5.66666667 4.66666667 7.66666667 5.66666667]\n",
      "\n",
      "[2.29128785 2.34520788 1.29903811]\n"
     ]
    }
   ],
   "source": [
    "y = np.random.randint(1,10,size=(4,3))\n",
    "print(y)\n",
    "print()\n",
    "print(y.mean(axis=0))\n",
    "print()\n",
    "print(y.mean(axis=1))\n",
    "print()\n",
    "print(y.std(axis=0))"
   ]
  },
  {
   "cell_type": "code",
   "execution_count": 81,
   "metadata": {},
   "outputs": [
    {
     "name": "stdout",
     "output_type": "stream",
     "text": [
      "[9]\n",
      "\n",
      "[[2 3]\n",
      " [5 6]\n",
      " [1 5]]\n",
      "\n",
      "[[11 12]\n",
      " [14 15]\n",
      " [10 14]]\n"
     ]
    }
   ],
   "source": [
    "x = np.random.randint(1,10,size=(1,))\n",
    "y = np.random.randint(1,10,size=(3,2))\n",
    "print(x)\n",
    "print()\n",
    "print(y)\n",
    "print()\n",
    "print(x+y)"
   ]
  },
  {
   "cell_type": "code",
   "execution_count": 82,
   "metadata": {},
   "outputs": [
    {
     "name": "stdout",
     "output_type": "stream",
     "text": [
      "[0. 0. 0. 0. 0.]\n",
      "[1. 1. 1. 1. 1.]\n"
     ]
    }
   ],
   "source": [
    "x = np.zeros(5)\n",
    "y = np.ones(5)\n",
    "print(x)\n",
    "print(y)"
   ]
  },
  {
   "cell_type": "code",
   "execution_count": 83,
   "metadata": {},
   "outputs": [
    {
     "name": "stdout",
     "output_type": "stream",
     "text": [
      "[ 7  9 11 13 15 17 19 21 23 25 27 29 31 33 35 37 39 41]\n"
     ]
    }
   ],
   "source": [
    "x = np.arange(7,42,2)\n",
    "print(x)"
   ]
  },
  {
   "cell_type": "code",
   "execution_count": 84,
   "metadata": {},
   "outputs": [
    {
     "name": "stdout",
     "output_type": "stream",
     "text": [
      "[[ 1.   1.6  2.2  2.8]\n",
      " [ 3.4  4.   4.6  5.2]\n",
      " [ 5.8  6.4  7.   7.6]\n",
      " [ 8.2  8.8  9.4 10. ]]\n"
     ]
    }
   ],
   "source": [
    "x = np.linspace(1,10,16).reshape(4,4)\n",
    "print(x)"
   ]
  },
  {
   "cell_type": "code",
   "execution_count": 85,
   "metadata": {},
   "outputs": [
    {
     "name": "stdout",
     "output_type": "stream",
     "text": [
      "[[5 1 2 4]\n",
      " [3 9 5 6]\n",
      " [5 1 9 4]\n",
      " [1 3 9 8]]\n"
     ]
    }
   ],
   "source": [
    "x = np.random.randint(1,10,size=(4,4))\n",
    "print(x)"
   ]
  },
  {
   "cell_type": "code",
   "execution_count": 86,
   "metadata": {},
   "outputs": [
    {
     "name": "stdout",
     "output_type": "stream",
     "text": [
      "[0.1 0.2 0.3 0.4 0.5 0.6 0.7 0.8 0.9 1. ]\n"
     ]
    }
   ],
   "source": [
    "x = np.linspace(0.1,1,10)\n",
    "print(x)"
   ]
  },
  {
   "cell_type": "code",
   "execution_count": 87,
   "metadata": {},
   "outputs": [
    {
     "name": "stdout",
     "output_type": "stream",
     "text": [
      "[[ 7  8]\n",
      " [12 13]]\n"
     ]
    }
   ],
   "source": [
    "x = np.arange(25).reshape(5,5)\n",
    "print(x[1:3,2:4])"
   ]
  },
  {
   "cell_type": "code",
   "execution_count": 88,
   "metadata": {},
   "outputs": [
    {
     "name": "stdout",
     "output_type": "stream",
     "text": [
      "[[ 1  2  3  4]\n",
      " [ 5  6  7  8]\n",
      " [ 9 10 11 12]\n",
      " [13 14 15 16]]\n"
     ]
    }
   ],
   "source": [
    "x = np.arange(1,17).reshape(4,4)\n",
    "print(x)"
   ]
  },
  {
   "cell_type": "code",
   "execution_count": 89,
   "metadata": {},
   "outputs": [
    {
     "name": "stdout",
     "output_type": "stream",
     "text": [
      "[[ 2  4  6  8]\n",
      " [10 12 14 16]]\n"
     ]
    }
   ],
   "source": [
    "y = x[:,[1,3]].reshape(2,4) \n",
    "# y = x[x%2==0].reshaper(2,4)\n",
    "print(y)"
   ]
  },
  {
   "cell_type": "code",
   "execution_count": 90,
   "metadata": {},
   "outputs": [
    {
     "name": "stdout",
     "output_type": "stream",
     "text": [
      "[[ 1  1]\n",
      " [ 5 10]]\n",
      "\n",
      "[100 700]\n",
      "\n",
      "[60. 40.]\n"
     ]
    }
   ],
   "source": [
    "A = np.array([[1,1],[5,10]])\n",
    "B = np.array([100,700])\n",
    "print(A)\n",
    "print()\n",
    "print(B)\n",
    "print()\n",
    "x = np.linalg.solve(A,B)\n",
    "print(x)"
   ]
  },
  {
   "cell_type": "code",
   "execution_count": 91,
   "metadata": {},
   "outputs": [
    {
     "name": "stdout",
     "output_type": "stream",
     "text": [
      "[3 1 3 1]\n",
      "[2 1 3 1]\n",
      "\n",
      "17\n"
     ]
    }
   ],
   "source": [
    "x = np.random.randint(1,5,4)\n",
    "print(x)\n",
    "y = np.random.randint(1,5,4)\n",
    "print(y)\n",
    "print()\n",
    "print(np.dot(x,y))"
   ]
  },
  {
   "cell_type": "code",
   "execution_count": 92,
   "metadata": {},
   "outputs": [
    {
     "name": "stdout",
     "output_type": "stream",
     "text": [
      "[[4 3]\n",
      " [1 4]]\n",
      "[[1 3]\n",
      " [1 3]]\n",
      "\n",
      "[[ 7 21]\n",
      " [ 5 15]]\n"
     ]
    }
   ],
   "source": [
    "x = np.random.randint(1,5,size = (2,2))\n",
    "print(x)\n",
    "y = np.random.randint(1,5,size = (2,2))\n",
    "print(y)\n",
    "print()\n",
    "print(np.dot(x,y))"
   ]
  },
  {
   "cell_type": "code",
   "execution_count": 93,
   "metadata": {},
   "outputs": [
    {
     "name": "stdout",
     "output_type": "stream",
     "text": [
      "1.1.4\n"
     ]
    }
   ],
   "source": [
    "print(pd.__version__)"
   ]
  },
  {
   "cell_type": "code",
   "execution_count": 94,
   "metadata": {},
   "outputs": [
    {
     "name": "stdout",
     "output_type": "stream",
     "text": [
      "['Arin', 23, 'CE']\n",
      "<class 'list'>\n",
      "\n",
      "0    Arin\n",
      "1      23\n",
      "2      CE\n",
      "dtype: object\n",
      "<class 'pandas.core.series.Series'>\n"
     ]
    }
   ],
   "source": [
    "student = ['Arin',23,'CE']\n",
    "print(student)\n",
    "print(type(student))\n",
    "\n",
    "print()\n",
    "\n",
    "ps_student = pd.Series(student)\n",
    "print(ps_student)\n",
    "print(type(ps_student))"
   ]
  },
  {
   "cell_type": "code",
   "execution_count": 95,
   "metadata": {},
   "outputs": [
    {
     "name": "stdout",
     "output_type": "stream",
     "text": [
      "{'name': 'Arin', 'age': 23, 'department': 'CE'}\n",
      "<class 'dict'>\n",
      "\n",
      "name          Arin\n",
      "age             23\n",
      "department      CE\n",
      "dtype: object\n",
      "<class 'pandas.core.series.Series'>\n"
     ]
    }
   ],
   "source": [
    "student = {\n",
    "    'name': 'Arin',\n",
    "    'age' : 23,\n",
    "    'department': 'CE'\n",
    "}\n",
    "print(student)\n",
    "print(type(student))\n",
    "print()\n",
    "\n",
    "ps_student = pd.Series(student)\n",
    "print(ps_student)\n",
    "print(type(ps_student))"
   ]
  },
  {
   "cell_type": "code",
   "execution_count": 96,
   "metadata": {},
   "outputs": [
    {
     "name": "stdout",
     "output_type": "stream",
     "text": [
      "0    Arin\n",
      "1      23\n",
      "2      CE\n",
      "dtype: object\n",
      "<class 'pandas.core.series.Series'>\n"
     ]
    }
   ],
   "source": [
    "student = pd.Series(['Arin', 23, 'CE'])\n",
    "print(student)\n",
    "print(type(student))"
   ]
  },
  {
   "cell_type": "code",
   "execution_count": 97,
   "metadata": {},
   "outputs": [
    {
     "name": "stdout",
     "output_type": "stream",
     "text": [
      "0    24\n",
      "1    37\n",
      "2    43\n",
      "dtype: int64\n",
      "<class 'pandas.core.series.Series'>\n"
     ]
    }
   ],
   "source": [
    "numbers = pd.Series([24,37,43])\n",
    "print(numbers)\n",
    "print(type(numbers))"
   ]
  },
  {
   "cell_type": "code",
   "execution_count": 98,
   "metadata": {},
   "outputs": [
    {
     "name": "stdout",
     "output_type": "stream",
     "text": [
      "0     True\n",
      "1    False\n",
      "2     True\n",
      "dtype: bool\n",
      "<class 'pandas.core.series.Series'>\n"
     ]
    }
   ],
   "source": [
    "booleans = pd.Series([True,False,True])\n",
    "print(booleans)\n",
    "print(type(booleans))"
   ]
  },
  {
   "cell_type": "code",
   "execution_count": 99,
   "metadata": {},
   "outputs": [
    {
     "name": "stdout",
     "output_type": "stream",
     "text": [
      "name          Arin\n",
      "age             23\n",
      "department      CE\n",
      "dtype: object\n",
      "\n",
      "<class 'pandas.core.series.Series'>\n",
      "\n",
      "['Arin' 23 'CE']\n",
      "\n",
      "Index(['name', 'age', 'department'], dtype='object')\n",
      "\n",
      "(3,)\n",
      "\n",
      "1\n",
      "\n",
      "3\n",
      "\n",
      "test\n",
      "\n",
      "object\n",
      "\n"
     ]
    }
   ],
   "source": [
    "student = pd.Series(data=['Arin', 23, 'CE'], index = ['name','age','department'])\n",
    "print(student)\n",
    "print()\n",
    "print(type(student))\n",
    "print()\n",
    "print(student.values)\n",
    "print()\n",
    "print(student.index)\n",
    "print()\n",
    "print(student.shape)\n",
    "print()\n",
    "print(student.ndim)\n",
    "print()\n",
    "print(student.size)\n",
    "print()\n",
    "student.name = 'test'\n",
    "print(student.name)\n",
    "print()\n",
    "print(student.dtype)\n",
    "print()"
   ]
  },
  {
   "cell_type": "code",
   "execution_count": 100,
   "metadata": {},
   "outputs": [
    {
     "name": "stdout",
     "output_type": "stream",
     "text": [
      "True\n",
      "False\n"
     ]
    }
   ],
   "source": [
    "x = 'name' in student\n",
    "print(x)\n",
    "\n",
    "y = 'job' in student\n",
    "print(y)"
   ]
  },
  {
   "cell_type": "code",
   "execution_count": 101,
   "metadata": {},
   "outputs": [
    {
     "name": "stdout",
     "output_type": "stream",
     "text": [
      "False\n",
      "True\n"
     ]
    }
   ],
   "source": [
    "x = 'Ahmet' in student.values\n",
    "print(x)\n",
    "y = 'Arin' in student.values\n",
    "print(y)"
   ]
  },
  {
   "cell_type": "code",
   "execution_count": 102,
   "metadata": {},
   "outputs": [
    {
     "name": "stdout",
     "output_type": "stream",
     "text": [
      "0    4.0\n",
      "1    2.5\n",
      "2    2.0\n",
      "dtype: float64\n",
      "8.5\n",
      "2.8333333333333335\n",
      "20.0\n"
     ]
    }
   ],
   "source": [
    "numbers = pd.Series([4,2.5,2])\n",
    "print(numbers)\n",
    "print(numbers.sum())\n",
    "print(numbers.mean())\n",
    "print(numbers.product())"
   ]
  },
  {
   "cell_type": "code",
   "execution_count": 103,
   "metadata": {},
   "outputs": [
    {
     "name": "stdout",
     "output_type": "stream",
     "text": [
      "name              Arin\n",
      "surname       Software\n",
      "age                 23\n",
      "department          CE\n",
      "dtype: object\n"
     ]
    }
   ],
   "source": [
    "student = pd.Series(data=['Arin','Software',23,'CE'], index = ['name','surname','age','department'])\n",
    "print(student)"
   ]
  },
  {
   "cell_type": "code",
   "execution_count": 104,
   "metadata": {},
   "outputs": [
    {
     "data": {
      "text/plain": [
       "\u001b[0;31mInit signature:\u001b[0m\n",
       "\u001b[0mpd\u001b[0m\u001b[0;34m.\u001b[0m\u001b[0mSeries\u001b[0m\u001b[0;34m(\u001b[0m\u001b[0;34m\u001b[0m\n",
       "\u001b[0;34m\u001b[0m    \u001b[0mdata\u001b[0m\u001b[0;34m=\u001b[0m\u001b[0;32mNone\u001b[0m\u001b[0;34m,\u001b[0m\u001b[0;34m\u001b[0m\n",
       "\u001b[0;34m\u001b[0m    \u001b[0mindex\u001b[0m\u001b[0;34m=\u001b[0m\u001b[0;32mNone\u001b[0m\u001b[0;34m,\u001b[0m\u001b[0;34m\u001b[0m\n",
       "\u001b[0;34m\u001b[0m    \u001b[0mdtype\u001b[0m\u001b[0;34m=\u001b[0m\u001b[0;32mNone\u001b[0m\u001b[0;34m,\u001b[0m\u001b[0;34m\u001b[0m\n",
       "\u001b[0;34m\u001b[0m    \u001b[0mname\u001b[0m\u001b[0;34m=\u001b[0m\u001b[0;32mNone\u001b[0m\u001b[0;34m,\u001b[0m\u001b[0;34m\u001b[0m\n",
       "\u001b[0;34m\u001b[0m    \u001b[0mcopy\u001b[0m\u001b[0;34m=\u001b[0m\u001b[0;32mFalse\u001b[0m\u001b[0;34m,\u001b[0m\u001b[0;34m\u001b[0m\n",
       "\u001b[0;34m\u001b[0m    \u001b[0mfastpath\u001b[0m\u001b[0;34m=\u001b[0m\u001b[0;32mFalse\u001b[0m\u001b[0;34m,\u001b[0m\u001b[0;34m\u001b[0m\n",
       "\u001b[0;34m\u001b[0m\u001b[0;34m)\u001b[0m\u001b[0;34m\u001b[0m\u001b[0;34m\u001b[0m\u001b[0m\n",
       "\u001b[0;31mDocstring:\u001b[0m     \n",
       "One-dimensional ndarray with axis labels (including time series).\n",
       "\n",
       "Labels need not be unique but must be a hashable type. The object\n",
       "supports both integer- and label-based indexing and provides a host of\n",
       "methods for performing operations involving the index. Statistical\n",
       "methods from ndarray have been overridden to automatically exclude\n",
       "missing data (currently represented as NaN).\n",
       "\n",
       "Operations between Series (+, -, /, *, **) align values based on their\n",
       "associated index values-- they need not be the same length. The result\n",
       "index will be the sorted union of the two indexes.\n",
       "\n",
       "Parameters\n",
       "----------\n",
       "data : array-like, Iterable, dict, or scalar value\n",
       "    Contains data stored in Series.\n",
       "\n",
       "    .. versionchanged:: 0.23.0\n",
       "       If data is a dict, argument order is maintained for Python 3.6\n",
       "       and later.\n",
       "\n",
       "index : array-like or Index (1d)\n",
       "    Values must be hashable and have the same length as `data`.\n",
       "    Non-unique index values are allowed. Will default to\n",
       "    RangeIndex (0, 1, 2, ..., n) if not provided. If both a dict and index\n",
       "    sequence are used, the index will override the keys found in the\n",
       "    dict.\n",
       "dtype : str, numpy.dtype, or ExtensionDtype, optional\n",
       "    Data type for the output Series. If not specified, this will be\n",
       "    inferred from `data`.\n",
       "    See the :ref:`user guide <basics.dtypes>` for more usages.\n",
       "name : str, optional\n",
       "    The name to give to the Series.\n",
       "copy : bool, default False\n",
       "    Copy input data.\n",
       "\u001b[0;31mFile:\u001b[0m           /usr/local/lib/python3.9/site-packages/pandas/core/series.py\n",
       "\u001b[0;31mType:\u001b[0m           type\n",
       "\u001b[0;31mSubclasses:\u001b[0m     SubclassedSeries\n"
      ]
     },
     "metadata": {},
     "output_type": "display_data"
    }
   ],
   "source": [
    "pd.Series?"
   ]
  },
  {
   "cell_type": "code",
   "execution_count": 105,
   "metadata": {},
   "outputs": [
    {
     "name": "stdout",
     "output_type": "stream",
     "text": [
      "name    Arin\n",
      "age       23\n",
      "dtype: object\n",
      "---------------------------------------------\n",
      "<class 'pandas.core.series.Series'>\n",
      "---------------------------------------------\n",
      "Software\n",
      "---------------------------------------------\n",
      "name    Arin\n",
      "age       23\n",
      "dtype: object\n",
      "---------------------------------------------\n",
      "name           Arin\n",
      "surname    Software\n",
      "dtype: object\n",
      "---------------------------------------------\n",
      "23\n",
      "---------------------------------------------\n",
      "name              Arin\n",
      "surname       Software\n",
      "age                 23\n",
      "department          CE\n",
      "dtype: object\n",
      "---------------------------------------------\n",
      "age           23\n",
      "department    CE\n",
      "dtype: object\n",
      "---------------------------------------------\n",
      "name              Arin\n",
      "surname       Software\n",
      "age                 23\n",
      "department          CE\n",
      "dtype: object\n"
     ]
    }
   ],
   "source": [
    "print(student[['name','age']])\n",
    "print('---------------------------------------------')\n",
    "print(type(student[['name','age']]))\n",
    "print('---------------------------------------------')\n",
    "print(student[1])\n",
    "print('---------------------------------------------')\n",
    "print(student[[0,2]])\n",
    "print('---------------------------------------------')\n",
    "print(student[0:2])\n",
    "print('---------------------------------------------')\n",
    "print(student[-2])\n",
    "print('---------------------------------------------')\n",
    "print(student[0:])\n",
    "print('---------------------------------------------')\n",
    "print(student[-2:])\n",
    "print('---------------------------------------------')\n",
    "print(student['name':'department'])"
   ]
  },
  {
   "cell_type": "code",
   "execution_count": 106,
   "metadata": {},
   "outputs": [
    {
     "name": "stdout",
     "output_type": "stream",
     "text": [
      "23\n",
      "---------------------------------------------\n",
      "name           Arin\n",
      "surname    Software\n",
      "dtype: object\n",
      "---------------------------------------------\n",
      "23\n"
     ]
    }
   ],
   "source": [
    "#loc -> location, iloc -> index location\n",
    "\n",
    "print(student.loc['age'])\n",
    "print('---------------------------------------------')\n",
    "print(student.iloc[0:2])\n",
    "print('---------------------------------------------')\n",
    "print(student.iloc[2])"
   ]
  },
  {
   "cell_type": "code",
   "execution_count": 107,
   "metadata": {},
   "outputs": [
    {
     "name": "stdout",
     "output_type": "stream",
     "text": [
      "name              Arin\n",
      "surname       Software\n",
      "age                 23\n",
      "department          CE\n",
      "dtype: object\n",
      "\n",
      "name              Elis\n",
      "surname       Software\n",
      "age                 23\n",
      "department          CE\n",
      "dtype: object\n",
      "name              Elis\n",
      "surname       Software\n",
      "age                 15\n",
      "department          CE\n",
      "dtype: object\n"
     ]
    }
   ],
   "source": [
    "print(student)\n",
    "print()\n",
    "student['name']='Elis'\n",
    "print(student)\n",
    "student.iloc[2]=15\n",
    "print(student)\n",
    "\n",
    "# Pandas Series --> mutable"
   ]
  },
  {
   "cell_type": "code",
   "execution_count": 108,
   "metadata": {},
   "outputs": [
    {
     "name": "stdout",
     "output_type": "stream",
     "text": [
      "---------------------------------------------\n",
      "name              Elis\n",
      "surname       Software\n",
      "age                 15\n",
      "department          CE\n",
      "dtype: object\n",
      "---------------------------------------------\n",
      "surname       Software\n",
      "age                 15\n",
      "department          CE\n",
      "dtype: object\n",
      "---------------------------------------------\n",
      "surname       Software\n",
      "department          CE\n",
      "dtype: object\n"
     ]
    }
   ],
   "source": [
    "student2 = student.drop('name')\n",
    "print('---------------------------------------------')\n",
    "print(student)\n",
    "print('---------------------------------------------')\n",
    "print(student2)\n",
    "print('---------------------------------------------')\n",
    "student2.drop('age', inplace=True)\n",
    "print(student2)"
   ]
  },
  {
   "cell_type": "code",
   "execution_count": 109,
   "metadata": {},
   "outputs": [
    {
     "name": "stdout",
     "output_type": "stream",
     "text": [
      "4\n",
      "---------------------------------------------\n",
      "['Elis', 'Software', 15, 'CE']\n",
      "---------------------------------------------\n",
      "{'name': 'Elis', 'surname': 'Software', 'age': 15, 'department': 'CE'}\n",
      "---------------------------------------------\n",
      "['CE', 'Software']\n"
     ]
    }
   ],
   "source": [
    "print(len(student))\n",
    "print('---------------------------------------------')\n",
    "print(list(student))\n",
    "print('---------------------------------------------')\n",
    "print(dict(student))\n",
    "print('---------------------------------------------')\n",
    "print(sorted(student2))"
   ]
  },
  {
   "cell_type": "code",
   "execution_count": 110,
   "metadata": {},
   "outputs": [
    {
     "name": "stdout",
     "output_type": "stream",
     "text": [
      "name              Arin\n",
      "surname       Software\n",
      "department          CE\n",
      "dtype: object\n",
      "---------------------------------------------\n",
      "['Arin', 'CE', 'Software']\n",
      "---------------------------------------------\n",
      "Software\n",
      "---------------------------------------------\n",
      "Arin\n"
     ]
    }
   ],
   "source": [
    "student = pd.Series(data=['Arin','Software','CE'], index = ['name','surname','department'])\n",
    "print(student)\n",
    "print('---------------------------------------------')\n",
    "print(sorted(student))\n",
    "print('---------------------------------------------')\n",
    "print(max(student))\n",
    "print('---------------------------------------------')\n",
    "print(min(student))"
   ]
  },
  {
   "cell_type": "code",
   "execution_count": 111,
   "metadata": {},
   "outputs": [],
   "source": [
    "import csv"
   ]
  },
  {
   "cell_type": "code",
   "execution_count": 112,
   "metadata": {},
   "outputs": [
    {
     "name": "stdout",
     "output_type": "stream",
     "text": [
      "<class 'pandas.core.series.Series'>\n"
     ]
    }
   ],
   "source": [
    "review_content = pd.read_csv('./ReviewContent.csv',usecols=['Review ID'], squeeze=True, encoding='utf-8',engine='python')\n",
    "print(type(review_content))"
   ]
  },
  {
   "cell_type": "code",
   "execution_count": 113,
   "metadata": {},
   "outputs": [
    {
     "name": "stdout",
     "output_type": "stream",
     "text": [
      "0       4055629\n",
      "1      25329416\n",
      "2      21705849\n",
      "3      41133812\n",
      "4       7465026\n",
      "         ...   \n",
      "995    44498863\n",
      "996    30544438\n",
      "997    46642535\n",
      "998    21403195\n",
      "999    38944752\n",
      "Name: Review ID, Length: 1000, dtype: int64\n"
     ]
    }
   ],
   "source": [
    "print(review_content)"
   ]
  },
  {
   "cell_type": "code",
   "execution_count": 114,
   "metadata": {},
   "outputs": [
    {
     "name": "stdout",
     "output_type": "stream",
     "text": [
      "0     4055629\n",
      "1    25329416\n",
      "2    21705849\n",
      "3    41133812\n",
      "4     7465026\n",
      "5    11372151\n",
      "6    20417380\n",
      "7    10787310\n",
      "8    37085487\n",
      "9    15542291\n",
      "Name: Review ID, dtype: int64\n"
     ]
    }
   ],
   "source": [
    "print(review_content.head(10)) #default 5 veri"
   ]
  },
  {
   "cell_type": "code",
   "execution_count": 115,
   "metadata": {},
   "outputs": [
    {
     "name": "stdout",
     "output_type": "stream",
     "text": [
      "990    32907620\n",
      "991    35585745\n",
      "992    13423090\n",
      "993    27392171\n",
      "994    28605533\n",
      "995    44498863\n",
      "996    30544438\n",
      "997    46642535\n",
      "998    21403195\n",
      "999    38944752\n",
      "Name: Review ID, dtype: int64\n"
     ]
    }
   ],
   "source": [
    "print(review_content.tail(10)) #default 5 veri"
   ]
  },
  {
   "cell_type": "code",
   "execution_count": 116,
   "metadata": {},
   "outputs": [
    {
     "name": "stdout",
     "output_type": "stream",
     "text": [
      "0     4055629\n",
      "1    25329416\n",
      "2    21705849\n",
      "3    41133812\n",
      "4     7465026\n",
      "5    11372151\n",
      "6    20417380\n",
      "7    10787310\n",
      "8    37085487\n",
      "9    15542291\n",
      "Name: Review ID, dtype: int64\n",
      "---------------------------------------------\n",
      "516     41756\n",
      "535     67176\n",
      "766     97586\n",
      "741    123549\n",
      "560    151811\n",
      "847    205942\n",
      "188    432284\n",
      "65     443786\n",
      "954    499085\n",
      "453    503200\n",
      "Name: Review ID, dtype: int64\n",
      "---------------------------------------------\n",
      "0     4055629\n",
      "1    25329416\n",
      "2    21705849\n",
      "3    41133812\n",
      "4     7465026\n",
      "5    11372151\n",
      "6    20417380\n",
      "7    10787310\n",
      "8    37085487\n",
      "9    15542291\n",
      "Name: Review ID, dtype: int64\n",
      "---------------------------------------------\n",
      "---------------------------------------------\n",
      "453    503200\n",
      "954    499085\n",
      "65     443786\n",
      "188    432284\n",
      "847    205942\n",
      "560    151811\n",
      "741    123549\n",
      "766     97586\n",
      "535     67176\n",
      "516     41756\n",
      "Name: Review ID, dtype: int64\n"
     ]
    }
   ],
   "source": [
    "print(review_content.head(10))\n",
    "print('---------------------------------------------')\n",
    "print(review_content.sort_values().head(10)) \n",
    "print('---------------------------------------------')\n",
    "print(review_content.head(10)) #kalıcı sıralama\n",
    "print('---------------------------------------------')\n",
    "review_content.sort_values(inplace=True)\n",
    "print('---------------------------------------------')\n",
    "print(review_content.sort_values(ascending=False).tail(10))"
   ]
  },
  {
   "cell_type": "code",
   "execution_count": 117,
   "metadata": {},
   "outputs": [
    {
     "name": "stdout",
     "output_type": "stream",
     "text": [
      "999    38944752\n",
      "998    21403195\n",
      "997    46642535\n",
      "996    30544438\n",
      "995    44498863\n",
      "Name: Review ID, dtype: int64\n",
      "---------------------------------------------\n",
      "0     4055629\n",
      "1    25329416\n",
      "2    21705849\n",
      "3    41133812\n",
      "4     7465026\n",
      "Name: Review ID, dtype: int64\n"
     ]
    }
   ],
   "source": [
    "review_content.sort_index(ascending=False,inplace=True)\n",
    "print(review_content.head())\n",
    "print('---------------------------------------------')\n",
    "review_content.sort_index(ascending=True,inplace=True)\n",
    "print(review_content.head())"
   ]
  },
  {
   "cell_type": "code",
   "execution_count": 118,
   "metadata": {},
   "outputs": [
    {
     "name": "stdout",
     "output_type": "stream",
     "text": [
      "4     7465026\n",
      "5    11372151\n",
      "6    20417380\n",
      "7    10787310\n",
      "Name: Review ID, dtype: int64\n",
      "---------------------------------------------\n",
      "7465026\n",
      "---------------------------------------------\n",
      "---------------------------------------------\n",
      "Eleman Yok!\n",
      "---------------------------------------------\n",
      "<class 'numpy.int64'>\n",
      "---------------------------------------------\n",
      "<class 'numpy.int64'>\n",
      "---------------------------------------------\n",
      "<class 'pandas.core.series.Series'>\n",
      "---------------------------------------------\n"
     ]
    }
   ],
   "source": [
    "print(review_content[4:8])\n",
    "print('---------------------------------------------')\n",
    "print(review_content.get(4))\n",
    "print('---------------------------------------------')\n",
    "#print(review_content[1004]) -> hata\n",
    "print('---------------------------------------------')\n",
    "print(review_content.get(1004, default='Eleman Yok!'))\n",
    "print('---------------------------------------------')\n",
    "print(type(review_content.get(4)))\n",
    "print('---------------------------------------------')\n",
    "print(type(review_content.get(4)))\n",
    "print('---------------------------------------------')\n",
    "print(type(review_content.get([0,4])))\n",
    "print('---------------------------------------------')"
   ]
  },
  {
   "cell_type": "code",
   "execution_count": 119,
   "metadata": {},
   "outputs": [
    {
     "name": "stdout",
     "output_type": "stream",
     "text": [
      "[{'name': 'arin', 'age': 21, 'gender': 'F'}, {'name': 'fatih', 'age': 20, 'gender': 'M'}, {'name': 'elis', 'age': 24, 'gender': 'F'}]\n",
      "---------------------------------------------\n",
      "<class 'list'>\n",
      "---------------------------------------------\n",
      "---------------------------------------------\n",
      "    name  age gender\n",
      "0   arin   21      F\n",
      "1  fatih   20      M\n",
      "2   elis   24      F\n",
      "---------------------------------------------\n",
      "<class 'pandas.core.frame.DataFrame'>\n",
      "---------------------------------------------\n"
     ]
    }
   ],
   "source": [
    "students = [\n",
    "    {\n",
    "        'name':'arin',\n",
    "        'age':21,\n",
    "        'gender':'F'\n",
    "    },\n",
    "    {\n",
    "        'name':'fatih',\n",
    "        'age':20,\n",
    "        'gender':'M'\n",
    "    },\n",
    "    {\n",
    "        'name':'elis',\n",
    "        'age':24,\n",
    "        'gender':'F'\n",
    "    }\n",
    "]\n",
    "print(students)\n",
    "print('---------------------------------------------')\n",
    "print(type(students))\n",
    "print('---------------------------------------------')\n",
    "df_students = pd.DataFrame(students)\n",
    "print('---------------------------------------------')\n",
    "print(df_students)\n",
    "print('---------------------------------------------')\n",
    "print(type(df_students))\n",
    "print('---------------------------------------------')\n"
   ]
  },
  {
   "cell_type": "code",
   "execution_count": 120,
   "metadata": {},
   "outputs": [
    {
     "name": "stdout",
     "output_type": "stream",
     "text": [
      "---------------------------------------------\n",
      "{'names': ['ahmet', 'cansu', 'hakan'], 'ages': [41, 36, 40], 'gender': ['M', 'F', 'M']}\n",
      "---------------------------------------------\n",
      "<class 'dict'>\n",
      "---------------------------------------------\n",
      "   names  ages gender\n",
      "0  ahmet    41      M\n",
      "1  cansu    36      F\n",
      "2  hakan    40      M\n",
      "---------------------------------------------\n",
      "<class 'pandas.core.frame.DataFrame'>\n",
      "---------------------------------------------\n"
     ]
    }
   ],
   "source": [
    "teachers= {\n",
    "    'names': ['ahmet','cansu', 'hakan'],\n",
    "    'ages': [41,36, 40],\n",
    "    'gender': ['M','F', 'M'],\n",
    "}\n",
    "print('---------------------------------------------')\n",
    "print(teachers)\n",
    "print('---------------------------------------------')\n",
    "print(type(teachers))\n",
    "df_teachers = pd.DataFrame(teachers)\n",
    "print('---------------------------------------------')\n",
    "print(df_teachers)\n",
    "print('---------------------------------------------')\n",
    "print(type(df_teachers))\n",
    "print('---------------------------------------------')"
   ]
  },
  {
   "cell_type": "code",
   "execution_count": 121,
   "metadata": {},
   "outputs": [
    {
     "name": "stdout",
     "output_type": "stream",
     "text": [
      "---------------------------------------------\n",
      "[['ahmet', 'mehmet', 'ayşe'], [44, 39, 51]]\n",
      "---------------------------------------------\n",
      "<class 'list'>\n",
      "---------------------------------------------\n",
      "       0       1     2\n",
      "0  ahmet  mehmet  ayşe\n",
      "1     44      39    51\n",
      "---------------------------------------------\n",
      "<class 'pandas.core.frame.DataFrame'>\n",
      "---------------------------------------------\n"
     ]
    }
   ],
   "source": [
    "list_of_list= [\n",
    "    ['ahmet','mehmet', 'ayşe'],\n",
    "    [44, 39, 51],\n",
    "]\n",
    "print('---------------------------------------------')\n",
    "print(list_of_list)\n",
    "print('---------------------------------------------')\n",
    "print(type(list_of_list))\n",
    "df_list_of_list = pd.DataFrame(list_of_list)\n",
    "print('---------------------------------------------')\n",
    "print(df_list_of_list)\n",
    "print('---------------------------------------------')\n",
    "print(type(df_list_of_list))\n",
    "print('---------------------------------------------')"
   ]
  },
  {
   "cell_type": "code",
   "execution_count": 122,
   "metadata": {},
   "outputs": [
    {
     "name": "stdout",
     "output_type": "stream",
     "text": [
      "['ahmet', 'mahmut', 'fatih']\n",
      "<class 'list'>\n",
      "\n",
      "        0\n",
      "0   ahmet\n",
      "1  mahmut\n",
      "2   fatih\n",
      "<class 'pandas.core.frame.DataFrame'>\n",
      "2\n"
     ]
    }
   ],
   "source": [
    "names = ['ahmet', 'mahmut', 'fatih']\n",
    "print(names)\n",
    "print(type(names))\n",
    "\n",
    "df_names = pd.DataFrame(names)\n",
    "print()\n",
    "print(df_names)\n",
    "print(type(df_names))\n",
    "print(df_names.ndim)"
   ]
  },
  {
   "cell_type": "code",
   "execution_count": 123,
   "metadata": {},
   "outputs": [
    {
     "ename": "SyntaxError",
     "evalue": "EOL while scanning string literal (<ipython-input-123-75c8845d6be5>, line 1)",
     "output_type": "error",
     "traceback": [
      "\u001b[0;36m  File \u001b[0;32m\"<ipython-input-123-75c8845d6be5>\"\u001b[0;36m, line \u001b[0;32m1\u001b[0m\n\u001b[0;31m    students = {'name': 'hale', 'age': 24'}\u001b[0m\n\u001b[0m                                           ^\u001b[0m\n\u001b[0;31mSyntaxError\u001b[0m\u001b[0;31m:\u001b[0m EOL while scanning string literal\n"
     ]
    }
   ],
   "source": [
    "students = {'name': 'hale', 'age': 24'}\n",
    "print(students)\n",
    "print(type(students))\n",
    "\n",
    "df_students = pd.DataFrame(students)"
   ]
  },
  {
   "cell_type": "code",
   "execution_count": 124,
   "metadata": {},
   "outputs": [
    {
     "name": "stdout",
     "output_type": "stream",
     "text": [
      "{'Hale': age            25\n",
      "gender          F\n",
      "department     CE\n",
      "height        172\n",
      "dtype: object, 'Ahmet': age           32\n",
      "gender         M\n",
      "department    EE\n",
      "weight        83\n",
      "dtype: object}\n",
      "---------------------------------------------\n",
      "<class 'dict'>\n",
      "---------------------------------------------\n",
      "---------------------------------------------\n",
      "           Hale Ahmet\n",
      "age          25    32\n",
      "department   CE    EE\n",
      "gender        F     M\n",
      "height      172   NaN\n",
      "weight      NaN    83\n",
      "---------------------------------------------\n",
      "<class 'pandas.core.frame.DataFrame'>\n"
     ]
    }
   ],
   "source": [
    "students = {'Hale':pd.Series(data=[25,'F','CE',172], index=['age','gender','department','height']),\n",
    "            'Ahmet':pd.Series(data=[32,'M','EE',83], index=['age','gender','department','weight'])}\n",
    "print(students)\n",
    "print('---------------------------------------------')\n",
    "print(type(students))\n",
    "print('---------------------------------------------')\n",
    "df_students = pd.DataFrame(students)\n",
    "print('---------------------------------------------')\n",
    "print(df_students)\n",
    "print('---------------------------------------------')\n",
    "print(type(df_students))"
   ]
  },
  {
   "cell_type": "code",
   "execution_count": 125,
   "metadata": {},
   "outputs": [
    {
     "name": "stdout",
     "output_type": "stream",
     "text": [
      "           Hale Ahmet Fatma\n",
      "age          25    32    40\n",
      "gender        F     M     F\n",
      "department   CE    EE    TT\n",
      "height      172    83    55\n",
      "---------------------------------------------\n",
      "           Hale Ahmet\n",
      "age          25    32\n",
      "gender        F     M\n",
      "department   CE    EE\n",
      "height      172    83\n",
      "---------------------------------------------\n",
      "       Hale Ahmet Fatma\n",
      "age      25    32    40\n",
      "gender    F     M     F\n",
      "---------------------------------------------\n",
      "           Hale Ahmet\n",
      "department   CE    EE\n",
      "height      172    83\n"
     ]
    }
   ],
   "source": [
    "students = {'Hale':pd.Series(data=[25,'F','CE',172], index=['age','gender','department','height']),\n",
    "            'Ahmet':pd.Series(data=[32,'M','EE',83], index=['age','gender','department','height']),\n",
    "            'Fatma':pd.Series(data=[40,'F','TT',55], index=['age','gender','department','height'])}\n",
    "df_students = pd.DataFrame(students)\n",
    "print(df_students)\n",
    "print('---------------------------------------------')\n",
    "df_students2 = pd.DataFrame(students, columns=['Hale','Ahmet'])\n",
    "print(df_students2)\n",
    "print('---------------------------------------------')\n",
    "df_students3 = pd.DataFrame(students, index=['age','gender'])\n",
    "print(df_students3)\n",
    "print('---------------------------------------------')\n",
    "df_students4 = pd.DataFrame(students,columns=['Hale','Ahmet'], index=['department','height'])\n",
    "print(df_students4)\n"
   ]
  },
  {
   "cell_type": "code",
   "execution_count": 126,
   "metadata": {},
   "outputs": [
    {
     "name": "stdout",
     "output_type": "stream",
     "text": [
      "age           32\n",
      "gender         M\n",
      "department    EE\n",
      "height        83\n",
      "Name: Ahmet, dtype: object\n",
      "<class 'pandas.core.series.Series'>\n"
     ]
    }
   ],
   "source": [
    "# Series\n",
    "print(df_students['Ahmet'])\n",
    "print(type(df_students['Ahmet']))"
   ]
  },
  {
   "cell_type": "code",
   "execution_count": 127,
   "metadata": {},
   "outputs": [
    {
     "name": "stdout",
     "output_type": "stream",
     "text": [
      "           Ahmet\n",
      "age           32\n",
      "gender         M\n",
      "department    EE\n",
      "height        83\n",
      "<class 'pandas.core.frame.DataFrame'>\n"
     ]
    }
   ],
   "source": [
    "# DataFrame\n",
    "print(df_students[['Ahmet']])\n",
    "print(type(df_students[['Ahmet']]))"
   ]
  },
  {
   "cell_type": "code",
   "execution_count": 128,
   "metadata": {},
   "outputs": [
    {
     "name": "stdout",
     "output_type": "stream",
     "text": [
      "           Ahmet Hale\n",
      "age           32   25\n",
      "gender         M    F\n",
      "department    EE   CE\n",
      "height        83  172\n",
      "<class 'pandas.core.frame.DataFrame'>\n"
     ]
    }
   ],
   "source": [
    "print(df_students[['Ahmet','Hale']])\n",
    "print(type(df_students[['Ahmet','Hale']]))"
   ]
  },
  {
   "cell_type": "code",
   "execution_count": 129,
   "metadata": {},
   "outputs": [
    {
     "name": "stdout",
     "output_type": "stream",
     "text": [
      "Hale     25\n",
      "Ahmet    32\n",
      "Fatma    40\n",
      "Name: age, dtype: object\n",
      "<class 'pandas.core.series.Series'>\n"
     ]
    }
   ],
   "source": [
    "print(df_students.loc['age'])\n",
    "print(type(df_students.loc['age']))"
   ]
  },
  {
   "cell_type": "code",
   "execution_count": 130,
   "metadata": {},
   "outputs": [
    {
     "name": "stdout",
     "output_type": "stream",
     "text": [
      "       Hale Ahmet Fatma\n",
      "age      25    32    40\n",
      "gender    F     M     F\n",
      "---------------------------------------------\n",
      "<class 'pandas.core.frame.DataFrame'>\n"
     ]
    }
   ],
   "source": [
    "print(df_students.loc[['age','gender']])\n",
    "print('---------------------------------------------')\n",
    "print(type(df_students.loc[['age','gender']]))"
   ]
  },
  {
   "cell_type": "code",
   "execution_count": 131,
   "metadata": {},
   "outputs": [
    {
     "name": "stdout",
     "output_type": "stream",
     "text": [
      "25\n",
      "TT\n"
     ]
    }
   ],
   "source": [
    "print(df_students['Hale']['age'])\n",
    "print(df_students['Fatma']['department'])"
   ]
  },
  {
   "cell_type": "code",
   "execution_count": 132,
   "metadata": {},
   "outputs": [
    {
     "name": "stdout",
     "output_type": "stream",
     "text": [
      "           Hale Ahmet Fatma Fatih\n",
      "age          25    32    40    17\n",
      "gender        F     M     F     M\n",
      "department   CE    EE    TT   ELH\n",
      "height      172    83    55   190\n",
      "           Hale Ahmet Fatma Fatih Fatih2\n",
      "age          25    32    40    17     57\n",
      "gender        F     M     F     M     FM\n",
      "department   CE    EE    TT   ELH  TTELH\n",
      "height      172    83    55   190    245\n"
     ]
    }
   ],
   "source": [
    "df_students['Fatih'] = [17,'M','ELH',190]\n",
    "print(df_students)\n",
    "\n",
    "df_students['Fatih2'] = df_students['Fatma'] + df_students['Fatih']\n",
    "print(df_students)"
   ]
  },
  {
   "cell_type": "code",
   "execution_count": 133,
   "metadata": {},
   "outputs": [
    {
     "name": "stdout",
     "output_type": "stream",
     "text": [
      "             Hale  Ahmet  Fatma Fatih Fatih2\n",
      "age            25     32     40    17     57\n",
      "gender          F      M      F     M     FM\n",
      "department     CE     EE     TT   ELH  TTELH\n",
      "height        172     83     55   190    245\n",
      "surname     kurek  manav  yolcu   NaN    NaN\n"
     ]
    }
   ],
   "source": [
    "new_row = pd.DataFrame({'Hale':'kurek', 'Ahmet':'manav','Fatma':'yolcu'}, index=['surname'])\n",
    "df_students = df_students.append(new_row)\n",
    "print(df_students)"
   ]
  },
  {
   "cell_type": "code",
   "execution_count": 134,
   "metadata": {},
   "outputs": [
    {
     "name": "stdout",
     "output_type": "stream",
     "text": [
      "             Hale  Fatma Fatih Fatih2\n",
      "age            25     40    17     57\n",
      "gender          F      F     M     FM\n",
      "department     CE     TT   ELH  TTELH\n",
      "height        172     55   190    245\n",
      "surname     kurek  yolcu   NaN    NaN\n"
     ]
    }
   ],
   "source": [
    "# pop -> col\n",
    "# drop -> col - row (axis)\n",
    "\n",
    "df_students.pop('Ahmet')\n",
    "print(df_students)\n",
    "\n",
    "df_students = df_students.drop('Hale', axis=1)"
   ]
  },
  {
   "cell_type": "code",
   "execution_count": 135,
   "metadata": {},
   "outputs": [
    {
     "name": "stdout",
     "output_type": "stream",
     "text": [
      "            Fatma Fatih Fatih2\n",
      "age            40    17     57\n",
      "gender          F     M     FM\n",
      "department     TT   ELH  TTELH\n",
      "height         55   190    245\n",
      "surname     yolcu   NaN    NaN\n"
     ]
    }
   ],
   "source": [
    "print(df_students)"
   ]
  },
  {
   "cell_type": "code",
   "execution_count": 136,
   "metadata": {},
   "outputs": [
    {
     "name": "stdout",
     "output_type": "stream",
     "text": [
      "           Fatih\n",
      "age           17\n",
      "gender         M\n",
      "department   ELH\n",
      "height       190\n",
      "surname      NaN\n"
     ]
    }
   ],
   "source": [
    "df_students = df_students.drop(['Fatih2','Fatma'], axis=1)\n",
    "print(df_students)"
   ]
  },
  {
   "cell_type": "code",
   "execution_count": 137,
   "metadata": {},
   "outputs": [
    {
     "name": "stdout",
     "output_type": "stream",
     "text": [
      "             Hale Ahmet   Fatma\n",
      "age            25    32      40\n",
      "department     CE    EE      TT\n",
      "gender        NaN     M     NaN\n",
      "height        161   NaN     175\n",
      "surname     Cetin   NaN  Gulsen\n",
      "weight        NaN    83     NaN\n",
      "---------------------------------------------\n",
      "             Hale  Ahmet  Fatma\n",
      "age         False  False  False\n",
      "department  False  False  False\n",
      "gender       True  False   True\n",
      "height      False   True  False\n",
      "surname     False   True  False\n",
      "weight       True  False   True\n",
      "<class 'pandas.core.frame.DataFrame'>\n",
      "---------------------------------------------\n",
      "            Hale  Ahmet  Fatma\n",
      "age          0.0    0.0    0.0\n",
      "department   0.0    0.0    0.0\n",
      "gender       NaN    0.0    NaN\n",
      "height       0.0    NaN    0.0\n",
      "surname      0.0    NaN    0.0\n",
      "weight       NaN    0.0    NaN\n",
      "---------------------------------------------\n",
      "Hale     2\n",
      "Ahmet    2\n",
      "Fatma    2\n",
      "dtype: int64\n",
      "<class 'pandas.core.series.Series'>\n",
      "---------------------------------------------\n",
      "6\n",
      "<class 'numpy.int64'>\n"
     ]
    }
   ],
   "source": [
    "students = {'Hale':pd.Series(data=[25,'Cetin','CE',161], index=['age','surname','department','height']),\n",
    "            'Ahmet':pd.Series(data=[32,'M','EE',83], index=['age','gender','department','weight']),\n",
    "            'Fatma':pd.Series(data=[40,'Gulsen','TT',175], index=['age','surname','department','height'])}\n",
    "df_students = pd.DataFrame(students)\n",
    "print(df_students)\n",
    "print('---------------------------------------------')\n",
    "# isnull\n",
    "x = df_students.isnull()\n",
    "print(x)\n",
    "print(type(x))\n",
    "print('---------------------------------------------')\n",
    "z = x[(x == False)]\n",
    "print(z)\n",
    "print('---------------------------------------------')\n",
    "# stunlardaki null sayısı\n",
    "y = df_students.isnull().sum() \n",
    "print(y)\n",
    "print(type(y))\n",
    "print('---------------------------------------------')\n",
    "# toplam null sayısı\n",
    "z = df_students.isnull().sum().sum()\n",
    "print(z)\n",
    "print(type(z))\n"
   ]
  },
  {
   "cell_type": "code",
   "execution_count": 138,
   "metadata": {},
   "outputs": [
    {
     "name": "stdout",
     "output_type": "stream",
     "text": [
      "---------------------------------------------\n",
      "             Hale  Ahmet  Fatma\n",
      "age          True   True   True\n",
      "department   True   True   True\n",
      "gender      False   True  False\n",
      "height       True  False   True\n",
      "surname      True  False   True\n",
      "weight      False   True  False\n",
      "<class 'pandas.core.frame.DataFrame'>\n",
      "---------------------------------------------\n",
      "Hale     4\n",
      "Ahmet    4\n",
      "Fatma    4\n",
      "dtype: int64\n",
      "<class 'pandas.core.series.Series'>\n",
      "---------------------------------------------\n",
      "12\n",
      "<class 'numpy.int64'>\n",
      "---------------------------------------------\n"
     ]
    }
   ],
   "source": [
    "print('---------------------------------------------')\n",
    "# not null\n",
    "t = df_students.notnull()\n",
    "print(t)\n",
    "print(type(t))\n",
    "print('---------------------------------------------')\n",
    "# stunlardaki boş olmayan sayısı\n",
    "k = df_students.notnull().sum() \n",
    "print(k)\n",
    "print(type(k))\n",
    "print('---------------------------------------------')\n",
    "# toplam boş olmayan sayısı\n",
    "l = df_students.notnull().sum().sum()\n",
    "print(l)\n",
    "print(type(l))\n",
    "print('---------------------------------------------')"
   ]
  },
  {
   "cell_type": "code",
   "execution_count": 139,
   "metadata": {},
   "outputs": [
    {
     "name": "stdout",
     "output_type": "stream",
     "text": [
      "---------------------------------------------\n",
      "Hale     4\n",
      "Ahmet    4\n",
      "Fatma    4\n",
      "dtype: int64\n",
      "<class 'pandas.core.series.Series'>\n",
      "---------------------------------------------\n",
      "12\n",
      "<class 'numpy.int64'>\n",
      "---------------------------------------------\n",
      "12\n",
      "<class 'numpy.int64'>\n",
      "---------------------------------------------\n"
     ]
    }
   ],
   "source": [
    "print('---------------------------------------------')\n",
    "# count\n",
    "t = df_students.count()\n",
    "print(t)\n",
    "print(type(t))\n",
    "print('---------------------------------------------')\n",
    "# stunlardaki boş olmayan sayısı\n",
    "k = df_students.count().sum() \n",
    "print(k)\n",
    "print(type(k))\n",
    "print('---------------------------------------------')\n",
    "# toplam boş olmayan sayısı\n",
    "l = df_students.count().sum().sum()\n",
    "print(l)\n",
    "print(type(l))\n",
    "print('---------------------------------------------')"
   ]
  },
  {
   "cell_type": "code",
   "execution_count": 140,
   "metadata": {},
   "outputs": [
    {
     "name": "stdout",
     "output_type": "stream",
     "text": [
      "---------------------------------------------\n",
      "           Hale Ahmet Fatma\n",
      "age          25    32    40\n",
      "department   CE    EE    TT\n",
      "<class 'pandas.core.frame.DataFrame'>\n",
      "---------------------------------------------\n",
      "             Hale Ahmet   Fatma\n",
      "age            25    32      40\n",
      "department     CE    EE      TT\n",
      "gender        NaN     M     NaN\n",
      "height        161   NaN     175\n",
      "surname     Cetin   NaN  Gulsen\n",
      "weight        NaN    83     NaN\n",
      "---------------------------------------------\n",
      "             Hale Ahmet   Fatma\n",
      "age            25    32      40\n",
      "department     CE    EE      TT\n",
      "gender        NaN     M     NaN\n",
      "height        161   NaN     175\n",
      "surname     Cetin   NaN  Gulsen\n",
      "<class 'pandas.core.frame.DataFrame'>\n",
      "---------------------------------------------\n",
      "             Hale Ahmet   Fatma\n",
      "age            25    32      40\n",
      "department     CE    EE      TT\n",
      "height        161   NaN     175\n",
      "surname     Cetin   NaN  Gulsen\n",
      "<class 'pandas.core.frame.DataFrame'>\n",
      "---------------------------------------------\n",
      "           Hale Ahmet Fatma\n",
      "age          25    32    40\n",
      "department   CE    EE    TT\n",
      "<class 'pandas.core.frame.DataFrame'>\n",
      "---------------------------------------------\n",
      "Empty DataFrame\n",
      "Columns: []\n",
      "Index: [age, department, gender, height, surname, weight]\n",
      "<class 'pandas.core.frame.DataFrame'>\n",
      "---------------------------------------------\n",
      "             Hale Ahmet   Fatma\n",
      "age            25    32      40\n",
      "department     CE    EE      TT\n",
      "gender        NaN     M     NaN\n",
      "height        161   NaN     175\n",
      "surname     Cetin   NaN  Gulsen\n",
      "weight        NaN   NaN     NaN\n",
      "<class 'pandas.core.frame.DataFrame'>\n"
     ]
    }
   ],
   "source": [
    "print('---------------------------------------------')\n",
    "#nan olan satırlar siliniyor\n",
    "x = df_students.dropna()\n",
    "print(x)\n",
    "print(type(x))\n",
    "print('---------------------------------------------')\n",
    "print(df_students)\n",
    "print('---------------------------------------------')\n",
    "#tüm veriler 'nan olunca'\n",
    "df_students['Ahmet']['weight'] = np.nan #veya Null\n",
    "x = df_students.dropna(how=\"all\")\n",
    "print(x)\n",
    "print(type(x))\n",
    "print('---------------------------------------------')\n",
    "# thresh'e eşit veya daha büyük nan varsa gösterme\n",
    "x = df_students.dropna(thresh=2)\n",
    "print(x)\n",
    "print(type(x))\n",
    "print('---------------------------------------------')\n",
    "x = df_students.dropna(axis=0)\n",
    "print(x)\n",
    "print(type(x))\n",
    "print('---------------------------------------------')\n",
    "x = df_students.dropna(axis=1)\n",
    "print(x)\n",
    "print(type(x))\n",
    "print('---------------------------------------------')\n",
    "x = df_students.dropna(axis=1,thresh=3)\n",
    "print(x)\n",
    "print(type(x))"
   ]
  },
  {
   "cell_type": "code",
   "execution_count": 141,
   "metadata": {},
   "outputs": [
    {
     "data": {
      "text/plain": [
       "\u001b[0;31mSignature:\u001b[0m\n",
       "\u001b[0mdf_students\u001b[0m\u001b[0;34m.\u001b[0m\u001b[0mdropna\u001b[0m\u001b[0;34m(\u001b[0m\u001b[0;34m\u001b[0m\n",
       "\u001b[0;34m\u001b[0m    \u001b[0maxis\u001b[0m\u001b[0;34m=\u001b[0m\u001b[0;36m0\u001b[0m\u001b[0;34m,\u001b[0m\u001b[0;34m\u001b[0m\n",
       "\u001b[0;34m\u001b[0m    \u001b[0mhow\u001b[0m\u001b[0;34m=\u001b[0m\u001b[0;34m'any'\u001b[0m\u001b[0;34m,\u001b[0m\u001b[0;34m\u001b[0m\n",
       "\u001b[0;34m\u001b[0m    \u001b[0mthresh\u001b[0m\u001b[0;34m=\u001b[0m\u001b[0;32mNone\u001b[0m\u001b[0;34m,\u001b[0m\u001b[0;34m\u001b[0m\n",
       "\u001b[0;34m\u001b[0m    \u001b[0msubset\u001b[0m\u001b[0;34m=\u001b[0m\u001b[0;32mNone\u001b[0m\u001b[0;34m,\u001b[0m\u001b[0;34m\u001b[0m\n",
       "\u001b[0;34m\u001b[0m    \u001b[0minplace\u001b[0m\u001b[0;34m=\u001b[0m\u001b[0;32mFalse\u001b[0m\u001b[0;34m,\u001b[0m\u001b[0;34m\u001b[0m\n",
       "\u001b[0;34m\u001b[0m\u001b[0;34m)\u001b[0m\u001b[0;34m\u001b[0m\u001b[0;34m\u001b[0m\u001b[0m\n",
       "\u001b[0;31mDocstring:\u001b[0m\n",
       "Remove missing values.\n",
       "\n",
       "See the :ref:`User Guide <missing_data>` for more on which values are\n",
       "considered missing, and how to work with missing data.\n",
       "\n",
       "Parameters\n",
       "----------\n",
       "axis : {0 or 'index', 1 or 'columns'}, default 0\n",
       "    Determine if rows or columns which contain missing values are\n",
       "    removed.\n",
       "\n",
       "    * 0, or 'index' : Drop rows which contain missing values.\n",
       "    * 1, or 'columns' : Drop columns which contain missing value.\n",
       "\n",
       "    .. versionchanged:: 1.0.0\n",
       "\n",
       "       Pass tuple or list to drop on multiple axes.\n",
       "       Only a single axis is allowed.\n",
       "\n",
       "how : {'any', 'all'}, default 'any'\n",
       "    Determine if row or column is removed from DataFrame, when we have\n",
       "    at least one NA or all NA.\n",
       "\n",
       "    * 'any' : If any NA values are present, drop that row or column.\n",
       "    * 'all' : If all values are NA, drop that row or column.\n",
       "\n",
       "thresh : int, optional\n",
       "    Require that many non-NA values.\n",
       "subset : array-like, optional\n",
       "    Labels along other axis to consider, e.g. if you are dropping rows\n",
       "    these would be a list of columns to include.\n",
       "inplace : bool, default False\n",
       "    If True, do operation inplace and return None.\n",
       "\n",
       "Returns\n",
       "-------\n",
       "DataFrame\n",
       "    DataFrame with NA entries dropped from it.\n",
       "\n",
       "See Also\n",
       "--------\n",
       "DataFrame.isna: Indicate missing values.\n",
       "DataFrame.notna : Indicate existing (non-missing) values.\n",
       "DataFrame.fillna : Replace missing values.\n",
       "Series.dropna : Drop missing values.\n",
       "Index.dropna : Drop missing indices.\n",
       "\n",
       "Examples\n",
       "--------\n",
       ">>> df = pd.DataFrame({\"name\": ['Alfred', 'Batman', 'Catwoman'],\n",
       "...                    \"toy\": [np.nan, 'Batmobile', 'Bullwhip'],\n",
       "...                    \"born\": [pd.NaT, pd.Timestamp(\"1940-04-25\"),\n",
       "...                             pd.NaT]})\n",
       ">>> df\n",
       "       name        toy       born\n",
       "0    Alfred        NaN        NaT\n",
       "1    Batman  Batmobile 1940-04-25\n",
       "2  Catwoman   Bullwhip        NaT\n",
       "\n",
       "Drop the rows where at least one element is missing.\n",
       "\n",
       ">>> df.dropna()\n",
       "     name        toy       born\n",
       "1  Batman  Batmobile 1940-04-25\n",
       "\n",
       "Drop the columns where at least one element is missing.\n",
       "\n",
       ">>> df.dropna(axis='columns')\n",
       "       name\n",
       "0    Alfred\n",
       "1    Batman\n",
       "2  Catwoman\n",
       "\n",
       "Drop the rows where all elements are missing.\n",
       "\n",
       ">>> df.dropna(how='all')\n",
       "       name        toy       born\n",
       "0    Alfred        NaN        NaT\n",
       "1    Batman  Batmobile 1940-04-25\n",
       "2  Catwoman   Bullwhip        NaT\n",
       "\n",
       "Keep only the rows with at least 2 non-NA values.\n",
       "\n",
       ">>> df.dropna(thresh=2)\n",
       "       name        toy       born\n",
       "1    Batman  Batmobile 1940-04-25\n",
       "2  Catwoman   Bullwhip        NaT\n",
       "\n",
       "Define in which columns to look for missing values.\n",
       "\n",
       ">>> df.dropna(subset=['name', 'born'])\n",
       "       name        toy       born\n",
       "1    Batman  Batmobile 1940-04-25\n",
       "\n",
       "Keep the DataFrame with valid entries in the same variable.\n",
       "\n",
       ">>> df.dropna(inplace=True)\n",
       ">>> df\n",
       "     name        toy       born\n",
       "1  Batman  Batmobile 1940-04-25\n",
       "\u001b[0;31mFile:\u001b[0m      /usr/local/lib/python3.9/site-packages/pandas/core/frame.py\n",
       "\u001b[0;31mType:\u001b[0m      method\n"
      ]
     },
     "metadata": {},
     "output_type": "display_data"
    }
   ],
   "source": [
    "df_students.dropna?"
   ]
  },
  {
   "cell_type": "code",
   "execution_count": 142,
   "metadata": {},
   "outputs": [
    {
     "name": "stdout",
     "output_type": "stream",
     "text": [
      "             Hale Ahmet   Fatma\n",
      "age            25    32      40\n",
      "department     CE    EE      TT\n",
      "gender         CE     M      TT\n",
      "height        161     M     175\n",
      "surname     Cetin     M  Gulsen\n",
      "weight      Cetin     M  Gulsen\n",
      "---------------------------------------------\n",
      "             Hale  Ahmet   Fatma\n",
      "age            25     32      40\n",
      "department     CE     EE      TT\n",
      "gender        NaN      M       M\n",
      "height        161    161     175\n",
      "surname     Cetin  Cetin  Gulsen\n",
      "weight        NaN    NaN     NaN\n",
      "---------------------------------------------\n",
      "             Hale Ahmet   Fatma\n",
      "age            25    32      40\n",
      "department     CE    EE      TT\n",
      "gender        161     M     175\n",
      "height        161   NaN     175\n",
      "surname     Cetin   NaN  Gulsen\n",
      "weight        NaN   NaN     NaN\n",
      "---------------------------------------------\n",
      "---------------------------------------------\n",
      "---------------------------------------------\n"
     ]
    }
   ],
   "source": [
    "#fill na default br önceki değeri koy (satır) (ffill)\n",
    "x = df_students.fillna(method='ffill',axis=0)\n",
    "print(x)\n",
    "print('---------------------------------------------')\n",
    "#sütun\n",
    "x = df_students.fillna(method='ffill',axis=1)\n",
    "print(x)\n",
    "print('---------------------------------------------')\n",
    "#bir sonraki sütun (backfill)\n",
    "x = df_students.fillna(method='backfill',axis=0)\n",
    "print(x)\n",
    "print('---------------------------------------------')\n",
    "print('---------------------------------------------')\n",
    "print('---------------------------------------------')"
   ]
  },
  {
   "cell_type": "code",
   "execution_count": 143,
   "metadata": {},
   "outputs": [
    {
     "name": "stdout",
     "output_type": "stream",
     "text": [
      "   Review ID Review Date                                     Review Content  \\\n",
      "0    4055629  2012-10-06  Very nice accommodation in an aesthetically pl...   \n",
      "1   25329416  2013-11-03  Me and my friends had such a nice time at Dott...   \n",
      "2   21705849  2014-11-27  I stayed for 4night.She gave us a lot of snuck...   \n",
      "3   41133812  2012-05-08  The apartment was situated on the first floor ...   \n",
      "4    7465026  2013-08-16  Even though it was only for one night, we had ...   \n",
      "\n",
      "                         Listing Title            Neighbourhood  \\\n",
      "0  Nottinghill Portobello  Artist Flat   Kensington and Chelsea   \n",
      "1   Quiet Pink Studio in the PIJP area  De Pijp - Rivierenbuurt   \n",
      "2  PRIVATE Room in Spacious, Quiet Apt                   Harlem   \n",
      "3       Bonito estudio en pleno centro              Universidad   \n",
      "4        Acropolis Apartment brand new                 ΑΚΡΟΠΟΛΗ   \n",
      "\n",
      "            City                State          Country        Room Type  \\\n",
      "0         London              England   United Kingdom  Entire home/apt   \n",
      "1      Amsterdam        North Holland  The Netherlands     Private room   \n",
      "2  New York City             New York    United States     Private room   \n",
      "3         Madrid  Comunidad de Madrid            Spain  Entire home/apt   \n",
      "4         Athens               Attica           Greece  Entire home/apt   \n",
      "\n",
      "   Room Price  Room Availability  \n",
      "0         100                338  \n",
      "1          80                 10  \n",
      "2          57                268  \n",
      "3          38                274  \n",
      "4          62                281  \n"
     ]
    }
   ],
   "source": [
    "review = pd.read_csv('./ReviewContent.csv')\n",
    "print(review.head())"
   ]
  },
  {
   "cell_type": "code",
   "execution_count": 144,
   "metadata": {},
   "outputs": [
    {
     "name": "stdout",
     "output_type": "stream",
     "text": [
      "<class 'pandas.core.frame.DataFrame'>\n",
      "\n",
      "<class 'pandas.core.frame.DataFrame'>\n",
      "RangeIndex: 1000 entries, 0 to 999\n",
      "Data columns (total 11 columns):\n",
      " #   Column             Non-Null Count  Dtype \n",
      "---  ------             --------------  ----- \n",
      " 0   Review ID          1000 non-null   int64 \n",
      " 1   Review Date        1000 non-null   object\n",
      " 2   Review Content     999 non-null    object\n",
      " 3   Listing Title      1000 non-null   object\n",
      " 4   Neighbourhood      1000 non-null   object\n",
      " 5   City               1000 non-null   object\n",
      " 6   State              1000 non-null   object\n",
      " 7   Country            1000 non-null   object\n",
      " 8   Room Type          1000 non-null   object\n",
      " 9   Room Price         1000 non-null   int64 \n",
      " 10  Room Availability  1000 non-null   int64 \n",
      "dtypes: int64(3), object(8)\n",
      "memory usage: 86.1+ KB\n",
      "None\n",
      "---------------------------------------------\n",
      "Review ID             int64\n",
      "Review Date          object\n",
      "Review Content       object\n",
      "Listing Title        object\n",
      "Neighbourhood        object\n",
      "City                 object\n",
      "State                object\n",
      "Country              object\n",
      "Room Type            object\n",
      "Room Price            int64\n",
      "Room Availability     int64\n",
      "dtype: object\n",
      "---------------------------------------------\n",
      "2\n",
      "---------------------------------------------\n",
      "Index(['Review ID', 'Review Date', 'Review Content', 'Listing Title',\n",
      "       'Neighbourhood', 'City', 'State', 'Country', 'Room Type', 'Room Price',\n",
      "       'Room Availability'],\n",
      "      dtype='object')\n",
      "---------------------------------------------\n",
      "<class 'pandas.core.indexes.base.Index'>\n",
      "---------------------------------------------\n",
      "Index                 128\n",
      "Review ID            8000\n",
      "Review Date          8000\n",
      "Review Content       8000\n",
      "Listing Title        8000\n",
      "Neighbourhood        8000\n",
      "City                 8000\n",
      "State                8000\n",
      "Country              8000\n",
      "Room Type            8000\n",
      "Room Price           8000\n",
      "Room Availability    8000\n",
      "dtype: int64\n"
     ]
    }
   ],
   "source": [
    "print(type(review))\n",
    "print()\n",
    "print(review.info())\n",
    "print('---------------------------------------------')\n",
    "print(review.dtypes)\n",
    "print('---------------------------------------------')\n",
    "print(review.ndim)\n",
    "print('---------------------------------------------')\n",
    "print(review.columns)\n",
    "print('---------------------------------------------')\n",
    "print(type(review.columns))\n",
    "print('---------------------------------------------')\n",
    "print(review.memory_usage())"
   ]
  },
  {
   "cell_type": "code",
   "execution_count": 145,
   "metadata": {},
   "outputs": [
    {
     "name": "stdout",
     "output_type": "stream",
     "text": [
      "118048\n",
      "---------------------------------------------\n",
      "Review ID                                                  23758497050\n",
      "Review Date          2012-10-062013-11-032014-11-272012-05-082013-0...\n",
      "Listing Title        Nottinghill Portobello  Artist FlatQuiet Pink ...\n",
      "Neighbourhood        Kensington and ChelseaDe Pijp - RivierenbuurtH...\n",
      "City                 LondonAmsterdamNew York CityMadridAthensPortla...\n",
      "State                EnglandNorth HollandNew YorkComunidad de Madri...\n",
      "Country              United KingdomThe NetherlandsUnited StatesSpai...\n",
      "Room Type            Entire home/aptPrivate roomPrivate roomEntire ...\n",
      "Room Price                                                      118048\n",
      "Room Availability                                               253651\n",
      "dtype: object\n",
      "---------------------------------------------\n",
      "0      338\n",
      "1       10\n",
      "2      268\n",
      "3      274\n",
      "4      281\n",
      "      ... \n",
      "995    329\n",
      "996    309\n",
      "997     10\n",
      "998    357\n",
      "999    329\n",
      "Name: Room Availability, Length: 1000, dtype: int64\n",
      "---------------------------------------------\n",
      "0      348\n",
      "1       20\n",
      "2      278\n",
      "3      284\n",
      "4      291\n",
      "      ... \n",
      "995    339\n",
      "996    319\n",
      "997     20\n",
      "998    367\n",
      "999    339\n",
      "Name: Room Availability, Length: 1000, dtype: int64\n",
      "---------------------------------------------\n",
      "0      348\n",
      "1       20\n",
      "2      278\n",
      "3      284\n",
      "4      291\n",
      "      ... \n",
      "995    339\n",
      "996    319\n",
      "997     20\n",
      "998    367\n",
      "999    339\n",
      "Name: Room Availability, Length: 1000, dtype: int64\n"
     ]
    }
   ],
   "source": [
    "print(review[\"Room Price\"].sum())\n",
    "print('---------------------------------------------')\n",
    "print(review.sum())\n",
    "print('---------------------------------------------')\n",
    "print(review[\"Room Availability\"])\n",
    "print('---------------------------------------------')\n",
    "print(review[\"Room Availability\"].add(10))\n",
    "print('---------------------------------------------')\n",
    "print(review[\"Room Availability\"]+10)\n",
    "#sum, sub, mul, div, +, -, *, /"
   ]
  },
  {
   "cell_type": "code",
   "execution_count": 146,
   "metadata": {},
   "outputs": [
    {
     "name": "stdout",
     "output_type": "stream",
     "text": [
      "0             London\n",
      "1          Amsterdam\n",
      "2      New York City\n",
      "3             Madrid\n",
      "4             Athens\n",
      "           ...      \n",
      "995            Paris\n",
      "996      Los Angeles\n",
      "997           Boston\n",
      "998    New York City\n",
      "999    New York City\n",
      "Name: City, Length: 1000, dtype: object\n",
      "---------------------------------------------\n",
      "New York City    135\n",
      "London           104\n",
      "Paris            101\n",
      "Los Angeles       68\n",
      "Barcelona         61\n",
      "San Francisco     59\n",
      "Berlin            56\n",
      "Amsterdam         45\n",
      "Sydney            33\n",
      "Portland          28\n",
      "Madrid            28\n",
      "Montreal          27\n",
      "Seattle           23\n",
      "Toronto           23\n",
      "Brussels          23\n",
      "Austin            22\n",
      "New Orleans       22\n",
      "Chicago           21\n",
      "Venice            21\n",
      "Boston            21\n",
      "Washington        18\n",
      "Melbourne         14\n",
      "Vienna            14\n",
      "Nashville         13\n",
      "Athens            10\n",
      "Antwerp            5\n",
      "Oakland            5\n",
      "Name: City, dtype: int64\n",
      "---------------------------------------------\n",
      "Entire home/apt    648\n",
      "Private room       340\n",
      "Shared room         12\n",
      "Name: Room Type, dtype: int64\n",
      "---------------------------------------------\n",
      "80     32\n",
      "120    31\n",
      "75     27\n",
      "95     27\n",
      "60     26\n",
      "       ..\n",
      "222     1\n",
      "228     1\n",
      "265     1\n",
      "270     1\n",
      "800     1\n",
      "Name: Room Price, Length: 180, dtype: int64\n",
      "---------------------------------------------\n",
      "799    1500\n",
      "489     800\n",
      "518     775\n",
      "613     725\n",
      "555     650\n",
      "Name: Room Price, dtype: int64\n",
      "---------------------------------------------\n",
      "409     Amsterdam\n",
      "912     Amsterdam\n",
      "770     Amsterdam\n",
      "168     Amsterdam\n",
      "782     Amsterdam\n",
      "          ...    \n",
      "839    Washington\n",
      "139    Washington\n",
      "128    Washington\n",
      "589    Washington\n",
      "437    Washington\n",
      "Name: City, Length: 1000, dtype: object\n",
      "---------------------------------------------\n",
      "     Review ID Review Date                                     Review Content  \\\n",
      "740   37117583  2012-04-20  Alex is a very considerate airbnb host. He mad...   \n",
      "718   47355526  2012-08-05  Manuel was very sweet and helpful! Very nice a...   \n",
      "306   44838729  2012-06-03  It was easy to find and the room was clean. Ve...   \n",
      "452   11937812  2012-05-28  I just had a wonderfull time in there: good co...   \n",
      "795   37947941  2012-11-02  We only got to stay 12 hours, but this is exac...   \n",
      "..         ...         ...                                                ...   \n",
      "555    8381199  2014-10-25  This was my first Airbnb experience.  We were ...   \n",
      "613   41553198  2014-12-10  Brian and his team were great! We had a group ...   \n",
      "518   29952932  2013-06-15      Very beautiful apartment in a great location.   \n",
      "489   25836446  2012-03-05  The reservation was canceled 79 days before ar...   \n",
      "799    5239947  2013-01-15  The only issue that we had was that the elevat...   \n",
      "\n",
      "                           Listing Title               Neighbourhood  \\\n",
      "740     Good Vibes in the heart of BXL !                     Ixelles   \n",
      "718    Bernabéu, Twin Bedroom, Breakfast                  Berruguete   \n",
      "306        COSY ROOM-center-5 mn RAMBLAS                el Poble Sec   \n",
      "452  Camp Nou, Sants Staciò & University  la Maternitat i Sant Ramon   \n",
      "795   Cozy Private Room beside la Rambla                    el Raval   \n",
      "..                                   ...                         ...   \n",
      "555   SPACIOUS & LUXURIOUS 2-LEVEL CONDO              Haight Ashbury   \n",
      "613      Chic Massive 4 Bed Room Duplex!             Lower East Side   \n",
      "518    Stunning Townhouse - West Village                West Village   \n",
      "489  Mansion In The Sky-Duplex Penthouse                        Loop   \n",
      "799    Amazing hillside 4 bdrm 4k  sq ft               Monterey Park   \n",
      "\n",
      "              City                State        Country        Room Type  \\\n",
      "740       Brussels             Brussels        Belgium      Shared room   \n",
      "718         Madrid  Comunidad de Madrid          Spain     Private room   \n",
      "306      Barcelona            Catalonia          Spain     Private room   \n",
      "452      Barcelona            Catalonia          Spain     Private room   \n",
      "795      Barcelona            Catalonia          Spain     Private room   \n",
      "..             ...                  ...            ...              ...   \n",
      "555  San Francisco           California  United States  Entire home/apt   \n",
      "613  New York City             New York  United States  Entire home/apt   \n",
      "518  New York City             New York  United States  Entire home/apt   \n",
      "489        Chicago             Illinois  United States  Entire home/apt   \n",
      "799    Los Angeles           California  United States  Entire home/apt   \n",
      "\n",
      "     Room Price  Room Availability  \n",
      "740          16                326  \n",
      "718          16                112  \n",
      "306          19                336  \n",
      "452          19                333  \n",
      "795          22                 25  \n",
      "..          ...                ...  \n",
      "555         650                327  \n",
      "613         725                316  \n",
      "518         775                316  \n",
      "489         800                359  \n",
      "799        1500                365  \n",
      "\n",
      "[1000 rows x 11 columns]\n"
     ]
    }
   ],
   "source": [
    "print(review['City'])\n",
    "print('---------------------------------------------')\n",
    "print(review['City'].value_counts())\n",
    "print('---------------------------------------------')\n",
    "print(review['Room Type'].value_counts())\n",
    "print('---------------------------------------------')\n",
    "print(review['Room Price'].value_counts())\n",
    "print('---------------------------------------------')\n",
    "print(review['Room Price'].sort_values(ascending= False).head())\n",
    "print('---------------------------------------------')\n",
    "print(review['City'].sort_values())\n",
    "print('---------------------------------------------')\n",
    "print(review.sort_values(\"Room Price\"))"
   ]
  },
  {
   "cell_type": "code",
   "execution_count": 147,
   "metadata": {},
   "outputs": [],
   "source": [
    "review = pd.read_csv('./ReviewContent.csv')"
   ]
  },
  {
   "cell_type": "code",
   "execution_count": 154,
   "metadata": {},
   "outputs": [
    {
     "name": "stdout",
     "output_type": "stream",
     "text": [
      "0             London\n",
      "1          Amsterdam\n",
      "2      New York City\n",
      "3             Madrid\n",
      "4             Athens\n",
      "           ...      \n",
      "995            Paris\n",
      "996      Los Angeles\n",
      "997           Boston\n",
      "998    New York City\n",
      "999    New York City\n",
      "Name: City, Length: 1000, dtype: object\n",
      "0       True\n",
      "1      False\n",
      "2      False\n",
      "3      False\n",
      "4      False\n",
      "       ...  \n",
      "995    False\n",
      "996    False\n",
      "997    False\n",
      "998    False\n",
      "999    False\n",
      "Name: City, Length: 1000, dtype: bool\n",
      "----------------------------------------\n",
      "     Review ID Review Date                                     Review Content  \\\n",
      "0      4055629  2012-10-06  Very nice accommodation in an aesthetically pl...   \n",
      "7     10787310  2013-06-02  Carolines room is perfectly located to discove...   \n",
      "10    24326991  2014-10-19  Many thanks Annabel, our stay was perfect! We ...   \n",
      "20    38360407  2013-12-31  Nice contact. Very friendly and supportive. Th...   \n",
      "27    37847700  2014-02-02  Wannie was very accommodating and allowed us t...   \n",
      "..         ...         ...                                                ...   \n",
      "943   30716660  2013-04-21  The flat was very clean and centrally located....   \n",
      "963   37527770  2012-08-16  Karen was a great host! She was extremely frie...   \n",
      "966   11444280  2013-04-01  You couldn't ask for friendlier hosts! I had a...   \n",
      "967   31488970  2014-10-18  Serena was very welcoming and the place was qu...   \n",
      "971   21709517  2013-07-03  Anders is a great host. The flat is exactly as...   \n",
      "\n",
      "                           Listing Title           Neighbourhood    City  \\\n",
      "0    Nottinghill Portobello  Artist Flat  Kensington and Chelsea  London   \n",
      "7          Private room - Central London             Westminster  London   \n",
      "10       Light 2 bedroom in Notting Hill  Kensington and Chelsea  London   \n",
      "20   Curved wall Studio ST4 with Kitchen           Tower Hamlets  London   \n",
      "27   Prime location near BigBen Victoria             Westminster  London   \n",
      "..                                   ...                     ...     ...   \n",
      "943     \"Paige\" apartment, 2B, free wifi           Tower Hamlets  London   \n",
      "963          Homely Triple Room London 3                 Lambeth  London   \n",
      "966  On Offer!! Camden Town / St Pancras                  Camden  London   \n",
      "967   Hackney / Dalston / London Fields                  Hackney  London   \n",
      "971  East London/Shoreditch-Superb 2 bed                 Hackney  London   \n",
      "\n",
      "       State         Country        Room Type  Room Price  Room Availability  \n",
      "0    England  United Kingdom  Entire home/apt         100                338  \n",
      "7    England  United Kingdom     Private room          60                351  \n",
      "10   England  United Kingdom  Entire home/apt         140                151  \n",
      "20   England  United Kingdom  Entire home/apt          85                344  \n",
      "27   England  United Kingdom  Entire home/apt         129                279  \n",
      "..       ...             ...              ...         ...                ...  \n",
      "943  England  United Kingdom  Entire home/apt         350                345  \n",
      "963  England  United Kingdom     Private room          27                362  \n",
      "966  England  United Kingdom     Private room          49                128  \n",
      "967  England  United Kingdom     Private room          39                365  \n",
      "971  England  United Kingdom  Entire home/apt         165                301  \n",
      "\n",
      "[104 rows x 11 columns]\n"
     ]
    }
   ],
   "source": [
    "print(review[\"City\"])\n",
    "print(review[\"City\"] == \"London\")\n",
    "print(\"----------------------------------------\")\n",
    "print(review[review[\"City\"] == \"London\"])"
   ]
  },
  {
   "cell_type": "code",
   "execution_count": 161,
   "metadata": {},
   "outputs": [
    {
     "name": "stdout",
     "output_type": "stream",
     "text": [
      "----------------------------------------\n",
      "     Review ID Review Date                                     Review Content  \\\n",
      "0      4055629  2012-10-06  Very nice accommodation in an aesthetically pl...   \n",
      "7     10787310  2013-06-02  Carolines room is perfectly located to discove...   \n",
      "10    24326991  2014-10-19  Many thanks Annabel, our stay was perfect! We ...   \n",
      "20    38360407  2013-12-31  Nice contact. Very friendly and supportive. Th...   \n",
      "27    37847700  2014-02-02  Wannie was very accommodating and allowed us t...   \n",
      "..         ...         ...                                                ...   \n",
      "943   30716660  2013-04-21  The flat was very clean and centrally located....   \n",
      "963   37527770  2012-08-16  Karen was a great host! She was extremely frie...   \n",
      "966   11444280  2013-04-01  You couldn't ask for friendlier hosts! I had a...   \n",
      "967   31488970  2014-10-18  Serena was very welcoming and the place was qu...   \n",
      "971   21709517  2013-07-03  Anders is a great host. The flat is exactly as...   \n",
      "\n",
      "                           Listing Title           Neighbourhood    City  \\\n",
      "0    Nottinghill Portobello  Artist Flat  Kensington and Chelsea  London   \n",
      "7          Private room - Central London             Westminster  London   \n",
      "10       Light 2 bedroom in Notting Hill  Kensington and Chelsea  London   \n",
      "20   Curved wall Studio ST4 with Kitchen           Tower Hamlets  London   \n",
      "27   Prime location near BigBen Victoria             Westminster  London   \n",
      "..                                   ...                     ...     ...   \n",
      "943     \"Paige\" apartment, 2B, free wifi           Tower Hamlets  London   \n",
      "963          Homely Triple Room London 3                 Lambeth  London   \n",
      "966  On Offer!! Camden Town / St Pancras                  Camden  London   \n",
      "967   Hackney / Dalston / London Fields                  Hackney  London   \n",
      "971  East London/Shoreditch-Superb 2 bed                 Hackney  London   \n",
      "\n",
      "       State         Country        Room Type  Room Price  Room Availability  \n",
      "0    England  United Kingdom  Entire home/apt         100                338  \n",
      "7    England  United Kingdom     Private room          60                351  \n",
      "10   England  United Kingdom  Entire home/apt         140                151  \n",
      "20   England  United Kingdom  Entire home/apt          85                344  \n",
      "27   England  United Kingdom  Entire home/apt         129                279  \n",
      "..       ...             ...              ...         ...                ...  \n",
      "943  England  United Kingdom  Entire home/apt         350                345  \n",
      "963  England  United Kingdom     Private room          27                362  \n",
      "966  England  United Kingdom     Private room          49                128  \n",
      "967  England  United Kingdom     Private room          39                365  \n",
      "971  England  United Kingdom  Entire home/apt         165                301  \n",
      "\n",
      "[104 rows x 11 columns]\n",
      "----------------------------------------\n",
      "     Review ID Review Date                                     Review Content  \\\n",
      "1     25329416  2013-11-03  Me and my friends had such a nice time at Dott...   \n",
      "2     21705849  2014-11-27  I stayed for 4night.She gave us a lot of snuck...   \n",
      "5     11372151  2014-11-19  We spent four days at Shane's place. The locat...   \n",
      "7     10787310  2013-06-02  Carolines room is perfectly located to discove...   \n",
      "8     37085487  2014-06-27  We had a great stay in Tyler's apartment. The ...   \n",
      "..         ...         ...                                                ...   \n",
      "985   29498170  2013-12-17  The neighborhood was pretty central and my fri...   \n",
      "989   48665633  2012-11-19  Very nice place in a nice neighborhood. Not fa...   \n",
      "995   44498863  2012-08-30  I loved staying here during my time in Paris. ...   \n",
      "998   21403195  2014-12-26  Very good experiance had a comfortable stay. V...   \n",
      "999   38944752  2013-10-15  Thank you for the wonderful stay!   It was a c...   \n",
      "\n",
      "                           Listing Title            Neighbourhood  \\\n",
      "1     Quiet Pink Studio in the PIJP area  De Pijp - Rivierenbuurt   \n",
      "2    PRIVATE Room in Spacious, Quiet Apt                   Harlem   \n",
      "5     Great Light-filled Alberta Arts Rm                     King   \n",
      "7          Private room - Central London              Westminster   \n",
      "8                    Privacy + Free Beer                  Marigny   \n",
      "..                                   ...                      ...   \n",
      "985           Great Room at the Gran Via                  Palacio   \n",
      "989            North Austin garden haven                    78753   \n",
      "995              A typical parisian flat        Buttes-Montmartre   \n",
      "998  NR LGA/JFK & City Studio W/Bathroom          Jackson Heights   \n",
      "999            15 Minutes from Manhattan                 Woodside   \n",
      "\n",
      "              City                State          Country     Room Type  \\\n",
      "1        Amsterdam        North Holland  The Netherlands  Private room   \n",
      "2    New York City             New York    United States  Private room   \n",
      "5         Portland               Oregon    United States  Private room   \n",
      "7           London              England   United Kingdom  Private room   \n",
      "8      New Orleans            Louisiana    United States  Private room   \n",
      "..             ...                  ...              ...           ...   \n",
      "985         Madrid  Comunidad de Madrid            Spain  Private room   \n",
      "989         Austin                Texas    United States  Private room   \n",
      "995          Paris        Île-de-France           France  Private room   \n",
      "998  New York City             New York    United States  Private room   \n",
      "999  New York City             New York    United States  Private room   \n",
      "\n",
      "     Room Price  Room Availability  \n",
      "1            80                 10  \n",
      "2            57                268  \n",
      "5            55                121  \n",
      "7            60                351  \n",
      "8            79                330  \n",
      "..          ...                ...  \n",
      "985          30                338  \n",
      "989          65                364  \n",
      "995          35                329  \n",
      "998          75                357  \n",
      "999         110                329  \n",
      "\n",
      "[340 rows x 11 columns]\n",
      "----------------------------------------\n",
      "<class 'pandas.core.series.Series'>\n"
     ]
    }
   ],
   "source": [
    "mask = review[\"City\"] == \"London\"\n",
    "print(\"----------------------------------------\")\n",
    "print(review[mask])\n",
    "print(\"----------------------------------------\")\n",
    "mask = review[\"Room Type\"] == \"Private room\"\n",
    "print(review[mask])\n",
    "print(\"----------------------------------------\")\n",
    "print(type(mask))\n"
   ]
  },
  {
   "cell_type": "code",
   "execution_count": 162,
   "metadata": {},
   "outputs": [
    {
     "name": "stdout",
     "output_type": "stream",
     "text": [
      "     Review ID Review Date                                     Review Content  \\\n",
      "1     25329416  2013-11-03  Me and my friends had such a nice time at Dott...   \n",
      "4      7465026  2013-08-16  Even though it was only for one night, we had ...   \n",
      "8     37085487  2014-06-27  We had a great stay in Tyler's apartment. The ...   \n",
      "17     7568387  2013-02-01  Kristina and Ekaterine were lovley hosts. They...   \n",
      "20    38360407  2013-12-31  Nice contact. Very friendly and supportive. Th...   \n",
      "..         ...         ...                                                ...   \n",
      "992   13423090  2014-12-25  Ca' di paolo is a cozy apartment in a great lo...   \n",
      "993   27392171  2012-03-07  What a great place to stay! In the heart of Ma...   \n",
      "994   28605533  2014-09-24  We had a wonderful stay at this apartment. Alt...   \n",
      "997   46642535  2014-08-30  John was a great host.  I came in on a red eye...   \n",
      "998   21403195  2014-12-26  Very good experiance had a comfortable stay. V...   \n",
      "\n",
      "                           Listing Title            Neighbourhood  \\\n",
      "1     Quiet Pink Studio in the PIJP area  De Pijp - Rivierenbuurt   \n",
      "4          Acropolis Apartment brand new                 ΑΚΡΟΠΟΛΗ   \n",
      "8                    Privacy + Free Beer                  Marigny   \n",
      "17   Hollywood Furnished Private Bedroom                Hollywood   \n",
      "20   Curved wall Studio ST4 with Kitchen            Tower Hamlets   \n",
      "..                                   ...                      ...   \n",
      "992                         ca' di paolo                 Castello   \n",
      "993    Charming Studio - Heart of Marais                   Temple   \n",
      "994                       sunny and cosy          Brunnenstr. Süd   \n",
      "997      Top Floor Renovated 1 BR / 1BA              West Roxbury   \n",
      "998  NR LGA/JFK & City Studio W/Bathroom          Jackson Heights   \n",
      "\n",
      "              City          State          Country        Room Type  \\\n",
      "1        Amsterdam  North Holland  The Netherlands     Private room   \n",
      "4           Athens         Attica           Greece  Entire home/apt   \n",
      "8      New Orleans      Louisiana    United States     Private room   \n",
      "17     Los Angeles     California    United States     Private room   \n",
      "20          London        England   United Kingdom  Entire home/apt   \n",
      "..             ...            ...              ...              ...   \n",
      "992         Venice         Veneto            Italy  Entire home/apt   \n",
      "993          Paris  Île-de-France           France  Entire home/apt   \n",
      "994         Berlin         Berlin          Germany  Entire home/apt   \n",
      "997         Boston  Massachusetts    United States  Entire home/apt   \n",
      "998  New York City       New York    United States     Private room   \n",
      "\n",
      "     Room Price  Room Availability  \n",
      "1            80                 10  \n",
      "4            62                281  \n",
      "8            79                330  \n",
      "17           99                244  \n",
      "20           85                344  \n",
      "..          ...                ...  \n",
      "992          99                303  \n",
      "993          95                284  \n",
      "994          62                  6  \n",
      "997          95                 10  \n",
      "998          75                357  \n",
      "\n",
      "[293 rows x 11 columns]\n"
     ]
    }
   ],
   "source": [
    "mask1 = review[\"Room Price\"] > 60\n",
    "mask2 = review[\"Room Price\"] < 100\n",
    "\n",
    "mask = mask1 & mask2\n",
    "print(review[mask])"
   ]
  },
  {
   "cell_type": "code",
   "execution_count": 163,
   "metadata": {},
   "outputs": [
    {
     "name": "stdout",
     "output_type": "stream",
     "text": [
      "     Review ID Review Date                                     Review Content  \\\n",
      "0      4055629  2012-10-06  Very nice accommodation in an aesthetically pl...   \n",
      "6     20417380  2013-11-07  Wonderful experience. We loved staying in the ...   \n",
      "7     10787310  2013-06-02  Carolines room is perfectly located to discove...   \n",
      "8     37085487  2014-06-27  We had a great stay in Tyler's apartment. The ...   \n",
      "9     15542291  2013-12-28  What a wonderful location, right in the heart ...   \n",
      "..         ...         ...                                                ...   \n",
      "992   13423090  2014-12-25  Ca' di paolo is a cozy apartment in a great lo...   \n",
      "995   44498863  2012-08-30  I loved staying here during my time in Paris. ...   \n",
      "996   30544438  2013-02-28  Highly recommend this as a place to stay if yo...   \n",
      "998   21403195  2014-12-26  Very good experiance had a comfortable stay. V...   \n",
      "999   38944752  2013-10-15  Thank you for the wonderful stay!   It was a c...   \n",
      "\n",
      "                           Listing Title           Neighbourhood  \\\n",
      "0    Nottinghill Portobello  Artist Flat  Kensington and Chelsea   \n",
      "6     LARGE HOME FOR GROUP ACCOMMODATION             Stonnington   \n",
      "7          Private room - Central London             Westminster   \n",
      "8                    Privacy + Free Beer                 Marigny   \n",
      "9          Athens Acropolis /B 'Luxury 2  ΕΜΠΟΡΙΚΟ ΤΡΙΓΩΝΟ-ΠΛΑΚΑ   \n",
      "..                                   ...                     ...   \n",
      "992                         ca' di paolo                Castello   \n",
      "995              A typical parisian flat       Buttes-Montmartre   \n",
      "996     The Venice Roost on Abbot Kinney                  Venice   \n",
      "998  NR LGA/JFK & City Studio W/Bathroom         Jackson Heights   \n",
      "999            15 Minutes from Manhattan                Woodside   \n",
      "\n",
      "              City          State         Country        Room Type  \\\n",
      "0           London        England  United Kingdom  Entire home/apt   \n",
      "6        Melbourne       Victoria       Australia  Entire home/apt   \n",
      "7           London        England  United Kingdom     Private room   \n",
      "8      New Orleans      Louisiana   United States     Private room   \n",
      "9           Athens         Attica          Greece  Entire home/apt   \n",
      "..             ...            ...             ...              ...   \n",
      "992         Venice         Veneto           Italy  Entire home/apt   \n",
      "995          Paris  Île-de-France          France     Private room   \n",
      "996    Los Angeles     California   United States  Entire home/apt   \n",
      "998  New York City       New York   United States     Private room   \n",
      "999  New York City       New York   United States     Private room   \n",
      "\n",
      "     Room Price  Room Availability  \n",
      "0           100                338  \n",
      "6           248                239  \n",
      "7            60                351  \n",
      "8            79                330  \n",
      "9            37                329  \n",
      "..          ...                ...  \n",
      "992          99                303  \n",
      "995          35                329  \n",
      "996         191                309  \n",
      "998          75                357  \n",
      "999         110                329  \n",
      "\n",
      "[542 rows x 11 columns]\n"
     ]
    }
   ],
   "source": [
    "mask1 = review[\"Room Price\"] > 200\n",
    "mask2 = review[\"Room Availability\"] > 300\n",
    "\n",
    "mask = mask1 | mask2\n",
    "print(review[mask])"
   ]
  },
  {
   "cell_type": "code",
   "execution_count": 172,
   "metadata": {},
   "outputs": [
    {
     "name": "stdout",
     "output_type": "stream",
     "text": [
      "     Review ID Review Date                                     Review Content  \\\n",
      "0      4055629  2012-10-06  Very nice accommodation in an aesthetically pl...   \n",
      "1     25329416  2013-11-03  Me and my friends had such a nice time at Dott...   \n",
      "3     41133812  2012-05-08  The apartment was situated on the first floor ...   \n",
      "7     10787310  2013-06-02  Carolines room is perfectly located to discove...   \n",
      "10    24326991  2014-10-19  Many thanks Annabel, our stay was perfect! We ...   \n",
      "..         ...         ...                                                ...   \n",
      "967   31488970  2014-10-18  Serena was very welcoming and the place was qu...   \n",
      "970    1211808  2014-03-08  It was such a shame that we were only able to ...   \n",
      "971   21709517  2013-07-03  Anders is a great host. The flat is exactly as...   \n",
      "985   29498170  2013-12-17  The neighborhood was pretty central and my fri...   \n",
      "987   21950610  2013-06-10  Arne's studio was the perfect size and locatio...   \n",
      "\n",
      "                           Listing Title            Neighbourhood       City  \\\n",
      "0    Nottinghill Portobello  Artist Flat   Kensington and Chelsea     London   \n",
      "1     Quiet Pink Studio in the PIJP area  De Pijp - Rivierenbuurt  Amsterdam   \n",
      "3         Bonito estudio en pleno centro              Universidad     Madrid   \n",
      "7          Private room - Central London              Westminster     London   \n",
      "10       Light 2 bedroom in Notting Hill   Kensington and Chelsea     London   \n",
      "..                                   ...                      ...        ...   \n",
      "967   Hackney / Dalston / London Fields                   Hackney     London   \n",
      "970     Charming apartment in old centre   De Baarsjes - Oud-West  Amsterdam   \n",
      "971  East London/Shoreditch-Superb 2 bed                  Hackney     London   \n",
      "985           Great Room at the Gran Via                  Palacio     Madrid   \n",
      "987  Stylish app. in center of Amsterdam             Centrum-Oost  Amsterdam   \n",
      "\n",
      "                   State          Country        Room Type  Room Price  \\\n",
      "0                England   United Kingdom  Entire home/apt         100   \n",
      "1          North Holland  The Netherlands     Private room          80   \n",
      "3    Comunidad de Madrid            Spain  Entire home/apt          38   \n",
      "7                England   United Kingdom     Private room          60   \n",
      "10               England   United Kingdom  Entire home/apt         140   \n",
      "..                   ...              ...              ...         ...   \n",
      "967              England   United Kingdom     Private room          39   \n",
      "970        North Holland  The Netherlands  Entire home/apt         120   \n",
      "971              England   United Kingdom  Entire home/apt         165   \n",
      "985  Comunidad de Madrid            Spain     Private room          30   \n",
      "987        North Holland  The Netherlands  Entire home/apt         115   \n",
      "\n",
      "     Room Availability  \n",
      "0                  338  \n",
      "1                   10  \n",
      "3                  274  \n",
      "7                  351  \n",
      "10                 151  \n",
      "..                 ...  \n",
      "967                365  \n",
      "970                192  \n",
      "971                301  \n",
      "985                338  \n",
      "987                255  \n",
      "\n",
      "[177 rows x 11 columns]\n"
     ]
    }
   ],
   "source": [
    "mask = (review[\"City\"] == \"Madrid\") | (review[\"City\"] == \"London\") | (review[\"City\"] == \"Amsterdam\")\n",
    "print(review[mask])"
   ]
  },
  {
   "cell_type": "code",
   "execution_count": 174,
   "metadata": {},
   "outputs": [
    {
     "name": "stdout",
     "output_type": "stream",
     "text": [
      "     Review ID Review Date                                     Review Content  \\\n",
      "0      4055629  2012-10-06  Very nice accommodation in an aesthetically pl...   \n",
      "1     25329416  2013-11-03  Me and my friends had such a nice time at Dott...   \n",
      "3     41133812  2012-05-08  The apartment was situated on the first floor ...   \n",
      "7     10787310  2013-06-02  Carolines room is perfectly located to discove...   \n",
      "10    24326991  2014-10-19  Many thanks Annabel, our stay was perfect! We ...   \n",
      "..         ...         ...                                                ...   \n",
      "967   31488970  2014-10-18  Serena was very welcoming and the place was qu...   \n",
      "970    1211808  2014-03-08  It was such a shame that we were only able to ...   \n",
      "971   21709517  2013-07-03  Anders is a great host. The flat is exactly as...   \n",
      "985   29498170  2013-12-17  The neighborhood was pretty central and my fri...   \n",
      "987   21950610  2013-06-10  Arne's studio was the perfect size and locatio...   \n",
      "\n",
      "                           Listing Title            Neighbourhood       City  \\\n",
      "0    Nottinghill Portobello  Artist Flat   Kensington and Chelsea     London   \n",
      "1     Quiet Pink Studio in the PIJP area  De Pijp - Rivierenbuurt  Amsterdam   \n",
      "3         Bonito estudio en pleno centro              Universidad     Madrid   \n",
      "7          Private room - Central London              Westminster     London   \n",
      "10       Light 2 bedroom in Notting Hill   Kensington and Chelsea     London   \n",
      "..                                   ...                      ...        ...   \n",
      "967   Hackney / Dalston / London Fields                   Hackney     London   \n",
      "970     Charming apartment in old centre   De Baarsjes - Oud-West  Amsterdam   \n",
      "971  East London/Shoreditch-Superb 2 bed                  Hackney     London   \n",
      "985           Great Room at the Gran Via                  Palacio     Madrid   \n",
      "987  Stylish app. in center of Amsterdam             Centrum-Oost  Amsterdam   \n",
      "\n",
      "                   State          Country        Room Type  Room Price  \\\n",
      "0                England   United Kingdom  Entire home/apt         100   \n",
      "1          North Holland  The Netherlands     Private room          80   \n",
      "3    Comunidad de Madrid            Spain  Entire home/apt          38   \n",
      "7                England   United Kingdom     Private room          60   \n",
      "10               England   United Kingdom  Entire home/apt         140   \n",
      "..                   ...              ...              ...         ...   \n",
      "967              England   United Kingdom     Private room          39   \n",
      "970        North Holland  The Netherlands  Entire home/apt         120   \n",
      "971              England   United Kingdom  Entire home/apt         165   \n",
      "985  Comunidad de Madrid            Spain     Private room          30   \n",
      "987        North Holland  The Netherlands  Entire home/apt         115   \n",
      "\n",
      "     Room Availability  \n",
      "0                  338  \n",
      "1                   10  \n",
      "3                  274  \n",
      "7                  351  \n",
      "10                 151  \n",
      "..                 ...  \n",
      "967                365  \n",
      "970                192  \n",
      "971                301  \n",
      "985                338  \n",
      "987                255  \n",
      "\n",
      "[177 rows x 11 columns]\n"
     ]
    }
   ],
   "source": [
    "mask = review[\"City\"].isin([\"Madrid\",\"London\",\"Amsterdam\"])\n",
    "print(review[mask])"
   ]
  },
  {
   "cell_type": "code",
   "execution_count": 176,
   "metadata": {},
   "outputs": [
    {
     "data": {
      "text/html": [
       "<div>\n",
       "<style scoped>\n",
       "    .dataframe tbody tr th:only-of-type {\n",
       "        vertical-align: middle;\n",
       "    }\n",
       "\n",
       "    .dataframe tbody tr th {\n",
       "        vertical-align: top;\n",
       "    }\n",
       "\n",
       "    .dataframe thead th {\n",
       "        text-align: right;\n",
       "    }\n",
       "</style>\n",
       "<table border=\"1\" class=\"dataframe\">\n",
       "  <thead>\n",
       "    <tr style=\"text-align: right;\">\n",
       "      <th></th>\n",
       "      <th>Review ID</th>\n",
       "      <th>Review Date</th>\n",
       "      <th>Review Content</th>\n",
       "      <th>Listing Title</th>\n",
       "      <th>Neighbourhood</th>\n",
       "      <th>City</th>\n",
       "      <th>State</th>\n",
       "      <th>Country</th>\n",
       "      <th>Room Type</th>\n",
       "      <th>Room Price</th>\n",
       "      <th>Room Availability</th>\n",
       "    </tr>\n",
       "  </thead>\n",
       "  <tbody>\n",
       "    <tr>\n",
       "      <th>0</th>\n",
       "      <td>4055629</td>\n",
       "      <td>2012-10-06</td>\n",
       "      <td>Very nice accommodation in an aesthetically pl...</td>\n",
       "      <td>Nottinghill Portobello  Artist Flat</td>\n",
       "      <td>Kensington and Chelsea</td>\n",
       "      <td>London</td>\n",
       "      <td>England</td>\n",
       "      <td>United Kingdom</td>\n",
       "      <td>Entire home/apt</td>\n",
       "      <td>100</td>\n",
       "      <td>338</td>\n",
       "    </tr>\n",
       "    <tr>\n",
       "      <th>1</th>\n",
       "      <td>25329416</td>\n",
       "      <td>2013-11-03</td>\n",
       "      <td>Me and my friends had such a nice time at Dott...</td>\n",
       "      <td>Quiet Pink Studio in the PIJP area</td>\n",
       "      <td>De Pijp - Rivierenbuurt</td>\n",
       "      <td>Amsterdam</td>\n",
       "      <td>North Holland</td>\n",
       "      <td>The Netherlands</td>\n",
       "      <td>Private room</td>\n",
       "      <td>80</td>\n",
       "      <td>10</td>\n",
       "    </tr>\n",
       "    <tr>\n",
       "      <th>17</th>\n",
       "      <td>7568387</td>\n",
       "      <td>2013-02-01</td>\n",
       "      <td>Kristina and Ekaterine were lovley hosts. They...</td>\n",
       "      <td>Hollywood Furnished Private Bedroom</td>\n",
       "      <td>Hollywood</td>\n",
       "      <td>Los Angeles</td>\n",
       "      <td>California</td>\n",
       "      <td>United States</td>\n",
       "      <td>Private room</td>\n",
       "      <td>99</td>\n",
       "      <td>244</td>\n",
       "    </tr>\n",
       "    <tr>\n",
       "      <th>20</th>\n",
       "      <td>38360407</td>\n",
       "      <td>2013-12-31</td>\n",
       "      <td>Nice contact. Very friendly and supportive. Th...</td>\n",
       "      <td>Curved wall Studio ST4 with Kitchen</td>\n",
       "      <td>Tower Hamlets</td>\n",
       "      <td>London</td>\n",
       "      <td>England</td>\n",
       "      <td>United Kingdom</td>\n",
       "      <td>Entire home/apt</td>\n",
       "      <td>85</td>\n",
       "      <td>344</td>\n",
       "    </tr>\n",
       "    <tr>\n",
       "      <th>23</th>\n",
       "      <td>40294978</td>\n",
       "      <td>2012-09-25</td>\n",
       "      <td>The room was nice, breakfast was great and Joh...</td>\n",
       "      <td>Dupont Private Room Meridian Manor</td>\n",
       "      <td>Dupont Circle, Connecticut Avenue/K Street</td>\n",
       "      <td>Washington</td>\n",
       "      <td>D.C.</td>\n",
       "      <td>District of Columbia, United States</td>\n",
       "      <td>Private room</td>\n",
       "      <td>99</td>\n",
       "      <td>361</td>\n",
       "    </tr>\n",
       "    <tr>\n",
       "      <th>...</th>\n",
       "      <td>...</td>\n",
       "      <td>...</td>\n",
       "      <td>...</td>\n",
       "      <td>...</td>\n",
       "      <td>...</td>\n",
       "      <td>...</td>\n",
       "      <td>...</td>\n",
       "      <td>...</td>\n",
       "      <td>...</td>\n",
       "      <td>...</td>\n",
       "      <td>...</td>\n",
       "    </tr>\n",
       "    <tr>\n",
       "      <th>986</th>\n",
       "      <td>38974125</td>\n",
       "      <td>2014-11-29</td>\n",
       "      <td>The host canceled this reservation 2 days befo...</td>\n",
       "      <td>Cozy and Heart of Downtown MTL</td>\n",
       "      <td>Ville-Marie</td>\n",
       "      <td>Montreal</td>\n",
       "      <td>Quebec</td>\n",
       "      <td>Canada</td>\n",
       "      <td>Entire home/apt</td>\n",
       "      <td>80</td>\n",
       "      <td>137</td>\n",
       "    </tr>\n",
       "    <tr>\n",
       "      <th>991</th>\n",
       "      <td>35585745</td>\n",
       "      <td>2012-12-30</td>\n",
       "      <td>Andrea was good in communication and flexible ...</td>\n",
       "      <td>Designer Inner City Escape</td>\n",
       "      <td>Sydney</td>\n",
       "      <td>Sydney</td>\n",
       "      <td>New South Wales</td>\n",
       "      <td>Australia</td>\n",
       "      <td>Entire home/apt</td>\n",
       "      <td>98</td>\n",
       "      <td>319</td>\n",
       "    </tr>\n",
       "    <tr>\n",
       "      <th>992</th>\n",
       "      <td>13423090</td>\n",
       "      <td>2014-12-25</td>\n",
       "      <td>Ca' di paolo is a cozy apartment in a great lo...</td>\n",
       "      <td>ca' di paolo</td>\n",
       "      <td>Castello</td>\n",
       "      <td>Venice</td>\n",
       "      <td>Veneto</td>\n",
       "      <td>Italy</td>\n",
       "      <td>Entire home/apt</td>\n",
       "      <td>99</td>\n",
       "      <td>303</td>\n",
       "    </tr>\n",
       "    <tr>\n",
       "      <th>993</th>\n",
       "      <td>27392171</td>\n",
       "      <td>2012-03-07</td>\n",
       "      <td>What a great place to stay! In the heart of Ma...</td>\n",
       "      <td>Charming Studio - Heart of Marais</td>\n",
       "      <td>Temple</td>\n",
       "      <td>Paris</td>\n",
       "      <td>Île-de-France</td>\n",
       "      <td>France</td>\n",
       "      <td>Entire home/apt</td>\n",
       "      <td>95</td>\n",
       "      <td>284</td>\n",
       "    </tr>\n",
       "    <tr>\n",
       "      <th>997</th>\n",
       "      <td>46642535</td>\n",
       "      <td>2014-08-30</td>\n",
       "      <td>John was a great host.  I came in on a red eye...</td>\n",
       "      <td>Top Floor Renovated 1 BR / 1BA</td>\n",
       "      <td>West Roxbury</td>\n",
       "      <td>Boston</td>\n",
       "      <td>Massachusetts</td>\n",
       "      <td>United States</td>\n",
       "      <td>Entire home/apt</td>\n",
       "      <td>95</td>\n",
       "      <td>10</td>\n",
       "    </tr>\n",
       "  </tbody>\n",
       "</table>\n",
       "<p>196 rows × 11 columns</p>\n",
       "</div>"
      ],
      "text/plain": [
       "     Review ID Review Date                                     Review Content  \\\n",
       "0      4055629  2012-10-06  Very nice accommodation in an aesthetically pl...   \n",
       "1     25329416  2013-11-03  Me and my friends had such a nice time at Dott...   \n",
       "17     7568387  2013-02-01  Kristina and Ekaterine were lovley hosts. They...   \n",
       "20    38360407  2013-12-31  Nice contact. Very friendly and supportive. Th...   \n",
       "23    40294978  2012-09-25  The room was nice, breakfast was great and Joh...   \n",
       "..         ...         ...                                                ...   \n",
       "986   38974125  2014-11-29  The host canceled this reservation 2 days befo...   \n",
       "991   35585745  2012-12-30  Andrea was good in communication and flexible ...   \n",
       "992   13423090  2014-12-25  Ca' di paolo is a cozy apartment in a great lo...   \n",
       "993   27392171  2012-03-07  What a great place to stay! In the heart of Ma...   \n",
       "997   46642535  2014-08-30  John was a great host.  I came in on a red eye...   \n",
       "\n",
       "                           Listing Title  \\\n",
       "0    Nottinghill Portobello  Artist Flat   \n",
       "1     Quiet Pink Studio in the PIJP area   \n",
       "17   Hollywood Furnished Private Bedroom   \n",
       "20   Curved wall Studio ST4 with Kitchen   \n",
       "23    Dupont Private Room Meridian Manor   \n",
       "..                                   ...   \n",
       "986       Cozy and Heart of Downtown MTL   \n",
       "991           Designer Inner City Escape   \n",
       "992                         ca' di paolo   \n",
       "993    Charming Studio - Heart of Marais   \n",
       "997      Top Floor Renovated 1 BR / 1BA    \n",
       "\n",
       "                                  Neighbourhood         City            State  \\\n",
       "0                        Kensington and Chelsea       London          England   \n",
       "1                       De Pijp - Rivierenbuurt    Amsterdam    North Holland   \n",
       "17                                    Hollywood  Los Angeles       California   \n",
       "20                                Tower Hamlets       London          England   \n",
       "23   Dupont Circle, Connecticut Avenue/K Street   Washington             D.C.   \n",
       "..                                          ...          ...              ...   \n",
       "986                                 Ville-Marie     Montreal           Quebec   \n",
       "991                                      Sydney       Sydney  New South Wales   \n",
       "992                                    Castello       Venice           Veneto   \n",
       "993                                      Temple        Paris    Île-de-France   \n",
       "997                                West Roxbury       Boston    Massachusetts   \n",
       "\n",
       "                                 Country        Room Type  Room Price  \\\n",
       "0                         United Kingdom  Entire home/apt         100   \n",
       "1                        The Netherlands     Private room          80   \n",
       "17                         United States     Private room          99   \n",
       "20                        United Kingdom  Entire home/apt          85   \n",
       "23   District of Columbia, United States     Private room          99   \n",
       "..                                   ...              ...         ...   \n",
       "986                               Canada  Entire home/apt          80   \n",
       "991                            Australia  Entire home/apt          98   \n",
       "992                                Italy  Entire home/apt          99   \n",
       "993                               France  Entire home/apt          95   \n",
       "997                        United States  Entire home/apt          95   \n",
       "\n",
       "     Room Availability  \n",
       "0                  338  \n",
       "1                   10  \n",
       "17                 244  \n",
       "20                 344  \n",
       "23                 361  \n",
       "..                 ...  \n",
       "986                137  \n",
       "991                319  \n",
       "992                303  \n",
       "993                284  \n",
       "997                 10  \n",
       "\n",
       "[196 rows x 11 columns]"
      ]
     },
     "execution_count": 176,
     "metadata": {},
     "output_type": "execute_result"
    }
   ],
   "source": [
    "mask = review[\"Room Price\"].between(80,100)\n",
    "review[mask]"
   ]
  },
  {
   "cell_type": "code",
   "execution_count": 178,
   "metadata": {},
   "outputs": [
    {
     "data": {
      "text/html": [
       "<div>\n",
       "<style scoped>\n",
       "    .dataframe tbody tr th:only-of-type {\n",
       "        vertical-align: middle;\n",
       "    }\n",
       "\n",
       "    .dataframe tbody tr th {\n",
       "        vertical-align: top;\n",
       "    }\n",
       "\n",
       "    .dataframe thead th {\n",
       "        text-align: right;\n",
       "    }\n",
       "</style>\n",
       "<table border=\"1\" class=\"dataframe\">\n",
       "  <thead>\n",
       "    <tr style=\"text-align: right;\">\n",
       "      <th></th>\n",
       "      <th>Review ID</th>\n",
       "      <th>Review Date</th>\n",
       "      <th>Review Content</th>\n",
       "      <th>Listing Title</th>\n",
       "      <th>Neighbourhood</th>\n",
       "      <th>City</th>\n",
       "      <th>State</th>\n",
       "      <th>Country</th>\n",
       "      <th>Room Type</th>\n",
       "      <th>Room Price</th>\n",
       "      <th>Room Availability</th>\n",
       "    </tr>\n",
       "  </thead>\n",
       "  <tbody>\n",
       "    <tr>\n",
       "      <th>1</th>\n",
       "      <td>25329416</td>\n",
       "      <td>2013-11-03</td>\n",
       "      <td>Me and my friends had such a nice time at Dott...</td>\n",
       "      <td>Quiet Pink Studio in the PIJP area</td>\n",
       "      <td>De Pijp - Rivierenbuurt</td>\n",
       "      <td>Amsterdam</td>\n",
       "      <td>North Holland</td>\n",
       "      <td>The Netherlands</td>\n",
       "      <td>Private room</td>\n",
       "      <td>80</td>\n",
       "      <td>10</td>\n",
       "    </tr>\n",
       "    <tr>\n",
       "      <th>4</th>\n",
       "      <td>7465026</td>\n",
       "      <td>2013-08-16</td>\n",
       "      <td>Even though it was only for one night, we had ...</td>\n",
       "      <td>Acropolis Apartment brand new</td>\n",
       "      <td>ΑΚΡΟΠΟΛΗ</td>\n",
       "      <td>Athens</td>\n",
       "      <td>Attica</td>\n",
       "      <td>Greece</td>\n",
       "      <td>Entire home/apt</td>\n",
       "      <td>62</td>\n",
       "      <td>281</td>\n",
       "    </tr>\n",
       "    <tr>\n",
       "      <th>6</th>\n",
       "      <td>20417380</td>\n",
       "      <td>2013-11-07</td>\n",
       "      <td>Wonderful experience. We loved staying in the ...</td>\n",
       "      <td>LARGE HOME FOR GROUP ACCOMMODATION</td>\n",
       "      <td>Stonnington</td>\n",
       "      <td>Melbourne</td>\n",
       "      <td>Victoria</td>\n",
       "      <td>Australia</td>\n",
       "      <td>Entire home/apt</td>\n",
       "      <td>248</td>\n",
       "      <td>239</td>\n",
       "    </tr>\n",
       "    <tr>\n",
       "      <th>7</th>\n",
       "      <td>10787310</td>\n",
       "      <td>2013-06-02</td>\n",
       "      <td>Carolines room is perfectly located to discove...</td>\n",
       "      <td>Private room - Central London</td>\n",
       "      <td>Westminster</td>\n",
       "      <td>London</td>\n",
       "      <td>England</td>\n",
       "      <td>United Kingdom</td>\n",
       "      <td>Private room</td>\n",
       "      <td>60</td>\n",
       "      <td>351</td>\n",
       "    </tr>\n",
       "    <tr>\n",
       "      <th>9</th>\n",
       "      <td>15542291</td>\n",
       "      <td>2013-12-28</td>\n",
       "      <td>What a wonderful location, right in the heart ...</td>\n",
       "      <td>Athens Acropolis /B 'Luxury 2</td>\n",
       "      <td>ΕΜΠΟΡΙΚΟ ΤΡΙΓΩΝΟ-ΠΛΑΚΑ</td>\n",
       "      <td>Athens</td>\n",
       "      <td>Attica</td>\n",
       "      <td>Greece</td>\n",
       "      <td>Entire home/apt</td>\n",
       "      <td>37</td>\n",
       "      <td>329</td>\n",
       "    </tr>\n",
       "    <tr>\n",
       "      <th>...</th>\n",
       "      <td>...</td>\n",
       "      <td>...</td>\n",
       "      <td>...</td>\n",
       "      <td>...</td>\n",
       "      <td>...</td>\n",
       "      <td>...</td>\n",
       "      <td>...</td>\n",
       "      <td>...</td>\n",
       "      <td>...</td>\n",
       "      <td>...</td>\n",
       "      <td>...</td>\n",
       "    </tr>\n",
       "    <tr>\n",
       "      <th>983</th>\n",
       "      <td>2018617</td>\n",
       "      <td>2013-12-22</td>\n",
       "      <td>Ysaira and Jose are the sweetest people. They ...</td>\n",
       "      <td>Bronx Room Near Yankees &amp; Harlem</td>\n",
       "      <td>Morris Heights</td>\n",
       "      <td>New York City</td>\n",
       "      <td>New York</td>\n",
       "      <td>United States</td>\n",
       "      <td>Private room</td>\n",
       "      <td>40</td>\n",
       "      <td>302</td>\n",
       "    </tr>\n",
       "    <tr>\n",
       "      <th>985</th>\n",
       "      <td>29498170</td>\n",
       "      <td>2013-12-17</td>\n",
       "      <td>The neighborhood was pretty central and my fri...</td>\n",
       "      <td>Great Room at the Gran Via</td>\n",
       "      <td>Palacio</td>\n",
       "      <td>Madrid</td>\n",
       "      <td>Comunidad de Madrid</td>\n",
       "      <td>Spain</td>\n",
       "      <td>Private room</td>\n",
       "      <td>30</td>\n",
       "      <td>338</td>\n",
       "    </tr>\n",
       "    <tr>\n",
       "      <th>987</th>\n",
       "      <td>21950610</td>\n",
       "      <td>2013-06-10</td>\n",
       "      <td>Arne's studio was the perfect size and locatio...</td>\n",
       "      <td>Stylish app. in center of Amsterdam</td>\n",
       "      <td>Centrum-Oost</td>\n",
       "      <td>Amsterdam</td>\n",
       "      <td>North Holland</td>\n",
       "      <td>The Netherlands</td>\n",
       "      <td>Entire home/apt</td>\n",
       "      <td>115</td>\n",
       "      <td>255</td>\n",
       "    </tr>\n",
       "    <tr>\n",
       "      <th>996</th>\n",
       "      <td>30544438</td>\n",
       "      <td>2013-02-28</td>\n",
       "      <td>Highly recommend this as a place to stay if yo...</td>\n",
       "      <td>The Venice Roost on Abbot Kinney</td>\n",
       "      <td>Venice</td>\n",
       "      <td>Los Angeles</td>\n",
       "      <td>California</td>\n",
       "      <td>United States</td>\n",
       "      <td>Entire home/apt</td>\n",
       "      <td>191</td>\n",
       "      <td>309</td>\n",
       "    </tr>\n",
       "    <tr>\n",
       "      <th>999</th>\n",
       "      <td>38944752</td>\n",
       "      <td>2013-10-15</td>\n",
       "      <td>Thank you for the wonderful stay!   It was a c...</td>\n",
       "      <td>15 Minutes from Manhattan</td>\n",
       "      <td>Woodside</td>\n",
       "      <td>New York City</td>\n",
       "      <td>New York</td>\n",
       "      <td>United States</td>\n",
       "      <td>Private room</td>\n",
       "      <td>110</td>\n",
       "      <td>329</td>\n",
       "    </tr>\n",
       "  </tbody>\n",
       "</table>\n",
       "<p>336 rows × 11 columns</p>\n",
       "</div>"
      ],
      "text/plain": [
       "     Review ID Review Date                                     Review Content  \\\n",
       "1     25329416  2013-11-03  Me and my friends had such a nice time at Dott...   \n",
       "4      7465026  2013-08-16  Even though it was only for one night, we had ...   \n",
       "6     20417380  2013-11-07  Wonderful experience. We loved staying in the ...   \n",
       "7     10787310  2013-06-02  Carolines room is perfectly located to discove...   \n",
       "9     15542291  2013-12-28  What a wonderful location, right in the heart ...   \n",
       "..         ...         ...                                                ...   \n",
       "983    2018617  2013-12-22  Ysaira and Jose are the sweetest people. They ...   \n",
       "985   29498170  2013-12-17  The neighborhood was pretty central and my fri...   \n",
       "987   21950610  2013-06-10  Arne's studio was the perfect size and locatio...   \n",
       "996   30544438  2013-02-28  Highly recommend this as a place to stay if yo...   \n",
       "999   38944752  2013-10-15  Thank you for the wonderful stay!   It was a c...   \n",
       "\n",
       "                           Listing Title            Neighbourhood  \\\n",
       "1     Quiet Pink Studio in the PIJP area  De Pijp - Rivierenbuurt   \n",
       "4          Acropolis Apartment brand new                 ΑΚΡΟΠΟΛΗ   \n",
       "6     LARGE HOME FOR GROUP ACCOMMODATION              Stonnington   \n",
       "7          Private room - Central London              Westminster   \n",
       "9          Athens Acropolis /B 'Luxury 2   ΕΜΠΟΡΙΚΟ ΤΡΙΓΩΝΟ-ΠΛΑΚΑ   \n",
       "..                                   ...                      ...   \n",
       "983     Bronx Room Near Yankees & Harlem           Morris Heights   \n",
       "985           Great Room at the Gran Via                  Palacio   \n",
       "987  Stylish app. in center of Amsterdam             Centrum-Oost   \n",
       "996     The Venice Roost on Abbot Kinney                   Venice   \n",
       "999            15 Minutes from Manhattan                 Woodside   \n",
       "\n",
       "              City                State          Country        Room Type  \\\n",
       "1        Amsterdam        North Holland  The Netherlands     Private room   \n",
       "4           Athens               Attica           Greece  Entire home/apt   \n",
       "6        Melbourne             Victoria        Australia  Entire home/apt   \n",
       "7           London              England   United Kingdom     Private room   \n",
       "9           Athens               Attica           Greece  Entire home/apt   \n",
       "..             ...                  ...              ...              ...   \n",
       "983  New York City             New York    United States     Private room   \n",
       "985         Madrid  Comunidad de Madrid            Spain     Private room   \n",
       "987      Amsterdam        North Holland  The Netherlands  Entire home/apt   \n",
       "996    Los Angeles           California    United States  Entire home/apt   \n",
       "999  New York City             New York    United States     Private room   \n",
       "\n",
       "     Room Price  Room Availability  \n",
       "1            80                 10  \n",
       "4            62                281  \n",
       "6           248                239  \n",
       "7            60                351  \n",
       "9            37                329  \n",
       "..          ...                ...  \n",
       "983          40                302  \n",
       "985          30                338  \n",
       "987         115                255  \n",
       "996         191                309  \n",
       "999         110                329  \n",
       "\n",
       "[336 rows x 11 columns]"
      ]
     },
     "execution_count": 178,
     "metadata": {},
     "output_type": "execute_result"
    }
   ],
   "source": [
    "mask = review[\"Review Date\"].between(\"2013-01-01\",\"2014-01-01\")\n",
    "review[mask]"
   ]
  },
  {
   "cell_type": "code",
   "execution_count": 179,
   "metadata": {},
   "outputs": [
    {
     "data": {
      "text/plain": [
       "409     Amsterdam\n",
       "912     Amsterdam\n",
       "770     Amsterdam\n",
       "168     Amsterdam\n",
       "782     Amsterdam\n",
       "          ...    \n",
       "839    Washington\n",
       "139    Washington\n",
       "128    Washington\n",
       "589    Washington\n",
       "437    Washington\n",
       "Name: City, Length: 1000, dtype: object"
      ]
     },
     "execution_count": 179,
     "metadata": {},
     "output_type": "execute_result"
    }
   ],
   "source": [
    "review.sort_values(\"City\", inplace=True)\n",
    "review[\"City\"]"
   ]
  },
  {
   "cell_type": "code",
   "execution_count": 180,
   "metadata": {},
   "outputs": [
    {
     "data": {
      "text/plain": [
       "409    False\n",
       "912     True\n",
       "770     True\n",
       "168     True\n",
       "782     True\n",
       "       ...  \n",
       "839     True\n",
       "139     True\n",
       "128     True\n",
       "589     True\n",
       "437     True\n",
       "Name: City, Length: 1000, dtype: bool"
      ]
     },
     "execution_count": 180,
     "metadata": {},
     "output_type": "execute_result"
    }
   ],
   "source": [
    "review[\"City\"].duplicated()"
   ]
  },
  {
   "cell_type": "code",
   "execution_count": 184,
   "metadata": {},
   "outputs": [
    {
     "data": {
      "text/plain": [
       "409        Amsterdam\n",
       "772          Antwerp\n",
       "648           Athens\n",
       "758           Austin\n",
       "135        Barcelona\n",
       "77            Berlin\n",
       "508           Boston\n",
       "250         Brussels\n",
       "199          Chicago\n",
       "877           London\n",
       "799      Los Angeles\n",
       "297           Madrid\n",
       "83         Melbourne\n",
       "498         Montreal\n",
       "47         Nashville\n",
       "21       New Orleans\n",
       "643    New York City\n",
       "292          Oakland\n",
       "927            Paris\n",
       "830         Portland\n",
       "896    San Francisco\n",
       "965          Seattle\n",
       "472           Sydney\n",
       "220          Toronto\n",
       "278           Venice\n",
       "420           Vienna\n",
       "450       Washington\n",
       "Name: City, dtype: object"
      ]
     },
     "execution_count": 184,
     "metadata": {},
     "output_type": "execute_result"
    }
   ],
   "source": [
    "mask = ~review[\"City\"].duplicated()\n",
    "review[mask][\"City\"]"
   ]
  },
  {
   "cell_type": "code",
   "execution_count": 185,
   "metadata": {},
   "outputs": [
    {
     "name": "stdout",
     "output_type": "stream",
     "text": [
      "1000\n"
     ]
    }
   ],
   "source": [
    "print(len(review))"
   ]
  },
  {
   "cell_type": "code",
   "execution_count": 186,
   "metadata": {},
   "outputs": [
    {
     "name": "stdout",
     "output_type": "stream",
     "text": [
      "1000\n"
     ]
    }
   ],
   "source": [
    "print(len(review.drop_duplicates()))"
   ]
  },
  {
   "cell_type": "code",
   "execution_count": 187,
   "metadata": {},
   "outputs": [
    {
     "name": "stdout",
     "output_type": "stream",
     "text": [
      "27\n"
     ]
    }
   ],
   "source": [
    "print(len(review.drop_duplicates(subset=[\"City\"])))"
   ]
  },
  {
   "cell_type": "code",
   "execution_count": 188,
   "metadata": {},
   "outputs": [
    {
     "data": {
      "text/plain": [
       "3"
      ]
     },
     "execution_count": 188,
     "metadata": {},
     "output_type": "execute_result"
    }
   ],
   "source": [
    "len(review.drop_duplicates(subset=[\"Room Type\"]))"
   ]
  },
  {
   "cell_type": "code",
   "execution_count": 189,
   "metadata": {},
   "outputs": [
    {
     "data": {
      "text/plain": [
       "409     Amsterdam\n",
       "912     Amsterdam\n",
       "770     Amsterdam\n",
       "168     Amsterdam\n",
       "782     Amsterdam\n",
       "          ...    \n",
       "839    Washington\n",
       "139    Washington\n",
       "128    Washington\n",
       "589    Washington\n",
       "437    Washington\n",
       "Name: City, Length: 1000, dtype: object"
      ]
     },
     "execution_count": 189,
     "metadata": {},
     "output_type": "execute_result"
    }
   ],
   "source": [
    "#unique, nunique methods\n",
    "review[\"City\"]"
   ]
  },
  {
   "cell_type": "code",
   "execution_count": 190,
   "metadata": {},
   "outputs": [
    {
     "data": {
      "text/plain": [
       "array(['Amsterdam', 'Antwerp', 'Athens', 'Austin', 'Barcelona', 'Berlin',\n",
       "       'Boston', 'Brussels', 'Chicago', 'London', 'Los Angeles', 'Madrid',\n",
       "       'Melbourne', 'Montreal', 'Nashville', 'New Orleans',\n",
       "       'New York City', 'Oakland', 'Paris', 'Portland', 'San Francisco',\n",
       "       'Seattle', 'Sydney', 'Toronto', 'Venice', 'Vienna', 'Washington'],\n",
       "      dtype=object)"
      ]
     },
     "execution_count": 190,
     "metadata": {},
     "output_type": "execute_result"
    }
   ],
   "source": [
    "review[\"City\"].unique()"
   ]
  },
  {
   "cell_type": "code",
   "execution_count": 191,
   "metadata": {},
   "outputs": [
    {
     "data": {
      "text/plain": [
       "27"
      ]
     },
     "execution_count": 191,
     "metadata": {},
     "output_type": "execute_result"
    }
   ],
   "source": [
    "len(review[\"City\"].unique())"
   ]
  },
  {
   "cell_type": "code",
   "execution_count": 192,
   "metadata": {},
   "outputs": [
    {
     "data": {
      "text/plain": [
       "numpy.ndarray"
      ]
     },
     "execution_count": 192,
     "metadata": {},
     "output_type": "execute_result"
    }
   ],
   "source": [
    "type(review[\"City\"].unique())"
   ]
  },
  {
   "cell_type": "code",
   "execution_count": 193,
   "metadata": {},
   "outputs": [
    {
     "data": {
      "text/plain": [
       "27"
      ]
     },
     "execution_count": 193,
     "metadata": {},
     "output_type": "execute_result"
    }
   ],
   "source": [
    "review[\"City\"].nunique() #number of unique"
   ]
  },
  {
   "cell_type": "code",
   "execution_count": 195,
   "metadata": {},
   "outputs": [
    {
     "data": {
      "text/plain": [
       "409                        The Netherlands\n",
       "912                        The Netherlands\n",
       "770                        The Netherlands\n",
       "168                        The Netherlands\n",
       "782                        The Netherlands\n",
       "                      ...                 \n",
       "839    District of Columbia, United States\n",
       "139    District of Columbia, United States\n",
       "128    District of Columbia, United States\n",
       "589    District of Columbia, United States\n",
       "437    District of Columbia, United States\n",
       "Name: Country, Length: 1000, dtype: object"
      ]
     },
     "execution_count": 195,
     "metadata": {},
     "output_type": "execute_result"
    }
   ],
   "source": [
    "review[\"Country\"]\n",
    "# upper(), lower(), title(), len()"
   ]
  },
  {
   "cell_type": "code",
   "execution_count": 196,
   "metadata": {},
   "outputs": [
    {
     "data": {
      "text/plain": [
       "409                        THE NETHERLANDS\n",
       "912                        THE NETHERLANDS\n",
       "770                        THE NETHERLANDS\n",
       "168                        THE NETHERLANDS\n",
       "782                        THE NETHERLANDS\n",
       "                      ...                 \n",
       "839    DISTRICT OF COLUMBIA, UNITED STATES\n",
       "139    DISTRICT OF COLUMBIA, UNITED STATES\n",
       "128    DISTRICT OF COLUMBIA, UNITED STATES\n",
       "589    DISTRICT OF COLUMBIA, UNITED STATES\n",
       "437    DISTRICT OF COLUMBIA, UNITED STATES\n",
       "Name: Country, Length: 1000, dtype: object"
      ]
     },
     "execution_count": 196,
     "metadata": {},
     "output_type": "execute_result"
    }
   ],
   "source": [
    "review[\"Country\"].str.upper()"
   ]
  },
  {
   "cell_type": "code",
   "execution_count": 197,
   "metadata": {},
   "outputs": [
    {
     "data": {
      "text/plain": [
       "409                        the netherlands\n",
       "912                        the netherlands\n",
       "770                        the netherlands\n",
       "168                        the netherlands\n",
       "782                        the netherlands\n",
       "                      ...                 \n",
       "839    district of columbia, united states\n",
       "139    district of columbia, united states\n",
       "128    district of columbia, united states\n",
       "589    district of columbia, united states\n",
       "437    district of columbia, united states\n",
       "Name: Country, Length: 1000, dtype: object"
      ]
     },
     "execution_count": 197,
     "metadata": {},
     "output_type": "execute_result"
    }
   ],
   "source": [
    "review[\"Country\"].str.lower()"
   ]
  },
  {
   "cell_type": "code",
   "execution_count": 198,
   "metadata": {},
   "outputs": [
    {
     "data": {
      "text/plain": [
       "409                        The Netherlands\n",
       "912                        The Netherlands\n",
       "770                        The Netherlands\n",
       "168                        The Netherlands\n",
       "782                        The Netherlands\n",
       "                      ...                 \n",
       "839    District Of Columbia, United States\n",
       "139    District Of Columbia, United States\n",
       "128    District Of Columbia, United States\n",
       "589    District Of Columbia, United States\n",
       "437    District Of Columbia, United States\n",
       "Name: Country, Length: 1000, dtype: object"
      ]
     },
     "execution_count": 198,
     "metadata": {},
     "output_type": "execute_result"
    }
   ],
   "source": [
    "review[\"Country\"].str.title()"
   ]
  },
  {
   "cell_type": "code",
   "execution_count": 202,
   "metadata": {},
   "outputs": [
    {
     "name": "stdout",
     "output_type": "stream",
     "text": [
      "17\n",
      "1000\n",
      "409    15\n",
      "912    15\n",
      "770    15\n",
      "168    15\n",
      "782    15\n",
      "       ..\n",
      "839    35\n",
      "139    35\n",
      "128    35\n",
      "589    35\n",
      "437    35\n",
      "Name: Country, Length: 1000, dtype: int64\n"
     ]
    }
   ],
   "source": [
    "print(len(\"benim adim deneme\"))\n",
    "print(len(review[\"Country\"]))\n",
    "print(review[\"Country\"].str.len())"
   ]
  },
  {
   "cell_type": "code",
   "execution_count": 211,
   "metadata": {},
   "outputs": [
    {
     "name": "stdout",
     "output_type": "stream",
     "text": [
      "arIn yazIlIm\n",
      "itü ıtu Itu\n",
      "itu itü Itu\n",
      "itu ıtu itü\n"
     ]
    }
   ],
   "source": [
    "print(\"arin yazilim\".replace(\"i\",\"I\"))\n",
    "x = \"itu ıtu Itu\"\n",
    "y = [\"itu\",\"ıtu\",\"Itu\"]\n",
    "for i in y:\n",
    "    print(x.replace(i,\"itü\"))"
   ]
  },
  {
   "cell_type": "code",
   "execution_count": 212,
   "metadata": {},
   "outputs": [
    {
     "name": "stdout",
     "output_type": "stream",
     "text": [
      "409       Private Room\n",
      "912    Entire home/apt\n",
      "770    Entire home/apt\n",
      "168    Entire home/apt\n",
      "782    Entire home/apt\n",
      "            ...       \n",
      "839    Entire home/apt\n",
      "139    Entire home/apt\n",
      "128    Entire home/apt\n",
      "589    Entire home/apt\n",
      "437        Shared Room\n",
      "Name: Room Type, Length: 1000, dtype: object\n"
     ]
    }
   ],
   "source": [
    "print(review[\"Room Type\"].str.replace(\"room\",\"Room\"))"
   ]
  },
  {
   "cell_type": "code",
   "execution_count": 214,
   "metadata": {},
   "outputs": [
    {
     "data": {
      "text/html": [
       "<div>\n",
       "<style scoped>\n",
       "    .dataframe tbody tr th:only-of-type {\n",
       "        vertical-align: middle;\n",
       "    }\n",
       "\n",
       "    .dataframe tbody tr th {\n",
       "        vertical-align: top;\n",
       "    }\n",
       "\n",
       "    .dataframe thead th {\n",
       "        text-align: right;\n",
       "    }\n",
       "</style>\n",
       "<table border=\"1\" class=\"dataframe\">\n",
       "  <thead>\n",
       "    <tr style=\"text-align: right;\">\n",
       "      <th></th>\n",
       "      <th>Review ID</th>\n",
       "      <th>Review Date</th>\n",
       "      <th>Review Content</th>\n",
       "      <th>Listing Title</th>\n",
       "      <th>Neighbourhood</th>\n",
       "      <th>City</th>\n",
       "      <th>State</th>\n",
       "      <th>Country</th>\n",
       "      <th>Room Type</th>\n",
       "      <th>Room Price</th>\n",
       "      <th>Room Availability</th>\n",
       "    </tr>\n",
       "  </thead>\n",
       "  <tbody>\n",
       "    <tr>\n",
       "      <th>643</th>\n",
       "      <td>7159670</td>\n",
       "      <td>2013-07-06</td>\n",
       "      <td>We had a great time staying with Leo! She was ...</td>\n",
       "      <td>Private room for 2 + couch—Chelsea</td>\n",
       "      <td>Chelsea</td>\n",
       "      <td>New York City</td>\n",
       "      <td>New York</td>\n",
       "      <td>United States</td>\n",
       "      <td>Private room</td>\n",
       "      <td>65</td>\n",
       "      <td>45</td>\n",
       "    </tr>\n",
       "    <tr>\n",
       "      <th>644</th>\n",
       "      <td>9955391</td>\n",
       "      <td>2012-03-17</td>\n",
       "      <td>A great spot, perfect for mid-town business or...</td>\n",
       "      <td>1 BDR in MIDTOWN DESIGNER APT</td>\n",
       "      <td>Midtown</td>\n",
       "      <td>New York City</td>\n",
       "      <td>New York</td>\n",
       "      <td>United States</td>\n",
       "      <td>Private room</td>\n",
       "      <td>125</td>\n",
       "      <td>296</td>\n",
       "    </tr>\n",
       "    <tr>\n",
       "      <th>18</th>\n",
       "      <td>9329281</td>\n",
       "      <td>2013-12-03</td>\n",
       "      <td>This is not our first time to NYC, but this is...</td>\n",
       "      <td>FANTASTIC TIMES SQUARE ONE BEDROOM</td>\n",
       "      <td>Theater District</td>\n",
       "      <td>New York City</td>\n",
       "      <td>New York</td>\n",
       "      <td>United States</td>\n",
       "      <td>Entire home/apt</td>\n",
       "      <td>260</td>\n",
       "      <td>291</td>\n",
       "    </tr>\n",
       "    <tr>\n",
       "      <th>664</th>\n",
       "      <td>28026267</td>\n",
       "      <td>2014-08-23</td>\n",
       "      <td>Anna made us feel welcome and provided some su...</td>\n",
       "      <td>Boutique Alcoves Studio by Union Sq</td>\n",
       "      <td>Greenwich Village</td>\n",
       "      <td>New York City</td>\n",
       "      <td>New York</td>\n",
       "      <td>United States</td>\n",
       "      <td>Entire home/apt</td>\n",
       "      <td>149</td>\n",
       "      <td>243</td>\n",
       "    </tr>\n",
       "    <tr>\n",
       "      <th>255</th>\n",
       "      <td>10080005</td>\n",
       "      <td>2013-06-11</td>\n",
       "      <td>We had a great stay at michaels place. He was ...</td>\n",
       "      <td>Beautiful Room for Rent in Astoria</td>\n",
       "      <td>Astoria</td>\n",
       "      <td>New York City</td>\n",
       "      <td>New York</td>\n",
       "      <td>United States</td>\n",
       "      <td>Private room</td>\n",
       "      <td>96</td>\n",
       "      <td>269</td>\n",
       "    </tr>\n",
       "    <tr>\n",
       "      <th>...</th>\n",
       "      <td>...</td>\n",
       "      <td>...</td>\n",
       "      <td>...</td>\n",
       "      <td>...</td>\n",
       "      <td>...</td>\n",
       "      <td>...</td>\n",
       "      <td>...</td>\n",
       "      <td>...</td>\n",
       "      <td>...</td>\n",
       "      <td>...</td>\n",
       "      <td>...</td>\n",
       "    </tr>\n",
       "    <tr>\n",
       "      <th>265</th>\n",
       "      <td>32062377</td>\n",
       "      <td>2014-07-03</td>\n",
       "      <td>We had a very friendly welcome from Isaac who ...</td>\n",
       "      <td>Architect designed 2000ft duplex</td>\n",
       "      <td>Bedford-Stuyvesant</td>\n",
       "      <td>New York City</td>\n",
       "      <td>New York</td>\n",
       "      <td>United States</td>\n",
       "      <td>Entire home/apt</td>\n",
       "      <td>220</td>\n",
       "      <td>235</td>\n",
       "    </tr>\n",
       "    <tr>\n",
       "      <th>560</th>\n",
       "      <td>151811</td>\n",
       "      <td>2014-03-05</td>\n",
       "      <td>My stay at Tama's apartment couldn't have been...</td>\n",
       "      <td>Quiet, Private BR W/BA, + Amenities</td>\n",
       "      <td>Harlem</td>\n",
       "      <td>New York City</td>\n",
       "      <td>New York</td>\n",
       "      <td>United States</td>\n",
       "      <td>Private room</td>\n",
       "      <td>135</td>\n",
       "      <td>326</td>\n",
       "    </tr>\n",
       "    <tr>\n",
       "      <th>361</th>\n",
       "      <td>4639476</td>\n",
       "      <td>2013-09-26</td>\n",
       "      <td>Amy was very accommodating and easy to get a h...</td>\n",
       "      <td>Apartment in a Private Brownstone</td>\n",
       "      <td>East Harlem</td>\n",
       "      <td>New York City</td>\n",
       "      <td>New York</td>\n",
       "      <td>United States</td>\n",
       "      <td>Entire home/apt</td>\n",
       "      <td>150</td>\n",
       "      <td>246</td>\n",
       "    </tr>\n",
       "    <tr>\n",
       "      <th>611</th>\n",
       "      <td>32698671</td>\n",
       "      <td>2013-01-10</td>\n",
       "      <td>Josephine was a great host and the apartment i...</td>\n",
       "      <td>Very Large &amp; Serene Artist Loft</td>\n",
       "      <td>Lower East Side</td>\n",
       "      <td>New York City</td>\n",
       "      <td>New York</td>\n",
       "      <td>United States</td>\n",
       "      <td>Entire home/apt</td>\n",
       "      <td>420</td>\n",
       "      <td>344</td>\n",
       "    </tr>\n",
       "    <tr>\n",
       "      <th>270</th>\n",
       "      <td>41405493</td>\n",
       "      <td>2014-09-18</td>\n",
       "      <td>It is very unique and pleasant staying. We wer...</td>\n",
       "      <td>Gorgeous Entire Manhattan Townhouse</td>\n",
       "      <td>Harlem</td>\n",
       "      <td>New York City</td>\n",
       "      <td>New York</td>\n",
       "      <td>United States</td>\n",
       "      <td>Entire home/apt</td>\n",
       "      <td>199</td>\n",
       "      <td>3</td>\n",
       "    </tr>\n",
       "  </tbody>\n",
       "</table>\n",
       "<p>135 rows × 11 columns</p>\n",
       "</div>"
      ],
      "text/plain": [
       "     Review ID Review Date                                     Review Content  \\\n",
       "643    7159670  2013-07-06  We had a great time staying with Leo! She was ...   \n",
       "644    9955391  2012-03-17  A great spot, perfect for mid-town business or...   \n",
       "18     9329281  2013-12-03  This is not our first time to NYC, but this is...   \n",
       "664   28026267  2014-08-23  Anna made us feel welcome and provided some su...   \n",
       "255   10080005  2013-06-11  We had a great stay at michaels place. He was ...   \n",
       "..         ...         ...                                                ...   \n",
       "265   32062377  2014-07-03  We had a very friendly welcome from Isaac who ...   \n",
       "560     151811  2014-03-05  My stay at Tama's apartment couldn't have been...   \n",
       "361    4639476  2013-09-26  Amy was very accommodating and easy to get a h...   \n",
       "611   32698671  2013-01-10  Josephine was a great host and the apartment i...   \n",
       "270   41405493  2014-09-18  It is very unique and pleasant staying. We wer...   \n",
       "\n",
       "                           Listing Title       Neighbourhood           City  \\\n",
       "643   Private room for 2 + couch—Chelsea             Chelsea  New York City   \n",
       "644        1 BDR in MIDTOWN DESIGNER APT             Midtown  New York City   \n",
       "18    FANTASTIC TIMES SQUARE ONE BEDROOM    Theater District  New York City   \n",
       "664  Boutique Alcoves Studio by Union Sq   Greenwich Village  New York City   \n",
       "255   Beautiful Room for Rent in Astoria             Astoria  New York City   \n",
       "..                                   ...                 ...            ...   \n",
       "265     Architect designed 2000ft duplex  Bedford-Stuyvesant  New York City   \n",
       "560  Quiet, Private BR W/BA, + Amenities              Harlem  New York City   \n",
       "361    Apartment in a Private Brownstone         East Harlem  New York City   \n",
       "611      Very Large & Serene Artist Loft     Lower East Side  New York City   \n",
       "270  Gorgeous Entire Manhattan Townhouse              Harlem  New York City   \n",
       "\n",
       "        State        Country        Room Type  Room Price  Room Availability  \n",
       "643  New York  United States     Private room          65                 45  \n",
       "644  New York  United States     Private room         125                296  \n",
       "18   New York  United States  Entire home/apt         260                291  \n",
       "664  New York  United States  Entire home/apt         149                243  \n",
       "255  New York  United States     Private room          96                269  \n",
       "..        ...            ...              ...         ...                ...  \n",
       "265  New York  United States  Entire home/apt         220                235  \n",
       "560  New York  United States     Private room         135                326  \n",
       "361  New York  United States  Entire home/apt         150                246  \n",
       "611  New York  United States  Entire home/apt         420                344  \n",
       "270  New York  United States  Entire home/apt         199                  3  \n",
       "\n",
       "[135 rows x 11 columns]"
      ]
     },
     "execution_count": 214,
     "metadata": {},
     "output_type": "execute_result"
    }
   ],
   "source": [
    "mask = review[\"City\"].str.upper().str.contains(\"YORK\")\n",
    "review[mask]"
   ]
  },
  {
   "cell_type": "code",
   "execution_count": 215,
   "metadata": {},
   "outputs": [
    {
     "data": {
      "text/html": [
       "<div>\n",
       "<style scoped>\n",
       "    .dataframe tbody tr th:only-of-type {\n",
       "        vertical-align: middle;\n",
       "    }\n",
       "\n",
       "    .dataframe tbody tr th {\n",
       "        vertical-align: top;\n",
       "    }\n",
       "\n",
       "    .dataframe thead th {\n",
       "        text-align: right;\n",
       "    }\n",
       "</style>\n",
       "<table border=\"1\" class=\"dataframe\">\n",
       "  <thead>\n",
       "    <tr style=\"text-align: right;\">\n",
       "      <th></th>\n",
       "      <th>Review ID</th>\n",
       "      <th>Review Date</th>\n",
       "      <th>Review Content</th>\n",
       "      <th>Listing Title</th>\n",
       "      <th>Neighbourhood</th>\n",
       "      <th>City</th>\n",
       "      <th>State</th>\n",
       "      <th>Country</th>\n",
       "      <th>Room Type</th>\n",
       "      <th>Room Price</th>\n",
       "      <th>Room Availability</th>\n",
       "    </tr>\n",
       "  </thead>\n",
       "  <tbody>\n",
       "    <tr>\n",
       "      <th>799</th>\n",
       "      <td>5239947</td>\n",
       "      <td>2013-01-15</td>\n",
       "      <td>The only issue that we had was that the elevat...</td>\n",
       "      <td>Amazing hillside 4 bdrm 4k  sq ft</td>\n",
       "      <td>Monterey Park</td>\n",
       "      <td>Los Angeles</td>\n",
       "      <td>California</td>\n",
       "      <td>United States</td>\n",
       "      <td>Entire home/apt</td>\n",
       "      <td>1500</td>\n",
       "      <td>365</td>\n",
       "    </tr>\n",
       "    <tr>\n",
       "      <th>774</th>\n",
       "      <td>33501216</td>\n",
       "      <td>2012-09-22</td>\n",
       "      <td>Sandra was very welcoming and helpful with all...</td>\n",
       "      <td>Escape to &amp; Relax 4 blocks to Beach</td>\n",
       "      <td>Playa del Rey</td>\n",
       "      <td>Los Angeles</td>\n",
       "      <td>California</td>\n",
       "      <td>United States</td>\n",
       "      <td>Private room</td>\n",
       "      <td>95</td>\n",
       "      <td>127</td>\n",
       "    </tr>\n",
       "    <tr>\n",
       "      <th>430</th>\n",
       "      <td>40152723</td>\n",
       "      <td>2013-10-12</td>\n",
       "      <td>Lara is a great host and the place was as desc...</td>\n",
       "      <td>Treehouse Futon/Loft By The Beach!</td>\n",
       "      <td>Long Beach</td>\n",
       "      <td>Los Angeles</td>\n",
       "      <td>California</td>\n",
       "      <td>United States</td>\n",
       "      <td>Private room</td>\n",
       "      <td>58</td>\n",
       "      <td>365</td>\n",
       "    </tr>\n",
       "    <tr>\n",
       "      <th>415</th>\n",
       "      <td>37920920</td>\n",
       "      <td>2013-05-03</td>\n",
       "      <td>Munkhzul gives me a easy and simple walk thru....</td>\n",
       "      <td>Cozy 2 bdr/2b apt + parking, pool</td>\n",
       "      <td>Torrance</td>\n",
       "      <td>Los Angeles</td>\n",
       "      <td>California</td>\n",
       "      <td>United States</td>\n",
       "      <td>Entire home/apt</td>\n",
       "      <td>105</td>\n",
       "      <td>80</td>\n",
       "    </tr>\n",
       "    <tr>\n",
       "      <th>913</th>\n",
       "      <td>37186607</td>\n",
       "      <td>2014-01-28</td>\n",
       "      <td>Blithe is a great host!  She made sure we had ...</td>\n",
       "      <td>2-level 2-bdrm, pool/jacuzzi, more!</td>\n",
       "      <td>Atwater Village</td>\n",
       "      <td>Los Angeles</td>\n",
       "      <td>California</td>\n",
       "      <td>United States</td>\n",
       "      <td>Entire home/apt</td>\n",
       "      <td>116</td>\n",
       "      <td>117</td>\n",
       "    </tr>\n",
       "    <tr>\n",
       "      <th>...</th>\n",
       "      <td>...</td>\n",
       "      <td>...</td>\n",
       "      <td>...</td>\n",
       "      <td>...</td>\n",
       "      <td>...</td>\n",
       "      <td>...</td>\n",
       "      <td>...</td>\n",
       "      <td>...</td>\n",
       "      <td>...</td>\n",
       "      <td>...</td>\n",
       "      <td>...</td>\n",
       "    </tr>\n",
       "    <tr>\n",
       "      <th>17</th>\n",
       "      <td>7568387</td>\n",
       "      <td>2013-02-01</td>\n",
       "      <td>Kristina and Ekaterine were lovley hosts. They...</td>\n",
       "      <td>Hollywood Furnished Private Bedroom</td>\n",
       "      <td>Hollywood</td>\n",
       "      <td>Los Angeles</td>\n",
       "      <td>California</td>\n",
       "      <td>United States</td>\n",
       "      <td>Private room</td>\n",
       "      <td>99</td>\n",
       "      <td>244</td>\n",
       "    </tr>\n",
       "    <tr>\n",
       "      <th>258</th>\n",
       "      <td>31118183</td>\n",
       "      <td>2014-09-04</td>\n",
       "      <td>Mike was a gracious host and he was very accom...</td>\n",
       "      <td>Pvt Room gated parking in NOHO</td>\n",
       "      <td>Valley Village</td>\n",
       "      <td>Los Angeles</td>\n",
       "      <td>California</td>\n",
       "      <td>United States</td>\n",
       "      <td>Private room</td>\n",
       "      <td>55</td>\n",
       "      <td>258</td>\n",
       "    </tr>\n",
       "    <tr>\n",
       "      <th>247</th>\n",
       "      <td>26697787</td>\n",
       "      <td>2013-12-06</td>\n",
       "      <td>Taylor was a great host and always easily cont...</td>\n",
       "      <td>Luxurious Venice Beach Bungalow</td>\n",
       "      <td>Venice</td>\n",
       "      <td>Los Angeles</td>\n",
       "      <td>California</td>\n",
       "      <td>United States</td>\n",
       "      <td>Entire home/apt</td>\n",
       "      <td>179</td>\n",
       "      <td>351</td>\n",
       "    </tr>\n",
       "    <tr>\n",
       "      <th>236</th>\n",
       "      <td>45372449</td>\n",
       "      <td>2012-09-12</td>\n",
       "      <td>Our stay in the room was pleasant and it fit t...</td>\n",
       "      <td>Starlight Room With 2 Queen Beds</td>\n",
       "      <td>Pico Rivera</td>\n",
       "      <td>Los Angeles</td>\n",
       "      <td>California</td>\n",
       "      <td>United States</td>\n",
       "      <td>Private room</td>\n",
       "      <td>59</td>\n",
       "      <td>350</td>\n",
       "    </tr>\n",
       "    <tr>\n",
       "      <th>230</th>\n",
       "      <td>40410663</td>\n",
       "      <td>2013-10-17</td>\n",
       "      <td>Victoria was great, it was a last min thing fo...</td>\n",
       "      <td>Le Petit Bungalow</td>\n",
       "      <td>Venice</td>\n",
       "      <td>Los Angeles</td>\n",
       "      <td>California</td>\n",
       "      <td>United States</td>\n",
       "      <td>Entire home/apt</td>\n",
       "      <td>140</td>\n",
       "      <td>356</td>\n",
       "    </tr>\n",
       "  </tbody>\n",
       "</table>\n",
       "<p>68 rows × 11 columns</p>\n",
       "</div>"
      ],
      "text/plain": [
       "     Review ID Review Date                                     Review Content  \\\n",
       "799    5239947  2013-01-15  The only issue that we had was that the elevat...   \n",
       "774   33501216  2012-09-22  Sandra was very welcoming and helpful with all...   \n",
       "430   40152723  2013-10-12  Lara is a great host and the place was as desc...   \n",
       "415   37920920  2013-05-03  Munkhzul gives me a easy and simple walk thru....   \n",
       "913   37186607  2014-01-28  Blithe is a great host!  She made sure we had ...   \n",
       "..         ...         ...                                                ...   \n",
       "17     7568387  2013-02-01  Kristina and Ekaterine were lovley hosts. They...   \n",
       "258   31118183  2014-09-04  Mike was a gracious host and he was very accom...   \n",
       "247   26697787  2013-12-06  Taylor was a great host and always easily cont...   \n",
       "236   45372449  2012-09-12  Our stay in the room was pleasant and it fit t...   \n",
       "230   40410663  2013-10-17  Victoria was great, it was a last min thing fo...   \n",
       "\n",
       "                           Listing Title    Neighbourhood         City  \\\n",
       "799    Amazing hillside 4 bdrm 4k  sq ft    Monterey Park  Los Angeles   \n",
       "774  Escape to & Relax 4 blocks to Beach    Playa del Rey  Los Angeles   \n",
       "430   Treehouse Futon/Loft By The Beach!       Long Beach  Los Angeles   \n",
       "415    Cozy 2 bdr/2b apt + parking, pool         Torrance  Los Angeles   \n",
       "913  2-level 2-bdrm, pool/jacuzzi, more!  Atwater Village  Los Angeles   \n",
       "..                                   ...              ...          ...   \n",
       "17   Hollywood Furnished Private Bedroom        Hollywood  Los Angeles   \n",
       "258       Pvt Room gated parking in NOHO   Valley Village  Los Angeles   \n",
       "247      Luxurious Venice Beach Bungalow           Venice  Los Angeles   \n",
       "236     Starlight Room With 2 Queen Beds      Pico Rivera  Los Angeles   \n",
       "230                    Le Petit Bungalow           Venice  Los Angeles   \n",
       "\n",
       "          State        Country        Room Type  Room Price  Room Availability  \n",
       "799  California  United States  Entire home/apt        1500                365  \n",
       "774  California  United States     Private room          95                127  \n",
       "430  California  United States     Private room          58                365  \n",
       "415  California  United States  Entire home/apt         105                 80  \n",
       "913  California  United States  Entire home/apt         116                117  \n",
       "..          ...            ...              ...         ...                ...  \n",
       "17   California  United States     Private room          99                244  \n",
       "258  California  United States     Private room          55                258  \n",
       "247  California  United States  Entire home/apt         179                351  \n",
       "236  California  United States     Private room          59                350  \n",
       "230  California  United States  Entire home/apt         140                356  \n",
       "\n",
       "[68 rows x 11 columns]"
      ]
     },
     "execution_count": 215,
     "metadata": {},
     "output_type": "execute_result"
    }
   ],
   "source": [
    "mask = review[\"City\"].str.upper().str.startswith(\"LOS\")\n",
    "review[mask]"
   ]
  },
  {
   "cell_type": "code",
   "execution_count": 219,
   "metadata": {},
   "outputs": [
    {
     "data": {
      "text/html": [
       "<div>\n",
       "<style scoped>\n",
       "    .dataframe tbody tr th:only-of-type {\n",
       "        vertical-align: middle;\n",
       "    }\n",
       "\n",
       "    .dataframe tbody tr th {\n",
       "        vertical-align: top;\n",
       "    }\n",
       "\n",
       "    .dataframe thead th {\n",
       "        text-align: right;\n",
       "    }\n",
       "</style>\n",
       "<table border=\"1\" class=\"dataframe\">\n",
       "  <thead>\n",
       "    <tr style=\"text-align: right;\">\n",
       "      <th></th>\n",
       "      <th>Review ID</th>\n",
       "      <th>Review Date</th>\n",
       "      <th>Review Content</th>\n",
       "      <th>Listing Title</th>\n",
       "      <th>Neighbourhood</th>\n",
       "      <th>City</th>\n",
       "      <th>State</th>\n",
       "      <th>Country</th>\n",
       "      <th>Room Type</th>\n",
       "      <th>Room Price</th>\n",
       "      <th>Room Availability</th>\n",
       "    </tr>\n",
       "  </thead>\n",
       "  <tbody>\n",
       "    <tr>\n",
       "      <th>877</th>\n",
       "      <td>1086998</td>\n",
       "      <td>2013-10-23</td>\n",
       "      <td>My partner and I had to move to London in late...</td>\n",
       "      <td>Double Room in  Edwardian House</td>\n",
       "      <td>Ealing</td>\n",
       "      <td>London</td>\n",
       "      <td>England</td>\n",
       "      <td>United Kingdom</td>\n",
       "      <td>Private room</td>\n",
       "      <td>49</td>\n",
       "      <td>360</td>\n",
       "    </tr>\n",
       "    <tr>\n",
       "      <th>10</th>\n",
       "      <td>24326991</td>\n",
       "      <td>2014-10-19</td>\n",
       "      <td>Many thanks Annabel, our stay was perfect! We ...</td>\n",
       "      <td>Light 2 bedroom in Notting Hill</td>\n",
       "      <td>Kensington and Chelsea</td>\n",
       "      <td>London</td>\n",
       "      <td>England</td>\n",
       "      <td>United Kingdom</td>\n",
       "      <td>Entire home/apt</td>\n",
       "      <td>140</td>\n",
       "      <td>151</td>\n",
       "    </tr>\n",
       "    <tr>\n",
       "      <th>547</th>\n",
       "      <td>7838623</td>\n",
       "      <td>2014-11-09</td>\n",
       "      <td>I can only speak very positively of our experi...</td>\n",
       "      <td>Stylish Central London Apartment</td>\n",
       "      <td>Lambeth</td>\n",
       "      <td>London</td>\n",
       "      <td>England</td>\n",
       "      <td>United Kingdom</td>\n",
       "      <td>Entire home/apt</td>\n",
       "      <td>110</td>\n",
       "      <td>278</td>\n",
       "    </tr>\n",
       "    <tr>\n",
       "      <th>311</th>\n",
       "      <td>21450174</td>\n",
       "      <td>2012-02-06</td>\n",
       "      <td>Great place for a London weekend trip. Clean a...</td>\n",
       "      <td>Elegant &amp; cozy double &amp; bathroom</td>\n",
       "      <td>Sutton</td>\n",
       "      <td>London</td>\n",
       "      <td>England</td>\n",
       "      <td>United Kingdom</td>\n",
       "      <td>Private room</td>\n",
       "      <td>35</td>\n",
       "      <td>322</td>\n",
       "    </tr>\n",
       "    <tr>\n",
       "      <th>302</th>\n",
       "      <td>5768056</td>\n",
       "      <td>2013-06-04</td>\n",
       "      <td>Linda has a lovely home, very cozy and you get...</td>\n",
       "      <td>Beautiful flat in Victorian house</td>\n",
       "      <td>Hackney</td>\n",
       "      <td>London</td>\n",
       "      <td>England</td>\n",
       "      <td>United Kingdom</td>\n",
       "      <td>Entire home/apt</td>\n",
       "      <td>110</td>\n",
       "      <td>19</td>\n",
       "    </tr>\n",
       "    <tr>\n",
       "      <th>...</th>\n",
       "      <td>...</td>\n",
       "      <td>...</td>\n",
       "      <td>...</td>\n",
       "      <td>...</td>\n",
       "      <td>...</td>\n",
       "      <td>...</td>\n",
       "      <td>...</td>\n",
       "      <td>...</td>\n",
       "      <td>...</td>\n",
       "      <td>...</td>\n",
       "      <td>...</td>\n",
       "    </tr>\n",
       "    <tr>\n",
       "      <th>254</th>\n",
       "      <td>7107083</td>\n",
       "      <td>2012-09-27</td>\n",
       "      <td>I really enjoyed staying at this apartment. Ma...</td>\n",
       "      <td>COVENT GARDEN ONE BEDROOM STUDIO</td>\n",
       "      <td>Westminster</td>\n",
       "      <td>London</td>\n",
       "      <td>England</td>\n",
       "      <td>United Kingdom</td>\n",
       "      <td>Entire home/apt</td>\n",
       "      <td>90</td>\n",
       "      <td>349</td>\n",
       "    </tr>\n",
       "    <tr>\n",
       "      <th>20</th>\n",
       "      <td>38360407</td>\n",
       "      <td>2013-12-31</td>\n",
       "      <td>Nice contact. Very friendly and supportive. Th...</td>\n",
       "      <td>Curved wall Studio ST4 with Kitchen</td>\n",
       "      <td>Tower Hamlets</td>\n",
       "      <td>London</td>\n",
       "      <td>England</td>\n",
       "      <td>United Kingdom</td>\n",
       "      <td>Entire home/apt</td>\n",
       "      <td>85</td>\n",
       "      <td>344</td>\n",
       "    </tr>\n",
       "    <tr>\n",
       "      <th>267</th>\n",
       "      <td>12386330</td>\n",
       "      <td>2012-12-12</td>\n",
       "      <td>Gabriele was a great host -- provided fantasti...</td>\n",
       "      <td>DOUBLE ROOM CLAPHAM(ZONE 2)</td>\n",
       "      <td>Lambeth</td>\n",
       "      <td>London</td>\n",
       "      <td>England</td>\n",
       "      <td>United Kingdom</td>\n",
       "      <td>Private room</td>\n",
       "      <td>55</td>\n",
       "      <td>365</td>\n",
       "    </tr>\n",
       "    <tr>\n",
       "      <th>146</th>\n",
       "      <td>44846244</td>\n",
       "      <td>2013-04-14</td>\n",
       "      <td>Sevtap and her husband were wery kind. We were...</td>\n",
       "      <td>A Lovely room in West Hampstead</td>\n",
       "      <td>Camden</td>\n",
       "      <td>London</td>\n",
       "      <td>England</td>\n",
       "      <td>United Kingdom</td>\n",
       "      <td>Private room</td>\n",
       "      <td>40</td>\n",
       "      <td>345</td>\n",
       "    </tr>\n",
       "    <tr>\n",
       "      <th>860</th>\n",
       "      <td>29252683</td>\n",
       "      <td>2012-07-17</td>\n",
       "      <td>Great apartment and great location. Close to e...</td>\n",
       "      <td>Gorgeous Covent Garden Uber Modern</td>\n",
       "      <td>Westminster</td>\n",
       "      <td>London</td>\n",
       "      <td>England</td>\n",
       "      <td>United Kingdom</td>\n",
       "      <td>Entire home/apt</td>\n",
       "      <td>245</td>\n",
       "      <td>245</td>\n",
       "    </tr>\n",
       "  </tbody>\n",
       "</table>\n",
       "<p>104 rows × 11 columns</p>\n",
       "</div>"
      ],
      "text/plain": [
       "     Review ID Review Date                                     Review Content  \\\n",
       "877    1086998  2013-10-23  My partner and I had to move to London in late...   \n",
       "10    24326991  2014-10-19  Many thanks Annabel, our stay was perfect! We ...   \n",
       "547    7838623  2014-11-09  I can only speak very positively of our experi...   \n",
       "311   21450174  2012-02-06  Great place for a London weekend trip. Clean a...   \n",
       "302    5768056  2013-06-04  Linda has a lovely home, very cozy and you get...   \n",
       "..         ...         ...                                                ...   \n",
       "254    7107083  2012-09-27  I really enjoyed staying at this apartment. Ma...   \n",
       "20    38360407  2013-12-31  Nice contact. Very friendly and supportive. Th...   \n",
       "267   12386330  2012-12-12  Gabriele was a great host -- provided fantasti...   \n",
       "146   44846244  2013-04-14  Sevtap and her husband were wery kind. We were...   \n",
       "860   29252683  2012-07-17  Great apartment and great location. Close to e...   \n",
       "\n",
       "                           Listing Title           Neighbourhood    City  \\\n",
       "877      Double Room in  Edwardian House                  Ealing  London   \n",
       "10       Light 2 bedroom in Notting Hill  Kensington and Chelsea  London   \n",
       "547     Stylish Central London Apartment                 Lambeth  London   \n",
       "311     Elegant & cozy double & bathroom                  Sutton  London   \n",
       "302    Beautiful flat in Victorian house                 Hackney  London   \n",
       "..                                   ...                     ...     ...   \n",
       "254     COVENT GARDEN ONE BEDROOM STUDIO             Westminster  London   \n",
       "20   Curved wall Studio ST4 with Kitchen           Tower Hamlets  London   \n",
       "267          DOUBLE ROOM CLAPHAM(ZONE 2)                 Lambeth  London   \n",
       "146      A Lovely room in West Hampstead                  Camden  London   \n",
       "860   Gorgeous Covent Garden Uber Modern             Westminster  London   \n",
       "\n",
       "       State         Country        Room Type  Room Price  Room Availability  \n",
       "877  England  United Kingdom     Private room          49                360  \n",
       "10   England  United Kingdom  Entire home/apt         140                151  \n",
       "547  England  United Kingdom  Entire home/apt         110                278  \n",
       "311  England  United Kingdom     Private room          35                322  \n",
       "302  England  United Kingdom  Entire home/apt         110                 19  \n",
       "..       ...             ...              ...         ...                ...  \n",
       "254  England  United Kingdom  Entire home/apt          90                349  \n",
       "20   England  United Kingdom  Entire home/apt          85                344  \n",
       "267  England  United Kingdom     Private room          55                365  \n",
       "146  England  United Kingdom     Private room          40                345  \n",
       "860  England  United Kingdom  Entire home/apt         245                245  \n",
       "\n",
       "[104 rows x 11 columns]"
      ]
     },
     "execution_count": 219,
     "metadata": {},
     "output_type": "execute_result"
    }
   ],
   "source": [
    "mask = review[\"City\"].str.upper().str.endswith(\"DON\")\n",
    "review[mask]"
   ]
  },
  {
   "cell_type": "code",
   "execution_count": 220,
   "metadata": {},
   "outputs": [],
   "source": [
    "# str.strip()    sol ve sağdaki boşluktan kurtul\n",
    "# str.lstrip()   soldaki boşluktan kurtul\n",
    "# str.rstrip()   ağdaki boşluktan kurtul\n",
    "# str.split(\"-\",) belirtilen bölümlere göre listeye çeviriyor (örnekte -'ye göre)"
   ]
  },
  {
   "cell_type": "code",
   "execution_count": 222,
   "metadata": {},
   "outputs": [
    {
     "data": {
      "text/html": [
       "<div>\n",
       "<style scoped>\n",
       "    .dataframe tbody tr th:only-of-type {\n",
       "        vertical-align: middle;\n",
       "    }\n",
       "\n",
       "    .dataframe tbody tr th {\n",
       "        vertical-align: top;\n",
       "    }\n",
       "\n",
       "    .dataframe thead th {\n",
       "        text-align: right;\n",
       "    }\n",
       "</style>\n",
       "<table border=\"1\" class=\"dataframe\">\n",
       "  <thead>\n",
       "    <tr style=\"text-align: right;\">\n",
       "      <th></th>\n",
       "      <th>Review ID</th>\n",
       "      <th>Review Date</th>\n",
       "      <th>Review Content</th>\n",
       "      <th>Listing Title</th>\n",
       "      <th>Neighbourhood</th>\n",
       "      <th>City</th>\n",
       "      <th>State</th>\n",
       "      <th>Country</th>\n",
       "      <th>Room Type</th>\n",
       "      <th>Room Price</th>\n",
       "      <th>Room Availability</th>\n",
       "    </tr>\n",
       "  </thead>\n",
       "  <tbody>\n",
       "    <tr>\n",
       "      <th>409</th>\n",
       "      <td>40057065</td>\n",
       "      <td>2014-08-21</td>\n",
       "      <td>Borja was a great host! He made sure I knew ho...</td>\n",
       "      <td>Spacious room near the city centre</td>\n",
       "      <td>Bos en Lommer</td>\n",
       "      <td>Amsterdam</td>\n",
       "      <td>North Holland</td>\n",
       "      <td>The Netherlands</td>\n",
       "      <td>Private room</td>\n",
       "      <td>97</td>\n",
       "      <td>271</td>\n",
       "    </tr>\n",
       "    <tr>\n",
       "      <th>912</th>\n",
       "      <td>15406715</td>\n",
       "      <td>2014-06-29</td>\n",
       "      <td>We felt truly welcomed to Nina &amp; Remy's home. ...</td>\n",
       "      <td>Spacious&amp;historic apartment@canals</td>\n",
       "      <td>Centrum-West</td>\n",
       "      <td>Amsterdam</td>\n",
       "      <td>North Holland</td>\n",
       "      <td>The Netherlands</td>\n",
       "      <td>Entire home/apt</td>\n",
       "      <td>99</td>\n",
       "      <td>0</td>\n",
       "    </tr>\n",
       "    <tr>\n",
       "      <th>770</th>\n",
       "      <td>41199627</td>\n",
       "      <td>2012-06-17</td>\n",
       "      <td>Pauline's home was beautiful and just as you s...</td>\n",
       "      <td>Cozy apt, fab view, next to centre!</td>\n",
       "      <td>De Baarsjes - Oud-West</td>\n",
       "      <td>Amsterdam</td>\n",
       "      <td>North Holland</td>\n",
       "      <td>The Netherlands</td>\n",
       "      <td>Entire home/apt</td>\n",
       "      <td>85</td>\n",
       "      <td>271</td>\n",
       "    </tr>\n",
       "    <tr>\n",
       "      <th>168</th>\n",
       "      <td>21899385</td>\n",
       "      <td>2013-01-18</td>\n",
       "      <td>Our host Karmen was very courteous to us from ...</td>\n",
       "      <td>2-Bedroom apartment with garden</td>\n",
       "      <td>Bos en Lommer</td>\n",
       "      <td>Amsterdam</td>\n",
       "      <td>North Holland</td>\n",
       "      <td>The Netherlands</td>\n",
       "      <td>Entire home/apt</td>\n",
       "      <td>95</td>\n",
       "      <td>124</td>\n",
       "    </tr>\n",
       "    <tr>\n",
       "      <th>782</th>\n",
       "      <td>17887404</td>\n",
       "      <td>2013-02-07</td>\n",
       "      <td>Staying at Sigrid's apartment was wonderful. S...</td>\n",
       "      <td>Perfect nice apartment top location</td>\n",
       "      <td>Zuid</td>\n",
       "      <td>Amsterdam</td>\n",
       "      <td>North Holland</td>\n",
       "      <td>The Netherlands</td>\n",
       "      <td>Entire home/apt</td>\n",
       "      <td>75</td>\n",
       "      <td>301</td>\n",
       "    </tr>\n",
       "    <tr>\n",
       "      <th>162</th>\n",
       "      <td>11554752</td>\n",
       "      <td>2014-02-12</td>\n",
       "      <td>I had a terrific stay at Sharon's apartment.  ...</td>\n",
       "      <td>Peaceful in the Pijp for One Person</td>\n",
       "      <td>De Pijp - Rivierenbuurt</td>\n",
       "      <td>Amsterdam</td>\n",
       "      <td>North Holland</td>\n",
       "      <td>The Netherlands</td>\n",
       "      <td>Private room</td>\n",
       "      <td>55</td>\n",
       "      <td>325</td>\n",
       "    </tr>\n",
       "    <tr>\n",
       "      <th>951</th>\n",
       "      <td>32808889</td>\n",
       "      <td>2014-04-13</td>\n",
       "      <td>The apartment was exactly as advertised. We ha...</td>\n",
       "      <td>Central Lux flat with Roof-Terrace!</td>\n",
       "      <td>Westerpark</td>\n",
       "      <td>Amsterdam</td>\n",
       "      <td>North Holland</td>\n",
       "      <td>The Netherlands</td>\n",
       "      <td>Entire home/apt</td>\n",
       "      <td>120</td>\n",
       "      <td>107</td>\n",
       "    </tr>\n",
       "    <tr>\n",
       "      <th>948</th>\n",
       "      <td>20984994</td>\n",
       "      <td>2012-09-28</td>\n",
       "      <td>We had a lovely stay at this cosy &amp; very authe...</td>\n",
       "      <td>Casita Sumita @ the Brouwersgracht</td>\n",
       "      <td>Centrum-West</td>\n",
       "      <td>Amsterdam</td>\n",
       "      <td>North Holland</td>\n",
       "      <td>The Netherlands</td>\n",
       "      <td>Entire home/apt</td>\n",
       "      <td>60</td>\n",
       "      <td>18</td>\n",
       "    </tr>\n",
       "    <tr>\n",
       "      <th>802</th>\n",
       "      <td>9598457</td>\n",
       "      <td>2012-03-09</td>\n",
       "      <td>Marnix was a great host! Really easy to contac...</td>\n",
       "      <td>Light &amp; Spacious Houseboat</td>\n",
       "      <td>Oostelijk Havengebied - Indische Buurt</td>\n",
       "      <td>Amsterdam</td>\n",
       "      <td>North Holland</td>\n",
       "      <td>The Netherlands</td>\n",
       "      <td>Entire home/apt</td>\n",
       "      <td>210</td>\n",
       "      <td>239</td>\n",
       "    </tr>\n",
       "    <tr>\n",
       "      <th>946</th>\n",
       "      <td>28194838</td>\n",
       "      <td>2013-06-05</td>\n",
       "      <td>Nice studio apartment right on the corner of a...</td>\n",
       "      <td>Cozy Apartment in Jordaan @ Canal</td>\n",
       "      <td>Westerpark</td>\n",
       "      <td>Amsterdam</td>\n",
       "      <td>North Holland</td>\n",
       "      <td>The Netherlands</td>\n",
       "      <td>Entire home/apt</td>\n",
       "      <td>99</td>\n",
       "      <td>6</td>\n",
       "    </tr>\n",
       "  </tbody>\n",
       "</table>\n",
       "</div>"
      ],
      "text/plain": [
       "     Review ID Review Date                                     Review Content  \\\n",
       "409   40057065  2014-08-21  Borja was a great host! He made sure I knew ho...   \n",
       "912   15406715  2014-06-29  We felt truly welcomed to Nina & Remy's home. ...   \n",
       "770   41199627  2012-06-17  Pauline's home was beautiful and just as you s...   \n",
       "168   21899385  2013-01-18  Our host Karmen was very courteous to us from ...   \n",
       "782   17887404  2013-02-07  Staying at Sigrid's apartment was wonderful. S...   \n",
       "162   11554752  2014-02-12  I had a terrific stay at Sharon's apartment.  ...   \n",
       "951   32808889  2014-04-13  The apartment was exactly as advertised. We ha...   \n",
       "948   20984994  2012-09-28  We had a lovely stay at this cosy & very authe...   \n",
       "802    9598457  2012-03-09  Marnix was a great host! Really easy to contac...   \n",
       "946   28194838  2013-06-05  Nice studio apartment right on the corner of a...   \n",
       "\n",
       "                           Listing Title  \\\n",
       "409   Spacious room near the city centre   \n",
       "912   Spacious&historic apartment@canals   \n",
       "770  Cozy apt, fab view, next to centre!   \n",
       "168      2-Bedroom apartment with garden   \n",
       "782  Perfect nice apartment top location   \n",
       "162  Peaceful in the Pijp for One Person   \n",
       "951  Central Lux flat with Roof-Terrace!   \n",
       "948   Casita Sumita @ the Brouwersgracht   \n",
       "802          Light & Spacious Houseboat    \n",
       "946    Cozy Apartment in Jordaan @ Canal   \n",
       "\n",
       "                              Neighbourhood       City          State  \\\n",
       "409                           Bos en Lommer  Amsterdam  North Holland   \n",
       "912                            Centrum-West  Amsterdam  North Holland   \n",
       "770                  De Baarsjes - Oud-West  Amsterdam  North Holland   \n",
       "168                           Bos en Lommer  Amsterdam  North Holland   \n",
       "782                                    Zuid  Amsterdam  North Holland   \n",
       "162                 De Pijp - Rivierenbuurt  Amsterdam  North Holland   \n",
       "951                              Westerpark  Amsterdam  North Holland   \n",
       "948                            Centrum-West  Amsterdam  North Holland   \n",
       "802  Oostelijk Havengebied - Indische Buurt  Amsterdam  North Holland   \n",
       "946                              Westerpark  Amsterdam  North Holland   \n",
       "\n",
       "             Country        Room Type  Room Price  Room Availability  \n",
       "409  The Netherlands     Private room          97                271  \n",
       "912  The Netherlands  Entire home/apt          99                  0  \n",
       "770  The Netherlands  Entire home/apt          85                271  \n",
       "168  The Netherlands  Entire home/apt          95                124  \n",
       "782  The Netherlands  Entire home/apt          75                301  \n",
       "162  The Netherlands     Private room          55                325  \n",
       "951  The Netherlands  Entire home/apt         120                107  \n",
       "948  The Netherlands  Entire home/apt          60                 18  \n",
       "802  The Netherlands  Entire home/apt         210                239  \n",
       "946  The Netherlands  Entire home/apt          99                  6  "
      ]
     },
     "execution_count": 222,
     "metadata": {},
     "output_type": "execute_result"
    }
   ],
   "source": [
    "review.head(10)\n",
    "#review[\"City\"].str.split(' ').str.get(0)  -> python listesi\n",
    "#review[\"City\"].str.split(' ', expand=True)  -> dataframe"
   ]
  },
  {
   "cell_type": "code",
   "execution_count": 5,
   "metadata": {},
   "outputs": [],
   "source": [
    "import numpy as np\n",
    "import pandas as pd"
   ]
  },
  {
   "cell_type": "code",
   "execution_count": 6,
   "metadata": {},
   "outputs": [],
   "source": [
    "from numpy.random import randn"
   ]
  },
  {
   "cell_type": "code",
   "execution_count": 7,
   "metadata": {},
   "outputs": [],
   "source": [
    "np.random.seed()"
   ]
  },
  {
   "cell_type": "code",
   "execution_count": 8,
   "metadata": {},
   "outputs": [],
   "source": [
    "df = pd.DataFrame(randn(5,4),['A','B','C','D','E'],['W','X','Y','Z'])"
   ]
  },
  {
   "cell_type": "code",
   "execution_count": 9,
   "metadata": {},
   "outputs": [
    {
     "data": {
      "text/html": [
       "<div>\n",
       "<style scoped>\n",
       "    .dataframe tbody tr th:only-of-type {\n",
       "        vertical-align: middle;\n",
       "    }\n",
       "\n",
       "    .dataframe tbody tr th {\n",
       "        vertical-align: top;\n",
       "    }\n",
       "\n",
       "    .dataframe thead th {\n",
       "        text-align: right;\n",
       "    }\n",
       "</style>\n",
       "<table border=\"1\" class=\"dataframe\">\n",
       "  <thead>\n",
       "    <tr style=\"text-align: right;\">\n",
       "      <th></th>\n",
       "      <th>W</th>\n",
       "      <th>X</th>\n",
       "      <th>Y</th>\n",
       "      <th>Z</th>\n",
       "    </tr>\n",
       "  </thead>\n",
       "  <tbody>\n",
       "    <tr>\n",
       "      <th>A</th>\n",
       "      <td>0.051172</td>\n",
       "      <td>-1.755110</td>\n",
       "      <td>1.003185</td>\n",
       "      <td>-1.106373</td>\n",
       "    </tr>\n",
       "    <tr>\n",
       "      <th>B</th>\n",
       "      <td>0.430762</td>\n",
       "      <td>-1.189036</td>\n",
       "      <td>1.346455</td>\n",
       "      <td>1.396275</td>\n",
       "    </tr>\n",
       "    <tr>\n",
       "      <th>C</th>\n",
       "      <td>-1.469382</td>\n",
       "      <td>0.170503</td>\n",
       "      <td>-0.493624</td>\n",
       "      <td>0.006965</td>\n",
       "    </tr>\n",
       "    <tr>\n",
       "      <th>D</th>\n",
       "      <td>-0.665392</td>\n",
       "      <td>-0.660120</td>\n",
       "      <td>0.391937</td>\n",
       "      <td>0.122606</td>\n",
       "    </tr>\n",
       "    <tr>\n",
       "      <th>E</th>\n",
       "      <td>-0.747436</td>\n",
       "      <td>-1.524014</td>\n",
       "      <td>1.367014</td>\n",
       "      <td>-0.260693</td>\n",
       "    </tr>\n",
       "  </tbody>\n",
       "</table>\n",
       "</div>"
      ],
      "text/plain": [
       "          W         X         Y         Z\n",
       "A  0.051172 -1.755110  1.003185 -1.106373\n",
       "B  0.430762 -1.189036  1.346455  1.396275\n",
       "C -1.469382  0.170503 -0.493624  0.006965\n",
       "D -0.665392 -0.660120  0.391937  0.122606\n",
       "E -0.747436 -1.524014  1.367014 -0.260693"
      ]
     },
     "execution_count": 9,
     "metadata": {},
     "output_type": "execute_result"
    }
   ],
   "source": [
    "df"
   ]
  },
  {
   "cell_type": "code",
   "execution_count": 10,
   "metadata": {},
   "outputs": [],
   "source": [
    "booldf = df > 0"
   ]
  },
  {
   "cell_type": "code",
   "execution_count": 11,
   "metadata": {},
   "outputs": [
    {
     "data": {
      "text/html": [
       "<div>\n",
       "<style scoped>\n",
       "    .dataframe tbody tr th:only-of-type {\n",
       "        vertical-align: middle;\n",
       "    }\n",
       "\n",
       "    .dataframe tbody tr th {\n",
       "        vertical-align: top;\n",
       "    }\n",
       "\n",
       "    .dataframe thead th {\n",
       "        text-align: right;\n",
       "    }\n",
       "</style>\n",
       "<table border=\"1\" class=\"dataframe\">\n",
       "  <thead>\n",
       "    <tr style=\"text-align: right;\">\n",
       "      <th></th>\n",
       "      <th>W</th>\n",
       "      <th>X</th>\n",
       "      <th>Y</th>\n",
       "      <th>Z</th>\n",
       "    </tr>\n",
       "  </thead>\n",
       "  <tbody>\n",
       "    <tr>\n",
       "      <th>A</th>\n",
       "      <td>0.051172</td>\n",
       "      <td>NaN</td>\n",
       "      <td>1.003185</td>\n",
       "      <td>NaN</td>\n",
       "    </tr>\n",
       "    <tr>\n",
       "      <th>B</th>\n",
       "      <td>0.430762</td>\n",
       "      <td>NaN</td>\n",
       "      <td>1.346455</td>\n",
       "      <td>1.396275</td>\n",
       "    </tr>\n",
       "    <tr>\n",
       "      <th>C</th>\n",
       "      <td>NaN</td>\n",
       "      <td>0.170503</td>\n",
       "      <td>NaN</td>\n",
       "      <td>0.006965</td>\n",
       "    </tr>\n",
       "    <tr>\n",
       "      <th>D</th>\n",
       "      <td>NaN</td>\n",
       "      <td>NaN</td>\n",
       "      <td>0.391937</td>\n",
       "      <td>0.122606</td>\n",
       "    </tr>\n",
       "    <tr>\n",
       "      <th>E</th>\n",
       "      <td>NaN</td>\n",
       "      <td>NaN</td>\n",
       "      <td>1.367014</td>\n",
       "      <td>NaN</td>\n",
       "    </tr>\n",
       "  </tbody>\n",
       "</table>\n",
       "</div>"
      ],
      "text/plain": [
       "          W         X         Y         Z\n",
       "A  0.051172       NaN  1.003185       NaN\n",
       "B  0.430762       NaN  1.346455  1.396275\n",
       "C       NaN  0.170503       NaN  0.006965\n",
       "D       NaN       NaN  0.391937  0.122606\n",
       "E       NaN       NaN  1.367014       NaN"
      ]
     },
     "execution_count": 11,
     "metadata": {},
     "output_type": "execute_result"
    }
   ],
   "source": [
    "df[booldf]"
   ]
  },
  {
   "cell_type": "code",
   "execution_count": 12,
   "metadata": {},
   "outputs": [
    {
     "data": {
      "text/html": [
       "<div>\n",
       "<style scoped>\n",
       "    .dataframe tbody tr th:only-of-type {\n",
       "        vertical-align: middle;\n",
       "    }\n",
       "\n",
       "    .dataframe tbody tr th {\n",
       "        vertical-align: top;\n",
       "    }\n",
       "\n",
       "    .dataframe thead th {\n",
       "        text-align: right;\n",
       "    }\n",
       "</style>\n",
       "<table border=\"1\" class=\"dataframe\">\n",
       "  <thead>\n",
       "    <tr style=\"text-align: right;\">\n",
       "      <th></th>\n",
       "      <th>W</th>\n",
       "      <th>X</th>\n",
       "      <th>Y</th>\n",
       "      <th>Z</th>\n",
       "    </tr>\n",
       "  </thead>\n",
       "  <tbody>\n",
       "    <tr>\n",
       "      <th>A</th>\n",
       "      <td>0.051172</td>\n",
       "      <td>NaN</td>\n",
       "      <td>1.003185</td>\n",
       "      <td>NaN</td>\n",
       "    </tr>\n",
       "    <tr>\n",
       "      <th>B</th>\n",
       "      <td>0.430762</td>\n",
       "      <td>NaN</td>\n",
       "      <td>1.346455</td>\n",
       "      <td>1.396275</td>\n",
       "    </tr>\n",
       "    <tr>\n",
       "      <th>C</th>\n",
       "      <td>NaN</td>\n",
       "      <td>0.170503</td>\n",
       "      <td>NaN</td>\n",
       "      <td>0.006965</td>\n",
       "    </tr>\n",
       "    <tr>\n",
       "      <th>D</th>\n",
       "      <td>NaN</td>\n",
       "      <td>NaN</td>\n",
       "      <td>0.391937</td>\n",
       "      <td>0.122606</td>\n",
       "    </tr>\n",
       "    <tr>\n",
       "      <th>E</th>\n",
       "      <td>NaN</td>\n",
       "      <td>NaN</td>\n",
       "      <td>1.367014</td>\n",
       "      <td>NaN</td>\n",
       "    </tr>\n",
       "  </tbody>\n",
       "</table>\n",
       "</div>"
      ],
      "text/plain": [
       "          W         X         Y         Z\n",
       "A  0.051172       NaN  1.003185       NaN\n",
       "B  0.430762       NaN  1.346455  1.396275\n",
       "C       NaN  0.170503       NaN  0.006965\n",
       "D       NaN       NaN  0.391937  0.122606\n",
       "E       NaN       NaN  1.367014       NaN"
      ]
     },
     "execution_count": 12,
     "metadata": {},
     "output_type": "execute_result"
    }
   ],
   "source": [
    "df[df>0]"
   ]
  },
  {
   "cell_type": "code",
   "execution_count": 13,
   "metadata": {},
   "outputs": [
    {
     "data": {
      "text/plain": [
       "A     True\n",
       "B     True\n",
       "C    False\n",
       "D    False\n",
       "E    False\n",
       "Name: W, dtype: bool"
      ]
     },
     "execution_count": 13,
     "metadata": {},
     "output_type": "execute_result"
    }
   ],
   "source": [
    "df['W'] > 0"
   ]
  },
  {
   "cell_type": "code",
   "execution_count": 14,
   "metadata": {},
   "outputs": [
    {
     "data": {
      "text/plain": [
       "A    0.051172\n",
       "B    0.430762\n",
       "C   -1.469382\n",
       "D   -0.665392\n",
       "E   -0.747436\n",
       "Name: W, dtype: float64"
      ]
     },
     "execution_count": 14,
     "metadata": {},
     "output_type": "execute_result"
    }
   ],
   "source": [
    "df['W']"
   ]
  },
  {
   "cell_type": "code",
   "execution_count": 15,
   "metadata": {},
   "outputs": [
    {
     "data": {
      "text/html": [
       "<div>\n",
       "<style scoped>\n",
       "    .dataframe tbody tr th:only-of-type {\n",
       "        vertical-align: middle;\n",
       "    }\n",
       "\n",
       "    .dataframe tbody tr th {\n",
       "        vertical-align: top;\n",
       "    }\n",
       "\n",
       "    .dataframe thead th {\n",
       "        text-align: right;\n",
       "    }\n",
       "</style>\n",
       "<table border=\"1\" class=\"dataframe\">\n",
       "  <thead>\n",
       "    <tr style=\"text-align: right;\">\n",
       "      <th></th>\n",
       "      <th>W</th>\n",
       "      <th>X</th>\n",
       "      <th>Y</th>\n",
       "      <th>Z</th>\n",
       "    </tr>\n",
       "  </thead>\n",
       "  <tbody>\n",
       "    <tr>\n",
       "      <th>A</th>\n",
       "      <td>0.051172</td>\n",
       "      <td>-1.755110</td>\n",
       "      <td>1.003185</td>\n",
       "      <td>-1.106373</td>\n",
       "    </tr>\n",
       "    <tr>\n",
       "      <th>E</th>\n",
       "      <td>-0.747436</td>\n",
       "      <td>-1.524014</td>\n",
       "      <td>1.367014</td>\n",
       "      <td>-0.260693</td>\n",
       "    </tr>\n",
       "  </tbody>\n",
       "</table>\n",
       "</div>"
      ],
      "text/plain": [
       "          W         X         Y         Z\n",
       "A  0.051172 -1.755110  1.003185 -1.106373\n",
       "E -0.747436 -1.524014  1.367014 -0.260693"
      ]
     },
     "execution_count": 15,
     "metadata": {},
     "output_type": "execute_result"
    }
   ],
   "source": [
    "df[df['Z']<0]"
   ]
  },
  {
   "cell_type": "code",
   "execution_count": 16,
   "metadata": {},
   "outputs": [],
   "source": [
    "resultdf = df[df['W']>0]"
   ]
  },
  {
   "cell_type": "code",
   "execution_count": 17,
   "metadata": {},
   "outputs": [
    {
     "data": {
      "text/plain": [
       "A   -1.755110\n",
       "B   -1.189036\n",
       "Name: X, dtype: float64"
      ]
     },
     "execution_count": 17,
     "metadata": {},
     "output_type": "execute_result"
    }
   ],
   "source": [
    "resultdf['X']"
   ]
  },
  {
   "cell_type": "code",
   "execution_count": 18,
   "metadata": {},
   "outputs": [
    {
     "data": {
      "text/plain": [
       "A   -1.755110\n",
       "B   -1.189036\n",
       "Name: X, dtype: float64"
      ]
     },
     "execution_count": 18,
     "metadata": {},
     "output_type": "execute_result"
    }
   ],
   "source": [
    "df[df['W']>0]['X']"
   ]
  },
  {
   "cell_type": "code",
   "execution_count": 19,
   "metadata": {},
   "outputs": [
    {
     "data": {
      "text/html": [
       "<div>\n",
       "<style scoped>\n",
       "    .dataframe tbody tr th:only-of-type {\n",
       "        vertical-align: middle;\n",
       "    }\n",
       "\n",
       "    .dataframe tbody tr th {\n",
       "        vertical-align: top;\n",
       "    }\n",
       "\n",
       "    .dataframe thead th {\n",
       "        text-align: right;\n",
       "    }\n",
       "</style>\n",
       "<table border=\"1\" class=\"dataframe\">\n",
       "  <thead>\n",
       "    <tr style=\"text-align: right;\">\n",
       "      <th></th>\n",
       "      <th>W</th>\n",
       "      <th>X</th>\n",
       "      <th>Y</th>\n",
       "      <th>Z</th>\n",
       "    </tr>\n",
       "  </thead>\n",
       "  <tbody>\n",
       "    <tr>\n",
       "      <th>A</th>\n",
       "      <td>0.051172</td>\n",
       "      <td>-1.755110</td>\n",
       "      <td>1.003185</td>\n",
       "      <td>-1.106373</td>\n",
       "    </tr>\n",
       "    <tr>\n",
       "      <th>B</th>\n",
       "      <td>0.430762</td>\n",
       "      <td>-1.189036</td>\n",
       "      <td>1.346455</td>\n",
       "      <td>1.396275</td>\n",
       "    </tr>\n",
       "  </tbody>\n",
       "</table>\n",
       "</div>"
      ],
      "text/plain": [
       "          W         X         Y         Z\n",
       "A  0.051172 -1.755110  1.003185 -1.106373\n",
       "B  0.430762 -1.189036  1.346455  1.396275"
      ]
     },
     "execution_count": 19,
     "metadata": {},
     "output_type": "execute_result"
    }
   ],
   "source": [
    "df[(df['W']>0) & (df['Y']>1)] #and"
   ]
  },
  {
   "cell_type": "code",
   "execution_count": 20,
   "metadata": {},
   "outputs": [
    {
     "data": {
      "text/html": [
       "<div>\n",
       "<style scoped>\n",
       "    .dataframe tbody tr th:only-of-type {\n",
       "        vertical-align: middle;\n",
       "    }\n",
       "\n",
       "    .dataframe tbody tr th {\n",
       "        vertical-align: top;\n",
       "    }\n",
       "\n",
       "    .dataframe thead th {\n",
       "        text-align: right;\n",
       "    }\n",
       "</style>\n",
       "<table border=\"1\" class=\"dataframe\">\n",
       "  <thead>\n",
       "    <tr style=\"text-align: right;\">\n",
       "      <th></th>\n",
       "      <th>W</th>\n",
       "      <th>X</th>\n",
       "      <th>Y</th>\n",
       "      <th>Z</th>\n",
       "    </tr>\n",
       "  </thead>\n",
       "  <tbody>\n",
       "    <tr>\n",
       "      <th>A</th>\n",
       "      <td>0.051172</td>\n",
       "      <td>-1.755110</td>\n",
       "      <td>1.003185</td>\n",
       "      <td>-1.106373</td>\n",
       "    </tr>\n",
       "    <tr>\n",
       "      <th>B</th>\n",
       "      <td>0.430762</td>\n",
       "      <td>-1.189036</td>\n",
       "      <td>1.346455</td>\n",
       "      <td>1.396275</td>\n",
       "    </tr>\n",
       "    <tr>\n",
       "      <th>E</th>\n",
       "      <td>-0.747436</td>\n",
       "      <td>-1.524014</td>\n",
       "      <td>1.367014</td>\n",
       "      <td>-0.260693</td>\n",
       "    </tr>\n",
       "  </tbody>\n",
       "</table>\n",
       "</div>"
      ],
      "text/plain": [
       "          W         X         Y         Z\n",
       "A  0.051172 -1.755110  1.003185 -1.106373\n",
       "B  0.430762 -1.189036  1.346455  1.396275\n",
       "E -0.747436 -1.524014  1.367014 -0.260693"
      ]
     },
     "execution_count": 20,
     "metadata": {},
     "output_type": "execute_result"
    }
   ],
   "source": [
    "df[(df['W']>0) | (df['Y']>1)] #or"
   ]
  },
  {
   "cell_type": "code",
   "execution_count": 21,
   "metadata": {},
   "outputs": [
    {
     "data": {
      "text/html": [
       "<div>\n",
       "<style scoped>\n",
       "    .dataframe tbody tr th:only-of-type {\n",
       "        vertical-align: middle;\n",
       "    }\n",
       "\n",
       "    .dataframe tbody tr th {\n",
       "        vertical-align: top;\n",
       "    }\n",
       "\n",
       "    .dataframe thead th {\n",
       "        text-align: right;\n",
       "    }\n",
       "</style>\n",
       "<table border=\"1\" class=\"dataframe\">\n",
       "  <thead>\n",
       "    <tr style=\"text-align: right;\">\n",
       "      <th></th>\n",
       "      <th>index</th>\n",
       "      <th>W</th>\n",
       "      <th>X</th>\n",
       "      <th>Y</th>\n",
       "      <th>Z</th>\n",
       "    </tr>\n",
       "  </thead>\n",
       "  <tbody>\n",
       "    <tr>\n",
       "      <th>0</th>\n",
       "      <td>A</td>\n",
       "      <td>0.051172</td>\n",
       "      <td>-1.755110</td>\n",
       "      <td>1.003185</td>\n",
       "      <td>-1.106373</td>\n",
       "    </tr>\n",
       "    <tr>\n",
       "      <th>1</th>\n",
       "      <td>B</td>\n",
       "      <td>0.430762</td>\n",
       "      <td>-1.189036</td>\n",
       "      <td>1.346455</td>\n",
       "      <td>1.396275</td>\n",
       "    </tr>\n",
       "    <tr>\n",
       "      <th>2</th>\n",
       "      <td>C</td>\n",
       "      <td>-1.469382</td>\n",
       "      <td>0.170503</td>\n",
       "      <td>-0.493624</td>\n",
       "      <td>0.006965</td>\n",
       "    </tr>\n",
       "    <tr>\n",
       "      <th>3</th>\n",
       "      <td>D</td>\n",
       "      <td>-0.665392</td>\n",
       "      <td>-0.660120</td>\n",
       "      <td>0.391937</td>\n",
       "      <td>0.122606</td>\n",
       "    </tr>\n",
       "    <tr>\n",
       "      <th>4</th>\n",
       "      <td>E</td>\n",
       "      <td>-0.747436</td>\n",
       "      <td>-1.524014</td>\n",
       "      <td>1.367014</td>\n",
       "      <td>-0.260693</td>\n",
       "    </tr>\n",
       "  </tbody>\n",
       "</table>\n",
       "</div>"
      ],
      "text/plain": [
       "  index         W         X         Y         Z\n",
       "0     A  0.051172 -1.755110  1.003185 -1.106373\n",
       "1     B  0.430762 -1.189036  1.346455  1.396275\n",
       "2     C -1.469382  0.170503 -0.493624  0.006965\n",
       "3     D -0.665392 -0.660120  0.391937  0.122606\n",
       "4     E -0.747436 -1.524014  1.367014 -0.260693"
      ]
     },
     "execution_count": 21,
     "metadata": {},
     "output_type": "execute_result"
    }
   ],
   "source": [
    "df.reset_index()"
   ]
  },
  {
   "cell_type": "code",
   "execution_count": 22,
   "metadata": {},
   "outputs": [],
   "source": [
    "newind = 'CA NY WY OR CO'.split()"
   ]
  },
  {
   "cell_type": "code",
   "execution_count": 23,
   "metadata": {},
   "outputs": [
    {
     "data": {
      "text/plain": [
       "['CA', 'NY', 'WY', 'OR', 'CO']"
      ]
     },
     "execution_count": 23,
     "metadata": {},
     "output_type": "execute_result"
    }
   ],
   "source": [
    "newind"
   ]
  },
  {
   "cell_type": "code",
   "execution_count": 24,
   "metadata": {},
   "outputs": [],
   "source": [
    "df['States'] = newind"
   ]
  },
  {
   "cell_type": "code",
   "execution_count": 25,
   "metadata": {},
   "outputs": [
    {
     "data": {
      "text/html": [
       "<div>\n",
       "<style scoped>\n",
       "    .dataframe tbody tr th:only-of-type {\n",
       "        vertical-align: middle;\n",
       "    }\n",
       "\n",
       "    .dataframe tbody tr th {\n",
       "        vertical-align: top;\n",
       "    }\n",
       "\n",
       "    .dataframe thead th {\n",
       "        text-align: right;\n",
       "    }\n",
       "</style>\n",
       "<table border=\"1\" class=\"dataframe\">\n",
       "  <thead>\n",
       "    <tr style=\"text-align: right;\">\n",
       "      <th></th>\n",
       "      <th>W</th>\n",
       "      <th>X</th>\n",
       "      <th>Y</th>\n",
       "      <th>Z</th>\n",
       "      <th>States</th>\n",
       "    </tr>\n",
       "  </thead>\n",
       "  <tbody>\n",
       "    <tr>\n",
       "      <th>A</th>\n",
       "      <td>0.051172</td>\n",
       "      <td>-1.755110</td>\n",
       "      <td>1.003185</td>\n",
       "      <td>-1.106373</td>\n",
       "      <td>CA</td>\n",
       "    </tr>\n",
       "    <tr>\n",
       "      <th>B</th>\n",
       "      <td>0.430762</td>\n",
       "      <td>-1.189036</td>\n",
       "      <td>1.346455</td>\n",
       "      <td>1.396275</td>\n",
       "      <td>NY</td>\n",
       "    </tr>\n",
       "    <tr>\n",
       "      <th>C</th>\n",
       "      <td>-1.469382</td>\n",
       "      <td>0.170503</td>\n",
       "      <td>-0.493624</td>\n",
       "      <td>0.006965</td>\n",
       "      <td>WY</td>\n",
       "    </tr>\n",
       "    <tr>\n",
       "      <th>D</th>\n",
       "      <td>-0.665392</td>\n",
       "      <td>-0.660120</td>\n",
       "      <td>0.391937</td>\n",
       "      <td>0.122606</td>\n",
       "      <td>OR</td>\n",
       "    </tr>\n",
       "    <tr>\n",
       "      <th>E</th>\n",
       "      <td>-0.747436</td>\n",
       "      <td>-1.524014</td>\n",
       "      <td>1.367014</td>\n",
       "      <td>-0.260693</td>\n",
       "      <td>CO</td>\n",
       "    </tr>\n",
       "  </tbody>\n",
       "</table>\n",
       "</div>"
      ],
      "text/plain": [
       "          W         X         Y         Z States\n",
       "A  0.051172 -1.755110  1.003185 -1.106373     CA\n",
       "B  0.430762 -1.189036  1.346455  1.396275     NY\n",
       "C -1.469382  0.170503 -0.493624  0.006965     WY\n",
       "D -0.665392 -0.660120  0.391937  0.122606     OR\n",
       "E -0.747436 -1.524014  1.367014 -0.260693     CO"
      ]
     },
     "execution_count": 25,
     "metadata": {},
     "output_type": "execute_result"
    }
   ],
   "source": [
    "df"
   ]
  },
  {
   "cell_type": "code",
   "execution_count": 26,
   "metadata": {},
   "outputs": [
    {
     "data": {
      "text/html": [
       "<div>\n",
       "<style scoped>\n",
       "    .dataframe tbody tr th:only-of-type {\n",
       "        vertical-align: middle;\n",
       "    }\n",
       "\n",
       "    .dataframe tbody tr th {\n",
       "        vertical-align: top;\n",
       "    }\n",
       "\n",
       "    .dataframe thead th {\n",
       "        text-align: right;\n",
       "    }\n",
       "</style>\n",
       "<table border=\"1\" class=\"dataframe\">\n",
       "  <thead>\n",
       "    <tr style=\"text-align: right;\">\n",
       "      <th></th>\n",
       "      <th>W</th>\n",
       "      <th>X</th>\n",
       "      <th>Y</th>\n",
       "      <th>Z</th>\n",
       "    </tr>\n",
       "    <tr>\n",
       "      <th>States</th>\n",
       "      <th></th>\n",
       "      <th></th>\n",
       "      <th></th>\n",
       "      <th></th>\n",
       "    </tr>\n",
       "  </thead>\n",
       "  <tbody>\n",
       "    <tr>\n",
       "      <th>CA</th>\n",
       "      <td>0.051172</td>\n",
       "      <td>-1.755110</td>\n",
       "      <td>1.003185</td>\n",
       "      <td>-1.106373</td>\n",
       "    </tr>\n",
       "    <tr>\n",
       "      <th>NY</th>\n",
       "      <td>0.430762</td>\n",
       "      <td>-1.189036</td>\n",
       "      <td>1.346455</td>\n",
       "      <td>1.396275</td>\n",
       "    </tr>\n",
       "    <tr>\n",
       "      <th>WY</th>\n",
       "      <td>-1.469382</td>\n",
       "      <td>0.170503</td>\n",
       "      <td>-0.493624</td>\n",
       "      <td>0.006965</td>\n",
       "    </tr>\n",
       "    <tr>\n",
       "      <th>OR</th>\n",
       "      <td>-0.665392</td>\n",
       "      <td>-0.660120</td>\n",
       "      <td>0.391937</td>\n",
       "      <td>0.122606</td>\n",
       "    </tr>\n",
       "    <tr>\n",
       "      <th>CO</th>\n",
       "      <td>-0.747436</td>\n",
       "      <td>-1.524014</td>\n",
       "      <td>1.367014</td>\n",
       "      <td>-0.260693</td>\n",
       "    </tr>\n",
       "  </tbody>\n",
       "</table>\n",
       "</div>"
      ],
      "text/plain": [
       "               W         X         Y         Z\n",
       "States                                        \n",
       "CA      0.051172 -1.755110  1.003185 -1.106373\n",
       "NY      0.430762 -1.189036  1.346455  1.396275\n",
       "WY     -1.469382  0.170503 -0.493624  0.006965\n",
       "OR     -0.665392 -0.660120  0.391937  0.122606\n",
       "CO     -0.747436 -1.524014  1.367014 -0.260693"
      ]
     },
     "execution_count": 26,
     "metadata": {},
     "output_type": "execute_result"
    }
   ],
   "source": [
    "df.set_index('States')"
   ]
  },
  {
   "cell_type": "code",
   "execution_count": 27,
   "metadata": {},
   "outputs": [],
   "source": [
    "outside = ['G1','G1','G1','G2','G2','G2']\n",
    "inside = [1,2,3,1,2,3]\n",
    "hier_index = list(zip(outside,inside))\n",
    "hier_index = pd.MultiIndex.from_tuples(hier_index)"
   ]
  },
  {
   "cell_type": "code",
   "execution_count": 28,
   "metadata": {},
   "outputs": [
    {
     "data": {
      "text/plain": [
       "['G1', 'G1', 'G1', 'G2', 'G2', 'G2']"
      ]
     },
     "execution_count": 28,
     "metadata": {},
     "output_type": "execute_result"
    }
   ],
   "source": [
    "outside"
   ]
  },
  {
   "cell_type": "code",
   "execution_count": 29,
   "metadata": {},
   "outputs": [
    {
     "data": {
      "text/plain": [
       "6"
      ]
     },
     "execution_count": 29,
     "metadata": {},
     "output_type": "execute_result"
    }
   ],
   "source": [
    "len(outside)"
   ]
  },
  {
   "cell_type": "code",
   "execution_count": 30,
   "metadata": {},
   "outputs": [
    {
     "data": {
      "text/plain": [
       "[1, 2, 3, 1, 2, 3]"
      ]
     },
     "execution_count": 30,
     "metadata": {},
     "output_type": "execute_result"
    }
   ],
   "source": [
    "inside"
   ]
  },
  {
   "cell_type": "code",
   "execution_count": 31,
   "metadata": {},
   "outputs": [
    {
     "data": {
      "text/plain": [
       "[('G1', 1), ('G1', 2), ('G1', 3), ('G2', 1), ('G2', 2), ('G2', 3)]"
      ]
     },
     "execution_count": 31,
     "metadata": {},
     "output_type": "execute_result"
    }
   ],
   "source": [
    "list(zip(outside,inside))"
   ]
  },
  {
   "cell_type": "code",
   "execution_count": 32,
   "metadata": {},
   "outputs": [
    {
     "data": {
      "text/plain": [
       "MultiIndex([('G1', 1),\n",
       "            ('G1', 2),\n",
       "            ('G1', 3),\n",
       "            ('G2', 1),\n",
       "            ('G2', 2),\n",
       "            ('G2', 3)],\n",
       "           )"
      ]
     },
     "execution_count": 32,
     "metadata": {},
     "output_type": "execute_result"
    }
   ],
   "source": [
    "hier_index"
   ]
  },
  {
   "cell_type": "code",
   "execution_count": 33,
   "metadata": {},
   "outputs": [],
   "source": [
    "df = pd.DataFrame(randn(6,2),hier_index,['A','B'])"
   ]
  },
  {
   "cell_type": "code",
   "execution_count": 34,
   "metadata": {},
   "outputs": [
    {
     "data": {
      "text/html": [
       "<div>\n",
       "<style scoped>\n",
       "    .dataframe tbody tr th:only-of-type {\n",
       "        vertical-align: middle;\n",
       "    }\n",
       "\n",
       "    .dataframe tbody tr th {\n",
       "        vertical-align: top;\n",
       "    }\n",
       "\n",
       "    .dataframe thead th {\n",
       "        text-align: right;\n",
       "    }\n",
       "</style>\n",
       "<table border=\"1\" class=\"dataframe\">\n",
       "  <thead>\n",
       "    <tr style=\"text-align: right;\">\n",
       "      <th></th>\n",
       "      <th></th>\n",
       "      <th>A</th>\n",
       "      <th>B</th>\n",
       "    </tr>\n",
       "  </thead>\n",
       "  <tbody>\n",
       "    <tr>\n",
       "      <th rowspan=\"3\" valign=\"top\">G1</th>\n",
       "      <th>1</th>\n",
       "      <td>-1.082710</td>\n",
       "      <td>-0.721959</td>\n",
       "    </tr>\n",
       "    <tr>\n",
       "      <th>2</th>\n",
       "      <td>1.187575</td>\n",
       "      <td>-0.996085</td>\n",
       "    </tr>\n",
       "    <tr>\n",
       "      <th>3</th>\n",
       "      <td>0.793310</td>\n",
       "      <td>1.855468</td>\n",
       "    </tr>\n",
       "    <tr>\n",
       "      <th rowspan=\"3\" valign=\"top\">G2</th>\n",
       "      <th>1</th>\n",
       "      <td>-0.482497</td>\n",
       "      <td>-0.737352</td>\n",
       "    </tr>\n",
       "    <tr>\n",
       "      <th>2</th>\n",
       "      <td>0.644060</td>\n",
       "      <td>0.040272</td>\n",
       "    </tr>\n",
       "    <tr>\n",
       "      <th>3</th>\n",
       "      <td>0.169803</td>\n",
       "      <td>0.293067</td>\n",
       "    </tr>\n",
       "  </tbody>\n",
       "</table>\n",
       "</div>"
      ],
      "text/plain": [
       "             A         B\n",
       "G1 1 -1.082710 -0.721959\n",
       "   2  1.187575 -0.996085\n",
       "   3  0.793310  1.855468\n",
       "G2 1 -0.482497 -0.737352\n",
       "   2  0.644060  0.040272\n",
       "   3  0.169803  0.293067"
      ]
     },
     "execution_count": 34,
     "metadata": {},
     "output_type": "execute_result"
    }
   ],
   "source": [
    "df"
   ]
  },
  {
   "cell_type": "code",
   "execution_count": 35,
   "metadata": {},
   "outputs": [
    {
     "data": {
      "text/plain": [
       "A   -1.082710\n",
       "B   -0.721959\n",
       "Name: 1, dtype: float64"
      ]
     },
     "execution_count": 35,
     "metadata": {},
     "output_type": "execute_result"
    }
   ],
   "source": [
    "df.loc['G1'].loc[1]"
   ]
  },
  {
   "cell_type": "code",
   "execution_count": 36,
   "metadata": {},
   "outputs": [
    {
     "data": {
      "text/html": [
       "<div>\n",
       "<style scoped>\n",
       "    .dataframe tbody tr th:only-of-type {\n",
       "        vertical-align: middle;\n",
       "    }\n",
       "\n",
       "    .dataframe tbody tr th {\n",
       "        vertical-align: top;\n",
       "    }\n",
       "\n",
       "    .dataframe thead th {\n",
       "        text-align: right;\n",
       "    }\n",
       "</style>\n",
       "<table border=\"1\" class=\"dataframe\">\n",
       "  <thead>\n",
       "    <tr style=\"text-align: right;\">\n",
       "      <th></th>\n",
       "      <th>A</th>\n",
       "      <th>B</th>\n",
       "    </tr>\n",
       "  </thead>\n",
       "  <tbody>\n",
       "    <tr>\n",
       "      <th>1</th>\n",
       "      <td>-1.082710</td>\n",
       "      <td>-0.721959</td>\n",
       "    </tr>\n",
       "    <tr>\n",
       "      <th>2</th>\n",
       "      <td>1.187575</td>\n",
       "      <td>-0.996085</td>\n",
       "    </tr>\n",
       "    <tr>\n",
       "      <th>3</th>\n",
       "      <td>0.793310</td>\n",
       "      <td>1.855468</td>\n",
       "    </tr>\n",
       "  </tbody>\n",
       "</table>\n",
       "</div>"
      ],
      "text/plain": [
       "          A         B\n",
       "1 -1.082710 -0.721959\n",
       "2  1.187575 -0.996085\n",
       "3  0.793310  1.855468"
      ]
     },
     "execution_count": 36,
     "metadata": {},
     "output_type": "execute_result"
    }
   ],
   "source": [
    "df.loc['G1']"
   ]
  },
  {
   "cell_type": "code",
   "execution_count": 37,
   "metadata": {},
   "outputs": [
    {
     "data": {
      "text/plain": [
       "FrozenList([None, None])"
      ]
     },
     "execution_count": 37,
     "metadata": {},
     "output_type": "execute_result"
    }
   ],
   "source": [
    "df.index.names"
   ]
  },
  {
   "cell_type": "code",
   "execution_count": 38,
   "metadata": {},
   "outputs": [],
   "source": [
    "df.index.names = ['Groups','Num']"
   ]
  },
  {
   "cell_type": "code",
   "execution_count": 39,
   "metadata": {},
   "outputs": [
    {
     "data": {
      "text/html": [
       "<div>\n",
       "<style scoped>\n",
       "    .dataframe tbody tr th:only-of-type {\n",
       "        vertical-align: middle;\n",
       "    }\n",
       "\n",
       "    .dataframe tbody tr th {\n",
       "        vertical-align: top;\n",
       "    }\n",
       "\n",
       "    .dataframe thead th {\n",
       "        text-align: right;\n",
       "    }\n",
       "</style>\n",
       "<table border=\"1\" class=\"dataframe\">\n",
       "  <thead>\n",
       "    <tr style=\"text-align: right;\">\n",
       "      <th></th>\n",
       "      <th></th>\n",
       "      <th>A</th>\n",
       "      <th>B</th>\n",
       "    </tr>\n",
       "    <tr>\n",
       "      <th>Groups</th>\n",
       "      <th>Num</th>\n",
       "      <th></th>\n",
       "      <th></th>\n",
       "    </tr>\n",
       "  </thead>\n",
       "  <tbody>\n",
       "    <tr>\n",
       "      <th rowspan=\"3\" valign=\"top\">G1</th>\n",
       "      <th>1</th>\n",
       "      <td>-1.082710</td>\n",
       "      <td>-0.721959</td>\n",
       "    </tr>\n",
       "    <tr>\n",
       "      <th>2</th>\n",
       "      <td>1.187575</td>\n",
       "      <td>-0.996085</td>\n",
       "    </tr>\n",
       "    <tr>\n",
       "      <th>3</th>\n",
       "      <td>0.793310</td>\n",
       "      <td>1.855468</td>\n",
       "    </tr>\n",
       "    <tr>\n",
       "      <th rowspan=\"3\" valign=\"top\">G2</th>\n",
       "      <th>1</th>\n",
       "      <td>-0.482497</td>\n",
       "      <td>-0.737352</td>\n",
       "    </tr>\n",
       "    <tr>\n",
       "      <th>2</th>\n",
       "      <td>0.644060</td>\n",
       "      <td>0.040272</td>\n",
       "    </tr>\n",
       "    <tr>\n",
       "      <th>3</th>\n",
       "      <td>0.169803</td>\n",
       "      <td>0.293067</td>\n",
       "    </tr>\n",
       "  </tbody>\n",
       "</table>\n",
       "</div>"
      ],
      "text/plain": [
       "                   A         B\n",
       "Groups Num                    \n",
       "G1     1   -1.082710 -0.721959\n",
       "       2    1.187575 -0.996085\n",
       "       3    0.793310  1.855468\n",
       "G2     1   -0.482497 -0.737352\n",
       "       2    0.644060  0.040272\n",
       "       3    0.169803  0.293067"
      ]
     },
     "execution_count": 39,
     "metadata": {},
     "output_type": "execute_result"
    }
   ],
   "source": [
    "df"
   ]
  },
  {
   "cell_type": "code",
   "execution_count": 40,
   "metadata": {},
   "outputs": [
    {
     "data": {
      "text/html": [
       "<div>\n",
       "<style scoped>\n",
       "    .dataframe tbody tr th:only-of-type {\n",
       "        vertical-align: middle;\n",
       "    }\n",
       "\n",
       "    .dataframe tbody tr th {\n",
       "        vertical-align: top;\n",
       "    }\n",
       "\n",
       "    .dataframe thead th {\n",
       "        text-align: right;\n",
       "    }\n",
       "</style>\n",
       "<table border=\"1\" class=\"dataframe\">\n",
       "  <thead>\n",
       "    <tr style=\"text-align: right;\">\n",
       "      <th></th>\n",
       "      <th>A</th>\n",
       "      <th>B</th>\n",
       "    </tr>\n",
       "    <tr>\n",
       "      <th>Num</th>\n",
       "      <th></th>\n",
       "      <th></th>\n",
       "    </tr>\n",
       "  </thead>\n",
       "  <tbody>\n",
       "    <tr>\n",
       "      <th>1</th>\n",
       "      <td>-0.482497</td>\n",
       "      <td>-0.737352</td>\n",
       "    </tr>\n",
       "    <tr>\n",
       "      <th>2</th>\n",
       "      <td>0.644060</td>\n",
       "      <td>0.040272</td>\n",
       "    </tr>\n",
       "    <tr>\n",
       "      <th>3</th>\n",
       "      <td>0.169803</td>\n",
       "      <td>0.293067</td>\n",
       "    </tr>\n",
       "  </tbody>\n",
       "</table>\n",
       "</div>"
      ],
      "text/plain": [
       "            A         B\n",
       "Num                    \n",
       "1   -0.482497 -0.737352\n",
       "2    0.644060  0.040272\n",
       "3    0.169803  0.293067"
      ]
     },
     "execution_count": 40,
     "metadata": {},
     "output_type": "execute_result"
    }
   ],
   "source": [
    "df.loc['G2']"
   ]
  },
  {
   "cell_type": "code",
   "execution_count": 41,
   "metadata": {},
   "outputs": [
    {
     "data": {
      "text/plain": [
       "A    0.644060\n",
       "B    0.040272\n",
       "Name: 2, dtype: float64"
      ]
     },
     "execution_count": 41,
     "metadata": {},
     "output_type": "execute_result"
    }
   ],
   "source": [
    "df.loc['G2'].loc[2]"
   ]
  },
  {
   "cell_type": "code",
   "execution_count": 42,
   "metadata": {},
   "outputs": [
    {
     "data": {
      "text/plain": [
       "0.040272337293230896"
      ]
     },
     "execution_count": 42,
     "metadata": {},
     "output_type": "execute_result"
    }
   ],
   "source": [
    "df.loc['G2'].loc[2]['B']"
   ]
  },
  {
   "cell_type": "code",
   "execution_count": 43,
   "metadata": {},
   "outputs": [
    {
     "data": {
      "text/html": [
       "<div>\n",
       "<style scoped>\n",
       "    .dataframe tbody tr th:only-of-type {\n",
       "        vertical-align: middle;\n",
       "    }\n",
       "\n",
       "    .dataframe tbody tr th {\n",
       "        vertical-align: top;\n",
       "    }\n",
       "\n",
       "    .dataframe thead th {\n",
       "        text-align: right;\n",
       "    }\n",
       "</style>\n",
       "<table border=\"1\" class=\"dataframe\">\n",
       "  <thead>\n",
       "    <tr style=\"text-align: right;\">\n",
       "      <th></th>\n",
       "      <th>A</th>\n",
       "      <th>B</th>\n",
       "    </tr>\n",
       "    <tr>\n",
       "      <th>Num</th>\n",
       "      <th></th>\n",
       "      <th></th>\n",
       "    </tr>\n",
       "  </thead>\n",
       "  <tbody>\n",
       "    <tr>\n",
       "      <th>1</th>\n",
       "      <td>-1.082710</td>\n",
       "      <td>-0.721959</td>\n",
       "    </tr>\n",
       "    <tr>\n",
       "      <th>2</th>\n",
       "      <td>1.187575</td>\n",
       "      <td>-0.996085</td>\n",
       "    </tr>\n",
       "    <tr>\n",
       "      <th>3</th>\n",
       "      <td>0.793310</td>\n",
       "      <td>1.855468</td>\n",
       "    </tr>\n",
       "  </tbody>\n",
       "</table>\n",
       "</div>"
      ],
      "text/plain": [
       "            A         B\n",
       "Num                    \n",
       "1   -1.082710 -0.721959\n",
       "2    1.187575 -0.996085\n",
       "3    0.793310  1.855468"
      ]
     },
     "execution_count": 43,
     "metadata": {},
     "output_type": "execute_result"
    }
   ],
   "source": [
    "df.loc['G1']"
   ]
  },
  {
   "cell_type": "code",
   "execution_count": 44,
   "metadata": {},
   "outputs": [
    {
     "data": {
      "text/html": [
       "<div>\n",
       "<style scoped>\n",
       "    .dataframe tbody tr th:only-of-type {\n",
       "        vertical-align: middle;\n",
       "    }\n",
       "\n",
       "    .dataframe tbody tr th {\n",
       "        vertical-align: top;\n",
       "    }\n",
       "\n",
       "    .dataframe thead th {\n",
       "        text-align: right;\n",
       "    }\n",
       "</style>\n",
       "<table border=\"1\" class=\"dataframe\">\n",
       "  <thead>\n",
       "    <tr style=\"text-align: right;\">\n",
       "      <th></th>\n",
       "      <th>A</th>\n",
       "      <th>B</th>\n",
       "    </tr>\n",
       "    <tr>\n",
       "      <th>Num</th>\n",
       "      <th></th>\n",
       "      <th></th>\n",
       "    </tr>\n",
       "  </thead>\n",
       "  <tbody>\n",
       "    <tr>\n",
       "      <th>1</th>\n",
       "      <td>-1.082710</td>\n",
       "      <td>-0.721959</td>\n",
       "    </tr>\n",
       "    <tr>\n",
       "      <th>2</th>\n",
       "      <td>1.187575</td>\n",
       "      <td>-0.996085</td>\n",
       "    </tr>\n",
       "    <tr>\n",
       "      <th>3</th>\n",
       "      <td>0.793310</td>\n",
       "      <td>1.855468</td>\n",
       "    </tr>\n",
       "  </tbody>\n",
       "</table>\n",
       "</div>"
      ],
      "text/plain": [
       "            A         B\n",
       "Num                    \n",
       "1   -1.082710 -0.721959\n",
       "2    1.187575 -0.996085\n",
       "3    0.793310  1.855468"
      ]
     },
     "execution_count": 44,
     "metadata": {},
     "output_type": "execute_result"
    }
   ],
   "source": [
    "df.xs('G1')"
   ]
  },
  {
   "cell_type": "code",
   "execution_count": 45,
   "metadata": {},
   "outputs": [
    {
     "data": {
      "text/html": [
       "<div>\n",
       "<style scoped>\n",
       "    .dataframe tbody tr th:only-of-type {\n",
       "        vertical-align: middle;\n",
       "    }\n",
       "\n",
       "    .dataframe tbody tr th {\n",
       "        vertical-align: top;\n",
       "    }\n",
       "\n",
       "    .dataframe thead th {\n",
       "        text-align: right;\n",
       "    }\n",
       "</style>\n",
       "<table border=\"1\" class=\"dataframe\">\n",
       "  <thead>\n",
       "    <tr style=\"text-align: right;\">\n",
       "      <th></th>\n",
       "      <th>A</th>\n",
       "      <th>B</th>\n",
       "    </tr>\n",
       "    <tr>\n",
       "      <th>Groups</th>\n",
       "      <th></th>\n",
       "      <th></th>\n",
       "    </tr>\n",
       "  </thead>\n",
       "  <tbody>\n",
       "    <tr>\n",
       "      <th>G1</th>\n",
       "      <td>-1.082710</td>\n",
       "      <td>-0.721959</td>\n",
       "    </tr>\n",
       "    <tr>\n",
       "      <th>G2</th>\n",
       "      <td>-0.482497</td>\n",
       "      <td>-0.737352</td>\n",
       "    </tr>\n",
       "  </tbody>\n",
       "</table>\n",
       "</div>"
      ],
      "text/plain": [
       "               A         B\n",
       "Groups                    \n",
       "G1     -1.082710 -0.721959\n",
       "G2     -0.482497 -0.737352"
      ]
     },
     "execution_count": 45,
     "metadata": {},
     "output_type": "execute_result"
    }
   ],
   "source": [
    "df.xs(1,level='Num')"
   ]
  },
  {
   "cell_type": "code",
   "execution_count": 46,
   "metadata": {},
   "outputs": [],
   "source": [
    "d = {'A':[1,2,np.nan],'B':[5,np.nan,np.nan],'C':[1,2,3]}"
   ]
  },
  {
   "cell_type": "code",
   "execution_count": 47,
   "metadata": {},
   "outputs": [],
   "source": [
    "df = pd.DataFrame(d)"
   ]
  },
  {
   "cell_type": "code",
   "execution_count": 48,
   "metadata": {},
   "outputs": [
    {
     "data": {
      "text/html": [
       "<div>\n",
       "<style scoped>\n",
       "    .dataframe tbody tr th:only-of-type {\n",
       "        vertical-align: middle;\n",
       "    }\n",
       "\n",
       "    .dataframe tbody tr th {\n",
       "        vertical-align: top;\n",
       "    }\n",
       "\n",
       "    .dataframe thead th {\n",
       "        text-align: right;\n",
       "    }\n",
       "</style>\n",
       "<table border=\"1\" class=\"dataframe\">\n",
       "  <thead>\n",
       "    <tr style=\"text-align: right;\">\n",
       "      <th></th>\n",
       "      <th>A</th>\n",
       "      <th>B</th>\n",
       "      <th>C</th>\n",
       "    </tr>\n",
       "  </thead>\n",
       "  <tbody>\n",
       "    <tr>\n",
       "      <th>0</th>\n",
       "      <td>1.0</td>\n",
       "      <td>5.0</td>\n",
       "      <td>1</td>\n",
       "    </tr>\n",
       "    <tr>\n",
       "      <th>1</th>\n",
       "      <td>2.0</td>\n",
       "      <td>NaN</td>\n",
       "      <td>2</td>\n",
       "    </tr>\n",
       "    <tr>\n",
       "      <th>2</th>\n",
       "      <td>NaN</td>\n",
       "      <td>NaN</td>\n",
       "      <td>3</td>\n",
       "    </tr>\n",
       "  </tbody>\n",
       "</table>\n",
       "</div>"
      ],
      "text/plain": [
       "     A    B  C\n",
       "0  1.0  5.0  1\n",
       "1  2.0  NaN  2\n",
       "2  NaN  NaN  3"
      ]
     },
     "execution_count": 48,
     "metadata": {},
     "output_type": "execute_result"
    }
   ],
   "source": [
    "df"
   ]
  },
  {
   "cell_type": "code",
   "execution_count": 49,
   "metadata": {},
   "outputs": [
    {
     "data": {
      "text/html": [
       "<div>\n",
       "<style scoped>\n",
       "    .dataframe tbody tr th:only-of-type {\n",
       "        vertical-align: middle;\n",
       "    }\n",
       "\n",
       "    .dataframe tbody tr th {\n",
       "        vertical-align: top;\n",
       "    }\n",
       "\n",
       "    .dataframe thead th {\n",
       "        text-align: right;\n",
       "    }\n",
       "</style>\n",
       "<table border=\"1\" class=\"dataframe\">\n",
       "  <thead>\n",
       "    <tr style=\"text-align: right;\">\n",
       "      <th></th>\n",
       "      <th>A</th>\n",
       "      <th>B</th>\n",
       "      <th>C</th>\n",
       "    </tr>\n",
       "  </thead>\n",
       "  <tbody>\n",
       "    <tr>\n",
       "      <th>0</th>\n",
       "      <td>1.0</td>\n",
       "      <td>5.0</td>\n",
       "      <td>1</td>\n",
       "    </tr>\n",
       "  </tbody>\n",
       "</table>\n",
       "</div>"
      ],
      "text/plain": [
       "     A    B  C\n",
       "0  1.0  5.0  1"
      ]
     },
     "execution_count": 49,
     "metadata": {},
     "output_type": "execute_result"
    }
   ],
   "source": [
    "df.dropna()"
   ]
  },
  {
   "cell_type": "code",
   "execution_count": 50,
   "metadata": {},
   "outputs": [
    {
     "data": {
      "text/html": [
       "<div>\n",
       "<style scoped>\n",
       "    .dataframe tbody tr th:only-of-type {\n",
       "        vertical-align: middle;\n",
       "    }\n",
       "\n",
       "    .dataframe tbody tr th {\n",
       "        vertical-align: top;\n",
       "    }\n",
       "\n",
       "    .dataframe thead th {\n",
       "        text-align: right;\n",
       "    }\n",
       "</style>\n",
       "<table border=\"1\" class=\"dataframe\">\n",
       "  <thead>\n",
       "    <tr style=\"text-align: right;\">\n",
       "      <th></th>\n",
       "      <th>C</th>\n",
       "    </tr>\n",
       "  </thead>\n",
       "  <tbody>\n",
       "    <tr>\n",
       "      <th>0</th>\n",
       "      <td>1</td>\n",
       "    </tr>\n",
       "    <tr>\n",
       "      <th>1</th>\n",
       "      <td>2</td>\n",
       "    </tr>\n",
       "    <tr>\n",
       "      <th>2</th>\n",
       "      <td>3</td>\n",
       "    </tr>\n",
       "  </tbody>\n",
       "</table>\n",
       "</div>"
      ],
      "text/plain": [
       "   C\n",
       "0  1\n",
       "1  2\n",
       "2  3"
      ]
     },
     "execution_count": 50,
     "metadata": {},
     "output_type": "execute_result"
    }
   ],
   "source": [
    "df.dropna(axis=1)"
   ]
  },
  {
   "cell_type": "code",
   "execution_count": 51,
   "metadata": {},
   "outputs": [
    {
     "data": {
      "text/html": [
       "<div>\n",
       "<style scoped>\n",
       "    .dataframe tbody tr th:only-of-type {\n",
       "        vertical-align: middle;\n",
       "    }\n",
       "\n",
       "    .dataframe tbody tr th {\n",
       "        vertical-align: top;\n",
       "    }\n",
       "\n",
       "    .dataframe thead th {\n",
       "        text-align: right;\n",
       "    }\n",
       "</style>\n",
       "<table border=\"1\" class=\"dataframe\">\n",
       "  <thead>\n",
       "    <tr style=\"text-align: right;\">\n",
       "      <th></th>\n",
       "      <th>A</th>\n",
       "      <th>B</th>\n",
       "      <th>C</th>\n",
       "    </tr>\n",
       "  </thead>\n",
       "  <tbody>\n",
       "    <tr>\n",
       "      <th>0</th>\n",
       "      <td>1.0</td>\n",
       "      <td>5.0</td>\n",
       "      <td>1</td>\n",
       "    </tr>\n",
       "    <tr>\n",
       "      <th>1</th>\n",
       "      <td>2.0</td>\n",
       "      <td>NaN</td>\n",
       "      <td>2</td>\n",
       "    </tr>\n",
       "    <tr>\n",
       "      <th>2</th>\n",
       "      <td>NaN</td>\n",
       "      <td>NaN</td>\n",
       "      <td>3</td>\n",
       "    </tr>\n",
       "  </tbody>\n",
       "</table>\n",
       "</div>"
      ],
      "text/plain": [
       "     A    B  C\n",
       "0  1.0  5.0  1\n",
       "1  2.0  NaN  2\n",
       "2  NaN  NaN  3"
      ]
     },
     "execution_count": 51,
     "metadata": {},
     "output_type": "execute_result"
    }
   ],
   "source": [
    "df.dropna(thresh=1)"
   ]
  },
  {
   "cell_type": "code",
   "execution_count": 52,
   "metadata": {},
   "outputs": [
    {
     "data": {
      "text/html": [
       "<div>\n",
       "<style scoped>\n",
       "    .dataframe tbody tr th:only-of-type {\n",
       "        vertical-align: middle;\n",
       "    }\n",
       "\n",
       "    .dataframe tbody tr th {\n",
       "        vertical-align: top;\n",
       "    }\n",
       "\n",
       "    .dataframe thead th {\n",
       "        text-align: right;\n",
       "    }\n",
       "</style>\n",
       "<table border=\"1\" class=\"dataframe\">\n",
       "  <thead>\n",
       "    <tr style=\"text-align: right;\">\n",
       "      <th></th>\n",
       "      <th>A</th>\n",
       "      <th>B</th>\n",
       "      <th>C</th>\n",
       "    </tr>\n",
       "  </thead>\n",
       "  <tbody>\n",
       "    <tr>\n",
       "      <th>0</th>\n",
       "      <td>1.0</td>\n",
       "      <td>5.0</td>\n",
       "      <td>1</td>\n",
       "    </tr>\n",
       "    <tr>\n",
       "      <th>1</th>\n",
       "      <td>2.0</td>\n",
       "      <td>NaN</td>\n",
       "      <td>2</td>\n",
       "    </tr>\n",
       "  </tbody>\n",
       "</table>\n",
       "</div>"
      ],
      "text/plain": [
       "     A    B  C\n",
       "0  1.0  5.0  1\n",
       "1  2.0  NaN  2"
      ]
     },
     "execution_count": 52,
     "metadata": {},
     "output_type": "execute_result"
    }
   ],
   "source": [
    "df.dropna(thresh=2)"
   ]
  },
  {
   "cell_type": "code",
   "execution_count": 53,
   "metadata": {},
   "outputs": [
    {
     "data": {
      "text/html": [
       "<div>\n",
       "<style scoped>\n",
       "    .dataframe tbody tr th:only-of-type {\n",
       "        vertical-align: middle;\n",
       "    }\n",
       "\n",
       "    .dataframe tbody tr th {\n",
       "        vertical-align: top;\n",
       "    }\n",
       "\n",
       "    .dataframe thead th {\n",
       "        text-align: right;\n",
       "    }\n",
       "</style>\n",
       "<table border=\"1\" class=\"dataframe\">\n",
       "  <thead>\n",
       "    <tr style=\"text-align: right;\">\n",
       "      <th></th>\n",
       "      <th>A</th>\n",
       "      <th>B</th>\n",
       "      <th>C</th>\n",
       "    </tr>\n",
       "  </thead>\n",
       "  <tbody>\n",
       "    <tr>\n",
       "      <th>0</th>\n",
       "      <td>1</td>\n",
       "      <td>5</td>\n",
       "      <td>1</td>\n",
       "    </tr>\n",
       "    <tr>\n",
       "      <th>1</th>\n",
       "      <td>2</td>\n",
       "      <td>FILL VALUE</td>\n",
       "      <td>2</td>\n",
       "    </tr>\n",
       "    <tr>\n",
       "      <th>2</th>\n",
       "      <td>FILL VALUE</td>\n",
       "      <td>FILL VALUE</td>\n",
       "      <td>3</td>\n",
       "    </tr>\n",
       "  </tbody>\n",
       "</table>\n",
       "</div>"
      ],
      "text/plain": [
       "            A           B  C\n",
       "0           1           5  1\n",
       "1           2  FILL VALUE  2\n",
       "2  FILL VALUE  FILL VALUE  3"
      ]
     },
     "execution_count": 53,
     "metadata": {},
     "output_type": "execute_result"
    }
   ],
   "source": [
    "df.fillna(value='FILL VALUE')"
   ]
  },
  {
   "cell_type": "code",
   "execution_count": 54,
   "metadata": {},
   "outputs": [
    {
     "data": {
      "text/plain": [
       "0    1.0\n",
       "1    2.0\n",
       "2    1.5\n",
       "Name: A, dtype: float64"
      ]
     },
     "execution_count": 54,
     "metadata": {},
     "output_type": "execute_result"
    }
   ],
   "source": [
    "df['A'].fillna(value=df['A'].mean())"
   ]
  },
  {
   "cell_type": "code",
   "execution_count": 55,
   "metadata": {},
   "outputs": [],
   "source": [
    "data = {'Company':['GOOG','GOOG','MSFT','MSFT','FB','FB'],\n",
    "       'Person':['Sam','Charlie','Amy','Vanessa','Carl','Sarah'],\n",
    "       'Sales':[200,120,340,124,243,350]} "
   ]
  },
  {
   "cell_type": "code",
   "execution_count": 56,
   "metadata": {},
   "outputs": [],
   "source": [
    "df = pd.DataFrame(data)"
   ]
  },
  {
   "cell_type": "code",
   "execution_count": 57,
   "metadata": {},
   "outputs": [
    {
     "data": {
      "text/html": [
       "<div>\n",
       "<style scoped>\n",
       "    .dataframe tbody tr th:only-of-type {\n",
       "        vertical-align: middle;\n",
       "    }\n",
       "\n",
       "    .dataframe tbody tr th {\n",
       "        vertical-align: top;\n",
       "    }\n",
       "\n",
       "    .dataframe thead th {\n",
       "        text-align: right;\n",
       "    }\n",
       "</style>\n",
       "<table border=\"1\" class=\"dataframe\">\n",
       "  <thead>\n",
       "    <tr style=\"text-align: right;\">\n",
       "      <th></th>\n",
       "      <th>Company</th>\n",
       "      <th>Person</th>\n",
       "      <th>Sales</th>\n",
       "    </tr>\n",
       "  </thead>\n",
       "  <tbody>\n",
       "    <tr>\n",
       "      <th>0</th>\n",
       "      <td>GOOG</td>\n",
       "      <td>Sam</td>\n",
       "      <td>200</td>\n",
       "    </tr>\n",
       "    <tr>\n",
       "      <th>1</th>\n",
       "      <td>GOOG</td>\n",
       "      <td>Charlie</td>\n",
       "      <td>120</td>\n",
       "    </tr>\n",
       "    <tr>\n",
       "      <th>2</th>\n",
       "      <td>MSFT</td>\n",
       "      <td>Amy</td>\n",
       "      <td>340</td>\n",
       "    </tr>\n",
       "    <tr>\n",
       "      <th>3</th>\n",
       "      <td>MSFT</td>\n",
       "      <td>Vanessa</td>\n",
       "      <td>124</td>\n",
       "    </tr>\n",
       "    <tr>\n",
       "      <th>4</th>\n",
       "      <td>FB</td>\n",
       "      <td>Carl</td>\n",
       "      <td>243</td>\n",
       "    </tr>\n",
       "    <tr>\n",
       "      <th>5</th>\n",
       "      <td>FB</td>\n",
       "      <td>Sarah</td>\n",
       "      <td>350</td>\n",
       "    </tr>\n",
       "  </tbody>\n",
       "</table>\n",
       "</div>"
      ],
      "text/plain": [
       "  Company   Person  Sales\n",
       "0    GOOG      Sam    200\n",
       "1    GOOG  Charlie    120\n",
       "2    MSFT      Amy    340\n",
       "3    MSFT  Vanessa    124\n",
       "4      FB     Carl    243\n",
       "5      FB    Sarah    350"
      ]
     },
     "execution_count": 57,
     "metadata": {},
     "output_type": "execute_result"
    }
   ],
   "source": [
    "df"
   ]
  },
  {
   "cell_type": "code",
   "execution_count": 58,
   "metadata": {},
   "outputs": [],
   "source": [
    "byComp = df.groupby('Company')"
   ]
  },
  {
   "cell_type": "code",
   "execution_count": 59,
   "metadata": {},
   "outputs": [
    {
     "data": {
      "text/plain": [
       "<pandas.core.groupby.generic.DataFrameGroupBy object at 0x120f1fd30>"
      ]
     },
     "execution_count": 59,
     "metadata": {},
     "output_type": "execute_result"
    }
   ],
   "source": [
    "byComp"
   ]
  },
  {
   "cell_type": "code",
   "execution_count": 60,
   "metadata": {},
   "outputs": [
    {
     "data": {
      "text/html": [
       "<div>\n",
       "<style scoped>\n",
       "    .dataframe tbody tr th:only-of-type {\n",
       "        vertical-align: middle;\n",
       "    }\n",
       "\n",
       "    .dataframe tbody tr th {\n",
       "        vertical-align: top;\n",
       "    }\n",
       "\n",
       "    .dataframe thead th {\n",
       "        text-align: right;\n",
       "    }\n",
       "</style>\n",
       "<table border=\"1\" class=\"dataframe\">\n",
       "  <thead>\n",
       "    <tr style=\"text-align: right;\">\n",
       "      <th></th>\n",
       "      <th>Sales</th>\n",
       "    </tr>\n",
       "    <tr>\n",
       "      <th>Company</th>\n",
       "      <th></th>\n",
       "    </tr>\n",
       "  </thead>\n",
       "  <tbody>\n",
       "    <tr>\n",
       "      <th>FB</th>\n",
       "      <td>296.5</td>\n",
       "    </tr>\n",
       "    <tr>\n",
       "      <th>GOOG</th>\n",
       "      <td>160.0</td>\n",
       "    </tr>\n",
       "    <tr>\n",
       "      <th>MSFT</th>\n",
       "      <td>232.0</td>\n",
       "    </tr>\n",
       "  </tbody>\n",
       "</table>\n",
       "</div>"
      ],
      "text/plain": [
       "         Sales\n",
       "Company       \n",
       "FB       296.5\n",
       "GOOG     160.0\n",
       "MSFT     232.0"
      ]
     },
     "execution_count": 60,
     "metadata": {},
     "output_type": "execute_result"
    }
   ],
   "source": [
    "byComp.mean()"
   ]
  },
  {
   "cell_type": "code",
   "execution_count": 61,
   "metadata": {},
   "outputs": [
    {
     "data": {
      "text/html": [
       "<div>\n",
       "<style scoped>\n",
       "    .dataframe tbody tr th:only-of-type {\n",
       "        vertical-align: middle;\n",
       "    }\n",
       "\n",
       "    .dataframe tbody tr th {\n",
       "        vertical-align: top;\n",
       "    }\n",
       "\n",
       "    .dataframe thead th {\n",
       "        text-align: right;\n",
       "    }\n",
       "</style>\n",
       "<table border=\"1\" class=\"dataframe\">\n",
       "  <thead>\n",
       "    <tr style=\"text-align: right;\">\n",
       "      <th></th>\n",
       "      <th>Sales</th>\n",
       "    </tr>\n",
       "    <tr>\n",
       "      <th>Company</th>\n",
       "      <th></th>\n",
       "    </tr>\n",
       "  </thead>\n",
       "  <tbody>\n",
       "    <tr>\n",
       "      <th>FB</th>\n",
       "      <td>593</td>\n",
       "    </tr>\n",
       "    <tr>\n",
       "      <th>GOOG</th>\n",
       "      <td>320</td>\n",
       "    </tr>\n",
       "    <tr>\n",
       "      <th>MSFT</th>\n",
       "      <td>464</td>\n",
       "    </tr>\n",
       "  </tbody>\n",
       "</table>\n",
       "</div>"
      ],
      "text/plain": [
       "         Sales\n",
       "Company       \n",
       "FB         593\n",
       "GOOG       320\n",
       "MSFT       464"
      ]
     },
     "execution_count": 61,
     "metadata": {},
     "output_type": "execute_result"
    }
   ],
   "source": [
    "byComp.sum()"
   ]
  },
  {
   "cell_type": "code",
   "execution_count": 62,
   "metadata": {},
   "outputs": [
    {
     "data": {
      "text/html": [
       "<div>\n",
       "<style scoped>\n",
       "    .dataframe tbody tr th:only-of-type {\n",
       "        vertical-align: middle;\n",
       "    }\n",
       "\n",
       "    .dataframe tbody tr th {\n",
       "        vertical-align: top;\n",
       "    }\n",
       "\n",
       "    .dataframe thead th {\n",
       "        text-align: right;\n",
       "    }\n",
       "</style>\n",
       "<table border=\"1\" class=\"dataframe\">\n",
       "  <thead>\n",
       "    <tr style=\"text-align: right;\">\n",
       "      <th></th>\n",
       "      <th>Sales</th>\n",
       "    </tr>\n",
       "    <tr>\n",
       "      <th>Company</th>\n",
       "      <th></th>\n",
       "    </tr>\n",
       "  </thead>\n",
       "  <tbody>\n",
       "    <tr>\n",
       "      <th>FB</th>\n",
       "      <td>75.660426</td>\n",
       "    </tr>\n",
       "    <tr>\n",
       "      <th>GOOG</th>\n",
       "      <td>56.568542</td>\n",
       "    </tr>\n",
       "    <tr>\n",
       "      <th>MSFT</th>\n",
       "      <td>152.735065</td>\n",
       "    </tr>\n",
       "  </tbody>\n",
       "</table>\n",
       "</div>"
      ],
      "text/plain": [
       "              Sales\n",
       "Company            \n",
       "FB        75.660426\n",
       "GOOG      56.568542\n",
       "MSFT     152.735065"
      ]
     },
     "execution_count": 62,
     "metadata": {},
     "output_type": "execute_result"
    }
   ],
   "source": [
    "byComp.std()"
   ]
  },
  {
   "cell_type": "code",
   "execution_count": 63,
   "metadata": {},
   "outputs": [
    {
     "data": {
      "text/plain": [
       "Sales    593\n",
       "Name: FB, dtype: int64"
      ]
     },
     "execution_count": 63,
     "metadata": {},
     "output_type": "execute_result"
    }
   ],
   "source": [
    "byComp.sum().loc['FB']"
   ]
  },
  {
   "cell_type": "code",
   "execution_count": 64,
   "metadata": {},
   "outputs": [
    {
     "data": {
      "text/plain": [
       "Sales    593\n",
       "Name: FB, dtype: int64"
      ]
     },
     "execution_count": 64,
     "metadata": {},
     "output_type": "execute_result"
    }
   ],
   "source": [
    "df.groupby('Company').sum().loc['FB']"
   ]
  },
  {
   "cell_type": "code",
   "execution_count": 65,
   "metadata": {},
   "outputs": [
    {
     "data": {
      "text/html": [
       "<div>\n",
       "<style scoped>\n",
       "    .dataframe tbody tr th:only-of-type {\n",
       "        vertical-align: middle;\n",
       "    }\n",
       "\n",
       "    .dataframe tbody tr th {\n",
       "        vertical-align: top;\n",
       "    }\n",
       "\n",
       "    .dataframe thead th {\n",
       "        text-align: right;\n",
       "    }\n",
       "</style>\n",
       "<table border=\"1\" class=\"dataframe\">\n",
       "  <thead>\n",
       "    <tr style=\"text-align: right;\">\n",
       "      <th></th>\n",
       "      <th>Person</th>\n",
       "      <th>Sales</th>\n",
       "    </tr>\n",
       "    <tr>\n",
       "      <th>Company</th>\n",
       "      <th></th>\n",
       "      <th></th>\n",
       "    </tr>\n",
       "  </thead>\n",
       "  <tbody>\n",
       "    <tr>\n",
       "      <th>FB</th>\n",
       "      <td>2</td>\n",
       "      <td>2</td>\n",
       "    </tr>\n",
       "    <tr>\n",
       "      <th>GOOG</th>\n",
       "      <td>2</td>\n",
       "      <td>2</td>\n",
       "    </tr>\n",
       "    <tr>\n",
       "      <th>MSFT</th>\n",
       "      <td>2</td>\n",
       "      <td>2</td>\n",
       "    </tr>\n",
       "  </tbody>\n",
       "</table>\n",
       "</div>"
      ],
      "text/plain": [
       "         Person  Sales\n",
       "Company               \n",
       "FB            2      2\n",
       "GOOG          2      2\n",
       "MSFT          2      2"
      ]
     },
     "execution_count": 65,
     "metadata": {},
     "output_type": "execute_result"
    }
   ],
   "source": [
    "df.groupby('Company').count()"
   ]
  },
  {
   "cell_type": "code",
   "execution_count": 66,
   "metadata": {},
   "outputs": [
    {
     "data": {
      "text/html": [
       "<div>\n",
       "<style scoped>\n",
       "    .dataframe tbody tr th:only-of-type {\n",
       "        vertical-align: middle;\n",
       "    }\n",
       "\n",
       "    .dataframe tbody tr th {\n",
       "        vertical-align: top;\n",
       "    }\n",
       "\n",
       "    .dataframe thead th {\n",
       "        text-align: right;\n",
       "    }\n",
       "</style>\n",
       "<table border=\"1\" class=\"dataframe\">\n",
       "  <thead>\n",
       "    <tr style=\"text-align: right;\">\n",
       "      <th></th>\n",
       "      <th>Person</th>\n",
       "      <th>Sales</th>\n",
       "    </tr>\n",
       "    <tr>\n",
       "      <th>Company</th>\n",
       "      <th></th>\n",
       "      <th></th>\n",
       "    </tr>\n",
       "  </thead>\n",
       "  <tbody>\n",
       "    <tr>\n",
       "      <th>FB</th>\n",
       "      <td>Sarah</td>\n",
       "      <td>350</td>\n",
       "    </tr>\n",
       "    <tr>\n",
       "      <th>GOOG</th>\n",
       "      <td>Sam</td>\n",
       "      <td>200</td>\n",
       "    </tr>\n",
       "    <tr>\n",
       "      <th>MSFT</th>\n",
       "      <td>Vanessa</td>\n",
       "      <td>340</td>\n",
       "    </tr>\n",
       "  </tbody>\n",
       "</table>\n",
       "</div>"
      ],
      "text/plain": [
       "          Person  Sales\n",
       "Company                \n",
       "FB         Sarah    350\n",
       "GOOG         Sam    200\n",
       "MSFT     Vanessa    340"
      ]
     },
     "execution_count": 66,
     "metadata": {},
     "output_type": "execute_result"
    }
   ],
   "source": [
    "df.groupby('Company').max()"
   ]
  },
  {
   "cell_type": "code",
   "execution_count": 67,
   "metadata": {},
   "outputs": [
    {
     "data": {
      "text/html": [
       "<div>\n",
       "<style scoped>\n",
       "    .dataframe tbody tr th:only-of-type {\n",
       "        vertical-align: middle;\n",
       "    }\n",
       "\n",
       "    .dataframe tbody tr th {\n",
       "        vertical-align: top;\n",
       "    }\n",
       "\n",
       "    .dataframe thead th {\n",
       "        text-align: right;\n",
       "    }\n",
       "</style>\n",
       "<table border=\"1\" class=\"dataframe\">\n",
       "  <thead>\n",
       "    <tr style=\"text-align: right;\">\n",
       "      <th></th>\n",
       "      <th>Company</th>\n",
       "      <th>FB</th>\n",
       "      <th>GOOG</th>\n",
       "      <th>MSFT</th>\n",
       "    </tr>\n",
       "  </thead>\n",
       "  <tbody>\n",
       "    <tr>\n",
       "      <th rowspan=\"8\" valign=\"top\">Sales</th>\n",
       "      <th>count</th>\n",
       "      <td>2.000000</td>\n",
       "      <td>2.000000</td>\n",
       "      <td>2.000000</td>\n",
       "    </tr>\n",
       "    <tr>\n",
       "      <th>mean</th>\n",
       "      <td>296.500000</td>\n",
       "      <td>160.000000</td>\n",
       "      <td>232.000000</td>\n",
       "    </tr>\n",
       "    <tr>\n",
       "      <th>std</th>\n",
       "      <td>75.660426</td>\n",
       "      <td>56.568542</td>\n",
       "      <td>152.735065</td>\n",
       "    </tr>\n",
       "    <tr>\n",
       "      <th>min</th>\n",
       "      <td>243.000000</td>\n",
       "      <td>120.000000</td>\n",
       "      <td>124.000000</td>\n",
       "    </tr>\n",
       "    <tr>\n",
       "      <th>25%</th>\n",
       "      <td>269.750000</td>\n",
       "      <td>140.000000</td>\n",
       "      <td>178.000000</td>\n",
       "    </tr>\n",
       "    <tr>\n",
       "      <th>50%</th>\n",
       "      <td>296.500000</td>\n",
       "      <td>160.000000</td>\n",
       "      <td>232.000000</td>\n",
       "    </tr>\n",
       "    <tr>\n",
       "      <th>75%</th>\n",
       "      <td>323.250000</td>\n",
       "      <td>180.000000</td>\n",
       "      <td>286.000000</td>\n",
       "    </tr>\n",
       "    <tr>\n",
       "      <th>max</th>\n",
       "      <td>350.000000</td>\n",
       "      <td>200.000000</td>\n",
       "      <td>340.000000</td>\n",
       "    </tr>\n",
       "  </tbody>\n",
       "</table>\n",
       "</div>"
      ],
      "text/plain": [
       "Company              FB        GOOG        MSFT\n",
       "Sales count    2.000000    2.000000    2.000000\n",
       "      mean   296.500000  160.000000  232.000000\n",
       "      std     75.660426   56.568542  152.735065\n",
       "      min    243.000000  120.000000  124.000000\n",
       "      25%    269.750000  140.000000  178.000000\n",
       "      50%    296.500000  160.000000  232.000000\n",
       "      75%    323.250000  180.000000  286.000000\n",
       "      max    350.000000  200.000000  340.000000"
      ]
     },
     "execution_count": 67,
     "metadata": {},
     "output_type": "execute_result"
    }
   ],
   "source": [
    "df.groupby('Company').describe().transpose()"
   ]
  },
  {
   "cell_type": "code",
   "execution_count": 68,
   "metadata": {},
   "outputs": [
    {
     "data": {
      "text/plain": [
       "Sales  count      2.000000\n",
       "       mean     296.500000\n",
       "       std       75.660426\n",
       "       min      243.000000\n",
       "       25%      269.750000\n",
       "       50%      296.500000\n",
       "       75%      323.250000\n",
       "       max      350.000000\n",
       "Name: FB, dtype: float64"
      ]
     },
     "execution_count": 68,
     "metadata": {},
     "output_type": "execute_result"
    }
   ],
   "source": [
    "df.groupby('Company').describe().transpose()['FB']"
   ]
  },
  {
   "cell_type": "code",
   "execution_count": 69,
   "metadata": {},
   "outputs": [
    {
     "data": {
      "text/plain": [
       "Sales  count      2.000000\n",
       "       mean     296.500000\n",
       "       std       75.660426\n",
       "       min      243.000000\n",
       "       25%      269.750000\n",
       "       50%      296.500000\n",
       "       75%      323.250000\n",
       "       max      350.000000\n",
       "Name: FB, dtype: float64"
      ]
     },
     "execution_count": 69,
     "metadata": {},
     "output_type": "execute_result"
    }
   ],
   "source": [
    "df.groupby('Company').describe().transpose()['FB']"
   ]
  },
  {
   "cell_type": "code",
   "execution_count": 70,
   "metadata": {},
   "outputs": [],
   "source": [
    "df1 = pd.DataFrame({'A': ['A0','A1','A2','A3'],\n",
    "                   'B': ['B0','B1','B2','B3'],\n",
    "                   'C': ['C0','C1','C2','C3'],\n",
    "                   'D': ['D0','D1','D2','D3']},\n",
    "                  index=[0,1,2,3])"
   ]
  },
  {
   "cell_type": "code",
   "execution_count": 71,
   "metadata": {},
   "outputs": [],
   "source": [
    "df2 = pd.DataFrame({'A': ['A0','A1','A2','A3'],\n",
    "                   'B': ['B0','B1','B2','B3'],\n",
    "                   'C': ['C0','C1','C2','C3'],\n",
    "                   'D': ['D0','D1','D2','D3']},\n",
    "                  index=[4,5,6,7])"
   ]
  },
  {
   "cell_type": "code",
   "execution_count": 72,
   "metadata": {},
   "outputs": [],
   "source": [
    "df3 = pd.DataFrame({'A': ['A0','A1','A2','A3'],\n",
    "                   'B': ['B0','B1','B2','B3'],\n",
    "                   'C': ['C0','C1','C2','C3'],\n",
    "                   'D': ['D0','D1','D2','D3']},\n",
    "                  index=[8,9,10,11])"
   ]
  },
  {
   "cell_type": "code",
   "execution_count": 73,
   "metadata": {},
   "outputs": [
    {
     "data": {
      "text/html": [
       "<div>\n",
       "<style scoped>\n",
       "    .dataframe tbody tr th:only-of-type {\n",
       "        vertical-align: middle;\n",
       "    }\n",
       "\n",
       "    .dataframe tbody tr th {\n",
       "        vertical-align: top;\n",
       "    }\n",
       "\n",
       "    .dataframe thead th {\n",
       "        text-align: right;\n",
       "    }\n",
       "</style>\n",
       "<table border=\"1\" class=\"dataframe\">\n",
       "  <thead>\n",
       "    <tr style=\"text-align: right;\">\n",
       "      <th></th>\n",
       "      <th>A</th>\n",
       "      <th>B</th>\n",
       "      <th>C</th>\n",
       "      <th>D</th>\n",
       "    </tr>\n",
       "  </thead>\n",
       "  <tbody>\n",
       "    <tr>\n",
       "      <th>0</th>\n",
       "      <td>A0</td>\n",
       "      <td>B0</td>\n",
       "      <td>C0</td>\n",
       "      <td>D0</td>\n",
       "    </tr>\n",
       "    <tr>\n",
       "      <th>1</th>\n",
       "      <td>A1</td>\n",
       "      <td>B1</td>\n",
       "      <td>C1</td>\n",
       "      <td>D1</td>\n",
       "    </tr>\n",
       "    <tr>\n",
       "      <th>2</th>\n",
       "      <td>A2</td>\n",
       "      <td>B2</td>\n",
       "      <td>C2</td>\n",
       "      <td>D2</td>\n",
       "    </tr>\n",
       "    <tr>\n",
       "      <th>3</th>\n",
       "      <td>A3</td>\n",
       "      <td>B3</td>\n",
       "      <td>C3</td>\n",
       "      <td>D3</td>\n",
       "    </tr>\n",
       "  </tbody>\n",
       "</table>\n",
       "</div>"
      ],
      "text/plain": [
       "    A   B   C   D\n",
       "0  A0  B0  C0  D0\n",
       "1  A1  B1  C1  D1\n",
       "2  A2  B2  C2  D2\n",
       "3  A3  B3  C3  D3"
      ]
     },
     "execution_count": 73,
     "metadata": {},
     "output_type": "execute_result"
    }
   ],
   "source": [
    "df1"
   ]
  },
  {
   "cell_type": "code",
   "execution_count": 74,
   "metadata": {},
   "outputs": [
    {
     "data": {
      "text/html": [
       "<div>\n",
       "<style scoped>\n",
       "    .dataframe tbody tr th:only-of-type {\n",
       "        vertical-align: middle;\n",
       "    }\n",
       "\n",
       "    .dataframe tbody tr th {\n",
       "        vertical-align: top;\n",
       "    }\n",
       "\n",
       "    .dataframe thead th {\n",
       "        text-align: right;\n",
       "    }\n",
       "</style>\n",
       "<table border=\"1\" class=\"dataframe\">\n",
       "  <thead>\n",
       "    <tr style=\"text-align: right;\">\n",
       "      <th></th>\n",
       "      <th>A</th>\n",
       "      <th>B</th>\n",
       "      <th>C</th>\n",
       "      <th>D</th>\n",
       "    </tr>\n",
       "  </thead>\n",
       "  <tbody>\n",
       "    <tr>\n",
       "      <th>4</th>\n",
       "      <td>A0</td>\n",
       "      <td>B0</td>\n",
       "      <td>C0</td>\n",
       "      <td>D0</td>\n",
       "    </tr>\n",
       "    <tr>\n",
       "      <th>5</th>\n",
       "      <td>A1</td>\n",
       "      <td>B1</td>\n",
       "      <td>C1</td>\n",
       "      <td>D1</td>\n",
       "    </tr>\n",
       "    <tr>\n",
       "      <th>6</th>\n",
       "      <td>A2</td>\n",
       "      <td>B2</td>\n",
       "      <td>C2</td>\n",
       "      <td>D2</td>\n",
       "    </tr>\n",
       "    <tr>\n",
       "      <th>7</th>\n",
       "      <td>A3</td>\n",
       "      <td>B3</td>\n",
       "      <td>C3</td>\n",
       "      <td>D3</td>\n",
       "    </tr>\n",
       "  </tbody>\n",
       "</table>\n",
       "</div>"
      ],
      "text/plain": [
       "    A   B   C   D\n",
       "4  A0  B0  C0  D0\n",
       "5  A1  B1  C1  D1\n",
       "6  A2  B2  C2  D2\n",
       "7  A3  B3  C3  D3"
      ]
     },
     "execution_count": 74,
     "metadata": {},
     "output_type": "execute_result"
    }
   ],
   "source": [
    "df2"
   ]
  },
  {
   "cell_type": "code",
   "execution_count": 75,
   "metadata": {},
   "outputs": [
    {
     "data": {
      "text/html": [
       "<div>\n",
       "<style scoped>\n",
       "    .dataframe tbody tr th:only-of-type {\n",
       "        vertical-align: middle;\n",
       "    }\n",
       "\n",
       "    .dataframe tbody tr th {\n",
       "        vertical-align: top;\n",
       "    }\n",
       "\n",
       "    .dataframe thead th {\n",
       "        text-align: right;\n",
       "    }\n",
       "</style>\n",
       "<table border=\"1\" class=\"dataframe\">\n",
       "  <thead>\n",
       "    <tr style=\"text-align: right;\">\n",
       "      <th></th>\n",
       "      <th>A</th>\n",
       "      <th>B</th>\n",
       "      <th>C</th>\n",
       "      <th>D</th>\n",
       "    </tr>\n",
       "  </thead>\n",
       "  <tbody>\n",
       "    <tr>\n",
       "      <th>8</th>\n",
       "      <td>A0</td>\n",
       "      <td>B0</td>\n",
       "      <td>C0</td>\n",
       "      <td>D0</td>\n",
       "    </tr>\n",
       "    <tr>\n",
       "      <th>9</th>\n",
       "      <td>A1</td>\n",
       "      <td>B1</td>\n",
       "      <td>C1</td>\n",
       "      <td>D1</td>\n",
       "    </tr>\n",
       "    <tr>\n",
       "      <th>10</th>\n",
       "      <td>A2</td>\n",
       "      <td>B2</td>\n",
       "      <td>C2</td>\n",
       "      <td>D2</td>\n",
       "    </tr>\n",
       "    <tr>\n",
       "      <th>11</th>\n",
       "      <td>A3</td>\n",
       "      <td>B3</td>\n",
       "      <td>C3</td>\n",
       "      <td>D3</td>\n",
       "    </tr>\n",
       "  </tbody>\n",
       "</table>\n",
       "</div>"
      ],
      "text/plain": [
       "     A   B   C   D\n",
       "8   A0  B0  C0  D0\n",
       "9   A1  B1  C1  D1\n",
       "10  A2  B2  C2  D2\n",
       "11  A3  B3  C3  D3"
      ]
     },
     "execution_count": 75,
     "metadata": {},
     "output_type": "execute_result"
    }
   ],
   "source": [
    "df3"
   ]
  },
  {
   "cell_type": "code",
   "execution_count": 76,
   "metadata": {},
   "outputs": [
    {
     "data": {
      "text/html": [
       "<div>\n",
       "<style scoped>\n",
       "    .dataframe tbody tr th:only-of-type {\n",
       "        vertical-align: middle;\n",
       "    }\n",
       "\n",
       "    .dataframe tbody tr th {\n",
       "        vertical-align: top;\n",
       "    }\n",
       "\n",
       "    .dataframe thead th {\n",
       "        text-align: right;\n",
       "    }\n",
       "</style>\n",
       "<table border=\"1\" class=\"dataframe\">\n",
       "  <thead>\n",
       "    <tr style=\"text-align: right;\">\n",
       "      <th></th>\n",
       "      <th>A</th>\n",
       "      <th>B</th>\n",
       "      <th>C</th>\n",
       "      <th>D</th>\n",
       "    </tr>\n",
       "  </thead>\n",
       "  <tbody>\n",
       "    <tr>\n",
       "      <th>0</th>\n",
       "      <td>A0</td>\n",
       "      <td>B0</td>\n",
       "      <td>C0</td>\n",
       "      <td>D0</td>\n",
       "    </tr>\n",
       "    <tr>\n",
       "      <th>1</th>\n",
       "      <td>A1</td>\n",
       "      <td>B1</td>\n",
       "      <td>C1</td>\n",
       "      <td>D1</td>\n",
       "    </tr>\n",
       "    <tr>\n",
       "      <th>2</th>\n",
       "      <td>A2</td>\n",
       "      <td>B2</td>\n",
       "      <td>C2</td>\n",
       "      <td>D2</td>\n",
       "    </tr>\n",
       "    <tr>\n",
       "      <th>3</th>\n",
       "      <td>A3</td>\n",
       "      <td>B3</td>\n",
       "      <td>C3</td>\n",
       "      <td>D3</td>\n",
       "    </tr>\n",
       "    <tr>\n",
       "      <th>4</th>\n",
       "      <td>A0</td>\n",
       "      <td>B0</td>\n",
       "      <td>C0</td>\n",
       "      <td>D0</td>\n",
       "    </tr>\n",
       "    <tr>\n",
       "      <th>5</th>\n",
       "      <td>A1</td>\n",
       "      <td>B1</td>\n",
       "      <td>C1</td>\n",
       "      <td>D1</td>\n",
       "    </tr>\n",
       "    <tr>\n",
       "      <th>6</th>\n",
       "      <td>A2</td>\n",
       "      <td>B2</td>\n",
       "      <td>C2</td>\n",
       "      <td>D2</td>\n",
       "    </tr>\n",
       "    <tr>\n",
       "      <th>7</th>\n",
       "      <td>A3</td>\n",
       "      <td>B3</td>\n",
       "      <td>C3</td>\n",
       "      <td>D3</td>\n",
       "    </tr>\n",
       "    <tr>\n",
       "      <th>8</th>\n",
       "      <td>A0</td>\n",
       "      <td>B0</td>\n",
       "      <td>C0</td>\n",
       "      <td>D0</td>\n",
       "    </tr>\n",
       "    <tr>\n",
       "      <th>9</th>\n",
       "      <td>A1</td>\n",
       "      <td>B1</td>\n",
       "      <td>C1</td>\n",
       "      <td>D1</td>\n",
       "    </tr>\n",
       "    <tr>\n",
       "      <th>10</th>\n",
       "      <td>A2</td>\n",
       "      <td>B2</td>\n",
       "      <td>C2</td>\n",
       "      <td>D2</td>\n",
       "    </tr>\n",
       "    <tr>\n",
       "      <th>11</th>\n",
       "      <td>A3</td>\n",
       "      <td>B3</td>\n",
       "      <td>C3</td>\n",
       "      <td>D3</td>\n",
       "    </tr>\n",
       "  </tbody>\n",
       "</table>\n",
       "</div>"
      ],
      "text/plain": [
       "     A   B   C   D\n",
       "0   A0  B0  C0  D0\n",
       "1   A1  B1  C1  D1\n",
       "2   A2  B2  C2  D2\n",
       "3   A3  B3  C3  D3\n",
       "4   A0  B0  C0  D0\n",
       "5   A1  B1  C1  D1\n",
       "6   A2  B2  C2  D2\n",
       "7   A3  B3  C3  D3\n",
       "8   A0  B0  C0  D0\n",
       "9   A1  B1  C1  D1\n",
       "10  A2  B2  C2  D2\n",
       "11  A3  B3  C3  D3"
      ]
     },
     "execution_count": 76,
     "metadata": {},
     "output_type": "execute_result"
    }
   ],
   "source": [
    "pd.concat([df1,df2,df3])"
   ]
  },
  {
   "cell_type": "code",
   "execution_count": 77,
   "metadata": {},
   "outputs": [
    {
     "data": {
      "text/html": [
       "<div>\n",
       "<style scoped>\n",
       "    .dataframe tbody tr th:only-of-type {\n",
       "        vertical-align: middle;\n",
       "    }\n",
       "\n",
       "    .dataframe tbody tr th {\n",
       "        vertical-align: top;\n",
       "    }\n",
       "\n",
       "    .dataframe thead th {\n",
       "        text-align: right;\n",
       "    }\n",
       "</style>\n",
       "<table border=\"1\" class=\"dataframe\">\n",
       "  <thead>\n",
       "    <tr style=\"text-align: right;\">\n",
       "      <th></th>\n",
       "      <th>A</th>\n",
       "      <th>B</th>\n",
       "      <th>C</th>\n",
       "      <th>D</th>\n",
       "      <th>A</th>\n",
       "      <th>B</th>\n",
       "      <th>C</th>\n",
       "      <th>D</th>\n",
       "      <th>A</th>\n",
       "      <th>B</th>\n",
       "      <th>C</th>\n",
       "      <th>D</th>\n",
       "    </tr>\n",
       "  </thead>\n",
       "  <tbody>\n",
       "    <tr>\n",
       "      <th>0</th>\n",
       "      <td>A0</td>\n",
       "      <td>B0</td>\n",
       "      <td>C0</td>\n",
       "      <td>D0</td>\n",
       "      <td>NaN</td>\n",
       "      <td>NaN</td>\n",
       "      <td>NaN</td>\n",
       "      <td>NaN</td>\n",
       "      <td>NaN</td>\n",
       "      <td>NaN</td>\n",
       "      <td>NaN</td>\n",
       "      <td>NaN</td>\n",
       "    </tr>\n",
       "    <tr>\n",
       "      <th>1</th>\n",
       "      <td>A1</td>\n",
       "      <td>B1</td>\n",
       "      <td>C1</td>\n",
       "      <td>D1</td>\n",
       "      <td>NaN</td>\n",
       "      <td>NaN</td>\n",
       "      <td>NaN</td>\n",
       "      <td>NaN</td>\n",
       "      <td>NaN</td>\n",
       "      <td>NaN</td>\n",
       "      <td>NaN</td>\n",
       "      <td>NaN</td>\n",
       "    </tr>\n",
       "    <tr>\n",
       "      <th>2</th>\n",
       "      <td>A2</td>\n",
       "      <td>B2</td>\n",
       "      <td>C2</td>\n",
       "      <td>D2</td>\n",
       "      <td>NaN</td>\n",
       "      <td>NaN</td>\n",
       "      <td>NaN</td>\n",
       "      <td>NaN</td>\n",
       "      <td>NaN</td>\n",
       "      <td>NaN</td>\n",
       "      <td>NaN</td>\n",
       "      <td>NaN</td>\n",
       "    </tr>\n",
       "    <tr>\n",
       "      <th>3</th>\n",
       "      <td>A3</td>\n",
       "      <td>B3</td>\n",
       "      <td>C3</td>\n",
       "      <td>D3</td>\n",
       "      <td>NaN</td>\n",
       "      <td>NaN</td>\n",
       "      <td>NaN</td>\n",
       "      <td>NaN</td>\n",
       "      <td>NaN</td>\n",
       "      <td>NaN</td>\n",
       "      <td>NaN</td>\n",
       "      <td>NaN</td>\n",
       "    </tr>\n",
       "    <tr>\n",
       "      <th>4</th>\n",
       "      <td>NaN</td>\n",
       "      <td>NaN</td>\n",
       "      <td>NaN</td>\n",
       "      <td>NaN</td>\n",
       "      <td>A0</td>\n",
       "      <td>B0</td>\n",
       "      <td>C0</td>\n",
       "      <td>D0</td>\n",
       "      <td>NaN</td>\n",
       "      <td>NaN</td>\n",
       "      <td>NaN</td>\n",
       "      <td>NaN</td>\n",
       "    </tr>\n",
       "    <tr>\n",
       "      <th>5</th>\n",
       "      <td>NaN</td>\n",
       "      <td>NaN</td>\n",
       "      <td>NaN</td>\n",
       "      <td>NaN</td>\n",
       "      <td>A1</td>\n",
       "      <td>B1</td>\n",
       "      <td>C1</td>\n",
       "      <td>D1</td>\n",
       "      <td>NaN</td>\n",
       "      <td>NaN</td>\n",
       "      <td>NaN</td>\n",
       "      <td>NaN</td>\n",
       "    </tr>\n",
       "    <tr>\n",
       "      <th>6</th>\n",
       "      <td>NaN</td>\n",
       "      <td>NaN</td>\n",
       "      <td>NaN</td>\n",
       "      <td>NaN</td>\n",
       "      <td>A2</td>\n",
       "      <td>B2</td>\n",
       "      <td>C2</td>\n",
       "      <td>D2</td>\n",
       "      <td>NaN</td>\n",
       "      <td>NaN</td>\n",
       "      <td>NaN</td>\n",
       "      <td>NaN</td>\n",
       "    </tr>\n",
       "    <tr>\n",
       "      <th>7</th>\n",
       "      <td>NaN</td>\n",
       "      <td>NaN</td>\n",
       "      <td>NaN</td>\n",
       "      <td>NaN</td>\n",
       "      <td>A3</td>\n",
       "      <td>B3</td>\n",
       "      <td>C3</td>\n",
       "      <td>D3</td>\n",
       "      <td>NaN</td>\n",
       "      <td>NaN</td>\n",
       "      <td>NaN</td>\n",
       "      <td>NaN</td>\n",
       "    </tr>\n",
       "    <tr>\n",
       "      <th>8</th>\n",
       "      <td>NaN</td>\n",
       "      <td>NaN</td>\n",
       "      <td>NaN</td>\n",
       "      <td>NaN</td>\n",
       "      <td>NaN</td>\n",
       "      <td>NaN</td>\n",
       "      <td>NaN</td>\n",
       "      <td>NaN</td>\n",
       "      <td>A0</td>\n",
       "      <td>B0</td>\n",
       "      <td>C0</td>\n",
       "      <td>D0</td>\n",
       "    </tr>\n",
       "    <tr>\n",
       "      <th>9</th>\n",
       "      <td>NaN</td>\n",
       "      <td>NaN</td>\n",
       "      <td>NaN</td>\n",
       "      <td>NaN</td>\n",
       "      <td>NaN</td>\n",
       "      <td>NaN</td>\n",
       "      <td>NaN</td>\n",
       "      <td>NaN</td>\n",
       "      <td>A1</td>\n",
       "      <td>B1</td>\n",
       "      <td>C1</td>\n",
       "      <td>D1</td>\n",
       "    </tr>\n",
       "    <tr>\n",
       "      <th>10</th>\n",
       "      <td>NaN</td>\n",
       "      <td>NaN</td>\n",
       "      <td>NaN</td>\n",
       "      <td>NaN</td>\n",
       "      <td>NaN</td>\n",
       "      <td>NaN</td>\n",
       "      <td>NaN</td>\n",
       "      <td>NaN</td>\n",
       "      <td>A2</td>\n",
       "      <td>B2</td>\n",
       "      <td>C2</td>\n",
       "      <td>D2</td>\n",
       "    </tr>\n",
       "    <tr>\n",
       "      <th>11</th>\n",
       "      <td>NaN</td>\n",
       "      <td>NaN</td>\n",
       "      <td>NaN</td>\n",
       "      <td>NaN</td>\n",
       "      <td>NaN</td>\n",
       "      <td>NaN</td>\n",
       "      <td>NaN</td>\n",
       "      <td>NaN</td>\n",
       "      <td>A3</td>\n",
       "      <td>B3</td>\n",
       "      <td>C3</td>\n",
       "      <td>D3</td>\n",
       "    </tr>\n",
       "  </tbody>\n",
       "</table>\n",
       "</div>"
      ],
      "text/plain": [
       "      A    B    C    D    A    B    C    D    A    B    C    D\n",
       "0    A0   B0   C0   D0  NaN  NaN  NaN  NaN  NaN  NaN  NaN  NaN\n",
       "1    A1   B1   C1   D1  NaN  NaN  NaN  NaN  NaN  NaN  NaN  NaN\n",
       "2    A2   B2   C2   D2  NaN  NaN  NaN  NaN  NaN  NaN  NaN  NaN\n",
       "3    A3   B3   C3   D3  NaN  NaN  NaN  NaN  NaN  NaN  NaN  NaN\n",
       "4   NaN  NaN  NaN  NaN   A0   B0   C0   D0  NaN  NaN  NaN  NaN\n",
       "5   NaN  NaN  NaN  NaN   A1   B1   C1   D1  NaN  NaN  NaN  NaN\n",
       "6   NaN  NaN  NaN  NaN   A2   B2   C2   D2  NaN  NaN  NaN  NaN\n",
       "7   NaN  NaN  NaN  NaN   A3   B3   C3   D3  NaN  NaN  NaN  NaN\n",
       "8   NaN  NaN  NaN  NaN  NaN  NaN  NaN  NaN   A0   B0   C0   D0\n",
       "9   NaN  NaN  NaN  NaN  NaN  NaN  NaN  NaN   A1   B1   C1   D1\n",
       "10  NaN  NaN  NaN  NaN  NaN  NaN  NaN  NaN   A2   B2   C2   D2\n",
       "11  NaN  NaN  NaN  NaN  NaN  NaN  NaN  NaN   A3   B3   C3   D3"
      ]
     },
     "execution_count": 77,
     "metadata": {},
     "output_type": "execute_result"
    }
   ],
   "source": [
    "pd.concat([df1,df2,df3],axis=1)"
   ]
  },
  {
   "cell_type": "code",
   "execution_count": 78,
   "metadata": {},
   "outputs": [],
   "source": [
    "left = pd.DataFrame({'key': ['K0','K1','K2','K3'],\n",
    "                    'A': ['A0','A1','A2','A3'],\n",
    "                    'B': ['B0','B1','B2','B3']})\n",
    "right = pd.DataFrame({'key': ['K0','K1','K2','K3'],\n",
    "                    'C': ['C0','C1','C2','C3'],\n",
    "                    'D': ['D0','D1','D2','D3']})"
   ]
  },
  {
   "cell_type": "code",
   "execution_count": 79,
   "metadata": {},
   "outputs": [
    {
     "data": {
      "text/html": [
       "<div>\n",
       "<style scoped>\n",
       "    .dataframe tbody tr th:only-of-type {\n",
       "        vertical-align: middle;\n",
       "    }\n",
       "\n",
       "    .dataframe tbody tr th {\n",
       "        vertical-align: top;\n",
       "    }\n",
       "\n",
       "    .dataframe thead th {\n",
       "        text-align: right;\n",
       "    }\n",
       "</style>\n",
       "<table border=\"1\" class=\"dataframe\">\n",
       "  <thead>\n",
       "    <tr style=\"text-align: right;\">\n",
       "      <th></th>\n",
       "      <th>key</th>\n",
       "      <th>A</th>\n",
       "      <th>B</th>\n",
       "    </tr>\n",
       "  </thead>\n",
       "  <tbody>\n",
       "    <tr>\n",
       "      <th>0</th>\n",
       "      <td>K0</td>\n",
       "      <td>A0</td>\n",
       "      <td>B0</td>\n",
       "    </tr>\n",
       "    <tr>\n",
       "      <th>1</th>\n",
       "      <td>K1</td>\n",
       "      <td>A1</td>\n",
       "      <td>B1</td>\n",
       "    </tr>\n",
       "    <tr>\n",
       "      <th>2</th>\n",
       "      <td>K2</td>\n",
       "      <td>A2</td>\n",
       "      <td>B2</td>\n",
       "    </tr>\n",
       "    <tr>\n",
       "      <th>3</th>\n",
       "      <td>K3</td>\n",
       "      <td>A3</td>\n",
       "      <td>B3</td>\n",
       "    </tr>\n",
       "  </tbody>\n",
       "</table>\n",
       "</div>"
      ],
      "text/plain": [
       "  key   A   B\n",
       "0  K0  A0  B0\n",
       "1  K1  A1  B1\n",
       "2  K2  A2  B2\n",
       "3  K3  A3  B3"
      ]
     },
     "execution_count": 79,
     "metadata": {},
     "output_type": "execute_result"
    }
   ],
   "source": [
    "left"
   ]
  },
  {
   "cell_type": "code",
   "execution_count": 80,
   "metadata": {},
   "outputs": [
    {
     "data": {
      "text/html": [
       "<div>\n",
       "<style scoped>\n",
       "    .dataframe tbody tr th:only-of-type {\n",
       "        vertical-align: middle;\n",
       "    }\n",
       "\n",
       "    .dataframe tbody tr th {\n",
       "        vertical-align: top;\n",
       "    }\n",
       "\n",
       "    .dataframe thead th {\n",
       "        text-align: right;\n",
       "    }\n",
       "</style>\n",
       "<table border=\"1\" class=\"dataframe\">\n",
       "  <thead>\n",
       "    <tr style=\"text-align: right;\">\n",
       "      <th></th>\n",
       "      <th>key</th>\n",
       "      <th>C</th>\n",
       "      <th>D</th>\n",
       "    </tr>\n",
       "  </thead>\n",
       "  <tbody>\n",
       "    <tr>\n",
       "      <th>0</th>\n",
       "      <td>K0</td>\n",
       "      <td>C0</td>\n",
       "      <td>D0</td>\n",
       "    </tr>\n",
       "    <tr>\n",
       "      <th>1</th>\n",
       "      <td>K1</td>\n",
       "      <td>C1</td>\n",
       "      <td>D1</td>\n",
       "    </tr>\n",
       "    <tr>\n",
       "      <th>2</th>\n",
       "      <td>K2</td>\n",
       "      <td>C2</td>\n",
       "      <td>D2</td>\n",
       "    </tr>\n",
       "    <tr>\n",
       "      <th>3</th>\n",
       "      <td>K3</td>\n",
       "      <td>C3</td>\n",
       "      <td>D3</td>\n",
       "    </tr>\n",
       "  </tbody>\n",
       "</table>\n",
       "</div>"
      ],
      "text/plain": [
       "  key   C   D\n",
       "0  K0  C0  D0\n",
       "1  K1  C1  D1\n",
       "2  K2  C2  D2\n",
       "3  K3  C3  D3"
      ]
     },
     "execution_count": 80,
     "metadata": {},
     "output_type": "execute_result"
    }
   ],
   "source": [
    "right"
   ]
  },
  {
   "cell_type": "code",
   "execution_count": 82,
   "metadata": {},
   "outputs": [
    {
     "data": {
      "text/html": [
       "<div>\n",
       "<style scoped>\n",
       "    .dataframe tbody tr th:only-of-type {\n",
       "        vertical-align: middle;\n",
       "    }\n",
       "\n",
       "    .dataframe tbody tr th {\n",
       "        vertical-align: top;\n",
       "    }\n",
       "\n",
       "    .dataframe thead th {\n",
       "        text-align: right;\n",
       "    }\n",
       "</style>\n",
       "<table border=\"1\" class=\"dataframe\">\n",
       "  <thead>\n",
       "    <tr style=\"text-align: right;\">\n",
       "      <th></th>\n",
       "      <th>key</th>\n",
       "      <th>A</th>\n",
       "      <th>B</th>\n",
       "      <th>C</th>\n",
       "      <th>D</th>\n",
       "    </tr>\n",
       "  </thead>\n",
       "  <tbody>\n",
       "    <tr>\n",
       "      <th>0</th>\n",
       "      <td>K0</td>\n",
       "      <td>A0</td>\n",
       "      <td>B0</td>\n",
       "      <td>C0</td>\n",
       "      <td>D0</td>\n",
       "    </tr>\n",
       "    <tr>\n",
       "      <th>1</th>\n",
       "      <td>K1</td>\n",
       "      <td>A1</td>\n",
       "      <td>B1</td>\n",
       "      <td>C1</td>\n",
       "      <td>D1</td>\n",
       "    </tr>\n",
       "    <tr>\n",
       "      <th>2</th>\n",
       "      <td>K2</td>\n",
       "      <td>A2</td>\n",
       "      <td>B2</td>\n",
       "      <td>C2</td>\n",
       "      <td>D2</td>\n",
       "    </tr>\n",
       "    <tr>\n",
       "      <th>3</th>\n",
       "      <td>K3</td>\n",
       "      <td>A3</td>\n",
       "      <td>B3</td>\n",
       "      <td>C3</td>\n",
       "      <td>D3</td>\n",
       "    </tr>\n",
       "  </tbody>\n",
       "</table>\n",
       "</div>"
      ],
      "text/plain": [
       "  key   A   B   C   D\n",
       "0  K0  A0  B0  C0  D0\n",
       "1  K1  A1  B1  C1  D1\n",
       "2  K2  A2  B2  C2  D2\n",
       "3  K3  A3  B3  C3  D3"
      ]
     },
     "execution_count": 82,
     "metadata": {},
     "output_type": "execute_result"
    }
   ],
   "source": [
    "pd.merge(left,right,how='inner',on='key')"
   ]
  },
  {
   "cell_type": "code",
   "execution_count": 94,
   "metadata": {},
   "outputs": [],
   "source": [
    "left = pd.DataFrame({'key1': ['K0','K0','K2','K1'],\n",
    "                     'key2': ['K0','K1','K0','K0'],\n",
    "                    'A': ['A0','A1','A2','A3'],\n",
    "                    'B': ['B0','B1','B2','B3']})\n",
    "right = pd.DataFrame({'key1': ['K0','K1','K0','K2'],\n",
    "                     'key2': ['K0','K1','K0','K2'],\n",
    "                    'A': ['A0','A1','A2','A3'],\n",
    "                    'B': ['B0','B1','B2','B3']})"
   ]
  },
  {
   "cell_type": "code",
   "execution_count": 95,
   "metadata": {},
   "outputs": [
    {
     "data": {
      "text/html": [
       "<div>\n",
       "<style scoped>\n",
       "    .dataframe tbody tr th:only-of-type {\n",
       "        vertical-align: middle;\n",
       "    }\n",
       "\n",
       "    .dataframe tbody tr th {\n",
       "        vertical-align: top;\n",
       "    }\n",
       "\n",
       "    .dataframe thead th {\n",
       "        text-align: right;\n",
       "    }\n",
       "</style>\n",
       "<table border=\"1\" class=\"dataframe\">\n",
       "  <thead>\n",
       "    <tr style=\"text-align: right;\">\n",
       "      <th></th>\n",
       "      <th>key1</th>\n",
       "      <th>key2</th>\n",
       "      <th>A_x</th>\n",
       "      <th>B_x</th>\n",
       "      <th>A_y</th>\n",
       "      <th>B_y</th>\n",
       "    </tr>\n",
       "  </thead>\n",
       "  <tbody>\n",
       "    <tr>\n",
       "      <th>0</th>\n",
       "      <td>K0</td>\n",
       "      <td>K0</td>\n",
       "      <td>A0</td>\n",
       "      <td>B0</td>\n",
       "      <td>A0</td>\n",
       "      <td>B0</td>\n",
       "    </tr>\n",
       "    <tr>\n",
       "      <th>1</th>\n",
       "      <td>K0</td>\n",
       "      <td>K0</td>\n",
       "      <td>A0</td>\n",
       "      <td>B0</td>\n",
       "      <td>A2</td>\n",
       "      <td>B2</td>\n",
       "    </tr>\n",
       "  </tbody>\n",
       "</table>\n",
       "</div>"
      ],
      "text/plain": [
       "  key1 key2 A_x B_x A_y B_y\n",
       "0   K0   K0  A0  B0  A0  B0\n",
       "1   K0   K0  A0  B0  A2  B2"
      ]
     },
     "execution_count": 95,
     "metadata": {},
     "output_type": "execute_result"
    }
   ],
   "source": [
    "pd.merge(left,right,on=['key1','key2'])"
   ]
  },
  {
   "cell_type": "code",
   "execution_count": 96,
   "metadata": {},
   "outputs": [
    {
     "data": {
      "text/html": [
       "<div>\n",
       "<style scoped>\n",
       "    .dataframe tbody tr th:only-of-type {\n",
       "        vertical-align: middle;\n",
       "    }\n",
       "\n",
       "    .dataframe tbody tr th {\n",
       "        vertical-align: top;\n",
       "    }\n",
       "\n",
       "    .dataframe thead th {\n",
       "        text-align: right;\n",
       "    }\n",
       "</style>\n",
       "<table border=\"1\" class=\"dataframe\">\n",
       "  <thead>\n",
       "    <tr style=\"text-align: right;\">\n",
       "      <th></th>\n",
       "      <th>key1</th>\n",
       "      <th>key2</th>\n",
       "      <th>A_x</th>\n",
       "      <th>B_x</th>\n",
       "      <th>A_y</th>\n",
       "      <th>B_y</th>\n",
       "    </tr>\n",
       "  </thead>\n",
       "  <tbody>\n",
       "    <tr>\n",
       "      <th>0</th>\n",
       "      <td>K0</td>\n",
       "      <td>K0</td>\n",
       "      <td>A0</td>\n",
       "      <td>B0</td>\n",
       "      <td>A0</td>\n",
       "      <td>B0</td>\n",
       "    </tr>\n",
       "    <tr>\n",
       "      <th>1</th>\n",
       "      <td>K0</td>\n",
       "      <td>K0</td>\n",
       "      <td>A0</td>\n",
       "      <td>B0</td>\n",
       "      <td>A2</td>\n",
       "      <td>B2</td>\n",
       "    </tr>\n",
       "    <tr>\n",
       "      <th>2</th>\n",
       "      <td>K0</td>\n",
       "      <td>K1</td>\n",
       "      <td>A1</td>\n",
       "      <td>B1</td>\n",
       "      <td>NaN</td>\n",
       "      <td>NaN</td>\n",
       "    </tr>\n",
       "    <tr>\n",
       "      <th>3</th>\n",
       "      <td>K2</td>\n",
       "      <td>K0</td>\n",
       "      <td>A2</td>\n",
       "      <td>B2</td>\n",
       "      <td>NaN</td>\n",
       "      <td>NaN</td>\n",
       "    </tr>\n",
       "    <tr>\n",
       "      <th>4</th>\n",
       "      <td>K1</td>\n",
       "      <td>K0</td>\n",
       "      <td>A3</td>\n",
       "      <td>B3</td>\n",
       "      <td>NaN</td>\n",
       "      <td>NaN</td>\n",
       "    </tr>\n",
       "    <tr>\n",
       "      <th>5</th>\n",
       "      <td>K1</td>\n",
       "      <td>K1</td>\n",
       "      <td>NaN</td>\n",
       "      <td>NaN</td>\n",
       "      <td>A1</td>\n",
       "      <td>B1</td>\n",
       "    </tr>\n",
       "    <tr>\n",
       "      <th>6</th>\n",
       "      <td>K2</td>\n",
       "      <td>K2</td>\n",
       "      <td>NaN</td>\n",
       "      <td>NaN</td>\n",
       "      <td>A3</td>\n",
       "      <td>B3</td>\n",
       "    </tr>\n",
       "  </tbody>\n",
       "</table>\n",
       "</div>"
      ],
      "text/plain": [
       "  key1 key2  A_x  B_x  A_y  B_y\n",
       "0   K0   K0   A0   B0   A0   B0\n",
       "1   K0   K0   A0   B0   A2   B2\n",
       "2   K0   K1   A1   B1  NaN  NaN\n",
       "3   K2   K0   A2   B2  NaN  NaN\n",
       "4   K1   K0   A3   B3  NaN  NaN\n",
       "5   K1   K1  NaN  NaN   A1   B1\n",
       "6   K2   K2  NaN  NaN   A3   B3"
      ]
     },
     "execution_count": 96,
     "metadata": {},
     "output_type": "execute_result"
    }
   ],
   "source": [
    "pd.merge(left,right,how='outer',on=['key1','key2'])"
   ]
  },
  {
   "cell_type": "code",
   "execution_count": 97,
   "metadata": {},
   "outputs": [
    {
     "data": {
      "text/html": [
       "<div>\n",
       "<style scoped>\n",
       "    .dataframe tbody tr th:only-of-type {\n",
       "        vertical-align: middle;\n",
       "    }\n",
       "\n",
       "    .dataframe tbody tr th {\n",
       "        vertical-align: top;\n",
       "    }\n",
       "\n",
       "    .dataframe thead th {\n",
       "        text-align: right;\n",
       "    }\n",
       "</style>\n",
       "<table border=\"1\" class=\"dataframe\">\n",
       "  <thead>\n",
       "    <tr style=\"text-align: right;\">\n",
       "      <th></th>\n",
       "      <th>key1</th>\n",
       "      <th>key2</th>\n",
       "      <th>A_x</th>\n",
       "      <th>B_x</th>\n",
       "      <th>A_y</th>\n",
       "      <th>B_y</th>\n",
       "    </tr>\n",
       "  </thead>\n",
       "  <tbody>\n",
       "    <tr>\n",
       "      <th>0</th>\n",
       "      <td>K0</td>\n",
       "      <td>K0</td>\n",
       "      <td>A0</td>\n",
       "      <td>B0</td>\n",
       "      <td>A0</td>\n",
       "      <td>B0</td>\n",
       "    </tr>\n",
       "    <tr>\n",
       "      <th>1</th>\n",
       "      <td>K0</td>\n",
       "      <td>K0</td>\n",
       "      <td>A0</td>\n",
       "      <td>B0</td>\n",
       "      <td>A2</td>\n",
       "      <td>B2</td>\n",
       "    </tr>\n",
       "    <tr>\n",
       "      <th>2</th>\n",
       "      <td>K1</td>\n",
       "      <td>K1</td>\n",
       "      <td>NaN</td>\n",
       "      <td>NaN</td>\n",
       "      <td>A1</td>\n",
       "      <td>B1</td>\n",
       "    </tr>\n",
       "    <tr>\n",
       "      <th>3</th>\n",
       "      <td>K2</td>\n",
       "      <td>K2</td>\n",
       "      <td>NaN</td>\n",
       "      <td>NaN</td>\n",
       "      <td>A3</td>\n",
       "      <td>B3</td>\n",
       "    </tr>\n",
       "  </tbody>\n",
       "</table>\n",
       "</div>"
      ],
      "text/plain": [
       "  key1 key2  A_x  B_x A_y B_y\n",
       "0   K0   K0   A0   B0  A0  B0\n",
       "1   K0   K0   A0   B0  A2  B2\n",
       "2   K1   K1  NaN  NaN  A1  B1\n",
       "3   K2   K2  NaN  NaN  A3  B3"
      ]
     },
     "execution_count": 97,
     "metadata": {},
     "output_type": "execute_result"
    }
   ],
   "source": [
    "pd.merge(left,right,how='right',on=['key1','key2'])"
   ]
  },
  {
   "cell_type": "code",
   "execution_count": 99,
   "metadata": {},
   "outputs": [
    {
     "ename": "ValueError",
     "evalue": "columns overlap but no suffix specified: Index(['key1', 'key2', 'A', 'B'], dtype='object')",
     "output_type": "error",
     "traceback": [
      "\u001b[0;31m---------------------------------------------------------------------------\u001b[0m",
      "\u001b[0;31mValueError\u001b[0m                                Traceback (most recent call last)",
      "\u001b[0;32m<ipython-input-99-894480a0fafb>\u001b[0m in \u001b[0;36m<module>\u001b[0;34m\u001b[0m\n\u001b[0;32m----> 1\u001b[0;31m \u001b[0mleft\u001b[0m\u001b[0;34m.\u001b[0m\u001b[0mjoin\u001b[0m\u001b[0;34m(\u001b[0m\u001b[0mright\u001b[0m\u001b[0;34m)\u001b[0m\u001b[0;34m\u001b[0m\u001b[0;34m\u001b[0m\u001b[0m\n\u001b[0m",
      "\u001b[0;32m/usr/local/lib/python3.9/site-packages/pandas/core/frame.py\u001b[0m in \u001b[0;36mjoin\u001b[0;34m(self, other, on, how, lsuffix, rsuffix, sort)\u001b[0m\n\u001b[1;32m   7872\u001b[0m         \u001b[0;36m5\u001b[0m  \u001b[0mK5\u001b[0m  \u001b[0mA5\u001b[0m  \u001b[0mNaN\u001b[0m\u001b[0;34m\u001b[0m\u001b[0;34m\u001b[0m\u001b[0m\n\u001b[1;32m   7873\u001b[0m         \"\"\"\n\u001b[0;32m-> 7874\u001b[0;31m         return self._join_compat(\n\u001b[0m\u001b[1;32m   7875\u001b[0m             \u001b[0mother\u001b[0m\u001b[0;34m,\u001b[0m \u001b[0mon\u001b[0m\u001b[0;34m=\u001b[0m\u001b[0mon\u001b[0m\u001b[0;34m,\u001b[0m \u001b[0mhow\u001b[0m\u001b[0;34m=\u001b[0m\u001b[0mhow\u001b[0m\u001b[0;34m,\u001b[0m \u001b[0mlsuffix\u001b[0m\u001b[0;34m=\u001b[0m\u001b[0mlsuffix\u001b[0m\u001b[0;34m,\u001b[0m \u001b[0mrsuffix\u001b[0m\u001b[0;34m=\u001b[0m\u001b[0mrsuffix\u001b[0m\u001b[0;34m,\u001b[0m \u001b[0msort\u001b[0m\u001b[0;34m=\u001b[0m\u001b[0msort\u001b[0m\u001b[0;34m\u001b[0m\u001b[0;34m\u001b[0m\u001b[0m\n\u001b[1;32m   7876\u001b[0m         )\n",
      "\u001b[0;32m/usr/local/lib/python3.9/site-packages/pandas/core/frame.py\u001b[0m in \u001b[0;36m_join_compat\u001b[0;34m(self, other, on, how, lsuffix, rsuffix, sort)\u001b[0m\n\u001b[1;32m   7888\u001b[0m \u001b[0;34m\u001b[0m\u001b[0m\n\u001b[1;32m   7889\u001b[0m         \u001b[0;32mif\u001b[0m \u001b[0misinstance\u001b[0m\u001b[0;34m(\u001b[0m\u001b[0mother\u001b[0m\u001b[0;34m,\u001b[0m \u001b[0mDataFrame\u001b[0m\u001b[0;34m)\u001b[0m\u001b[0;34m:\u001b[0m\u001b[0;34m\u001b[0m\u001b[0;34m\u001b[0m\u001b[0m\n\u001b[0;32m-> 7890\u001b[0;31m             return merge(\n\u001b[0m\u001b[1;32m   7891\u001b[0m                 \u001b[0mself\u001b[0m\u001b[0;34m,\u001b[0m\u001b[0;34m\u001b[0m\u001b[0;34m\u001b[0m\u001b[0m\n\u001b[1;32m   7892\u001b[0m                 \u001b[0mother\u001b[0m\u001b[0;34m,\u001b[0m\u001b[0;34m\u001b[0m\u001b[0;34m\u001b[0m\u001b[0m\n",
      "\u001b[0;32m/usr/local/lib/python3.9/site-packages/pandas/core/reshape/merge.py\u001b[0m in \u001b[0;36mmerge\u001b[0;34m(left, right, how, on, left_on, right_on, left_index, right_index, sort, suffixes, copy, indicator, validate)\u001b[0m\n\u001b[1;32m     87\u001b[0m         \u001b[0mvalidate\u001b[0m\u001b[0;34m=\u001b[0m\u001b[0mvalidate\u001b[0m\u001b[0;34m,\u001b[0m\u001b[0;34m\u001b[0m\u001b[0;34m\u001b[0m\u001b[0m\n\u001b[1;32m     88\u001b[0m     )\n\u001b[0;32m---> 89\u001b[0;31m     \u001b[0;32mreturn\u001b[0m \u001b[0mop\u001b[0m\u001b[0;34m.\u001b[0m\u001b[0mget_result\u001b[0m\u001b[0;34m(\u001b[0m\u001b[0;34m)\u001b[0m\u001b[0;34m\u001b[0m\u001b[0;34m\u001b[0m\u001b[0m\n\u001b[0m\u001b[1;32m     90\u001b[0m \u001b[0;34m\u001b[0m\u001b[0m\n\u001b[1;32m     91\u001b[0m \u001b[0;34m\u001b[0m\u001b[0m\n",
      "\u001b[0;32m/usr/local/lib/python3.9/site-packages/pandas/core/reshape/merge.py\u001b[0m in \u001b[0;36mget_result\u001b[0;34m(self)\u001b[0m\n\u001b[1;32m    668\u001b[0m         \u001b[0mjoin_index\u001b[0m\u001b[0;34m,\u001b[0m \u001b[0mleft_indexer\u001b[0m\u001b[0;34m,\u001b[0m \u001b[0mright_indexer\u001b[0m \u001b[0;34m=\u001b[0m \u001b[0mself\u001b[0m\u001b[0;34m.\u001b[0m\u001b[0m_get_join_info\u001b[0m\u001b[0;34m(\u001b[0m\u001b[0;34m)\u001b[0m\u001b[0;34m\u001b[0m\u001b[0;34m\u001b[0m\u001b[0m\n\u001b[1;32m    669\u001b[0m \u001b[0;34m\u001b[0m\u001b[0m\n\u001b[0;32m--> 670\u001b[0;31m         llabels, rlabels = _items_overlap_with_suffix(\n\u001b[0m\u001b[1;32m    671\u001b[0m             \u001b[0mself\u001b[0m\u001b[0;34m.\u001b[0m\u001b[0mleft\u001b[0m\u001b[0;34m.\u001b[0m\u001b[0m_info_axis\u001b[0m\u001b[0;34m,\u001b[0m \u001b[0mself\u001b[0m\u001b[0;34m.\u001b[0m\u001b[0mright\u001b[0m\u001b[0;34m.\u001b[0m\u001b[0m_info_axis\u001b[0m\u001b[0;34m,\u001b[0m \u001b[0mself\u001b[0m\u001b[0;34m.\u001b[0m\u001b[0msuffixes\u001b[0m\u001b[0;34m\u001b[0m\u001b[0;34m\u001b[0m\u001b[0m\n\u001b[1;32m    672\u001b[0m         )\n",
      "\u001b[0;32m/usr/local/lib/python3.9/site-packages/pandas/core/reshape/merge.py\u001b[0m in \u001b[0;36m_items_overlap_with_suffix\u001b[0;34m(left, right, suffixes)\u001b[0m\n\u001b[1;32m   2089\u001b[0m \u001b[0;34m\u001b[0m\u001b[0m\n\u001b[1;32m   2090\u001b[0m     \u001b[0;32mif\u001b[0m \u001b[0;32mnot\u001b[0m \u001b[0mlsuffix\u001b[0m \u001b[0;32mand\u001b[0m \u001b[0;32mnot\u001b[0m \u001b[0mrsuffix\u001b[0m\u001b[0;34m:\u001b[0m\u001b[0;34m\u001b[0m\u001b[0;34m\u001b[0m\u001b[0m\n\u001b[0;32m-> 2091\u001b[0;31m         \u001b[0;32mraise\u001b[0m \u001b[0mValueError\u001b[0m\u001b[0;34m(\u001b[0m\u001b[0;34mf\"columns overlap but no suffix specified: {to_rename}\"\u001b[0m\u001b[0;34m)\u001b[0m\u001b[0;34m\u001b[0m\u001b[0;34m\u001b[0m\u001b[0m\n\u001b[0m\u001b[1;32m   2092\u001b[0m \u001b[0;34m\u001b[0m\u001b[0m\n\u001b[1;32m   2093\u001b[0m     \u001b[0;32mdef\u001b[0m \u001b[0mrenamer\u001b[0m\u001b[0;34m(\u001b[0m\u001b[0mx\u001b[0m\u001b[0;34m,\u001b[0m \u001b[0msuffix\u001b[0m\u001b[0;34m)\u001b[0m\u001b[0;34m:\u001b[0m\u001b[0;34m\u001b[0m\u001b[0;34m\u001b[0m\u001b[0m\n",
      "\u001b[0;31mValueError\u001b[0m: columns overlap but no suffix specified: Index(['key1', 'key2', 'A', 'B'], dtype='object')"
     ]
    }
   ],
   "source": [
    "left.join(right)"
   ]
  },
  {
   "cell_type": "code",
   "execution_count": 100,
   "metadata": {},
   "outputs": [
    {
     "data": {
      "text/html": [
       "<div>\n",
       "<style scoped>\n",
       "    .dataframe tbody tr th:only-of-type {\n",
       "        vertical-align: middle;\n",
       "    }\n",
       "\n",
       "    .dataframe tbody tr th {\n",
       "        vertical-align: top;\n",
       "    }\n",
       "\n",
       "    .dataframe thead th {\n",
       "        text-align: right;\n",
       "    }\n",
       "</style>\n",
       "<table border=\"1\" class=\"dataframe\">\n",
       "  <thead>\n",
       "    <tr style=\"text-align: right;\">\n",
       "      <th></th>\n",
       "      <th>col1</th>\n",
       "      <th>col2</th>\n",
       "      <th>col3</th>\n",
       "    </tr>\n",
       "  </thead>\n",
       "  <tbody>\n",
       "    <tr>\n",
       "      <th>0</th>\n",
       "      <td>1</td>\n",
       "      <td>444</td>\n",
       "      <td>abc</td>\n",
       "    </tr>\n",
       "    <tr>\n",
       "      <th>1</th>\n",
       "      <td>2</td>\n",
       "      <td>555</td>\n",
       "      <td>def</td>\n",
       "    </tr>\n",
       "    <tr>\n",
       "      <th>2</th>\n",
       "      <td>3</td>\n",
       "      <td>666</td>\n",
       "      <td>ghi</td>\n",
       "    </tr>\n",
       "    <tr>\n",
       "      <th>3</th>\n",
       "      <td>4</td>\n",
       "      <td>444</td>\n",
       "      <td>xyz</td>\n",
       "    </tr>\n",
       "  </tbody>\n",
       "</table>\n",
       "</div>"
      ],
      "text/plain": [
       "   col1  col2 col3\n",
       "0     1   444  abc\n",
       "1     2   555  def\n",
       "2     3   666  ghi\n",
       "3     4   444  xyz"
      ]
     },
     "execution_count": 100,
     "metadata": {},
     "output_type": "execute_result"
    }
   ],
   "source": [
    "df = pd.DataFrame({'col1':[1,2,3,4],\n",
    "                  'col2':[444,555,666,444],\n",
    "                  'col3':['abc','def','ghi','xyz']})\n",
    "df.head()"
   ]
  },
  {
   "cell_type": "code",
   "execution_count": 101,
   "metadata": {},
   "outputs": [
    {
     "data": {
      "text/plain": [
       "array([444, 555, 666])"
      ]
     },
     "execution_count": 101,
     "metadata": {},
     "output_type": "execute_result"
    }
   ],
   "source": [
    "df['col2'].unique()"
   ]
  },
  {
   "cell_type": "code",
   "execution_count": 102,
   "metadata": {},
   "outputs": [
    {
     "data": {
      "text/plain": [
       "3"
      ]
     },
     "execution_count": 102,
     "metadata": {},
     "output_type": "execute_result"
    }
   ],
   "source": [
    "df['col2'].nunique()"
   ]
  },
  {
   "cell_type": "code",
   "execution_count": 103,
   "metadata": {},
   "outputs": [
    {
     "data": {
      "text/plain": [
       "444    2\n",
       "555    1\n",
       "666    1\n",
       "Name: col2, dtype: int64"
      ]
     },
     "execution_count": 103,
     "metadata": {},
     "output_type": "execute_result"
    }
   ],
   "source": [
    "df['col2'].value_counts()"
   ]
  },
  {
   "cell_type": "code",
   "execution_count": 106,
   "metadata": {},
   "outputs": [
    {
     "data": {
      "text/html": [
       "<div>\n",
       "<style scoped>\n",
       "    .dataframe tbody tr th:only-of-type {\n",
       "        vertical-align: middle;\n",
       "    }\n",
       "\n",
       "    .dataframe tbody tr th {\n",
       "        vertical-align: top;\n",
       "    }\n",
       "\n",
       "    .dataframe thead th {\n",
       "        text-align: right;\n",
       "    }\n",
       "</style>\n",
       "<table border=\"1\" class=\"dataframe\">\n",
       "  <thead>\n",
       "    <tr style=\"text-align: right;\">\n",
       "      <th></th>\n",
       "      <th>col1</th>\n",
       "      <th>col2</th>\n",
       "      <th>col3</th>\n",
       "    </tr>\n",
       "  </thead>\n",
       "  <tbody>\n",
       "    <tr>\n",
       "      <th>3</th>\n",
       "      <td>4</td>\n",
       "      <td>444</td>\n",
       "      <td>xyz</td>\n",
       "    </tr>\n",
       "  </tbody>\n",
       "</table>\n",
       "</div>"
      ],
      "text/plain": [
       "   col1  col2 col3\n",
       "3     4   444  xyz"
      ]
     },
     "execution_count": 106,
     "metadata": {},
     "output_type": "execute_result"
    }
   ],
   "source": [
    "df[(df['col1']>2) & (df['col2']==444)]"
   ]
  },
  {
   "cell_type": "code",
   "execution_count": 105,
   "metadata": {},
   "outputs": [
    {
     "data": {
      "text/plain": [
       "0    False\n",
       "1    False\n",
       "2     True\n",
       "3     True\n",
       "Name: col1, dtype: bool"
      ]
     },
     "execution_count": 105,
     "metadata": {},
     "output_type": "execute_result"
    }
   ],
   "source": [
    "df['col1']>2"
   ]
  },
  {
   "cell_type": "code",
   "execution_count": 107,
   "metadata": {},
   "outputs": [],
   "source": [
    "def times2(x):\n",
    "    return x*2"
   ]
  },
  {
   "cell_type": "code",
   "execution_count": 109,
   "metadata": {},
   "outputs": [
    {
     "data": {
      "text/plain": [
       "0    2\n",
       "1    4\n",
       "2    6\n",
       "3    8\n",
       "Name: col1, dtype: int64"
      ]
     },
     "execution_count": 109,
     "metadata": {},
     "output_type": "execute_result"
    }
   ],
   "source": [
    "df['col1'].apply(times2)"
   ]
  },
  {
   "cell_type": "code",
   "execution_count": 112,
   "metadata": {},
   "outputs": [
    {
     "data": {
      "text/plain": [
       "0    abc\n",
       "1    def\n",
       "2    ghi\n",
       "3    xyz\n",
       "Name: col3, dtype: object"
      ]
     },
     "execution_count": 112,
     "metadata": {},
     "output_type": "execute_result"
    }
   ],
   "source": [
    "df['col3']"
   ]
  },
  {
   "cell_type": "code",
   "execution_count": 113,
   "metadata": {},
   "outputs": [
    {
     "data": {
      "text/plain": [
       "0    3\n",
       "1    3\n",
       "2    3\n",
       "3    3\n",
       "Name: col3, dtype: int64"
      ]
     },
     "execution_count": 113,
     "metadata": {},
     "output_type": "execute_result"
    }
   ],
   "source": [
    "df['col3'].apply(len)"
   ]
  },
  {
   "cell_type": "code",
   "execution_count": 116,
   "metadata": {},
   "outputs": [
    {
     "data": {
      "text/plain": [
       "0     888\n",
       "1    1110\n",
       "2    1332\n",
       "3     888\n",
       "Name: col2, dtype: int64"
      ]
     },
     "execution_count": 116,
     "metadata": {},
     "output_type": "execute_result"
    }
   ],
   "source": [
    "df['col2'].apply(lambda x: x*2)"
   ]
  },
  {
   "cell_type": "code",
   "execution_count": 118,
   "metadata": {},
   "outputs": [
    {
     "data": {
      "text/html": [
       "<div>\n",
       "<style scoped>\n",
       "    .dataframe tbody tr th:only-of-type {\n",
       "        vertical-align: middle;\n",
       "    }\n",
       "\n",
       "    .dataframe tbody tr th {\n",
       "        vertical-align: top;\n",
       "    }\n",
       "\n",
       "    .dataframe thead th {\n",
       "        text-align: right;\n",
       "    }\n",
       "</style>\n",
       "<table border=\"1\" class=\"dataframe\">\n",
       "  <thead>\n",
       "    <tr style=\"text-align: right;\">\n",
       "      <th></th>\n",
       "      <th>col2</th>\n",
       "      <th>col3</th>\n",
       "    </tr>\n",
       "  </thead>\n",
       "  <tbody>\n",
       "    <tr>\n",
       "      <th>0</th>\n",
       "      <td>444</td>\n",
       "      <td>abc</td>\n",
       "    </tr>\n",
       "    <tr>\n",
       "      <th>1</th>\n",
       "      <td>555</td>\n",
       "      <td>def</td>\n",
       "    </tr>\n",
       "    <tr>\n",
       "      <th>2</th>\n",
       "      <td>666</td>\n",
       "      <td>ghi</td>\n",
       "    </tr>\n",
       "    <tr>\n",
       "      <th>3</th>\n",
       "      <td>444</td>\n",
       "      <td>xyz</td>\n",
       "    </tr>\n",
       "  </tbody>\n",
       "</table>\n",
       "</div>"
      ],
      "text/plain": [
       "   col2 col3\n",
       "0   444  abc\n",
       "1   555  def\n",
       "2   666  ghi\n",
       "3   444  xyz"
      ]
     },
     "execution_count": 118,
     "metadata": {},
     "output_type": "execute_result"
    }
   ],
   "source": [
    "df.drop('col1',axis=1)"
   ]
  },
  {
   "cell_type": "code",
   "execution_count": 119,
   "metadata": {},
   "outputs": [
    {
     "data": {
      "text/plain": [
       "Index(['col1', 'col2', 'col3'], dtype='object')"
      ]
     },
     "execution_count": 119,
     "metadata": {},
     "output_type": "execute_result"
    }
   ],
   "source": [
    "df.columns"
   ]
  },
  {
   "cell_type": "code",
   "execution_count": 120,
   "metadata": {},
   "outputs": [
    {
     "data": {
      "text/plain": [
       "RangeIndex(start=0, stop=4, step=1)"
      ]
     },
     "execution_count": 120,
     "metadata": {},
     "output_type": "execute_result"
    }
   ],
   "source": [
    "df.index"
   ]
  },
  {
   "cell_type": "code",
   "execution_count": 127,
   "metadata": {},
   "outputs": [
    {
     "data": {
      "text/html": [
       "<div>\n",
       "<style scoped>\n",
       "    .dataframe tbody tr th:only-of-type {\n",
       "        vertical-align: middle;\n",
       "    }\n",
       "\n",
       "    .dataframe tbody tr th {\n",
       "        vertical-align: top;\n",
       "    }\n",
       "\n",
       "    .dataframe thead th {\n",
       "        text-align: right;\n",
       "    }\n",
       "</style>\n",
       "<table border=\"1\" class=\"dataframe\">\n",
       "  <thead>\n",
       "    <tr style=\"text-align: right;\">\n",
       "      <th></th>\n",
       "      <th>col1</th>\n",
       "      <th>col2</th>\n",
       "      <th>col3</th>\n",
       "    </tr>\n",
       "  </thead>\n",
       "  <tbody>\n",
       "    <tr>\n",
       "      <th>0</th>\n",
       "      <td>1</td>\n",
       "      <td>444</td>\n",
       "      <td>abc</td>\n",
       "    </tr>\n",
       "    <tr>\n",
       "      <th>3</th>\n",
       "      <td>4</td>\n",
       "      <td>444</td>\n",
       "      <td>xyz</td>\n",
       "    </tr>\n",
       "    <tr>\n",
       "      <th>1</th>\n",
       "      <td>2</td>\n",
       "      <td>555</td>\n",
       "      <td>def</td>\n",
       "    </tr>\n",
       "    <tr>\n",
       "      <th>2</th>\n",
       "      <td>3</td>\n",
       "      <td>666</td>\n",
       "      <td>ghi</td>\n",
       "    </tr>\n",
       "  </tbody>\n",
       "</table>\n",
       "</div>"
      ],
      "text/plain": [
       "   col1  col2 col3\n",
       "0     1   444  abc\n",
       "3     4   444  xyz\n",
       "1     2   555  def\n",
       "2     3   666  ghi"
      ]
     },
     "execution_count": 127,
     "metadata": {},
     "output_type": "execute_result"
    }
   ],
   "source": [
    "df.sort_values(by='col2')"
   ]
  },
  {
   "cell_type": "code",
   "execution_count": 128,
   "metadata": {},
   "outputs": [
    {
     "data": {
      "text/html": [
       "<div>\n",
       "<style scoped>\n",
       "    .dataframe tbody tr th:only-of-type {\n",
       "        vertical-align: middle;\n",
       "    }\n",
       "\n",
       "    .dataframe tbody tr th {\n",
       "        vertical-align: top;\n",
       "    }\n",
       "\n",
       "    .dataframe thead th {\n",
       "        text-align: right;\n",
       "    }\n",
       "</style>\n",
       "<table border=\"1\" class=\"dataframe\">\n",
       "  <thead>\n",
       "    <tr style=\"text-align: right;\">\n",
       "      <th></th>\n",
       "      <th>col1</th>\n",
       "      <th>col2</th>\n",
       "      <th>col3</th>\n",
       "    </tr>\n",
       "  </thead>\n",
       "  <tbody>\n",
       "    <tr>\n",
       "      <th>0</th>\n",
       "      <td>False</td>\n",
       "      <td>False</td>\n",
       "      <td>False</td>\n",
       "    </tr>\n",
       "    <tr>\n",
       "      <th>1</th>\n",
       "      <td>False</td>\n",
       "      <td>False</td>\n",
       "      <td>False</td>\n",
       "    </tr>\n",
       "    <tr>\n",
       "      <th>2</th>\n",
       "      <td>False</td>\n",
       "      <td>False</td>\n",
       "      <td>False</td>\n",
       "    </tr>\n",
       "    <tr>\n",
       "      <th>3</th>\n",
       "      <td>False</td>\n",
       "      <td>False</td>\n",
       "      <td>False</td>\n",
       "    </tr>\n",
       "  </tbody>\n",
       "</table>\n",
       "</div>"
      ],
      "text/plain": [
       "    col1   col2   col3\n",
       "0  False  False  False\n",
       "1  False  False  False\n",
       "2  False  False  False\n",
       "3  False  False  False"
      ]
     },
     "execution_count": 128,
     "metadata": {},
     "output_type": "execute_result"
    }
   ],
   "source": [
    "df.isnull()"
   ]
  },
  {
   "cell_type": "code",
   "execution_count": 129,
   "metadata": {},
   "outputs": [],
   "source": [
    "data = {'A':['foo','foo','foo','bar','bar','bar'],\n",
    "       'B':['one','one','two','two','one','one'],\n",
    "       'C':['x','y','x','y','x','y'],\n",
    "       'D':[1,3,2,5,4,1]}\n",
    "df = pd.DataFrame(data)"
   ]
  },
  {
   "cell_type": "code",
   "execution_count": 131,
   "metadata": {},
   "outputs": [
    {
     "data": {
      "text/html": [
       "<div>\n",
       "<style scoped>\n",
       "    .dataframe tbody tr th:only-of-type {\n",
       "        vertical-align: middle;\n",
       "    }\n",
       "\n",
       "    .dataframe tbody tr th {\n",
       "        vertical-align: top;\n",
       "    }\n",
       "\n",
       "    .dataframe thead th {\n",
       "        text-align: right;\n",
       "    }\n",
       "</style>\n",
       "<table border=\"1\" class=\"dataframe\">\n",
       "  <thead>\n",
       "    <tr style=\"text-align: right;\">\n",
       "      <th></th>\n",
       "      <th>C</th>\n",
       "      <th>x</th>\n",
       "      <th>y</th>\n",
       "    </tr>\n",
       "    <tr>\n",
       "      <th>A</th>\n",
       "      <th>B</th>\n",
       "      <th></th>\n",
       "      <th></th>\n",
       "    </tr>\n",
       "  </thead>\n",
       "  <tbody>\n",
       "    <tr>\n",
       "      <th rowspan=\"2\" valign=\"top\">bar</th>\n",
       "      <th>one</th>\n",
       "      <td>4.0</td>\n",
       "      <td>1.0</td>\n",
       "    </tr>\n",
       "    <tr>\n",
       "      <th>two</th>\n",
       "      <td>NaN</td>\n",
       "      <td>5.0</td>\n",
       "    </tr>\n",
       "    <tr>\n",
       "      <th rowspan=\"2\" valign=\"top\">foo</th>\n",
       "      <th>one</th>\n",
       "      <td>1.0</td>\n",
       "      <td>3.0</td>\n",
       "    </tr>\n",
       "    <tr>\n",
       "      <th>two</th>\n",
       "      <td>2.0</td>\n",
       "      <td>NaN</td>\n",
       "    </tr>\n",
       "  </tbody>\n",
       "</table>\n",
       "</div>"
      ],
      "text/plain": [
       "C          x    y\n",
       "A   B            \n",
       "bar one  4.0  1.0\n",
       "    two  NaN  5.0\n",
       "foo one  1.0  3.0\n",
       "    two  2.0  NaN"
      ]
     },
     "execution_count": 131,
     "metadata": {},
     "output_type": "execute_result"
    }
   ],
   "source": [
    "df.pivot_table(values='D',index=['A','B'],columns=['C'])"
   ]
  },
  {
   "cell_type": "code",
   "execution_count": 132,
   "metadata": {},
   "outputs": [
    {
     "data": {
      "text/plain": [
       "'/Users/mobil/Documents/GitHub/DataScience'"
      ]
     },
     "execution_count": 132,
     "metadata": {},
     "output_type": "execute_result"
    }
   ],
   "source": [
    "pwd"
   ]
  },
  {
   "cell_type": "code",
   "execution_count": 133,
   "metadata": {},
   "outputs": [
    {
     "data": {
      "text/html": [
       "<div>\n",
       "<style scoped>\n",
       "    .dataframe tbody tr th:only-of-type {\n",
       "        vertical-align: middle;\n",
       "    }\n",
       "\n",
       "    .dataframe tbody tr th {\n",
       "        vertical-align: top;\n",
       "    }\n",
       "\n",
       "    .dataframe thead th {\n",
       "        text-align: right;\n",
       "    }\n",
       "</style>\n",
       "<table border=\"1\" class=\"dataframe\">\n",
       "  <thead>\n",
       "    <tr style=\"text-align: right;\">\n",
       "      <th></th>\n",
       "      <th>Review ID</th>\n",
       "      <th>Review Date</th>\n",
       "      <th>Review Content</th>\n",
       "      <th>Listing Title</th>\n",
       "      <th>Neighbourhood</th>\n",
       "      <th>City</th>\n",
       "      <th>State</th>\n",
       "      <th>Country</th>\n",
       "      <th>Room Type</th>\n",
       "      <th>Room Price</th>\n",
       "      <th>Room Availability</th>\n",
       "    </tr>\n",
       "  </thead>\n",
       "  <tbody>\n",
       "    <tr>\n",
       "      <th>0</th>\n",
       "      <td>4055629</td>\n",
       "      <td>2012-10-06</td>\n",
       "      <td>Very nice accommodation in an aesthetically pl...</td>\n",
       "      <td>Nottinghill Portobello  Artist Flat</td>\n",
       "      <td>Kensington and Chelsea</td>\n",
       "      <td>London</td>\n",
       "      <td>England</td>\n",
       "      <td>United Kingdom</td>\n",
       "      <td>Entire home/apt</td>\n",
       "      <td>100</td>\n",
       "      <td>338</td>\n",
       "    </tr>\n",
       "    <tr>\n",
       "      <th>1</th>\n",
       "      <td>25329416</td>\n",
       "      <td>2013-11-03</td>\n",
       "      <td>Me and my friends had such a nice time at Dott...</td>\n",
       "      <td>Quiet Pink Studio in the PIJP area</td>\n",
       "      <td>De Pijp - Rivierenbuurt</td>\n",
       "      <td>Amsterdam</td>\n",
       "      <td>North Holland</td>\n",
       "      <td>The Netherlands</td>\n",
       "      <td>Private room</td>\n",
       "      <td>80</td>\n",
       "      <td>10</td>\n",
       "    </tr>\n",
       "    <tr>\n",
       "      <th>2</th>\n",
       "      <td>21705849</td>\n",
       "      <td>2014-11-27</td>\n",
       "      <td>I stayed for 4night.She gave us a lot of snuck...</td>\n",
       "      <td>PRIVATE Room in Spacious, Quiet Apt</td>\n",
       "      <td>Harlem</td>\n",
       "      <td>New York City</td>\n",
       "      <td>New York</td>\n",
       "      <td>United States</td>\n",
       "      <td>Private room</td>\n",
       "      <td>57</td>\n",
       "      <td>268</td>\n",
       "    </tr>\n",
       "    <tr>\n",
       "      <th>3</th>\n",
       "      <td>41133812</td>\n",
       "      <td>2012-05-08</td>\n",
       "      <td>The apartment was situated on the first floor ...</td>\n",
       "      <td>Bonito estudio en pleno centro</td>\n",
       "      <td>Universidad</td>\n",
       "      <td>Madrid</td>\n",
       "      <td>Comunidad de Madrid</td>\n",
       "      <td>Spain</td>\n",
       "      <td>Entire home/apt</td>\n",
       "      <td>38</td>\n",
       "      <td>274</td>\n",
       "    </tr>\n",
       "    <tr>\n",
       "      <th>4</th>\n",
       "      <td>7465026</td>\n",
       "      <td>2013-08-16</td>\n",
       "      <td>Even though it was only for one night, we had ...</td>\n",
       "      <td>Acropolis Apartment brand new</td>\n",
       "      <td>ΑΚΡΟΠΟΛΗ</td>\n",
       "      <td>Athens</td>\n",
       "      <td>Attica</td>\n",
       "      <td>Greece</td>\n",
       "      <td>Entire home/apt</td>\n",
       "      <td>62</td>\n",
       "      <td>281</td>\n",
       "    </tr>\n",
       "    <tr>\n",
       "      <th>...</th>\n",
       "      <td>...</td>\n",
       "      <td>...</td>\n",
       "      <td>...</td>\n",
       "      <td>...</td>\n",
       "      <td>...</td>\n",
       "      <td>...</td>\n",
       "      <td>...</td>\n",
       "      <td>...</td>\n",
       "      <td>...</td>\n",
       "      <td>...</td>\n",
       "      <td>...</td>\n",
       "    </tr>\n",
       "    <tr>\n",
       "      <th>995</th>\n",
       "      <td>44498863</td>\n",
       "      <td>2012-08-30</td>\n",
       "      <td>I loved staying here during my time in Paris. ...</td>\n",
       "      <td>A typical parisian flat</td>\n",
       "      <td>Buttes-Montmartre</td>\n",
       "      <td>Paris</td>\n",
       "      <td>Île-de-France</td>\n",
       "      <td>France</td>\n",
       "      <td>Private room</td>\n",
       "      <td>35</td>\n",
       "      <td>329</td>\n",
       "    </tr>\n",
       "    <tr>\n",
       "      <th>996</th>\n",
       "      <td>30544438</td>\n",
       "      <td>2013-02-28</td>\n",
       "      <td>Highly recommend this as a place to stay if yo...</td>\n",
       "      <td>The Venice Roost on Abbot Kinney</td>\n",
       "      <td>Venice</td>\n",
       "      <td>Los Angeles</td>\n",
       "      <td>California</td>\n",
       "      <td>United States</td>\n",
       "      <td>Entire home/apt</td>\n",
       "      <td>191</td>\n",
       "      <td>309</td>\n",
       "    </tr>\n",
       "    <tr>\n",
       "      <th>997</th>\n",
       "      <td>46642535</td>\n",
       "      <td>2014-08-30</td>\n",
       "      <td>John was a great host.  I came in on a red eye...</td>\n",
       "      <td>Top Floor Renovated 1 BR / 1BA</td>\n",
       "      <td>West Roxbury</td>\n",
       "      <td>Boston</td>\n",
       "      <td>Massachusetts</td>\n",
       "      <td>United States</td>\n",
       "      <td>Entire home/apt</td>\n",
       "      <td>95</td>\n",
       "      <td>10</td>\n",
       "    </tr>\n",
       "    <tr>\n",
       "      <th>998</th>\n",
       "      <td>21403195</td>\n",
       "      <td>2014-12-26</td>\n",
       "      <td>Very good experiance had a comfortable stay. V...</td>\n",
       "      <td>NR LGA/JFK &amp; City Studio W/Bathroom</td>\n",
       "      <td>Jackson Heights</td>\n",
       "      <td>New York City</td>\n",
       "      <td>New York</td>\n",
       "      <td>United States</td>\n",
       "      <td>Private room</td>\n",
       "      <td>75</td>\n",
       "      <td>357</td>\n",
       "    </tr>\n",
       "    <tr>\n",
       "      <th>999</th>\n",
       "      <td>38944752</td>\n",
       "      <td>2013-10-15</td>\n",
       "      <td>Thank you for the wonderful stay!   It was a c...</td>\n",
       "      <td>15 Minutes from Manhattan</td>\n",
       "      <td>Woodside</td>\n",
       "      <td>New York City</td>\n",
       "      <td>New York</td>\n",
       "      <td>United States</td>\n",
       "      <td>Private room</td>\n",
       "      <td>110</td>\n",
       "      <td>329</td>\n",
       "    </tr>\n",
       "  </tbody>\n",
       "</table>\n",
       "<p>1000 rows × 11 columns</p>\n",
       "</div>"
      ],
      "text/plain": [
       "     Review ID Review Date                                     Review Content  \\\n",
       "0      4055629  2012-10-06  Very nice accommodation in an aesthetically pl...   \n",
       "1     25329416  2013-11-03  Me and my friends had such a nice time at Dott...   \n",
       "2     21705849  2014-11-27  I stayed for 4night.She gave us a lot of snuck...   \n",
       "3     41133812  2012-05-08  The apartment was situated on the first floor ...   \n",
       "4      7465026  2013-08-16  Even though it was only for one night, we had ...   \n",
       "..         ...         ...                                                ...   \n",
       "995   44498863  2012-08-30  I loved staying here during my time in Paris. ...   \n",
       "996   30544438  2013-02-28  Highly recommend this as a place to stay if yo...   \n",
       "997   46642535  2014-08-30  John was a great host.  I came in on a red eye...   \n",
       "998   21403195  2014-12-26  Very good experiance had a comfortable stay. V...   \n",
       "999   38944752  2013-10-15  Thank you for the wonderful stay!   It was a c...   \n",
       "\n",
       "                           Listing Title            Neighbourhood  \\\n",
       "0    Nottinghill Portobello  Artist Flat   Kensington and Chelsea   \n",
       "1     Quiet Pink Studio in the PIJP area  De Pijp - Rivierenbuurt   \n",
       "2    PRIVATE Room in Spacious, Quiet Apt                   Harlem   \n",
       "3         Bonito estudio en pleno centro              Universidad   \n",
       "4          Acropolis Apartment brand new                 ΑΚΡΟΠΟΛΗ   \n",
       "..                                   ...                      ...   \n",
       "995              A typical parisian flat        Buttes-Montmartre   \n",
       "996     The Venice Roost on Abbot Kinney                   Venice   \n",
       "997      Top Floor Renovated 1 BR / 1BA              West Roxbury   \n",
       "998  NR LGA/JFK & City Studio W/Bathroom          Jackson Heights   \n",
       "999            15 Minutes from Manhattan                 Woodside   \n",
       "\n",
       "              City                State          Country        Room Type  \\\n",
       "0           London              England   United Kingdom  Entire home/apt   \n",
       "1        Amsterdam        North Holland  The Netherlands     Private room   \n",
       "2    New York City             New York    United States     Private room   \n",
       "3           Madrid  Comunidad de Madrid            Spain  Entire home/apt   \n",
       "4           Athens               Attica           Greece  Entire home/apt   \n",
       "..             ...                  ...              ...              ...   \n",
       "995          Paris        Île-de-France           France     Private room   \n",
       "996    Los Angeles           California    United States  Entire home/apt   \n",
       "997         Boston        Massachusetts    United States  Entire home/apt   \n",
       "998  New York City             New York    United States     Private room   \n",
       "999  New York City             New York    United States     Private room   \n",
       "\n",
       "     Room Price  Room Availability  \n",
       "0           100                338  \n",
       "1            80                 10  \n",
       "2            57                268  \n",
       "3            38                274  \n",
       "4            62                281  \n",
       "..          ...                ...  \n",
       "995          35                329  \n",
       "996         191                309  \n",
       "997          95                 10  \n",
       "998          75                357  \n",
       "999         110                329  \n",
       "\n",
       "[1000 rows x 11 columns]"
      ]
     },
     "execution_count": 133,
     "metadata": {},
     "output_type": "execute_result"
    }
   ],
   "source": [
    "pd.read_csv('ReviewContent.csv')"
   ]
  },
  {
   "cell_type": "code",
   "execution_count": 134,
   "metadata": {},
   "outputs": [],
   "source": [
    "df = pd.read_csv('ReviewContent.csv')"
   ]
  },
  {
   "cell_type": "code",
   "execution_count": 139,
   "metadata": {},
   "outputs": [],
   "source": [
    "df.to_csv('My_output',index=False) "
   ]
  },
  {
   "cell_type": "code",
   "execution_count": 140,
   "metadata": {},
   "outputs": [
    {
     "data": {
      "text/html": [
       "<div>\n",
       "<style scoped>\n",
       "    .dataframe tbody tr th:only-of-type {\n",
       "        vertical-align: middle;\n",
       "    }\n",
       "\n",
       "    .dataframe tbody tr th {\n",
       "        vertical-align: top;\n",
       "    }\n",
       "\n",
       "    .dataframe thead th {\n",
       "        text-align: right;\n",
       "    }\n",
       "</style>\n",
       "<table border=\"1\" class=\"dataframe\">\n",
       "  <thead>\n",
       "    <tr style=\"text-align: right;\">\n",
       "      <th></th>\n",
       "      <th>Review ID</th>\n",
       "      <th>Review Date</th>\n",
       "      <th>Review Content</th>\n",
       "      <th>Listing Title</th>\n",
       "      <th>Neighbourhood</th>\n",
       "      <th>City</th>\n",
       "      <th>State</th>\n",
       "      <th>Country</th>\n",
       "      <th>Room Type</th>\n",
       "      <th>Room Price</th>\n",
       "      <th>Room Availability</th>\n",
       "    </tr>\n",
       "  </thead>\n",
       "  <tbody>\n",
       "    <tr>\n",
       "      <th>0</th>\n",
       "      <td>4055629</td>\n",
       "      <td>2012-10-06</td>\n",
       "      <td>Very nice accommodation in an aesthetically pl...</td>\n",
       "      <td>Nottinghill Portobello  Artist Flat</td>\n",
       "      <td>Kensington and Chelsea</td>\n",
       "      <td>London</td>\n",
       "      <td>England</td>\n",
       "      <td>United Kingdom</td>\n",
       "      <td>Entire home/apt</td>\n",
       "      <td>100</td>\n",
       "      <td>338</td>\n",
       "    </tr>\n",
       "    <tr>\n",
       "      <th>1</th>\n",
       "      <td>25329416</td>\n",
       "      <td>2013-11-03</td>\n",
       "      <td>Me and my friends had such a nice time at Dott...</td>\n",
       "      <td>Quiet Pink Studio in the PIJP area</td>\n",
       "      <td>De Pijp - Rivierenbuurt</td>\n",
       "      <td>Amsterdam</td>\n",
       "      <td>North Holland</td>\n",
       "      <td>The Netherlands</td>\n",
       "      <td>Private room</td>\n",
       "      <td>80</td>\n",
       "      <td>10</td>\n",
       "    </tr>\n",
       "    <tr>\n",
       "      <th>2</th>\n",
       "      <td>21705849</td>\n",
       "      <td>2014-11-27</td>\n",
       "      <td>I stayed for 4night.She gave us a lot of snuck...</td>\n",
       "      <td>PRIVATE Room in Spacious, Quiet Apt</td>\n",
       "      <td>Harlem</td>\n",
       "      <td>New York City</td>\n",
       "      <td>New York</td>\n",
       "      <td>United States</td>\n",
       "      <td>Private room</td>\n",
       "      <td>57</td>\n",
       "      <td>268</td>\n",
       "    </tr>\n",
       "    <tr>\n",
       "      <th>3</th>\n",
       "      <td>41133812</td>\n",
       "      <td>2012-05-08</td>\n",
       "      <td>The apartment was situated on the first floor ...</td>\n",
       "      <td>Bonito estudio en pleno centro</td>\n",
       "      <td>Universidad</td>\n",
       "      <td>Madrid</td>\n",
       "      <td>Comunidad de Madrid</td>\n",
       "      <td>Spain</td>\n",
       "      <td>Entire home/apt</td>\n",
       "      <td>38</td>\n",
       "      <td>274</td>\n",
       "    </tr>\n",
       "    <tr>\n",
       "      <th>4</th>\n",
       "      <td>7465026</td>\n",
       "      <td>2013-08-16</td>\n",
       "      <td>Even though it was only for one night, we had ...</td>\n",
       "      <td>Acropolis Apartment brand new</td>\n",
       "      <td>ΑΚΡΟΠΟΛΗ</td>\n",
       "      <td>Athens</td>\n",
       "      <td>Attica</td>\n",
       "      <td>Greece</td>\n",
       "      <td>Entire home/apt</td>\n",
       "      <td>62</td>\n",
       "      <td>281</td>\n",
       "    </tr>\n",
       "    <tr>\n",
       "      <th>...</th>\n",
       "      <td>...</td>\n",
       "      <td>...</td>\n",
       "      <td>...</td>\n",
       "      <td>...</td>\n",
       "      <td>...</td>\n",
       "      <td>...</td>\n",
       "      <td>...</td>\n",
       "      <td>...</td>\n",
       "      <td>...</td>\n",
       "      <td>...</td>\n",
       "      <td>...</td>\n",
       "    </tr>\n",
       "    <tr>\n",
       "      <th>995</th>\n",
       "      <td>44498863</td>\n",
       "      <td>2012-08-30</td>\n",
       "      <td>I loved staying here during my time in Paris. ...</td>\n",
       "      <td>A typical parisian flat</td>\n",
       "      <td>Buttes-Montmartre</td>\n",
       "      <td>Paris</td>\n",
       "      <td>Île-de-France</td>\n",
       "      <td>France</td>\n",
       "      <td>Private room</td>\n",
       "      <td>35</td>\n",
       "      <td>329</td>\n",
       "    </tr>\n",
       "    <tr>\n",
       "      <th>996</th>\n",
       "      <td>30544438</td>\n",
       "      <td>2013-02-28</td>\n",
       "      <td>Highly recommend this as a place to stay if yo...</td>\n",
       "      <td>The Venice Roost on Abbot Kinney</td>\n",
       "      <td>Venice</td>\n",
       "      <td>Los Angeles</td>\n",
       "      <td>California</td>\n",
       "      <td>United States</td>\n",
       "      <td>Entire home/apt</td>\n",
       "      <td>191</td>\n",
       "      <td>309</td>\n",
       "    </tr>\n",
       "    <tr>\n",
       "      <th>997</th>\n",
       "      <td>46642535</td>\n",
       "      <td>2014-08-30</td>\n",
       "      <td>John was a great host.  I came in on a red eye...</td>\n",
       "      <td>Top Floor Renovated 1 BR / 1BA</td>\n",
       "      <td>West Roxbury</td>\n",
       "      <td>Boston</td>\n",
       "      <td>Massachusetts</td>\n",
       "      <td>United States</td>\n",
       "      <td>Entire home/apt</td>\n",
       "      <td>95</td>\n",
       "      <td>10</td>\n",
       "    </tr>\n",
       "    <tr>\n",
       "      <th>998</th>\n",
       "      <td>21403195</td>\n",
       "      <td>2014-12-26</td>\n",
       "      <td>Very good experiance had a comfortable stay. V...</td>\n",
       "      <td>NR LGA/JFK &amp; City Studio W/Bathroom</td>\n",
       "      <td>Jackson Heights</td>\n",
       "      <td>New York City</td>\n",
       "      <td>New York</td>\n",
       "      <td>United States</td>\n",
       "      <td>Private room</td>\n",
       "      <td>75</td>\n",
       "      <td>357</td>\n",
       "    </tr>\n",
       "    <tr>\n",
       "      <th>999</th>\n",
       "      <td>38944752</td>\n",
       "      <td>2013-10-15</td>\n",
       "      <td>Thank you for the wonderful stay!   It was a c...</td>\n",
       "      <td>15 Minutes from Manhattan</td>\n",
       "      <td>Woodside</td>\n",
       "      <td>New York City</td>\n",
       "      <td>New York</td>\n",
       "      <td>United States</td>\n",
       "      <td>Private room</td>\n",
       "      <td>110</td>\n",
       "      <td>329</td>\n",
       "    </tr>\n",
       "  </tbody>\n",
       "</table>\n",
       "<p>1000 rows × 11 columns</p>\n",
       "</div>"
      ],
      "text/plain": [
       "     Review ID Review Date                                     Review Content  \\\n",
       "0      4055629  2012-10-06  Very nice accommodation in an aesthetically pl...   \n",
       "1     25329416  2013-11-03  Me and my friends had such a nice time at Dott...   \n",
       "2     21705849  2014-11-27  I stayed for 4night.She gave us a lot of snuck...   \n",
       "3     41133812  2012-05-08  The apartment was situated on the first floor ...   \n",
       "4      7465026  2013-08-16  Even though it was only for one night, we had ...   \n",
       "..         ...         ...                                                ...   \n",
       "995   44498863  2012-08-30  I loved staying here during my time in Paris. ...   \n",
       "996   30544438  2013-02-28  Highly recommend this as a place to stay if yo...   \n",
       "997   46642535  2014-08-30  John was a great host.  I came in on a red eye...   \n",
       "998   21403195  2014-12-26  Very good experiance had a comfortable stay. V...   \n",
       "999   38944752  2013-10-15  Thank you for the wonderful stay!   It was a c...   \n",
       "\n",
       "                           Listing Title            Neighbourhood  \\\n",
       "0    Nottinghill Portobello  Artist Flat   Kensington and Chelsea   \n",
       "1     Quiet Pink Studio in the PIJP area  De Pijp - Rivierenbuurt   \n",
       "2    PRIVATE Room in Spacious, Quiet Apt                   Harlem   \n",
       "3         Bonito estudio en pleno centro              Universidad   \n",
       "4          Acropolis Apartment brand new                 ΑΚΡΟΠΟΛΗ   \n",
       "..                                   ...                      ...   \n",
       "995              A typical parisian flat        Buttes-Montmartre   \n",
       "996     The Venice Roost on Abbot Kinney                   Venice   \n",
       "997      Top Floor Renovated 1 BR / 1BA              West Roxbury   \n",
       "998  NR LGA/JFK & City Studio W/Bathroom          Jackson Heights   \n",
       "999            15 Minutes from Manhattan                 Woodside   \n",
       "\n",
       "              City                State          Country        Room Type  \\\n",
       "0           London              England   United Kingdom  Entire home/apt   \n",
       "1        Amsterdam        North Holland  The Netherlands     Private room   \n",
       "2    New York City             New York    United States     Private room   \n",
       "3           Madrid  Comunidad de Madrid            Spain  Entire home/apt   \n",
       "4           Athens               Attica           Greece  Entire home/apt   \n",
       "..             ...                  ...              ...              ...   \n",
       "995          Paris        Île-de-France           France     Private room   \n",
       "996    Los Angeles           California    United States  Entire home/apt   \n",
       "997         Boston        Massachusetts    United States  Entire home/apt   \n",
       "998  New York City             New York    United States     Private room   \n",
       "999  New York City             New York    United States     Private room   \n",
       "\n",
       "     Room Price  Room Availability  \n",
       "0           100                338  \n",
       "1            80                 10  \n",
       "2            57                268  \n",
       "3            38                274  \n",
       "4            62                281  \n",
       "..          ...                ...  \n",
       "995          35                329  \n",
       "996         191                309  \n",
       "997          95                 10  \n",
       "998          75                357  \n",
       "999         110                329  \n",
       "\n",
       "[1000 rows x 11 columns]"
      ]
     },
     "execution_count": 140,
     "metadata": {},
     "output_type": "execute_result"
    }
   ],
   "source": [
    "pd.read_csv('My_output')"
   ]
  },
  {
   "cell_type": "code",
   "execution_count": 143,
   "metadata": {},
   "outputs": [
    {
     "name": "stdout",
     "output_type": "stream",
     "text": [
      "Collecting xlrd\n",
      "  Downloading xlrd-2.0.1-py2.py3-none-any.whl (96 kB)\n",
      "\u001b[K     |████████████████████████████████| 96 kB 2.1 MB/s eta 0:00:011\n",
      "\u001b[?25hInstalling collected packages: xlrd\n",
      "Successfully installed xlrd-2.0.1\n",
      "\u001b[33mWARNING: You are using pip version 20.3.3; however, version 21.0.1 is available.\n",
      "You should consider upgrading via the '/usr/local/opt/python@3.9/bin/python3.9 -m pip install --upgrade pip' command.\u001b[0m\n",
      "Note: you may need to restart the kernel to use updated packages.\n"
     ]
    }
   ],
   "source": [
    "pip install xlrd"
   ]
  },
  {
   "cell_type": "code",
   "execution_count": 144,
   "metadata": {},
   "outputs": [
    {
     "ename": "TypeError",
     "evalue": "read_excel() got an unexpected keyword argument 'sheetname'",
     "output_type": "error",
     "traceback": [
      "\u001b[0;31m---------------------------------------------------------------------------\u001b[0m",
      "\u001b[0;31mTypeError\u001b[0m                                 Traceback (most recent call last)",
      "\u001b[0;32m<ipython-input-144-62f2c5f8d9d2>\u001b[0m in \u001b[0;36m<module>\u001b[0;34m\u001b[0m\n\u001b[0;32m----> 1\u001b[0;31m \u001b[0mpd\u001b[0m\u001b[0;34m.\u001b[0m\u001b[0mread_excel\u001b[0m\u001b[0;34m(\u001b[0m\u001b[0;34m'My_output.xlsx'\u001b[0m\u001b[0;34m,\u001b[0m \u001b[0msheetname\u001b[0m\u001b[0;34m=\u001b[0m\u001b[0;34m'Sheet1'\u001b[0m\u001b[0;34m)\u001b[0m\u001b[0;34m\u001b[0m\u001b[0;34m\u001b[0m\u001b[0m\n\u001b[0m",
      "\u001b[0;32m/usr/local/lib/python3.9/site-packages/pandas/util/_decorators.py\u001b[0m in \u001b[0;36mwrapper\u001b[0;34m(*args, **kwargs)\u001b[0m\n\u001b[1;32m    294\u001b[0m                 )\n\u001b[1;32m    295\u001b[0m                 \u001b[0mwarnings\u001b[0m\u001b[0;34m.\u001b[0m\u001b[0mwarn\u001b[0m\u001b[0;34m(\u001b[0m\u001b[0mmsg\u001b[0m\u001b[0;34m,\u001b[0m \u001b[0mFutureWarning\u001b[0m\u001b[0;34m,\u001b[0m \u001b[0mstacklevel\u001b[0m\u001b[0;34m=\u001b[0m\u001b[0mstacklevel\u001b[0m\u001b[0;34m)\u001b[0m\u001b[0;34m\u001b[0m\u001b[0;34m\u001b[0m\u001b[0m\n\u001b[0;32m--> 296\u001b[0;31m             \u001b[0;32mreturn\u001b[0m \u001b[0mfunc\u001b[0m\u001b[0;34m(\u001b[0m\u001b[0;34m*\u001b[0m\u001b[0margs\u001b[0m\u001b[0;34m,\u001b[0m \u001b[0;34m**\u001b[0m\u001b[0mkwargs\u001b[0m\u001b[0;34m)\u001b[0m\u001b[0;34m\u001b[0m\u001b[0;34m\u001b[0m\u001b[0m\n\u001b[0m\u001b[1;32m    297\u001b[0m \u001b[0;34m\u001b[0m\u001b[0m\n\u001b[1;32m    298\u001b[0m         \u001b[0;32mreturn\u001b[0m \u001b[0mwrapper\u001b[0m\u001b[0;34m\u001b[0m\u001b[0;34m\u001b[0m\u001b[0m\n",
      "\u001b[0;31mTypeError\u001b[0m: read_excel() got an unexpected keyword argument 'sheetname'"
     ]
    }
   ],
   "source": [
    "pd.read_excel('My_output.xlsx', sheetname='Sheet1')"
   ]
  },
  {
   "cell_type": "code",
   "execution_count": 148,
   "metadata": {},
   "outputs": [
    {
     "ename": "ModuleNotFoundError",
     "evalue": "No module named 'openpyxl'",
     "output_type": "error",
     "traceback": [
      "\u001b[0;31m---------------------------------------------------------------------------\u001b[0m",
      "\u001b[0;31mModuleNotFoundError\u001b[0m                       Traceback (most recent call last)",
      "\u001b[0;32m<ipython-input-148-9706d8bdd074>\u001b[0m in \u001b[0;36m<module>\u001b[0;34m\u001b[0m\n\u001b[0;32m----> 1\u001b[0;31m \u001b[0mdf\u001b[0m\u001b[0;34m.\u001b[0m\u001b[0mto_excel\u001b[0m\u001b[0;34m(\u001b[0m\u001b[0;34m'Excel_Sample.xlsx'\u001b[0m\u001b[0;34m)\u001b[0m\u001b[0;34m\u001b[0m\u001b[0;34m\u001b[0m\u001b[0m\n\u001b[0m",
      "\u001b[0;32m/usr/local/lib/python3.9/site-packages/pandas/core/generic.py\u001b[0m in \u001b[0;36mto_excel\u001b[0;34m(self, excel_writer, sheet_name, na_rep, float_format, columns, header, index, index_label, startrow, startcol, engine, merge_cells, encoding, inf_rep, verbose, freeze_panes)\u001b[0m\n\u001b[1;32m   2024\u001b[0m             \u001b[0minf_rep\u001b[0m\u001b[0;34m=\u001b[0m\u001b[0minf_rep\u001b[0m\u001b[0;34m,\u001b[0m\u001b[0;34m\u001b[0m\u001b[0;34m\u001b[0m\u001b[0m\n\u001b[1;32m   2025\u001b[0m         )\n\u001b[0;32m-> 2026\u001b[0;31m         formatter.write(\n\u001b[0m\u001b[1;32m   2027\u001b[0m             \u001b[0mexcel_writer\u001b[0m\u001b[0;34m,\u001b[0m\u001b[0;34m\u001b[0m\u001b[0;34m\u001b[0m\u001b[0m\n\u001b[1;32m   2028\u001b[0m             \u001b[0msheet_name\u001b[0m\u001b[0;34m=\u001b[0m\u001b[0msheet_name\u001b[0m\u001b[0;34m,\u001b[0m\u001b[0;34m\u001b[0m\u001b[0;34m\u001b[0m\u001b[0m\n",
      "\u001b[0;32m/usr/local/lib/python3.9/site-packages/pandas/io/formats/excel.py\u001b[0m in \u001b[0;36mwrite\u001b[0;34m(self, writer, sheet_name, startrow, startcol, freeze_panes, engine)\u001b[0m\n\u001b[1;32m    728\u001b[0m             \u001b[0mneed_save\u001b[0m \u001b[0;34m=\u001b[0m \u001b[0;32mFalse\u001b[0m\u001b[0;34m\u001b[0m\u001b[0;34m\u001b[0m\u001b[0m\n\u001b[1;32m    729\u001b[0m         \u001b[0;32melse\u001b[0m\u001b[0;34m:\u001b[0m\u001b[0;34m\u001b[0m\u001b[0;34m\u001b[0m\u001b[0m\n\u001b[0;32m--> 730\u001b[0;31m             \u001b[0mwriter\u001b[0m \u001b[0;34m=\u001b[0m \u001b[0mExcelWriter\u001b[0m\u001b[0;34m(\u001b[0m\u001b[0mstringify_path\u001b[0m\u001b[0;34m(\u001b[0m\u001b[0mwriter\u001b[0m\u001b[0;34m)\u001b[0m\u001b[0;34m,\u001b[0m \u001b[0mengine\u001b[0m\u001b[0;34m=\u001b[0m\u001b[0mengine\u001b[0m\u001b[0;34m)\u001b[0m\u001b[0;34m\u001b[0m\u001b[0;34m\u001b[0m\u001b[0m\n\u001b[0m\u001b[1;32m    731\u001b[0m             \u001b[0mneed_save\u001b[0m \u001b[0;34m=\u001b[0m \u001b[0;32mTrue\u001b[0m\u001b[0;34m\u001b[0m\u001b[0;34m\u001b[0m\u001b[0m\n\u001b[1;32m    732\u001b[0m \u001b[0;34m\u001b[0m\u001b[0m\n",
      "\u001b[0;32m/usr/local/lib/python3.9/site-packages/pandas/io/excel/_openpyxl.py\u001b[0m in \u001b[0;36m__init__\u001b[0;34m(self, path, engine, mode, **engine_kwargs)\u001b[0m\n\u001b[1;32m     16\u001b[0m     \u001b[0;32mdef\u001b[0m \u001b[0m__init__\u001b[0m\u001b[0;34m(\u001b[0m\u001b[0mself\u001b[0m\u001b[0;34m,\u001b[0m \u001b[0mpath\u001b[0m\u001b[0;34m,\u001b[0m \u001b[0mengine\u001b[0m\u001b[0;34m=\u001b[0m\u001b[0;32mNone\u001b[0m\u001b[0;34m,\u001b[0m \u001b[0mmode\u001b[0m\u001b[0;34m=\u001b[0m\u001b[0;34m\"w\"\u001b[0m\u001b[0;34m,\u001b[0m \u001b[0;34m**\u001b[0m\u001b[0mengine_kwargs\u001b[0m\u001b[0;34m)\u001b[0m\u001b[0;34m:\u001b[0m\u001b[0;34m\u001b[0m\u001b[0;34m\u001b[0m\u001b[0m\n\u001b[1;32m     17\u001b[0m         \u001b[0;31m# Use the openpyxl module as the Excel writer.\u001b[0m\u001b[0;34m\u001b[0m\u001b[0;34m\u001b[0m\u001b[0;34m\u001b[0m\u001b[0m\n\u001b[0;32m---> 18\u001b[0;31m         \u001b[0;32mfrom\u001b[0m \u001b[0mopenpyxl\u001b[0m\u001b[0;34m.\u001b[0m\u001b[0mworkbook\u001b[0m \u001b[0;32mimport\u001b[0m \u001b[0mWorkbook\u001b[0m\u001b[0;34m\u001b[0m\u001b[0;34m\u001b[0m\u001b[0m\n\u001b[0m\u001b[1;32m     19\u001b[0m \u001b[0;34m\u001b[0m\u001b[0m\n\u001b[1;32m     20\u001b[0m         \u001b[0msuper\u001b[0m\u001b[0;34m(\u001b[0m\u001b[0;34m)\u001b[0m\u001b[0;34m.\u001b[0m\u001b[0m__init__\u001b[0m\u001b[0;34m(\u001b[0m\u001b[0mpath\u001b[0m\u001b[0;34m,\u001b[0m \u001b[0mmode\u001b[0m\u001b[0;34m=\u001b[0m\u001b[0mmode\u001b[0m\u001b[0;34m,\u001b[0m \u001b[0;34m**\u001b[0m\u001b[0mengine_kwargs\u001b[0m\u001b[0;34m)\u001b[0m\u001b[0;34m\u001b[0m\u001b[0;34m\u001b[0m\u001b[0m\n",
      "\u001b[0;31mModuleNotFoundError\u001b[0m: No module named 'openpyxl'"
     ]
    }
   ],
   "source": [
    "df.to_excel('Excel_Sample.xlsx', sheetname='NewSheet')"
   ]
  },
  {
   "cell_type": "code",
   "execution_count": 155,
   "metadata": {},
   "outputs": [],
   "source": [
    "data = pd.read_html('https://www.fdic.gov/resources/resolutions/bank-failures/failed-bank-list/')"
   ]
  },
  {
   "cell_type": "code",
   "execution_count": 156,
   "metadata": {},
   "outputs": [
    {
     "data": {
      "text/plain": [
       "list"
      ]
     },
     "execution_count": 156,
     "metadata": {},
     "output_type": "execute_result"
    }
   ],
   "source": [
    "type(data)"
   ]
  },
  {
   "cell_type": "code",
   "execution_count": 158,
   "metadata": {},
   "outputs": [
    {
     "data": {
      "text/html": [
       "<div>\n",
       "<style scoped>\n",
       "    .dataframe tbody tr th:only-of-type {\n",
       "        vertical-align: middle;\n",
       "    }\n",
       "\n",
       "    .dataframe tbody tr th {\n",
       "        vertical-align: top;\n",
       "    }\n",
       "\n",
       "    .dataframe thead th {\n",
       "        text-align: right;\n",
       "    }\n",
       "</style>\n",
       "<table border=\"1\" class=\"dataframe\">\n",
       "  <thead>\n",
       "    <tr style=\"text-align: right;\">\n",
       "      <th></th>\n",
       "      <th>Bank Name</th>\n",
       "      <th>City</th>\n",
       "      <th>State</th>\n",
       "      <th>Cert</th>\n",
       "      <th>Acquiring Institution</th>\n",
       "      <th>Closing Date</th>\n",
       "    </tr>\n",
       "  </thead>\n",
       "  <tbody>\n",
       "    <tr>\n",
       "      <th>0</th>\n",
       "      <td>Almena State Bank</td>\n",
       "      <td>Almena</td>\n",
       "      <td>KS</td>\n",
       "      <td>15426</td>\n",
       "      <td>Equity Bank</td>\n",
       "      <td>October 23, 2020</td>\n",
       "    </tr>\n",
       "    <tr>\n",
       "      <th>1</th>\n",
       "      <td>First City Bank of Florida</td>\n",
       "      <td>Fort Walton Beach</td>\n",
       "      <td>FL</td>\n",
       "      <td>16748</td>\n",
       "      <td>United Fidelity Bank, fsb</td>\n",
       "      <td>October 16, 2020</td>\n",
       "    </tr>\n",
       "    <tr>\n",
       "      <th>2</th>\n",
       "      <td>The First State Bank</td>\n",
       "      <td>Barboursville</td>\n",
       "      <td>WV</td>\n",
       "      <td>14361</td>\n",
       "      <td>MVB Bank, Inc.</td>\n",
       "      <td>April 3, 2020</td>\n",
       "    </tr>\n",
       "    <tr>\n",
       "      <th>3</th>\n",
       "      <td>Ericson State Bank</td>\n",
       "      <td>Ericson</td>\n",
       "      <td>NE</td>\n",
       "      <td>18265</td>\n",
       "      <td>Farmers and Merchants Bank</td>\n",
       "      <td>February 14, 2020</td>\n",
       "    </tr>\n",
       "    <tr>\n",
       "      <th>4</th>\n",
       "      <td>City National Bank of New Jersey</td>\n",
       "      <td>Newark</td>\n",
       "      <td>NJ</td>\n",
       "      <td>21111</td>\n",
       "      <td>Industrial Bank</td>\n",
       "      <td>November 1, 2019</td>\n",
       "    </tr>\n",
       "  </tbody>\n",
       "</table>\n",
       "</div>"
      ],
      "text/plain": [
       "                          Bank Name               City State   Cert  \\\n",
       "0                 Almena State Bank             Almena    KS  15426   \n",
       "1        First City Bank of Florida  Fort Walton Beach    FL  16748   \n",
       "2              The First State Bank      Barboursville    WV  14361   \n",
       "3                Ericson State Bank            Ericson    NE  18265   \n",
       "4  City National Bank of New Jersey             Newark    NJ  21111   \n",
       "\n",
       "        Acquiring Institution       Closing Date  \n",
       "0                 Equity Bank   October 23, 2020  \n",
       "1   United Fidelity Bank, fsb   October 16, 2020  \n",
       "2              MVB Bank, Inc.      April 3, 2020  \n",
       "3  Farmers and Merchants Bank  February 14, 2020  \n",
       "4             Industrial Bank   November 1, 2019  "
      ]
     },
     "execution_count": 158,
     "metadata": {},
     "output_type": "execute_result"
    }
   ],
   "source": [
    "data[0].head()"
   ]
  },
  {
   "cell_type": "code",
   "execution_count": 160,
   "metadata": {},
   "outputs": [],
   "source": [
    "from sqlalchemy import create_engine"
   ]
  },
  {
   "cell_type": "code",
   "execution_count": 161,
   "metadata": {},
   "outputs": [],
   "source": [
    "engine = create_engine('sqlite:///:memory:')"
   ]
  },
  {
   "cell_type": "code",
   "execution_count": 164,
   "metadata": {},
   "outputs": [],
   "source": [
    "df.head().to_sql('my_table',engine)"
   ]
  },
  {
   "cell_type": "code",
   "execution_count": 165,
   "metadata": {},
   "outputs": [],
   "source": [
    "sqldf = pd.read_sql('my_table',con=engine)"
   ]
  },
  {
   "cell_type": "code",
   "execution_count": 166,
   "metadata": {},
   "outputs": [
    {
     "data": {
      "text/html": [
       "<div>\n",
       "<style scoped>\n",
       "    .dataframe tbody tr th:only-of-type {\n",
       "        vertical-align: middle;\n",
       "    }\n",
       "\n",
       "    .dataframe tbody tr th {\n",
       "        vertical-align: top;\n",
       "    }\n",
       "\n",
       "    .dataframe thead th {\n",
       "        text-align: right;\n",
       "    }\n",
       "</style>\n",
       "<table border=\"1\" class=\"dataframe\">\n",
       "  <thead>\n",
       "    <tr style=\"text-align: right;\">\n",
       "      <th></th>\n",
       "      <th>index</th>\n",
       "      <th>Review ID</th>\n",
       "      <th>Review Date</th>\n",
       "      <th>Review Content</th>\n",
       "      <th>Listing Title</th>\n",
       "      <th>Neighbourhood</th>\n",
       "      <th>City</th>\n",
       "      <th>State</th>\n",
       "      <th>Country</th>\n",
       "      <th>Room Type</th>\n",
       "      <th>Room Price</th>\n",
       "      <th>Room Availability</th>\n",
       "    </tr>\n",
       "  </thead>\n",
       "  <tbody>\n",
       "    <tr>\n",
       "      <th>0</th>\n",
       "      <td>0</td>\n",
       "      <td>4055629</td>\n",
       "      <td>2012-10-06</td>\n",
       "      <td>Very nice accommodation in an aesthetically pl...</td>\n",
       "      <td>Nottinghill Portobello  Artist Flat</td>\n",
       "      <td>Kensington and Chelsea</td>\n",
       "      <td>London</td>\n",
       "      <td>England</td>\n",
       "      <td>United Kingdom</td>\n",
       "      <td>Entire home/apt</td>\n",
       "      <td>100</td>\n",
       "      <td>338</td>\n",
       "    </tr>\n",
       "    <tr>\n",
       "      <th>1</th>\n",
       "      <td>1</td>\n",
       "      <td>25329416</td>\n",
       "      <td>2013-11-03</td>\n",
       "      <td>Me and my friends had such a nice time at Dott...</td>\n",
       "      <td>Quiet Pink Studio in the PIJP area</td>\n",
       "      <td>De Pijp - Rivierenbuurt</td>\n",
       "      <td>Amsterdam</td>\n",
       "      <td>North Holland</td>\n",
       "      <td>The Netherlands</td>\n",
       "      <td>Private room</td>\n",
       "      <td>80</td>\n",
       "      <td>10</td>\n",
       "    </tr>\n",
       "    <tr>\n",
       "      <th>2</th>\n",
       "      <td>2</td>\n",
       "      <td>21705849</td>\n",
       "      <td>2014-11-27</td>\n",
       "      <td>I stayed for 4night.She gave us a lot of snuck...</td>\n",
       "      <td>PRIVATE Room in Spacious, Quiet Apt</td>\n",
       "      <td>Harlem</td>\n",
       "      <td>New York City</td>\n",
       "      <td>New York</td>\n",
       "      <td>United States</td>\n",
       "      <td>Private room</td>\n",
       "      <td>57</td>\n",
       "      <td>268</td>\n",
       "    </tr>\n",
       "    <tr>\n",
       "      <th>3</th>\n",
       "      <td>3</td>\n",
       "      <td>41133812</td>\n",
       "      <td>2012-05-08</td>\n",
       "      <td>The apartment was situated on the first floor ...</td>\n",
       "      <td>Bonito estudio en pleno centro</td>\n",
       "      <td>Universidad</td>\n",
       "      <td>Madrid</td>\n",
       "      <td>Comunidad de Madrid</td>\n",
       "      <td>Spain</td>\n",
       "      <td>Entire home/apt</td>\n",
       "      <td>38</td>\n",
       "      <td>274</td>\n",
       "    </tr>\n",
       "    <tr>\n",
       "      <th>4</th>\n",
       "      <td>4</td>\n",
       "      <td>7465026</td>\n",
       "      <td>2013-08-16</td>\n",
       "      <td>Even though it was only for one night, we had ...</td>\n",
       "      <td>Acropolis Apartment brand new</td>\n",
       "      <td>ΑΚΡΟΠΟΛΗ</td>\n",
       "      <td>Athens</td>\n",
       "      <td>Attica</td>\n",
       "      <td>Greece</td>\n",
       "      <td>Entire home/apt</td>\n",
       "      <td>62</td>\n",
       "      <td>281</td>\n",
       "    </tr>\n",
       "  </tbody>\n",
       "</table>\n",
       "</div>"
      ],
      "text/plain": [
       "   index  Review ID Review Date  \\\n",
       "0      0    4055629  2012-10-06   \n",
       "1      1   25329416  2013-11-03   \n",
       "2      2   21705849  2014-11-27   \n",
       "3      3   41133812  2012-05-08   \n",
       "4      4    7465026  2013-08-16   \n",
       "\n",
       "                                      Review Content  \\\n",
       "0  Very nice accommodation in an aesthetically pl...   \n",
       "1  Me and my friends had such a nice time at Dott...   \n",
       "2  I stayed for 4night.She gave us a lot of snuck...   \n",
       "3  The apartment was situated on the first floor ...   \n",
       "4  Even though it was only for one night, we had ...   \n",
       "\n",
       "                         Listing Title            Neighbourhood  \\\n",
       "0  Nottinghill Portobello  Artist Flat   Kensington and Chelsea   \n",
       "1   Quiet Pink Studio in the PIJP area  De Pijp - Rivierenbuurt   \n",
       "2  PRIVATE Room in Spacious, Quiet Apt                   Harlem   \n",
       "3       Bonito estudio en pleno centro              Universidad   \n",
       "4        Acropolis Apartment brand new                 ΑΚΡΟΠΟΛΗ   \n",
       "\n",
       "            City                State          Country        Room Type  \\\n",
       "0         London              England   United Kingdom  Entire home/apt   \n",
       "1      Amsterdam        North Holland  The Netherlands     Private room   \n",
       "2  New York City             New York    United States     Private room   \n",
       "3         Madrid  Comunidad de Madrid            Spain  Entire home/apt   \n",
       "4         Athens               Attica           Greece  Entire home/apt   \n",
       "\n",
       "   Room Price  Room Availability  \n",
       "0         100                338  \n",
       "1          80                 10  \n",
       "2          57                268  \n",
       "3          38                274  \n",
       "4          62                281  "
      ]
     },
     "execution_count": 166,
     "metadata": {},
     "output_type": "execute_result"
    }
   ],
   "source": [
    "sqldf"
   ]
  },
  {
   "cell_type": "code",
   "execution_count": 185,
   "metadata": {},
   "outputs": [
    {
     "name": "stderr",
     "output_type": "stream",
     "text": [
      "/usr/local/lib/python3.9/site-packages/IPython/core/interactiveshell.py:3146: DtypeWarning: Columns (3,4,5,6,12) have mixed types.Specify dtype option on import or set low_memory=False.\n",
      "  has_raised = await self.run_ast_nodes(code_ast.body, cell_name,\n"
     ]
    }
   ],
   "source": [
    "sal = pd.read_csv('Salaries.csv')"
   ]
  },
  {
   "cell_type": "code",
   "execution_count": 186,
   "metadata": {},
   "outputs": [
    {
     "data": {
      "text/html": [
       "<div>\n",
       "<style scoped>\n",
       "    .dataframe tbody tr th:only-of-type {\n",
       "        vertical-align: middle;\n",
       "    }\n",
       "\n",
       "    .dataframe tbody tr th {\n",
       "        vertical-align: top;\n",
       "    }\n",
       "\n",
       "    .dataframe thead th {\n",
       "        text-align: right;\n",
       "    }\n",
       "</style>\n",
       "<table border=\"1\" class=\"dataframe\">\n",
       "  <thead>\n",
       "    <tr style=\"text-align: right;\">\n",
       "      <th></th>\n",
       "      <th>Id</th>\n",
       "      <th>EmployeeName</th>\n",
       "      <th>JobTitle</th>\n",
       "      <th>BasePay</th>\n",
       "      <th>OvertimePay</th>\n",
       "      <th>OtherPay</th>\n",
       "      <th>Benefits</th>\n",
       "      <th>TotalPay</th>\n",
       "      <th>TotalPayBenefits</th>\n",
       "      <th>Year</th>\n",
       "      <th>Notes</th>\n",
       "      <th>Agency</th>\n",
       "      <th>Status</th>\n",
       "    </tr>\n",
       "  </thead>\n",
       "  <tbody>\n",
       "    <tr>\n",
       "      <th>0</th>\n",
       "      <td>1</td>\n",
       "      <td>NATHANIEL FORD</td>\n",
       "      <td>GENERAL MANAGER-METROPOLITAN TRANSIT AUTHORITY</td>\n",
       "      <td>167411</td>\n",
       "      <td>0</td>\n",
       "      <td>400184</td>\n",
       "      <td>NaN</td>\n",
       "      <td>567595.43</td>\n",
       "      <td>567595.43</td>\n",
       "      <td>2011</td>\n",
       "      <td>NaN</td>\n",
       "      <td>San Francisco</td>\n",
       "      <td>NaN</td>\n",
       "    </tr>\n",
       "    <tr>\n",
       "      <th>1</th>\n",
       "      <td>2</td>\n",
       "      <td>GARY JIMENEZ</td>\n",
       "      <td>CAPTAIN III (POLICE DEPARTMENT)</td>\n",
       "      <td>155966</td>\n",
       "      <td>245132</td>\n",
       "      <td>137811</td>\n",
       "      <td>NaN</td>\n",
       "      <td>538909.28</td>\n",
       "      <td>538909.28</td>\n",
       "      <td>2011</td>\n",
       "      <td>NaN</td>\n",
       "      <td>San Francisco</td>\n",
       "      <td>NaN</td>\n",
       "    </tr>\n",
       "    <tr>\n",
       "      <th>2</th>\n",
       "      <td>3</td>\n",
       "      <td>ALBERT PARDINI</td>\n",
       "      <td>CAPTAIN III (POLICE DEPARTMENT)</td>\n",
       "      <td>212739</td>\n",
       "      <td>106088</td>\n",
       "      <td>16452.6</td>\n",
       "      <td>NaN</td>\n",
       "      <td>335279.91</td>\n",
       "      <td>335279.91</td>\n",
       "      <td>2011</td>\n",
       "      <td>NaN</td>\n",
       "      <td>San Francisco</td>\n",
       "      <td>NaN</td>\n",
       "    </tr>\n",
       "    <tr>\n",
       "      <th>3</th>\n",
       "      <td>4</td>\n",
       "      <td>CHRISTOPHER CHONG</td>\n",
       "      <td>WIRE ROPE CABLE MAINTENANCE MECHANIC</td>\n",
       "      <td>77916</td>\n",
       "      <td>56120.7</td>\n",
       "      <td>198307</td>\n",
       "      <td>NaN</td>\n",
       "      <td>332343.61</td>\n",
       "      <td>332343.61</td>\n",
       "      <td>2011</td>\n",
       "      <td>NaN</td>\n",
       "      <td>San Francisco</td>\n",
       "      <td>NaN</td>\n",
       "    </tr>\n",
       "    <tr>\n",
       "      <th>4</th>\n",
       "      <td>5</td>\n",
       "      <td>PATRICK GARDNER</td>\n",
       "      <td>DEPUTY CHIEF OF DEPARTMENT,(FIRE DEPARTMENT)</td>\n",
       "      <td>134402</td>\n",
       "      <td>9737</td>\n",
       "      <td>182235</td>\n",
       "      <td>NaN</td>\n",
       "      <td>326373.19</td>\n",
       "      <td>326373.19</td>\n",
       "      <td>2011</td>\n",
       "      <td>NaN</td>\n",
       "      <td>San Francisco</td>\n",
       "      <td>NaN</td>\n",
       "    </tr>\n",
       "  </tbody>\n",
       "</table>\n",
       "</div>"
      ],
      "text/plain": [
       "   Id       EmployeeName                                        JobTitle  \\\n",
       "0   1     NATHANIEL FORD  GENERAL MANAGER-METROPOLITAN TRANSIT AUTHORITY   \n",
       "1   2       GARY JIMENEZ                 CAPTAIN III (POLICE DEPARTMENT)   \n",
       "2   3     ALBERT PARDINI                 CAPTAIN III (POLICE DEPARTMENT)   \n",
       "3   4  CHRISTOPHER CHONG            WIRE ROPE CABLE MAINTENANCE MECHANIC   \n",
       "4   5    PATRICK GARDNER    DEPUTY CHIEF OF DEPARTMENT,(FIRE DEPARTMENT)   \n",
       "\n",
       "  BasePay OvertimePay OtherPay Benefits   TotalPay  TotalPayBenefits  Year  \\\n",
       "0  167411           0   400184      NaN  567595.43         567595.43  2011   \n",
       "1  155966      245132   137811      NaN  538909.28         538909.28  2011   \n",
       "2  212739      106088  16452.6      NaN  335279.91         335279.91  2011   \n",
       "3   77916     56120.7   198307      NaN  332343.61         332343.61  2011   \n",
       "4  134402        9737   182235      NaN  326373.19         326373.19  2011   \n",
       "\n",
       "   Notes         Agency Status  \n",
       "0    NaN  San Francisco    NaN  \n",
       "1    NaN  San Francisco    NaN  \n",
       "2    NaN  San Francisco    NaN  \n",
       "3    NaN  San Francisco    NaN  \n",
       "4    NaN  San Francisco    NaN  "
      ]
     },
     "execution_count": 186,
     "metadata": {},
     "output_type": "execute_result"
    }
   ],
   "source": [
    "sal.head()"
   ]
  },
  {
   "cell_type": "code",
   "execution_count": 187,
   "metadata": {},
   "outputs": [
    {
     "name": "stdout",
     "output_type": "stream",
     "text": [
      "<class 'pandas.core.frame.DataFrame'>\n",
      "RangeIndex: 148654 entries, 0 to 148653\n",
      "Data columns (total 13 columns):\n",
      " #   Column            Non-Null Count   Dtype  \n",
      "---  ------            --------------   -----  \n",
      " 0   Id                148654 non-null  int64  \n",
      " 1   EmployeeName      148654 non-null  object \n",
      " 2   JobTitle          148654 non-null  object \n",
      " 3   BasePay           148049 non-null  object \n",
      " 4   OvertimePay       148654 non-null  object \n",
      " 5   OtherPay          148654 non-null  object \n",
      " 6   Benefits          112495 non-null  object \n",
      " 7   TotalPay          148654 non-null  float64\n",
      " 8   TotalPayBenefits  148654 non-null  float64\n",
      " 9   Year              148654 non-null  int64  \n",
      " 10  Notes             0 non-null       float64\n",
      " 11  Agency            148654 non-null  object \n",
      " 12  Status            38119 non-null   object \n",
      "dtypes: float64(3), int64(2), object(8)\n",
      "memory usage: 14.7+ MB\n"
     ]
    }
   ],
   "source": [
    "sal.info()"
   ]
  },
  {
   "cell_type": "code",
   "execution_count": 234,
   "metadata": {},
   "outputs": [
    {
     "data": {
      "text/plain": [
       "float"
      ]
     },
     "execution_count": 234,
     "metadata": {},
     "output_type": "execute_result"
    }
   ],
   "source": [
    "type(sal['BasePay'][0])"
   ]
  },
  {
   "cell_type": "code",
   "execution_count": 238,
   "metadata": {},
   "outputs": [],
   "source": [
    "def numcontrol(value):\n",
    "    if float == type(value):\n",
    "        return True\n",
    "    else:\n",
    "        return False\n",
    "dfnum = sal[sal['BasePay'].apply(lambda x: numcontrol(x))]"
   ]
  },
  {
   "cell_type": "code",
   "execution_count": 241,
   "metadata": {},
   "outputs": [
    {
     "data": {
      "text/plain": [
       "Id                                                         8590000128\n",
       "EmployeeName        NATHANIEL FORDGARY JIMENEZALBERT PARDINICHRIST...\n",
       "JobTitle            GENERAL MANAGER-METROPOLITAN TRANSIT AUTHORITY...\n",
       "BasePay                                                   9.30541e+09\n",
       "OvertimePay                                               7.36343e+08\n",
       "OtherPay                                                   5.2063e+08\n",
       "Benefits                                                  2.61154e+09\n",
       "TotalPay                                                  1.05624e+10\n",
       "TotalPayBenefits                                          1.31739e+10\n",
       "Year                                                        263759393\n",
       "Notes                                                               0\n",
       "Agency              San FranciscoSan FranciscoSan FranciscoSan Fra...\n",
       "dtype: object"
      ]
     },
     "execution_count": 241,
     "metadata": {},
     "output_type": "execute_result"
    }
   ],
   "source": [
    "dfnum.sum()"
   ]
  },
  {
   "cell_type": "code",
   "execution_count": 197,
   "metadata": {},
   "outputs": [
    {
     "data": {
      "text/html": [
       "<div>\n",
       "<style scoped>\n",
       "    .dataframe tbody tr th:only-of-type {\n",
       "        vertical-align: middle;\n",
       "    }\n",
       "\n",
       "    .dataframe tbody tr th {\n",
       "        vertical-align: top;\n",
       "    }\n",
       "\n",
       "    .dataframe thead th {\n",
       "        text-align: right;\n",
       "    }\n",
       "</style>\n",
       "<table border=\"1\" class=\"dataframe\">\n",
       "  <thead>\n",
       "    <tr style=\"text-align: right;\">\n",
       "      <th></th>\n",
       "      <th>Id</th>\n",
       "      <th>EmployeeName</th>\n",
       "      <th>JobTitle</th>\n",
       "      <th>BasePay</th>\n",
       "      <th>OvertimePay</th>\n",
       "      <th>OtherPay</th>\n",
       "      <th>Benefits</th>\n",
       "      <th>TotalPay</th>\n",
       "      <th>TotalPayBenefits</th>\n",
       "      <th>Year</th>\n",
       "      <th>Notes</th>\n",
       "      <th>Agency</th>\n",
       "      <th>Status</th>\n",
       "    </tr>\n",
       "  </thead>\n",
       "  <tbody>\n",
       "    <tr>\n",
       "      <th>24</th>\n",
       "      <td>25</td>\n",
       "      <td>JOSEPH DRISCOLL</td>\n",
       "      <td>CAPTAIN, FIRE SUPPRESSION</td>\n",
       "      <td>140547</td>\n",
       "      <td>97868.8</td>\n",
       "      <td>31909.3</td>\n",
       "      <td>NaN</td>\n",
       "      <td>270324.91</td>\n",
       "      <td>270324.91</td>\n",
       "      <td>2011</td>\n",
       "      <td>NaN</td>\n",
       "      <td>San Francisco</td>\n",
       "      <td>NaN</td>\n",
       "    </tr>\n",
       "  </tbody>\n",
       "</table>\n",
       "</div>"
      ],
      "text/plain": [
       "    Id     EmployeeName                   JobTitle BasePay OvertimePay  \\\n",
       "24  25  JOSEPH DRISCOLL  CAPTAIN, FIRE SUPPRESSION  140547     97868.8   \n",
       "\n",
       "   OtherPay Benefits   TotalPay  TotalPayBenefits  Year  Notes         Agency  \\\n",
       "24  31909.3      NaN  270324.91         270324.91  2011    NaN  San Francisco   \n",
       "\n",
       "   Status  \n",
       "24    NaN  "
      ]
     },
     "execution_count": 197,
     "metadata": {},
     "output_type": "execute_result"
    }
   ],
   "source": [
    "sal[sal['EmployeeName'] == 'JOSEPH DRISCOLL']"
   ]
  },
  {
   "cell_type": "code",
   "execution_count": 198,
   "metadata": {},
   "outputs": [
    {
     "data": {
      "text/plain": [
       "24    CAPTAIN, FIRE SUPPRESSION\n",
       "Name: JobTitle, dtype: object"
      ]
     },
     "execution_count": 198,
     "metadata": {},
     "output_type": "execute_result"
    }
   ],
   "source": [
    "sal[sal['EmployeeName'] == 'JOSEPH DRISCOLL']['JobTitle']"
   ]
  },
  {
   "cell_type": "code",
   "execution_count": 199,
   "metadata": {},
   "outputs": [
    {
     "data": {
      "text/plain": [
       "24    270324.91\n",
       "Name: TotalPayBenefits, dtype: float64"
      ]
     },
     "execution_count": 199,
     "metadata": {},
     "output_type": "execute_result"
    }
   ],
   "source": [
    "sal[sal['EmployeeName'] == 'JOSEPH DRISCOLL']['TotalPayBenefits']"
   ]
  },
  {
   "cell_type": "code",
   "execution_count": 203,
   "metadata": {},
   "outputs": [
    {
     "data": {
      "text/plain": [
       "0    NATHANIEL FORD\n",
       "Name: EmployeeName, dtype: object"
      ]
     },
     "execution_count": 203,
     "metadata": {},
     "output_type": "execute_result"
    }
   ],
   "source": [
    "sal[sal['TotalPayBenefits'] == sal['TotalPayBenefits'].max()]['EmployeeName']"
   ]
  },
  {
   "cell_type": "code",
   "execution_count": 204,
   "metadata": {},
   "outputs": [
    {
     "data": {
      "text/plain": [
       "Id                                                               1\n",
       "EmployeeName                                        NATHANIEL FORD\n",
       "JobTitle            GENERAL MANAGER-METROPOLITAN TRANSIT AUTHORITY\n",
       "BasePay                                                     167411\n",
       "OvertimePay                                                      0\n",
       "OtherPay                                                    400184\n",
       "Benefits                                                       NaN\n",
       "TotalPay                                                    567595\n",
       "TotalPayBenefits                                            567595\n",
       "Year                                                          2011\n",
       "Notes                                                          NaN\n",
       "Agency                                               San Francisco\n",
       "Status                                                         NaN\n",
       "Name: 0, dtype: object"
      ]
     },
     "execution_count": 204,
     "metadata": {},
     "output_type": "execute_result"
    }
   ],
   "source": [
    "sal.loc[sal['TotalPayBenefits'].idxmax()]"
   ]
  },
  {
   "cell_type": "code",
   "execution_count": 205,
   "metadata": {},
   "outputs": [
    {
     "data": {
      "text/plain": [
       "Id                                                               1\n",
       "EmployeeName                                        NATHANIEL FORD\n",
       "JobTitle            GENERAL MANAGER-METROPOLITAN TRANSIT AUTHORITY\n",
       "BasePay                                                     167411\n",
       "OvertimePay                                                      0\n",
       "OtherPay                                                    400184\n",
       "Benefits                                                       NaN\n",
       "TotalPay                                                    567595\n",
       "TotalPayBenefits                                            567595\n",
       "Year                                                          2011\n",
       "Notes                                                          NaN\n",
       "Agency                                               San Francisco\n",
       "Status                                                         NaN\n",
       "Name: 0, dtype: object"
      ]
     },
     "execution_count": 205,
     "metadata": {},
     "output_type": "execute_result"
    }
   ],
   "source": [
    "sal.iloc[sal['TotalPayBenefits'].argmax()]"
   ]
  },
  {
   "cell_type": "code",
   "execution_count": 206,
   "metadata": {},
   "outputs": [
    {
     "data": {
      "text/plain": [
       "Id                                      148654\n",
       "EmployeeName                         Joe Lopez\n",
       "JobTitle            Counselor, Log Cabin Ranch\n",
       "BasePay                                   0.00\n",
       "OvertimePay                               0.00\n",
       "OtherPay                               -618.13\n",
       "Benefits                                  0.00\n",
       "TotalPay                               -618.13\n",
       "TotalPayBenefits                       -618.13\n",
       "Year                                      2014\n",
       "Notes                                      NaN\n",
       "Agency                           San Francisco\n",
       "Status                                      PT\n",
       "Name: 148653, dtype: object"
      ]
     },
     "execution_count": 206,
     "metadata": {},
     "output_type": "execute_result"
    }
   ],
   "source": [
    "sal.iloc[sal['TotalPayBenefits'].argmin()]"
   ]
  },
  {
   "cell_type": "code",
   "execution_count": 208,
   "metadata": {},
   "outputs": [
    {
     "data": {
      "text/html": [
       "<div>\n",
       "<style scoped>\n",
       "    .dataframe tbody tr th:only-of-type {\n",
       "        vertical-align: middle;\n",
       "    }\n",
       "\n",
       "    .dataframe tbody tr th {\n",
       "        vertical-align: top;\n",
       "    }\n",
       "\n",
       "    .dataframe thead th {\n",
       "        text-align: right;\n",
       "    }\n",
       "</style>\n",
       "<table border=\"1\" class=\"dataframe\">\n",
       "  <thead>\n",
       "    <tr style=\"text-align: right;\">\n",
       "      <th></th>\n",
       "      <th>Id</th>\n",
       "      <th>EmployeeName</th>\n",
       "      <th>JobTitle</th>\n",
       "      <th>BasePay</th>\n",
       "      <th>OvertimePay</th>\n",
       "      <th>OtherPay</th>\n",
       "      <th>Benefits</th>\n",
       "      <th>TotalPay</th>\n",
       "      <th>TotalPayBenefits</th>\n",
       "      <th>Year</th>\n",
       "      <th>Notes</th>\n",
       "      <th>Agency</th>\n",
       "      <th>Status</th>\n",
       "    </tr>\n",
       "  </thead>\n",
       "  <tbody>\n",
       "    <tr>\n",
       "      <th>148653</th>\n",
       "      <td>148654</td>\n",
       "      <td>Joe Lopez</td>\n",
       "      <td>Counselor, Log Cabin Ranch</td>\n",
       "      <td>0.00</td>\n",
       "      <td>0.00</td>\n",
       "      <td>-618.13</td>\n",
       "      <td>0.00</td>\n",
       "      <td>-618.13</td>\n",
       "      <td>-618.13</td>\n",
       "      <td>2014</td>\n",
       "      <td>NaN</td>\n",
       "      <td>San Francisco</td>\n",
       "      <td>PT</td>\n",
       "    </tr>\n",
       "  </tbody>\n",
       "</table>\n",
       "</div>"
      ],
      "text/plain": [
       "            Id EmployeeName                    JobTitle BasePay OvertimePay  \\\n",
       "148653  148654    Joe Lopez  Counselor, Log Cabin Ranch    0.00        0.00   \n",
       "\n",
       "       OtherPay Benefits  TotalPay  TotalPayBenefits  Year  Notes  \\\n",
       "148653  -618.13     0.00   -618.13           -618.13  2014    NaN   \n",
       "\n",
       "               Agency Status  \n",
       "148653  San Francisco     PT  "
      ]
     },
     "execution_count": 208,
     "metadata": {},
     "output_type": "execute_result"
    }
   ],
   "source": [
    "sal[sal['TotalPayBenefits'] == sal['TotalPayBenefits'].min()]"
   ]
  },
  {
   "cell_type": "code",
   "execution_count": 211,
   "metadata": {},
   "outputs": [
    {
     "data": {
      "text/html": [
       "<div>\n",
       "<style scoped>\n",
       "    .dataframe tbody tr th:only-of-type {\n",
       "        vertical-align: middle;\n",
       "    }\n",
       "\n",
       "    .dataframe tbody tr th {\n",
       "        vertical-align: top;\n",
       "    }\n",
       "\n",
       "    .dataframe thead th {\n",
       "        text-align: right;\n",
       "    }\n",
       "</style>\n",
       "<table border=\"1\" class=\"dataframe\">\n",
       "  <thead>\n",
       "    <tr style=\"text-align: right;\">\n",
       "      <th></th>\n",
       "      <th>Id</th>\n",
       "      <th>TotalPay</th>\n",
       "      <th>TotalPayBenefits</th>\n",
       "      <th>Notes</th>\n",
       "    </tr>\n",
       "    <tr>\n",
       "      <th>Year</th>\n",
       "      <th></th>\n",
       "      <th></th>\n",
       "      <th></th>\n",
       "      <th></th>\n",
       "    </tr>\n",
       "  </thead>\n",
       "  <tbody>\n",
       "    <tr>\n",
       "      <th>2011</th>\n",
       "      <td>18080.0</td>\n",
       "      <td>71744.103871</td>\n",
       "      <td>71744.103871</td>\n",
       "      <td>NaN</td>\n",
       "    </tr>\n",
       "    <tr>\n",
       "      <th>2012</th>\n",
       "      <td>54542.5</td>\n",
       "      <td>74113.262265</td>\n",
       "      <td>100553.229232</td>\n",
       "      <td>NaN</td>\n",
       "    </tr>\n",
       "    <tr>\n",
       "      <th>2013</th>\n",
       "      <td>91728.5</td>\n",
       "      <td>77611.443142</td>\n",
       "      <td>101440.519714</td>\n",
       "      <td>NaN</td>\n",
       "    </tr>\n",
       "    <tr>\n",
       "      <th>2014</th>\n",
       "      <td>129593.0</td>\n",
       "      <td>75463.918140</td>\n",
       "      <td>100250.918884</td>\n",
       "      <td>NaN</td>\n",
       "    </tr>\n",
       "  </tbody>\n",
       "</table>\n",
       "</div>"
      ],
      "text/plain": [
       "            Id      TotalPay  TotalPayBenefits  Notes\n",
       "Year                                                 \n",
       "2011   18080.0  71744.103871      71744.103871    NaN\n",
       "2012   54542.5  74113.262265     100553.229232    NaN\n",
       "2013   91728.5  77611.443142     101440.519714    NaN\n",
       "2014  129593.0  75463.918140     100250.918884    NaN"
      ]
     },
     "execution_count": 211,
     "metadata": {},
     "output_type": "execute_result"
    }
   ],
   "source": [
    "sal.groupby('Year').mean()"
   ]
  },
  {
   "cell_type": "code",
   "execution_count": 214,
   "metadata": {},
   "outputs": [
    {
     "data": {
      "text/plain": [
       "2159"
      ]
     },
     "execution_count": 214,
     "metadata": {},
     "output_type": "execute_result"
    }
   ],
   "source": [
    "sal['JobTitle'].nunique()"
   ]
  },
  {
   "cell_type": "code",
   "execution_count": 215,
   "metadata": {},
   "outputs": [
    {
     "data": {
      "text/plain": [
       "Transit Operator                7036\n",
       "Special Nurse                   4389\n",
       "Registered Nurse                3736\n",
       "Public Svc Aide-Public Works    2518\n",
       "Police Officer 3                2421\n",
       "Name: JobTitle, dtype: int64"
      ]
     },
     "execution_count": 215,
     "metadata": {},
     "output_type": "execute_result"
    }
   ],
   "source": [
    "sal['JobTitle'].value_counts().head()"
   ]
  },
  {
   "cell_type": "code",
   "execution_count": 218,
   "metadata": {},
   "outputs": [
    {
     "data": {
      "text/plain": [
       "202"
      ]
     },
     "execution_count": 218,
     "metadata": {},
     "output_type": "execute_result"
    }
   ],
   "source": [
    "sum(sal[sal['Year']==2013]['JobTitle'].value_counts() == 1)"
   ]
  },
  {
   "cell_type": "code",
   "execution_count": 225,
   "metadata": {},
   "outputs": [],
   "source": [
    "def chief_string(title):\n",
    "    if 'chief' in title.lower().split():\n",
    "        return True\n",
    "    else:\n",
    "        return False"
   ]
  },
  {
   "cell_type": "code",
   "execution_count": 242,
   "metadata": {},
   "outputs": [
    {
     "data": {
      "text/plain": [
       "477"
      ]
     },
     "execution_count": 242,
     "metadata": {},
     "output_type": "execute_result"
    }
   ],
   "source": [
    "sum(sal['JobTitle'].apply(lambda x: chief_string(x)))"
   ]
  },
  {
   "cell_type": "code",
   "execution_count": 243,
   "metadata": {},
   "outputs": [],
   "source": [
    "sal['title_len'] = sal['JobTitle'].apply(len)"
   ]
  },
  {
   "cell_type": "code",
   "execution_count": 244,
   "metadata": {},
   "outputs": [
    {
     "data": {
      "text/html": [
       "<div>\n",
       "<style scoped>\n",
       "    .dataframe tbody tr th:only-of-type {\n",
       "        vertical-align: middle;\n",
       "    }\n",
       "\n",
       "    .dataframe tbody tr th {\n",
       "        vertical-align: top;\n",
       "    }\n",
       "\n",
       "    .dataframe thead th {\n",
       "        text-align: right;\n",
       "    }\n",
       "</style>\n",
       "<table border=\"1\" class=\"dataframe\">\n",
       "  <thead>\n",
       "    <tr style=\"text-align: right;\">\n",
       "      <th></th>\n",
       "      <th>JobTitle</th>\n",
       "      <th>title_len</th>\n",
       "    </tr>\n",
       "  </thead>\n",
       "  <tbody>\n",
       "    <tr>\n",
       "      <th>0</th>\n",
       "      <td>GENERAL MANAGER-METROPOLITAN TRANSIT AUTHORITY</td>\n",
       "      <td>46</td>\n",
       "    </tr>\n",
       "    <tr>\n",
       "      <th>1</th>\n",
       "      <td>CAPTAIN III (POLICE DEPARTMENT)</td>\n",
       "      <td>31</td>\n",
       "    </tr>\n",
       "    <tr>\n",
       "      <th>2</th>\n",
       "      <td>CAPTAIN III (POLICE DEPARTMENT)</td>\n",
       "      <td>31</td>\n",
       "    </tr>\n",
       "    <tr>\n",
       "      <th>3</th>\n",
       "      <td>WIRE ROPE CABLE MAINTENANCE MECHANIC</td>\n",
       "      <td>36</td>\n",
       "    </tr>\n",
       "    <tr>\n",
       "      <th>4</th>\n",
       "      <td>DEPUTY CHIEF OF DEPARTMENT,(FIRE DEPARTMENT)</td>\n",
       "      <td>44</td>\n",
       "    </tr>\n",
       "    <tr>\n",
       "      <th>...</th>\n",
       "      <td>...</td>\n",
       "      <td>...</td>\n",
       "    </tr>\n",
       "    <tr>\n",
       "      <th>148649</th>\n",
       "      <td>Custodian</td>\n",
       "      <td>9</td>\n",
       "    </tr>\n",
       "    <tr>\n",
       "      <th>148650</th>\n",
       "      <td>Not provided</td>\n",
       "      <td>12</td>\n",
       "    </tr>\n",
       "    <tr>\n",
       "      <th>148651</th>\n",
       "      <td>Not provided</td>\n",
       "      <td>12</td>\n",
       "    </tr>\n",
       "    <tr>\n",
       "      <th>148652</th>\n",
       "      <td>Not provided</td>\n",
       "      <td>12</td>\n",
       "    </tr>\n",
       "    <tr>\n",
       "      <th>148653</th>\n",
       "      <td>Counselor, Log Cabin Ranch</td>\n",
       "      <td>26</td>\n",
       "    </tr>\n",
       "  </tbody>\n",
       "</table>\n",
       "<p>148654 rows × 2 columns</p>\n",
       "</div>"
      ],
      "text/plain": [
       "                                              JobTitle  title_len\n",
       "0       GENERAL MANAGER-METROPOLITAN TRANSIT AUTHORITY         46\n",
       "1                      CAPTAIN III (POLICE DEPARTMENT)         31\n",
       "2                      CAPTAIN III (POLICE DEPARTMENT)         31\n",
       "3                 WIRE ROPE CABLE MAINTENANCE MECHANIC         36\n",
       "4         DEPUTY CHIEF OF DEPARTMENT,(FIRE DEPARTMENT)         44\n",
       "...                                                ...        ...\n",
       "148649                                       Custodian          9\n",
       "148650                                    Not provided         12\n",
       "148651                                    Not provided         12\n",
       "148652                                    Not provided         12\n",
       "148653                      Counselor, Log Cabin Ranch         26\n",
       "\n",
       "[148654 rows x 2 columns]"
      ]
     },
     "execution_count": 244,
     "metadata": {},
     "output_type": "execute_result"
    }
   ],
   "source": [
    "sal[['JobTitle','title_len']]"
   ]
  },
  {
   "cell_type": "code",
   "execution_count": 245,
   "metadata": {},
   "outputs": [
    {
     "data": {
      "text/html": [
       "<div>\n",
       "<style scoped>\n",
       "    .dataframe tbody tr th:only-of-type {\n",
       "        vertical-align: middle;\n",
       "    }\n",
       "\n",
       "    .dataframe tbody tr th {\n",
       "        vertical-align: top;\n",
       "    }\n",
       "\n",
       "    .dataframe thead th {\n",
       "        text-align: right;\n",
       "    }\n",
       "</style>\n",
       "<table border=\"1\" class=\"dataframe\">\n",
       "  <thead>\n",
       "    <tr style=\"text-align: right;\">\n",
       "      <th></th>\n",
       "      <th>title_len</th>\n",
       "    </tr>\n",
       "  </thead>\n",
       "  <tbody>\n",
       "    <tr>\n",
       "      <th>title_len</th>\n",
       "      <td>1.0</td>\n",
       "    </tr>\n",
       "  </tbody>\n",
       "</table>\n",
       "</div>"
      ],
      "text/plain": [
       "           title_len\n",
       "title_len        1.0"
      ]
     },
     "execution_count": 245,
     "metadata": {},
     "output_type": "execute_result"
    }
   ],
   "source": [
    "sal[['JobTitle','title_len']].corr()"
   ]
  },
  {
   "cell_type": "code",
   "execution_count": 246,
   "metadata": {},
   "outputs": [
    {
     "data": {
      "text/html": [
       "<div>\n",
       "<style scoped>\n",
       "    .dataframe tbody tr th:only-of-type {\n",
       "        vertical-align: middle;\n",
       "    }\n",
       "\n",
       "    .dataframe tbody tr th {\n",
       "        vertical-align: top;\n",
       "    }\n",
       "\n",
       "    .dataframe thead th {\n",
       "        text-align: right;\n",
       "    }\n",
       "</style>\n",
       "<table border=\"1\" class=\"dataframe\">\n",
       "  <thead>\n",
       "    <tr style=\"text-align: right;\">\n",
       "      <th></th>\n",
       "      <th>TotalPayBenefits</th>\n",
       "      <th>title_len</th>\n",
       "    </tr>\n",
       "  </thead>\n",
       "  <tbody>\n",
       "    <tr>\n",
       "      <th>TotalPayBenefits</th>\n",
       "      <td>1.000000</td>\n",
       "      <td>-0.036878</td>\n",
       "    </tr>\n",
       "    <tr>\n",
       "      <th>title_len</th>\n",
       "      <td>-0.036878</td>\n",
       "      <td>1.000000</td>\n",
       "    </tr>\n",
       "  </tbody>\n",
       "</table>\n",
       "</div>"
      ],
      "text/plain": [
       "                  TotalPayBenefits  title_len\n",
       "TotalPayBenefits          1.000000  -0.036878\n",
       "title_len                -0.036878   1.000000"
      ]
     },
     "execution_count": 246,
     "metadata": {},
     "output_type": "execute_result"
    }
   ],
   "source": [
    "sal[['TotalPayBenefits','title_len']].corr()"
   ]
  },
  {
   "cell_type": "code",
   "execution_count": 247,
   "metadata": {},
   "outputs": [
    {
     "name": "stdout",
     "output_type": "stream",
     "text": [
      "Requirement already satisfied: matplotlib in /usr/local/lib/python3.9/site-packages (3.3.3)\n",
      "Requirement already satisfied: pillow>=6.2.0 in /usr/local/lib/python3.9/site-packages (from matplotlib) (8.0.1)\n",
      "Requirement already satisfied: pyparsing!=2.0.4,!=2.1.2,!=2.1.6,>=2.0.3 in /usr/local/lib/python3.9/site-packages (from matplotlib) (2.4.7)\n",
      "Requirement already satisfied: python-dateutil>=2.1 in /usr/local/lib/python3.9/site-packages (from matplotlib) (2.8.1)\n",
      "Requirement already satisfied: cycler>=0.10 in /usr/local/lib/python3.9/site-packages (from matplotlib) (0.10.0)\n",
      "Requirement already satisfied: kiwisolver>=1.0.1 in /usr/local/lib/python3.9/site-packages (from matplotlib) (1.3.1)\n",
      "Requirement already satisfied: numpy>=1.15 in /usr/local/lib/python3.9/site-packages (from matplotlib) (1.19.4)\n",
      "Requirement already satisfied: six in /usr/local/lib/python3.9/site-packages (from cycler>=0.10->matplotlib) (1.15.0)\n",
      "\u001b[33mWARNING: You are using pip version 20.3.3; however, version 21.0.1 is available.\n",
      "You should consider upgrading via the '/usr/local/opt/python@3.9/bin/python3.9 -m pip install --upgrade pip' command.\u001b[0m\n",
      "Note: you may need to restart the kernel to use updated packages.\n"
     ]
    }
   ],
   "source": [
    "pip install matplotlib"
   ]
  },
  {
   "cell_type": "code",
   "execution_count": 248,
   "metadata": {},
   "outputs": [],
   "source": [
    "import matplotlib.pyplot as plt"
   ]
  },
  {
   "cell_type": "code",
   "execution_count": 249,
   "metadata": {},
   "outputs": [],
   "source": [
    "%matplotlib inline"
   ]
  },
  {
   "cell_type": "code",
   "execution_count": 250,
   "metadata": {},
   "outputs": [],
   "source": [
    "x = np.linspace(0,5,11)\n",
    "y = x ** 2"
   ]
  },
  {
   "cell_type": "code",
   "execution_count": 253,
   "metadata": {},
   "outputs": [
    {
     "data": {
      "image/png": "[encoded data removed]",
      "text/plain": [
       "<Figure size 432x288 with 1 Axes>"
      ]
     },
     "metadata": {
      "needs_background": "light"
     },
     "output_type": "display_data"
    }
   ],
   "source": [
    "plt.plot(x,y)\n",
    "plt.show()"
   ]
  },
  {
   "cell_type": "code",
   "execution_count": 254,
   "metadata": {},
   "outputs": [
    {
     "data": {
      "text/plain": [
       "'string'"
      ]
     },
     "execution_count": 254,
     "metadata": {},
     "output_type": "execute_result"
    }
   ],
   "source": [
    "'string'"
   ]
  },
  {
   "cell_type": "code",
   "execution_count": 256,
   "metadata": {},
   "outputs": [
    {
     "data": {
      "text/plain": [
       "Text(0.5, 1.0, 'Title')"
      ]
     },
     "execution_count": 256,
     "metadata": {},
     "output_type": "execute_result"
    },
    {
     "data": {
      "image/png": "[encoded data removed]",
      "text/plain": [
       "<Figure size 432x288 with 1 Axes>"
      ]
     },
     "metadata": {
      "needs_background": "light"
     },
     "output_type": "display_data"
    }
   ],
   "source": [
    "plt.plot(x,y,'r-')\n",
    "plt.xlabel('X Label')\n",
    "plt.ylabel('Y Label')\n",
    "plt.title('Title')"
   ]
  },
  {
   "cell_type": "code",
   "execution_count": 259,
   "metadata": {},
   "outputs": [
    {
     "data": {
      "text/plain": [
       "[<matplotlib.lines.Line2D at 0x128031220>]"
      ]
     },
     "execution_count": 259,
     "metadata": {},
     "output_type": "execute_result"
    },
    {
     "data": {
      "image/png": "[encoded data removed]",
      "text/plain": [
       "<Figure size 432x288 with 2 Axes>"
      ]
     },
     "metadata": {
      "needs_background": "light"
     },
     "output_type": "display_data"
    }
   ],
   "source": [
    "plt.subplot(1,2,1)\n",
    "plt.plot(x,y,'r')\n",
    "\n",
    "plt.subplot(1,2,2)\n",
    "plt.plot(y,x,'b')"
   ]
  },
  {
   "cell_type": "code",
   "execution_count": 267,
   "metadata": {},
   "outputs": [
    {
     "data": {
      "text/plain": [
       "Text(0.5, 1.0, 'Set Title')"
      ]
     },
     "execution_count": 267,
     "metadata": {},
     "output_type": "execute_result"
    },
    {
     "data": {
      "image/png": "[encoded data removed]",
      "text/plain": [
       "<Figure size 432x288 with 1 Axes>"
      ]
     },
     "metadata": {
      "needs_background": "light"
     },
     "output_type": "display_data"
    }
   ],
   "source": [
    "fig = plt.figure()\n",
    "\n",
    "axes = fig.add_axes([0.1,0.1,0.8,0.8])\n",
    "\n",
    "axes.plot(x,y)\n",
    "axes.set_xlabel('X Label')\n",
    "axes.set_ylabel('Y Label')\n",
    "axes.set_title('Set Title')"
   ]
  },
  {
   "cell_type": "code",
   "execution_count": 274,
   "metadata": {},
   "outputs": [
    {
     "data": {
      "text/plain": [
       "Text(0.5, 1.0, 'SMALLER PLOT')"
      ]
     },
     "execution_count": 274,
     "metadata": {},
     "output_type": "execute_result"
    },
    {
     "data": {
      "image/png": "[encoded data removed]",
      "text/plain": [
       "<Figure size 432x288 with 2 Axes>"
      ]
     },
     "metadata": {
      "needs_background": "light"
     },
     "output_type": "display_data"
    }
   ],
   "source": [
    "fig = plt.figure()\n",
    "\n",
    "axes1 = fig.add_axes([0.1,0.1,0.8,0.8])\n",
    "axes2 = fig.add_axes([0.2,0.5,0.4,0.3])\n",
    "\n",
    "axes1.plot(x,y)\n",
    "axes1.set_title('LARGER PLOT')\n",
    "\n",
    "axes2.plot(y,x)\n",
    "axes2.set_title('SMALLER PLOT')"
   ]
  },
  {
   "cell_type": "code",
   "execution_count": 278,
   "metadata": {},
   "outputs": [
    {
     "data": {
      "text/plain": [
       "[<matplotlib.lines.Line2D at 0x1285177f0>]"
      ]
     },
     "execution_count": 278,
     "metadata": {},
     "output_type": "execute_result"
    },
    {
     "data": {
      "image/png": "[encoded data removed]",
      "text/plain": [
       "<Figure size 432x288 with 1 Axes>"
      ]
     },
     "metadata": {
      "needs_background": "light"
     },
     "output_type": "display_data"
    }
   ],
   "source": [
    "fig = plt.figure()\n",
    "axes1 = fig.add_axes([0.1,0.1,0.8,0.8])\n",
    "axes1.plot(x,y)"
   ]
  },
  {
   "cell_type": "code",
   "execution_count": 286,
   "metadata": {},
   "outputs": [
    {
     "data": {
      "image/png": "[encoded data removed]",
      "text/plain": [
       "<Figure size 432x288 with 9 Axes>"
      ]
     },
     "metadata": {
      "needs_background": "light"
     },
     "output_type": "display_data"
    }
   ],
   "source": [
    "fig,axes = plt.subplots(nrows=3,ncols=3)\n",
    "\n",
    "#axes.plot(x,y)\n",
    "plt.tight_layout()"
   ]
  },
  {
   "cell_type": "code",
   "execution_count": 289,
   "metadata": {},
   "outputs": [
    {
     "data": {
      "image/png": "[encoded data removed]",
      "text/plain": [
       "<Figure size 432x288 with 2 Axes>"
      ]
     },
     "metadata": {
      "needs_background": "light"
     },
     "output_type": "display_data"
    }
   ],
   "source": [
    "fig,axes = plt.subplots(nrows=1,ncols=2)\n",
    "\n",
    "#axes.plot(x,y)\n",
    "for currunt_ax in axes:\n",
    "    currunt_ax.axes.plot(x,y)"
   ]
  },
  {
   "cell_type": "code",
   "execution_count": 291,
   "metadata": {},
   "outputs": [
    {
     "data": {
      "image/png": "[encoded data removed]",
      "text/plain": [
       "<Figure size 432x288 with 2 Axes>"
      ]
     },
     "metadata": {
      "needs_background": "light"
     },
     "output_type": "display_data"
    }
   ],
   "source": [
    "fig,axes = plt.subplots(nrows=1,ncols=2)\n",
    "\n",
    "axes[0].plot(x,y)\n",
    "axes[0].set_title('First Plot')\n",
    "\n",
    "axes[1].plot(y,x)\n",
    "axes[1].set_title('Second Plot')\n",
    "\n",
    "plt.tight_layout()"
   ]
  },
  {
   "cell_type": "code",
   "execution_count": 297,
   "metadata": {},
   "outputs": [
    {
     "data": {
      "text/plain": [
       "[<matplotlib.lines.Line2D at 0x1287ebfd0>]"
      ]
     },
     "execution_count": 297,
     "metadata": {},
     "output_type": "execute_result"
    },
    {
     "data": {
      "image/png": "[encoded data removed]",
      "text/plain": [
       "<Figure size 800x200 with 1 Axes>"
      ]
     },
     "metadata": {
      "needs_background": "light"
     },
     "output_type": "display_data"
    }
   ],
   "source": [
    "fig = plt.figure(figsize=(8,2),dpi=100)\n",
    "\n",
    "ax = fig.add_axes([0,0,1,1])\n",
    "ax.plot(x,y)"
   ]
  },
  {
   "cell_type": "code",
   "execution_count": 304,
   "metadata": {},
   "outputs": [
    {
     "data": {
      "image/png": "[encoded data removed]",
      "text/plain": [
       "<Figure size 576x144 with 2 Axes>"
      ]
     },
     "metadata": {
      "needs_background": "light"
     },
     "output_type": "display_data"
    }
   ],
   "source": [
    "fig,axes = plt.subplots(nrows=2,ncols=1,figsize=(8,2))\n",
    "\n",
    "axes[0].plot(x,y)\n",
    "axes[1].plot(y,x)\n",
    "\n",
    "plt.tight_layout()"
   ]
  },
  {
   "cell_type": "code",
   "execution_count": 308,
   "metadata": {},
   "outputs": [],
   "source": [
    "fig.savefig('my_picture.png',dpi=100)\n",
    "fig.savefig('my_picture.jpeg',dpi=200) #high resolution"
   ]
  },
  {
   "cell_type": "code",
   "execution_count": 310,
   "metadata": {},
   "outputs": [
    {
     "data": {
      "text/plain": [
       "Text(0.5, 0, 'X')"
      ]
     },
     "execution_count": 310,
     "metadata": {},
     "output_type": "execute_result"
    },
    {
     "data": {
      "image/png": "[encoded data removed]",
      "text/plain": [
       "<Figure size 432x288 with 1 Axes>"
      ]
     },
     "metadata": {
      "needs_background": "light"
     },
     "output_type": "display_data"
    }
   ],
   "source": [
    "fig = plt.figure()\n",
    "\n",
    "ax = fig.add_axes([0,0,1,1])\n",
    "ax.plot(x,y)\n",
    "\n",
    "ax.set_title('Title')\n",
    "ax.set_ylabel('Y')\n",
    "ax.set_xlabel('X')"
   ]
  },
  {
   "cell_type": "code",
   "execution_count": 316,
   "metadata": {},
   "outputs": [
    {
     "data": {
      "text/plain": [
       "<matplotlib.legend.Legend at 0x128ae84c0>"
      ]
     },
     "execution_count": 316,
     "metadata": {},
     "output_type": "execute_result"
    },
    {
     "data": {
      "image/png": "[encoded data removed]",
      "text/plain": [
       "<Figure size 432x288 with 1 Axes>"
      ]
     },
     "metadata": {
      "needs_background": "light"
     },
     "output_type": "display_data"
    }
   ],
   "source": [
    "fig = plt.figure()\n",
    "\n",
    "ax = fig.add_axes([0,0,1,1])\n",
    "ax.plot(x,x**2,label='X Squared')\n",
    "ax.plot(x,x**3,label='X Cubed')\n",
    "\n",
    "ax.legend(loc=0) #loc code 0 best"
   ]
  },
  {
   "cell_type": "code",
   "execution_count": 317,
   "metadata": {},
   "outputs": [
    {
     "data": {
      "text/plain": [
       "[<matplotlib.lines.Line2D at 0x128e1dc10>]"
      ]
     },
     "execution_count": 317,
     "metadata": {},
     "output_type": "execute_result"
    },
    {
     "data": {
      "image/png": "[encoded data removed]",
      "text/plain": [
       "<Figure size 432x288 with 1 Axes>"
      ]
     },
     "metadata": {
      "needs_background": "light"
     },
     "output_type": "display_data"
    }
   ],
   "source": [
    "fig = plt.figure()\n",
    "\n",
    "ax = fig.add_axes([0,0,1,1])\n",
    "ax.plot(x,y,color='green')\n"
   ]
  },
  {
   "cell_type": "code",
   "execution_count": 334,
   "metadata": {},
   "outputs": [
    {
     "data": {
      "image/png": "[encoded data removed]",
      "text/plain": [
       "<Figure size 432x288 with 1 Axes>"
      ]
     },
     "metadata": {
      "needs_background": "light"
     },
     "output_type": "display_data"
    }
   ],
   "source": [
    "fig = plt.figure()\n",
    "ax1 = fig.add_axes([0,0,1,1])\n",
    "ax1.plot(x,y,color='#FF8C00',lw=10, alpha=0.5, linestyle='--', marker='o',markersize=30,markerfacecolor='blue',markeredgewidth=3,markeredgecolor='red') #steps -. : -- -\n",
    "plt.show()"
   ]
  },
  {
   "cell_type": "code",
   "execution_count": 339,
   "metadata": {},
   "outputs": [
    {
     "data": {
      "text/plain": [
       "(0.0, 2.0)"
      ]
     },
     "execution_count": 339,
     "metadata": {},
     "output_type": "execute_result"
    },
    {
     "data": {
      "image/png": "[encoded data removed]",
      "text/plain": [
       "<Figure size 432x288 with 1 Axes>"
      ]
     },
     "metadata": {
      "needs_background": "light"
     },
     "output_type": "display_data"
    }
   ],
   "source": [
    "fig = plt.figure()\n",
    "ax = fig.add_axes([0,0,1,1])\n",
    "ax.plot(x,y,color='#FF8C00',lw=2, ls='--')\n",
    "ax.set_xlim([0,1])\n",
    "ax.set_ylim([0,2])"
   ]
  },
  {
   "cell_type": "code",
   "execution_count": null,
   "metadata": {},
   "outputs": [],
   "source": [
    "pip"
   ]
  }
 ],
 "metadata": {
  "kernelspec": {
   "display_name": "Python 3",
   "language": "python",
   "name": "python3"
  },
  "language_info": {
   "codemirror_mode": {
    "name": "ipython",
    "version": 3
   },
   "file_extension": ".py",
   "mimetype": "text/x-python",
   "name": "python",
   "nbconvert_exporter": "python",
   "pygments_lexer": "ipython3",
   "version": "3.9.1"
  }
 },
 "nbformat": 4,
 "nbformat_minor": 4
}
