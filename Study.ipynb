{
 "cells": [
  {
   "cell_type": "code",
   "execution_count": 1,
   "metadata": {},
   "outputs": [
    {
     "name": "stdout",
     "output_type": "stream",
     "text": [
      "Hello World\n"
     ]
    }
   ],
   "source": [
    "print(\"Hello World\")"
   ]
  },
  {
   "cell_type": "markdown",
   "metadata": {},
   "source": [
    "# Başlık1\n",
    "## Başlık2\n",
    "### Başlık3\n",
    "deneme"
   ]
  },
  {
   "cell_type": "code",
   "execution_count": 8,
   "metadata": {},
   "outputs": [],
   "source": [
    "import pandas as pd"
   ]
  },
  {
   "cell_type": "code",
   "execution_count": 9,
   "metadata": {},
   "outputs": [],
   "source": [
    "import numpy as np"
   ]
  },
  {
   "cell_type": "code",
   "execution_count": 13,
   "metadata": {},
   "outputs": [],
   "source": [
    "import time"
   ]
  },
  {
   "cell_type": "code",
   "execution_count": 26,
   "metadata": {},
   "outputs": [
    {
     "data": {
      "text/plain": [
       "array([1, 2, 3, 4, 5, 6])"
      ]
     },
     "execution_count": 26,
     "metadata": {},
     "output_type": "execute_result"
    }
   ],
   "source": [
    "k = np.array([1,2,3,4,5,6])\n",
    "k"
   ]
  },
  {
   "cell_type": "code",
   "execution_count": 22,
   "metadata": {},
   "outputs": [
    {
     "name": "stdout",
     "output_type": "stream",
     "text": [
      "155241.73747841106\n"
     ]
    }
   ],
   "source": [
    "start_time = time.time()\n",
    "A= np.array(50000000)\n",
    "A ** 2\n",
    "time1 = time.time() - start_time\n",
    "start_time2 = time.time()\n",
    "L = range(50000000)\n",
    "[i ** 2 for i in L]\n",
    "time2 = time.time() - start_time2\n",
    "\n",
    "print(time2/time1)"
   ]
  },
  {
   "cell_type": "code",
   "execution_count": 27,
   "metadata": {},
   "outputs": [
    {
     "name": "stdout",
     "output_type": "stream",
     "text": [
      "[4 5 6 7]\n"
     ]
    }
   ],
   "source": [
    "x = np.array([4,5,6,7])\n",
    "print(x)"
   ]
  },
  {
   "cell_type": "code",
   "execution_count": 28,
   "metadata": {},
   "outputs": [
    {
     "name": "stdout",
     "output_type": "stream",
     "text": [
      "<class 'numpy.ndarray'>\n",
      "(4,)\n",
      "4\n",
      "1\n",
      "32\n",
      "int64\n"
     ]
    }
   ],
   "source": [
    "print(type(x))\n",
    "print(x.shape)\n",
    "print(x.size)\n",
    "print(x.ndim)\n",
    "print(x.nbytes)\n",
    "print(x.dtype)"
   ]
  },
  {
   "cell_type": "code",
   "execution_count": 31,
   "metadata": {},
   "outputs": [
    {
     "name": "stdout",
     "output_type": "stream",
     "text": [
      "[[1 2 3]\n",
      " [4 5 6]]\n",
      "<class 'numpy.ndarray'>\n",
      "(2, 3)\n",
      "6\n",
      "2\n",
      "48\n",
      "int64\n"
     ]
    }
   ],
   "source": [
    "t = np.array([[1,2,3],[4,5,6]])\n",
    "y = t\n",
    "print(y)\n",
    "print(type(y))\n",
    "print(y.shape)\n",
    "print(y.size)\n",
    "print(y.ndim)\n",
    "print(y.nbytes)\n",
    "print(y.dtype)"
   ]
  },
  {
   "cell_type": "code",
   "execution_count": 32,
   "metadata": {},
   "outputs": [
    {
     "name": "stdout",
     "output_type": "stream",
     "text": [
      "[[[1 2 3]\n",
      "  [4 5 6]]\n",
      "\n",
      " [[1 2 3]\n",
      "  [4 5 6]]]\n",
      "<class 'numpy.ndarray'>\n",
      "(2, 2, 3)\n",
      "12\n",
      "3\n",
      "96\n",
      "int64\n"
     ]
    }
   ],
   "source": [
    "z = np.array([[[1,2,3],[4,5,6]],[[1,2,3],[4,5,6]]])\n",
    "y = z\n",
    "print(y)\n",
    "print(type(y))\n",
    "print(y.shape)\n",
    "print(y.size)\n",
    "print(y.ndim)\n",
    "print(y.nbytes)\n",
    "print(y.dtype)"
   ]
  },
  {
   "cell_type": "code",
   "execution_count": 36,
   "metadata": {},
   "outputs": [
    {
     "name": "stdout",
     "output_type": "stream",
     "text": [
      "<U21\n"
     ]
    }
   ],
   "source": [
    "x = np.array([1,\"2\",3])\n",
    "print(x.dtype)"
   ]
  },
  {
   "cell_type": "code",
   "execution_count": 39,
   "metadata": {},
   "outputs": [
    {
     "name": "stdout",
     "output_type": "stream",
     "text": [
      "complex128\n",
      "[1.+0.j 2.+0.j 3.+0.j]\n"
     ]
    }
   ],
   "source": [
    "x = np.array([1,2.0,3], dtype=np.complex)\n",
    "print(x.dtype)\n",
    "print(x)"
   ]
  },
  {
   "cell_type": "code",
   "execution_count": 41,
   "metadata": {},
   "outputs": [
    {
     "name": "stdout",
     "output_type": "stream",
     "text": [
      "[1 2 3]\n",
      "int64\n"
     ]
    }
   ],
   "source": [
    "x = np.array([1.2,2.7,3.8], dtype=np.int)\n",
    "print(x)\n",
    "print(x.dtype)"
   ]
  },
  {
   "cell_type": "code",
   "execution_count": 44,
   "metadata": {},
   "outputs": [
    {
     "name": "stdout",
     "output_type": "stream",
     "text": [
      "[1. 2. 3.]\n",
      "float64\n"
     ]
    }
   ],
   "source": [
    "x = np.array(x, dtype=float)\n",
    "print(x)\n",
    "print(x.dtype)"
   ]
  },
  {
   "cell_type": "code",
   "execution_count": 46,
   "metadata": {},
   "outputs": [
    {
     "name": "stdout",
     "output_type": "stream",
     "text": [
      "[1 2 3]\n"
     ]
    }
   ],
   "source": [
    "x = x.astype(np.int)\n",
    "print(x)"
   ]
  },
  {
   "cell_type": "code",
   "execution_count": 48,
   "metadata": {},
   "outputs": [
    {
     "name": "stdout",
     "output_type": "stream",
     "text": [
      "[6.2 4.8 7.9]\n",
      "float64\n"
     ]
    }
   ],
   "source": [
    "x1 = np.array([1,2,3],dtype=np.int)\n",
    "x2 = np.array([5.2,2.8,4.9],dtype=np.float)\n",
    "\n",
    "print(x1+x2)\n",
    "print((x1+x2).dtype)"
   ]
  },
  {
   "cell_type": "code",
   "execution_count": 55,
   "metadata": {},
   "outputs": [
    {
     "name": "stdout",
     "output_type": "stream",
     "text": [
      "[0.+1.j 3.+0.j 2.+0.j]\n",
      "complex128\n",
      "<class 'numpy.ndarray'>\n",
      "[0. 3. 2.]\n",
      "[1. 0. 0.]\n",
      "float64\n",
      "float64\n"
     ]
    }
   ],
   "source": [
    "x = np.sqrt(np.array([-1,9,4], dtype=np.complex))\n",
    "print(x)\n",
    "print(x.dtype)\n",
    "print(type(x))\n",
    "print(x.real)\n",
    "print(x.imag)\n",
    "print(x.real.dtype)\n",
    "print(x.imag.dtype)"
   ]
  },
  {
   "cell_type": "code",
   "execution_count": 56,
   "metadata": {},
   "outputs": [],
   "source": [
    "np.save('ndarray_1',x)"
   ]
  },
  {
   "cell_type": "code",
   "execution_count": 58,
   "metadata": {},
   "outputs": [
    {
     "name": "stdout",
     "output_type": "stream",
     "text": [
      "[0.+1.j 3.+0.j 2.+0.j]\n",
      "(3,)\n"
     ]
    }
   ],
   "source": [
    "y = np.load('ndarray_1.npy')\n",
    "print(y)\n",
    "print(y.shape)"
   ]
  },
  {
   "cell_type": "code",
   "execution_count": 59,
   "metadata": {},
   "outputs": [
    {
     "name": "stdout",
     "output_type": "stream",
     "text": [
      "[0. 0. 0. 0.]\n",
      "float64\n",
      "[1. 1. 1. 1.]\n",
      "float64\n"
     ]
    }
   ],
   "source": [
    "x1 = np.zeros(4)\n",
    "print(x1)\n",
    "print(x1.dtype)\n",
    "x2 = np.ones(4)\n",
    "print(x2)\n",
    "print(x2.dtype)"
   ]
  },
  {
   "cell_type": "code",
   "execution_count": 64,
   "metadata": {},
   "outputs": [
    {
     "name": "stdout",
     "output_type": "stream",
     "text": [
      "[[[0 0 0 0]\n",
      "  [0 0 0 0]\n",
      "  [0 0 0 0]]\n",
      "\n",
      " [[0 0 0 0]\n",
      "  [0 0 0 0]\n",
      "  [0 0 0 0]]]\n",
      "int64\n"
     ]
    }
   ],
   "source": [
    "x1 = np.zeros((2,3,4), dtype=np.int)\n",
    "print(x1)\n",
    "print(x1.dtype)"
   ]
  },
  {
   "cell_type": "code",
   "execution_count": 65,
   "metadata": {},
   "outputs": [
    {
     "name": "stdout",
     "output_type": "stream",
     "text": [
      "[[10 10 10]\n",
      " [10 10 10]]\n"
     ]
    }
   ],
   "source": [
    "x = np.full((2,3),10)\n",
    "print(x)"
   ]
  },
  {
   "cell_type": "code",
   "execution_count": 66,
   "metadata": {},
   "outputs": [
    {
     "name": "stdout",
     "output_type": "stream",
     "text": [
      "[[0. 0.]\n",
      " [0. 0.]]\n"
     ]
    }
   ],
   "source": [
    "x = np.empty((2,2))\n",
    "print(x)"
   ]
  },
  {
   "cell_type": "code",
   "execution_count": 67,
   "metadata": {},
   "outputs": [
    {
     "name": "stdout",
     "output_type": "stream",
     "text": [
      "[[3. 3.]\n",
      " [3. 3.]]\n"
     ]
    }
   ],
   "source": [
    "x.fill(3)\n",
    "print(x)"
   ]
  },
  {
   "cell_type": "code",
   "execution_count": 70,
   "metadata": {},
   "outputs": [
    {
     "name": "stdout",
     "output_type": "stream",
     "text": [
      "[[1. 0. 0. 0.]\n",
      " [0. 1. 0. 0.]\n",
      " [0. 0. 1. 0.]\n",
      " [0. 0. 0. 1.]]\n"
     ]
    }
   ],
   "source": [
    "x = np.eye(4)\n",
    "print(x)"
   ]
  },
  {
   "cell_type": "code",
   "execution_count": 71,
   "metadata": {},
   "outputs": [
    {
     "name": "stdout",
     "output_type": "stream",
     "text": [
      "[[1. 0. 0. 0.]\n",
      " [0. 1. 0. 0.]\n",
      " [0. 0. 1. 0.]\n",
      " [0. 0. 0. 1.]\n",
      " [0. 0. 0. 0.]]\n"
     ]
    }
   ],
   "source": [
    "y = np.eye(5,4)\n",
    "print(y)"
   ]
  },
  {
   "cell_type": "code",
   "execution_count": 73,
   "metadata": {},
   "outputs": [
    {
     "name": "stdout",
     "output_type": "stream",
     "text": [
      "[[1. 0. 0. 0. 0. 0.]\n",
      " [0. 1. 0. 0. 0. 0.]\n",
      " [0. 0. 1. 0. 0. 0.]\n",
      " [0. 0. 0. 1. 0. 0.]\n",
      " [0. 0. 0. 0. 1. 0.]\n",
      " [0. 0. 0. 0. 0. 1.]]\n",
      "[[0. 0. 0. 1. 0. 0.]\n",
      " [0. 0. 0. 0. 1. 0.]\n",
      " [0. 0. 0. 0. 0. 1.]\n",
      " [0. 0. 0. 0. 0. 0.]\n",
      " [0. 0. 0. 0. 0. 0.]\n",
      " [0. 0. 0. 0. 0. 0.]]\n"
     ]
    }
   ],
   "source": [
    "x = np.eye(6)\n",
    "print(x)\n",
    "y = np.eye(6,k=3)\n",
    "print(y)"
   ]
  },
  {
   "cell_type": "code",
   "execution_count": 75,
   "metadata": {},
   "outputs": [
    {
     "name": "stdout",
     "output_type": "stream",
     "text": [
      "[[1. 0. 0. 0. 0.]\n",
      " [0. 1. 0. 0. 0.]\n",
      " [0. 0. 1. 0. 0.]\n",
      " [0. 0. 0. 1. 0.]\n",
      " [0. 0. 0. 0. 1.]]\n"
     ]
    }
   ],
   "source": [
    "x = np.identity(5)\n",
    "print(x)"
   ]
  },
  {
   "cell_type": "code",
   "execution_count": 77,
   "metadata": {},
   "outputs": [
    {
     "name": "stdout",
     "output_type": "stream",
     "text": [
      "[[ 3  0  0  0]\n",
      " [ 0  4  0  0]\n",
      " [ 0  0  7  0]\n",
      " [ 0  0  0 11]]\n"
     ]
    }
   ],
   "source": [
    "x = np.diag([3,4,7,11])\n",
    "print(x)"
   ]
  },
  {
   "cell_type": "code",
   "execution_count": 78,
   "metadata": {},
   "outputs": [
    {
     "name": "stdout",
     "output_type": "stream",
     "text": [
      "[0 1 2 3 4 5 6 7 8 9]\n"
     ]
    }
   ],
   "source": [
    "x = np.arange(10)\n",
    "print(x)"
   ]
  },
  {
   "cell_type": "code",
   "execution_count": 79,
   "metadata": {},
   "outputs": [
    {
     "name": "stdout",
     "output_type": "stream",
     "text": [
      "[10 11 12 13 14 15 16 17 18 19]\n"
     ]
    }
   ],
   "source": [
    "x = np.arange(10,20)\n",
    "print(x)"
   ]
  },
  {
   "cell_type": "code",
   "execution_count": 80,
   "metadata": {},
   "outputs": [
    {
     "name": "stdout",
     "output_type": "stream",
     "text": [
      "[10 12 14 16 18]\n"
     ]
    }
   ],
   "source": [
    "x = np.arange(10,20,2)\n",
    "print(x)"
   ]
  },
  {
   "cell_type": "code",
   "execution_count": 82,
   "metadata": {},
   "outputs": [
    {
     "data": {
      "text/plain": [
       "array([ 0.        ,  1.66666667,  3.33333333,  5.        ,  6.66666667,\n",
       "        8.33333333, 10.        , 11.66666667, 13.33333333, 15.        ])"
      ]
     },
     "execution_count": 82,
     "metadata": {},
     "output_type": "execute_result"
    }
   ],
   "source": [
    "x = np.linspace(0,15,10)\n",
    "x"
   ]
  },
  {
   "cell_type": "code",
   "execution_count": 89,
   "metadata": {},
   "outputs": [
    {
     "data": {
      "text/plain": [
       "array([ 0. ,  0.5,  1. ,  1.5,  2. ,  2.5,  3. ,  3.5,  4. ,  4.5,  5. ,\n",
       "        5.5,  6. ,  6.5,  7. ,  7.5,  8. ,  8.5,  9. ,  9.5, 10. , 10.5,\n",
       "       11. , 11.5, 12. , 12.5, 13. , 13.5, 14. , 14.5, 15. , 15.5, 16. ,\n",
       "       16.5, 17. , 17.5, 18. , 18.5, 19. , 19.5, 20. , 20.5, 21. , 21.5,\n",
       "       22. , 22.5, 23. , 23.5, 24. , 24.5])"
      ]
     },
     "execution_count": 89,
     "metadata": {},
     "output_type": "execute_result"
    }
   ],
   "source": [
    "x = np.linspace(0,25, endpoint=False)\n",
    "x"
   ]
  },
  {
   "cell_type": "code",
   "execution_count": 90,
   "metadata": {},
   "outputs": [
    {
     "name": "stdout",
     "output_type": "stream",
     "text": [
      "[ 0  1  2  3  4  5  6  7  8  9 10 11 12 13 14 15 16 17 18 19]\n",
      "[[ 0  1  2  3  4]\n",
      " [ 5  6  7  8  9]\n",
      " [10 11 12 13 14]\n",
      " [15 16 17 18 19]]\n"
     ]
    }
   ],
   "source": [
    "x = np.arange(20)\n",
    "print(x)\n",
    "\n",
    "x = np.reshape(x, (4,5))\n",
    "print(x)"
   ]
  },
  {
   "cell_type": "code",
   "execution_count": 96,
   "metadata": {},
   "outputs": [
    {
     "name": "stdout",
     "output_type": "stream",
     "text": [
      "[ 0.  1.  2.  3.  4.  5.  6.  7.  8.  9. 10. 11. 12. 13. 14. 15. 16. 17.\n",
      " 18. 19.]\n",
      "[[ 0.  1.  2.  3.  4.  5.  6.  7.  8.  9.]\n",
      " [10. 11. 12. 13. 14. 15. 16. 17. 18. 19.]]\n",
      "20\n",
      "20\n"
     ]
    }
   ],
   "source": [
    "x = np.linspace(0,19,20)\n",
    "print(x)\n",
    "\n",
    "y = np.reshape(x, (2,10))\n",
    "print(y)\n",
    "print(x.size)\n",
    "print(y.size)"
   ]
  },
  {
   "cell_type": "code",
   "execution_count": 98,
   "metadata": {},
   "outputs": [
    {
     "name": "stdout",
     "output_type": "stream",
     "text": [
      "[[ 0.  1.  2.  3.  4.  5.  6.  7.  8.  9.]\n",
      " [10. 11. 12. 13. 14. 15. 16. 17. 18. 19.]]\n"
     ]
    }
   ],
   "source": [
    "z = np.linspace(0,19,20).reshape(2,10)\n",
    "print(z)\n"
   ]
  },
  {
   "cell_type": "code",
   "execution_count": 104,
   "metadata": {},
   "outputs": [
    {
     "data": {
      "text/plain": [
       "array([[0.64909577, 0.47861897, 0.89611385],\n",
       "       [0.10076378, 0.2640292 , 0.58770533]])"
      ]
     },
     "execution_count": 104,
     "metadata": {},
     "output_type": "execute_result"
    }
   ],
   "source": [
    "x = np.random.random((2,3))\n",
    "x"
   ]
  },
  {
   "cell_type": "code",
   "execution_count": 110,
   "metadata": {},
   "outputs": [
    {
     "data": {
      "text/plain": [
       "array([[ 7,  5],\n",
       "       [10, 10],\n",
       "       [ 5,  4]])"
      ]
     },
     "execution_count": 110,
     "metadata": {},
     "output_type": "execute_result"
    }
   ],
   "source": [
    "x = np.random.randint(3,12, size=(3,2))\n",
    "x"
   ]
  },
  {
   "cell_type": "code",
   "execution_count": 113,
   "metadata": {},
   "outputs": [
    {
     "name": "stdout",
     "output_type": "stream",
     "text": [
      "[0 1 2 3 4]\n",
      "2\n",
      "2\n"
     ]
    }
   ],
   "source": [
    "x = np.arange(5)\n",
    "print(x)\n",
    "print(x[2])\n",
    "print(x[-3])"
   ]
  },
  {
   "cell_type": "code",
   "execution_count": 115,
   "metadata": {},
   "outputs": [
    {
     "data": {
      "text/plain": [
       "array([  0,   1, 200,   3,   4])"
      ]
     },
     "execution_count": 115,
     "metadata": {},
     "output_type": "execute_result"
    }
   ],
   "source": [
    "x[2] = 200\n",
    "x"
   ]
  },
  {
   "cell_type": "code",
   "execution_count": 116,
   "metadata": {},
   "outputs": [
    {
     "data": {
      "text/plain": [
       "array([[ 0,  1,  2,  3],\n",
       "       [ 4,  5,  6,  7],\n",
       "       [ 8,  9, 10, 11]])"
      ]
     },
     "execution_count": 116,
     "metadata": {},
     "output_type": "execute_result"
    }
   ],
   "source": [
    "x = np.arange(12).reshape(3,4)\n",
    "x"
   ]
  },
  {
   "cell_type": "code",
   "execution_count": 122,
   "metadata": {},
   "outputs": [
    {
     "data": {
      "text/plain": [
       "array([[  0,   1,   2, 300],\n",
       "       [  4,   5,   6,   7],\n",
       "       [  8,   9, 600, 600]])"
      ]
     },
     "execution_count": 122,
     "metadata": {},
     "output_type": "execute_result"
    }
   ],
   "source": [
    "x[0,1]\n",
    "x[0,3],x[2,2] = 300,600\n",
    "x"
   ]
  },
  {
   "cell_type": "code",
   "execution_count": 124,
   "metadata": {},
   "outputs": [
    {
     "name": "stdout",
     "output_type": "stream",
     "text": [
      "[0 1 2 3 4 5]\n",
      "[0 1 2 3 4 5]\n",
      "[1 2 4 5]\n"
     ]
    }
   ],
   "source": [
    "x = np.arange(6)\n",
    "print(x)\n",
    "y = np.delete(x, [0,3])\n",
    "print(x)\n",
    "print(y)"
   ]
  },
  {
   "cell_type": "markdown",
   "metadata": {},
   "source": [
    "# axis = 0 -> row (satır), axis = 1 -> column (sütun)"
   ]
  },
  {
   "cell_type": "code",
   "execution_count": 128,
   "metadata": {},
   "outputs": [
    {
     "name": "stdout",
     "output_type": "stream",
     "text": [
      "[[ 0  1  2  3]\n",
      " [ 4  5  6  7]\n",
      " [ 8  9 10 11]\n",
      " [12 13 14 15]]\n",
      "[[ 0  1  2  3]\n",
      " [ 8  9 10 11]\n",
      " [12 13 14 15]]\n",
      "[[ 0  2  3]\n",
      " [ 8 10 11]\n",
      " [12 14 15]]\n"
     ]
    }
   ],
   "source": [
    "x = np.arange(16).reshape(4,4)\n",
    "print(x)\n",
    "x = np.delete(x,1,axis=0)\n",
    "print(x)\n",
    "x = np.delete(x,1,axis=1)\n",
    "print(x)"
   ]
  },
  {
   "cell_type": "code",
   "execution_count": 129,
   "metadata": {},
   "outputs": [
    {
     "name": "stdout",
     "output_type": "stream",
     "text": [
      "[[ 0  1  2  3]\n",
      " [ 4  5  6  7]\n",
      " [ 8  9 10 11]\n",
      " [12 13 14 15]]\n",
      "[[ 1  3]\n",
      " [ 5  7]\n",
      " [ 9 11]\n",
      " [13 15]]\n"
     ]
    }
   ],
   "source": [
    "x = np.arange(16).reshape(4,4)\n",
    "print(x)\n",
    "x = np.delete(x, [0,2], axis=1)\n",
    "print(x)"
   ]
  },
  {
   "cell_type": "code",
   "execution_count": 132,
   "metadata": {},
   "outputs": [
    {
     "name": "stdout",
     "output_type": "stream",
     "text": [
      "[0 1 2 3 4]\n",
      "[  0   1   2   3   4 100]\n",
      "[  0   1   2   3   4 100 200 300]\n"
     ]
    }
   ],
   "source": [
    "x = np.arange(5)\n",
    "print(x)\n",
    "x = np.append(x,100)\n",
    "print(x)\n",
    "x = np.append(x,[200,300])\n",
    "print(x)"
   ]
  },
  {
   "cell_type": "code",
   "execution_count": 136,
   "metadata": {},
   "outputs": [
    {
     "name": "stdout",
     "output_type": "stream",
     "text": [
      "[[0 1 2]\n",
      " [3 4 5]\n",
      " [6 7 8]]\n",
      "[[  0   1   2]\n",
      " [  3   4   5]\n",
      " [  6   7   8]\n",
      " [100 200 300]]\n"
     ]
    }
   ],
   "source": [
    "x = np.arange(9).reshape(3,3)\n",
    "print(x)\n",
    "x = np.append(x,[[100,200,300]], axis = 0)\n",
    "print(x)"
   ]
  },
  {
   "cell_type": "code",
   "execution_count": 140,
   "metadata": {},
   "outputs": [
    {
     "name": "stdout",
     "output_type": "stream",
     "text": [
      "[[  0   1   2  10]\n",
      " [  3   4   5  20]\n",
      " [  6   7   8  30]\n",
      " [100 200 300  40]]\n"
     ]
    }
   ],
   "source": [
    "x = np.append(x,[[10],[20],[30],[40]], axis = 1)\n",
    "print(x)"
   ]
  },
  {
   "cell_type": "code",
   "execution_count": 143,
   "metadata": {},
   "outputs": [
    {
     "name": "stdout",
     "output_type": "stream",
     "text": [
      "[0 1 2 3 4]\n",
      "[10  0  1  2  3  4]\n"
     ]
    }
   ],
   "source": [
    "#np.insert ---> np.insert(ndarray, index, element, axis)\n",
    "x = np.arange(5)\n",
    "print(x)\n",
    "x= np.insert(x,0,10)\n",
    "print(x)"
   ]
  },
  {
   "cell_type": "code",
   "execution_count": 144,
   "metadata": {},
   "outputs": [
    {
     "name": "stdout",
     "output_type": "stream",
     "text": [
      "[ 10   0 300 400   1   2   3   4]\n"
     ]
    }
   ],
   "source": [
    "x= np.insert(x,2,[300,400])\n",
    "print(x)"
   ]
  },
  {
   "cell_type": "code",
   "execution_count": 152,
   "metadata": {},
   "outputs": [
    {
     "name": "stdout",
     "output_type": "stream",
     "text": [
      "[[0 1 2]\n",
      " [3 4 5]\n",
      " [6 7 8]]\n",
      "[[  0   1   2]\n",
      " [100 200 300]\n",
      " [  3   4   5]\n",
      " [  6   7   8]]\n",
      "[[100   0   1   2]\n",
      " [200   3   4   5]\n",
      " [300   6   7   8]]\n",
      "[[100   0   1   2]\n",
      " [100   3   4   5]\n",
      " [100   6   7   8]]\n",
      "[[100 200   0   1   2]\n",
      " [100 200   3   4   5]\n",
      " [100 200   6   7   8]]\n"
     ]
    }
   ],
   "source": [
    "x = np.arange(9).reshape(3,3)\n",
    "print(x)\n",
    "y = np.insert(x,1,[100,200,300], axis=0)\n",
    "print(y)\n",
    "y = np.insert(x,0,[100,200,300], axis=1)\n",
    "print(y)\n",
    "y = np.insert(x,0,[100], axis=1)\n",
    "print(y)\n",
    "y = np.insert(x,0,[[100],[200]], axis=1)\n",
    "print(y)"
   ]
  },
  {
   "cell_type": "code",
   "execution_count": 158,
   "metadata": {},
   "outputs": [
    {
     "name": "stdout",
     "output_type": "stream",
     "text": [
      "[0 1 2]\n",
      "[[0 1 2]\n",
      " [3 4 5]\n",
      " [6 7 8]]\n",
      "[[0 1 2]\n",
      " [0 1 2]\n",
      " [3 4 5]\n",
      " [6 7 8]]\n",
      "[0 1 2 3 4 5 6 7 8]\n",
      "[0 1 2 0 1 2 3 4 5 6 7 8]\n"
     ]
    }
   ],
   "source": [
    "x = np.arange(3)\n",
    "print(x)\n",
    "\n",
    "y = np.arange(9).reshape(3,3)\n",
    "print(y)\n",
    "\n",
    "z = np.vstack((x,y))\n",
    "print(z)\n",
    "\n",
    "y = y.reshape(9,)\n",
    "print(y)\n",
    "\n",
    "t = np.hstack((x,y))\n",
    "print(t)\n",
    "\n",
    "#np.stack"
   ]
  },
  {
   "cell_type": "code",
   "execution_count": 163,
   "metadata": {},
   "outputs": [
    {
     "name": "stdout",
     "output_type": "stream",
     "text": [
      "[0 1 2 3 4 5 6 7 8 9]\n",
      "[2 3 4 5]\n",
      "[4 5 6 7 8 9]\n",
      "[0 1 2 3 4 5 6]\n",
      "[0 1 2 3 4 5 6 7 8]\n",
      "[6 7]\n"
     ]
    }
   ],
   "source": [
    "x = np.arange(10)\n",
    "print(x)\n",
    "print(x[2:6])\n",
    "print(x[4:])\n",
    "print(x[:7])\n",
    "print(x[:-1])\n",
    "print(x[-4:-2])"
   ]
  },
  {
   "cell_type": "code",
   "execution_count": 162,
   "metadata": {},
   "outputs": [
    {
     "name": "stdout",
     "output_type": "stream",
     "text": [
      "[[ 0  1  2  3  4]\n",
      " [ 5  6  7  8  9]\n",
      " [10 11 12 13 14]\n",
      " [15 16 17 18 19]\n",
      " [20 21 22 23 24]]\n"
     ]
    }
   ],
   "source": [
    "x = np.arange(25).reshape(5,5)\n",
    "print(x)"
   ]
  },
  {
   "cell_type": "code",
   "execution_count": 169,
   "metadata": {},
   "outputs": [
    {
     "name": "stdout",
     "output_type": "stream",
     "text": [
      "[[ 0  1  2  3  4]\n",
      " [ 5  6  7  8  9]\n",
      " [10 11 12 13 14]\n",
      " [15 16 17 18 19]\n",
      " [20 21 22 23 24]] \n",
      "\n",
      "[[ 1  2  3]\n",
      " [ 6  7  8]\n",
      " [11 12 13]] \n",
      "\n",
      "[[10 11 12 13 14]\n",
      " [15 16 17 18 19]\n",
      " [20 21 22 23 24]] \n",
      "\n",
      "[[ 0  1  2  3  4]\n",
      " [ 5  6  7  8  9]\n",
      " [10 11 12 13 14]\n",
      " [15 16 17 18 19]\n",
      " [20 21 22 23 24]] \n",
      "\n",
      "[[ 3  4]\n",
      " [ 8  9]\n",
      " [13 14]\n",
      " [18 19]\n",
      " [23 24]]\n"
     ]
    }
   ],
   "source": [
    "x = np.arange(25).reshape(5,5)\n",
    "print(x,\"\\n\")\n",
    "y = x[0:3,1:4]\n",
    "print(y,\"\\n\")\n",
    "\n",
    "z = x[2:]\n",
    "print(z,\"\\n\")\n",
    "\n",
    "t = x[::]\n",
    "print(t,\"\\n\")\n",
    "\n",
    "v = x[:,3:]\n",
    "print(v)"
   ]
  },
  {
   "cell_type": "code",
   "execution_count": 174,
   "metadata": {},
   "outputs": [
    {
     "name": "stdout",
     "output_type": "stream",
     "text": [
      "[[0 1 2]\n",
      " [3 4 5]\n",
      " [6 7 8]] \n",
      "\n",
      "[[3 4]]\n",
      "[[  0   1   2]\n",
      " [100   4   5]\n",
      " [  6   7   8]] \n",
      "\n",
      "True\n"
     ]
    }
   ],
   "source": [
    "x = np.arange(9).reshape(3,3)\n",
    "print(x,\"\\n\")\n",
    "\n",
    "y = x[1:2,0:2]\n",
    "print(y)\n",
    "y[0,0] = 100\n",
    "print(x,\"\\n\")\n",
    "\n",
    "print(np.shares_memory(x,y))"
   ]
  },
  {
   "cell_type": "code",
   "execution_count": 179,
   "metadata": {},
   "outputs": [
    {
     "name": "stdout",
     "output_type": "stream",
     "text": [
      "[[ 0  1  2  3]\n",
      " [ 4  5  6  7]\n",
      " [ 8  9 10 11]\n",
      " [12 13 14 15]]\n",
      "\n",
      "[[ 1  2]\n",
      " [ 5  6]\n",
      " [ 9 10]]\n",
      "\n",
      "[[ 0  1  2  3]\n",
      " [ 4  5  6  7]\n",
      " [ 8  9 10 11]\n",
      " [12 13 14 15]]\n",
      "\n",
      "[[  1 500]\n",
      " [  5   6]\n",
      " [  9  10]]\n",
      "\n",
      "[[5]]\n",
      "False\n"
     ]
    }
   ],
   "source": [
    "x = np.arange(16).reshape(4,4)\n",
    "print(x)\n",
    "print()\n",
    "y = np.copy(x[0:3,1:3])\n",
    "print(y)\n",
    "print()\n",
    "y[0,1] = 500\n",
    "print(x)\n",
    "print()\n",
    "print(y)\n",
    "print()\n",
    "z = x[1:2,1:2].copy()\n",
    "print(z)\n",
    "print(np.shares_memory(x,z))"
   ]
  },
  {
   "cell_type": "code",
   "execution_count": 186,
   "metadata": {},
   "outputs": [
    {
     "name": "stdout",
     "output_type": "stream",
     "text": [
      "10\n",
      "[[ 1.  3.  5.  7.  9.]\n",
      " [11. 13. 15. 17. 19.]]\n"
     ]
    }
   ],
   "source": [
    "x = np.linspace(1,19,10).reshape(2,5)\n",
    "print(x.size)\n",
    "print(x)"
   ]
  },
  {
   "cell_type": "code",
   "execution_count": 188,
   "metadata": {},
   "outputs": [
    {
     "name": "stdout",
     "output_type": "stream",
     "text": [
      "11\n",
      "[ 1.  3.  5.  7.  9. 11. 13. 15. 17. 19. 21.]\n",
      "[2 4 7]\n",
      "[ 5.  9. 15.]\n"
     ]
    }
   ],
   "source": [
    "x = np.linspace(1,21,11)\n",
    "print(x.size)\n",
    "print(x)\n",
    "y = np.array([2,4,7])\n",
    "print(y)\n",
    "print(x[y])"
   ]
  },
  {
   "cell_type": "code",
   "execution_count": 193,
   "metadata": {},
   "outputs": [
    {
     "name": "stdout",
     "output_type": "stream",
     "text": [
      "[[ 0  1  2  3  4]\n",
      " [ 5  6  7  8  9]\n",
      " [10 11 12 13 14]\n",
      " [15 16 17 18 19]\n",
      " [20 21 22 23 24]]\n",
      "[1 2]\n",
      "\n",
      "[[ 5  6  7  8  9]\n",
      " [10 11 12 13 14]]\n",
      "[[ 5  6  7  8  9]\n",
      " [10 11 12 13 14]]\n",
      "\n",
      "[[100   6   7   8   9]\n",
      " [ 10  11  12  13  14]]\n",
      "\n",
      "[[ 0  1  2  3  4]\n",
      " [ 5  6  7  8  9]\n",
      " [10 11 12 13 14]\n",
      " [15 16 17 18 19]\n",
      " [20 21 22 23 24]]\n",
      "False\n"
     ]
    }
   ],
   "source": [
    "x = np.arange(25).reshape(5,5)\n",
    "print(x)\n",
    "y = np.array([1,2])\n",
    "print(y)\n",
    "print()\n",
    "print(x[y,:])\n",
    "\n",
    "# fancy indexing\n",
    "\n",
    "z = x[y,:]\n",
    "print(z)\n",
    "z[0,0] = 100\n",
    "print()\n",
    "print(z)\n",
    "print()\n",
    "print(x)\n",
    "\n",
    "print(np.shares_memory(x,z))"
   ]
  },
  {
   "cell_type": "code",
   "execution_count": 196,
   "metadata": {},
   "outputs": [
    {
     "name": "stdout",
     "output_type": "stream",
     "text": [
      "[0 1 2 3 4 5 6 7 8 9]\n",
      "\n",
      "[0 2 4 6 8]\n",
      "\n",
      "[10  2  4  6  8]\n",
      "\n",
      "[0 1 2 3 4 5 6 7 8 9]\n",
      "\n"
     ]
    }
   ],
   "source": [
    "# boolean indezing\n",
    "\n",
    "x = np.arange(10)\n",
    "print(x)\n",
    "print()\n",
    "z = x[(x % 2 == 0)]\n",
    "print(z)\n",
    "print()\n",
    "z[0] = 10\n",
    "print(z)\n",
    "print()\n",
    "print(x)\n",
    "print()"
   ]
  },
  {
   "cell_type": "code",
   "execution_count": 245,
   "metadata": {},
   "outputs": [
    {
     "name": "stdout",
     "output_type": "stream",
     "text": [
      "[2 5 9 6 9 9 5 2 7 2]\n",
      "[1 1 0 1 0 1 1 1 0 0]\n",
      "[ True  True  True  True  True  True  True  True  True  True]\n",
      "<class 'numpy.ndarray'>\n",
      "bool\n",
      "True\n",
      "True\n"
     ]
    }
   ],
   "source": [
    "x = np.random.randint(10,size=10)\n",
    "y = np.random.randint(2,size=10)\n",
    "print(x)\n",
    "print(y)\n",
    "print(x>y)\n",
    "print(type(x>y))\n",
    "print((x>y).dtype)\n",
    "\n",
    "print(np.all(x>y))\n",
    "print(np.any(x>y))"
   ]
  },
  {
   "cell_type": "code",
   "execution_count": 251,
   "metadata": {},
   "outputs": [
    {
     "name": "stdout",
     "output_type": "stream",
     "text": [
      "[ 1.  3.  5.  7.  9. 11. 13. 15. 17. 19. 21.]\n",
      "[False  True False False  True False False  True False False  True]\n",
      "<class 'numpy.ndarray'>\n",
      "[ 3.  9. 15. 21.]\n",
      "[ 1.  1.  5.  7.  1. 11. 13.  1. 17. 19.  1.]\n"
     ]
    }
   ],
   "source": [
    "x = np.linspace(1,21,11)\n",
    "print(x)\n",
    "mask = (x % 3 == 0)\n",
    "print(mask)\n",
    "print(type(mask))\n",
    "print(x[mask])\n",
    "x[mask] = 1\n",
    "print(x)"
   ]
  },
  {
   "cell_type": "code",
   "execution_count": 254,
   "metadata": {},
   "outputs": [
    {
     "name": "stdout",
     "output_type": "stream",
     "text": [
      "<class 'numpy.ndarray'>\n"
     ]
    }
   ],
   "source": [
    "x = np.array([2,5,3,6,9])\n",
    "y = np.array([6,1,8,7,3])\n",
    "\n",
    "z = np.intersect1d(x,y)\n",
    "\n",
    "print(type(z))"
   ]
  },
  {
   "cell_type": "code",
   "execution_count": 256,
   "metadata": {},
   "outputs": [
    {
     "name": "stdout",
     "output_type": "stream",
     "text": [
      "[2 5 9]\n",
      "[1 7 8]\n"
     ]
    }
   ],
   "source": [
    "print(np.setdiff1d(x,y))\n",
    "print(np.setdiff1d(y,x))"
   ]
  },
  {
   "cell_type": "code",
   "execution_count": 257,
   "metadata": {},
   "outputs": [
    {
     "name": "stdout",
     "output_type": "stream",
     "text": [
      "[1 2 3 5 6 7 8 9]\n"
     ]
    }
   ],
   "source": [
    "print(np.union1d(x,y))"
   ]
  },
  {
   "cell_type": "code",
   "execution_count": 258,
   "metadata": {},
   "outputs": [
    {
     "name": "stdout",
     "output_type": "stream",
     "text": [
      "[False False  True  True False]\n"
     ]
    }
   ],
   "source": [
    "print(np.in1d(x,y))"
   ]
  },
  {
   "cell_type": "code",
   "execution_count": 259,
   "metadata": {},
   "outputs": [
    {
     "name": "stdout",
     "output_type": "stream",
     "text": [
      "[0 2 3 4 5 6 9]\n"
     ]
    }
   ],
   "source": [
    "x = np.array([2,5,3,6,9,4,3,6,5,0])\n",
    "print(np.unique(x))"
   ]
  },
  {
   "cell_type": "code",
   "execution_count": 268,
   "metadata": {},
   "outputs": [
    {
     "name": "stdout",
     "output_type": "stream",
     "text": [
      "[4 7 4 1 6 4 3 5 4 1]\n",
      "[1 1 3 4 4 4 4 5 6 7]\n",
      "[4 7 4 1 6 4 3 5 4 1]\n",
      "\n",
      "[6 1 3 4 8 4 9 9 7 6]\n",
      "[1 3 4 4 6 6 7 8 9 9]\n"
     ]
    }
   ],
   "source": [
    "#sort\n",
    "\n",
    "x = np.random.randint(1,10,size=(10,))\n",
    "print(x)\n",
    "print(np.sort(x))\n",
    "print(x)\n",
    "print()\n",
    "\n",
    "y = np.random.randint(1,10, size=(10,))\n",
    "print(y)\n",
    "y.sort()\n",
    "print(y)"
   ]
  },
  {
   "cell_type": "code",
   "execution_count": 271,
   "metadata": {},
   "outputs": [
    {
     "name": "stdout",
     "output_type": "stream",
     "text": [
      "[[1 1 1 8 3]\n",
      " [9 7 7 3 9]\n",
      " [7 2 7 6 2]\n",
      " [6 9 3 8 2]\n",
      " [5 3 6 3 6]]\n",
      "\n",
      "[[1 1 1 3 2]\n",
      " [5 2 3 3 2]\n",
      " [6 3 6 6 3]\n",
      " [7 7 7 8 6]\n",
      " [9 9 7 8 9]]\n",
      "\n",
      "[[1 1 1 3 8]\n",
      " [3 7 7 9 9]\n",
      " [2 2 6 7 7]\n",
      " [2 3 6 8 9]\n",
      " [3 3 5 6 6]]\n",
      "\n"
     ]
    }
   ],
   "source": [
    "x = np.random.randint(1,10, size = (5,5))\n",
    "print(x)\n",
    "print()\n",
    "print(np.sort(x,axis=0))\n",
    "print()\n",
    "print(np.sort(x,axis=1))\n",
    "print()"
   ]
  },
  {
   "cell_type": "code",
   "execution_count": 278,
   "metadata": {},
   "outputs": [
    {
     "name": "stdout",
     "output_type": "stream",
     "text": [
      "[8 4 4 7 3]\n",
      "[3 3 5 1 8]\n",
      "[11  7  9  8 11]\n",
      "[11  7  9  8 11]\n",
      "<class 'numpy.ndarray'>\n",
      "<class 'numpy.ndarray'>\n",
      "[ 5  1 -1  6 -5]\n",
      "[ 5  1 -1  6 -5]\n",
      "[24 12 20  7 24]\n",
      "[24 12 20  7 24]\n",
      "[2.66666667 1.33333333 0.8        7.         0.375     ]\n",
      "[2.66666667 1.33333333 0.8        7.         0.375     ]\n"
     ]
    }
   ],
   "source": [
    "x = np.random.randint(1,10,size=(5,))\n",
    "y = np.random.randint(1,10,size=(5,))\n",
    "print(x)\n",
    "print(y)\n",
    "\n",
    "print(x+y)\n",
    "print(np.add(x,y))\n",
    "print(type(x+y))\n",
    "print(type(np.add(x,y)))\n",
    "\n",
    "print(x-y)\n",
    "print(np.subtract(x,y))\n",
    "\n",
    "print(x*y)\n",
    "print(np.multiply(x,y))\n",
    "\n",
    "print(x/y)\n",
    "print(np.divide(x,y))"
   ]
  },
  {
   "cell_type": "code",
   "execution_count": 280,
   "metadata": {},
   "outputs": [
    {
     "name": "stdout",
     "output_type": "stream",
     "text": [
      "[11  7  7 10  6]\n",
      "[5 1 1 4 0]\n",
      "[24 12 12 21  9]\n",
      "[2.66666667 1.33333333 1.33333333 2.33333333 1.        ]\n",
      "[False False False False False]\n"
     ]
    }
   ],
   "source": [
    "print(x+3)\n",
    "print(x-3)\n",
    "print(x*3)\n",
    "print(x/3)\n",
    "print(x == y)"
   ]
  },
  {
   "cell_type": "code",
   "execution_count": 281,
   "metadata": {},
   "outputs": [
    {
     "name": "stdout",
     "output_type": "stream",
     "text": [
      "False\n"
     ]
    }
   ],
   "source": [
    "print(np.array_equal(x,y))"
   ]
  },
  {
   "cell_type": "code",
   "execution_count": 288,
   "metadata": {},
   "outputs": [
    {
     "name": "stdout",
     "output_type": "stream",
     "text": [
      "[2.82842712 2.         2.         2.64575131 1.73205081]\n",
      "[512  64  64 343  27]\n",
      "[8 4 4 7 3]\n",
      "[2980.95798704   54.59815003   54.59815003 1096.63315843   20.08553692]\n"
     ]
    }
   ],
   "source": [
    "print(np.sqrt(x))\n",
    "print(np.power(x,3))\n",
    "print(x)\n",
    "print(np.exp(x))\n"
   ]
  },
  {
   "cell_type": "code",
   "execution_count": 291,
   "metadata": {},
   "outputs": [
    {
     "name": "stdout",
     "output_type": "stream",
     "text": [
      "[[3 3 4]\n",
      " [6 5 2]\n",
      " [8 8 1]]\n",
      "40\n",
      "[17 16  7]\n",
      "[10 13 17]\n",
      "1\n",
      "8\n",
      "8\n",
      "6\n"
     ]
    }
   ],
   "source": [
    "x = np.random.randint(1,10,size=(3,3))\n",
    "print(x)\n",
    "print(np.sum(x))\n",
    "print(x.sum(axis=0))\n",
    "print(x.sum(axis=1))\n",
    "print(x.min())\n",
    "print(x.max())\n",
    "print(x.argmin()) # min elemanın index sırası\n",
    "print(x.argmax()) # max elemanın index sırası"
   ]
  },
  {
   "cell_type": "code",
   "execution_count": 295,
   "metadata": {},
   "outputs": [
    {
     "name": "stdout",
     "output_type": "stream",
     "text": [
      "[7 2 6 1 8 6 6 3]\n",
      "\n",
      "4.875\n",
      "\n",
      "6.0\n",
      "\n",
      "2.368411915187052\n",
      "\n"
     ]
    }
   ],
   "source": [
    "x = np.random.randint(1,10,size=(8,))\n",
    "print(x)\n",
    "print()\n",
    "print(x.mean())\n",
    "print()\n",
    "print(np.median(x))\n",
    "print()\n",
    "print(x.std())\n",
    "print()"
   ]
  },
  {
   "cell_type": "code",
   "execution_count": 301,
   "metadata": {},
   "outputs": [
    {
     "name": "stdout",
     "output_type": "stream",
     "text": [
      "[[5 6 9]\n",
      " [8 7 9]\n",
      " [3 5 3]\n",
      " [5 6 1]]\n",
      "\n",
      "[5.25 6.   5.5 ]\n",
      "\n",
      "[6.66666667 8.         3.66666667 4.        ]\n",
      "\n",
      "[1.78535711 0.70710678 3.57071421]\n"
     ]
    }
   ],
   "source": [
    "y = np.random.randint(1,10,size=(4,3))\n",
    "print(y)\n",
    "print()\n",
    "print(y.mean(axis=0))\n",
    "print()\n",
    "print(y.mean(axis=1))\n",
    "print()\n",
    "print(y.std(axis=0))"
   ]
  },
  {
   "cell_type": "code",
   "execution_count": 305,
   "metadata": {},
   "outputs": [
    {
     "name": "stdout",
     "output_type": "stream",
     "text": [
      "[7]\n",
      "\n",
      "[[6 4]\n",
      " [5 5]\n",
      " [2 6]]\n",
      "\n",
      "[[13 11]\n",
      " [12 12]\n",
      " [ 9 13]]\n"
     ]
    }
   ],
   "source": [
    "x = np.random.randint(1,10,size=(1,))\n",
    "y = np.random.randint(1,10,size=(3,2))\n",
    "print(x)\n",
    "print()\n",
    "print(y)\n",
    "print()\n",
    "print(x+y)"
   ]
  },
  {
   "cell_type": "code",
   "execution_count": 307,
   "metadata": {},
   "outputs": [
    {
     "name": "stdout",
     "output_type": "stream",
     "text": [
      "[0. 0. 0. 0. 0.]\n",
      "[1. 1. 1. 1. 1.]\n"
     ]
    }
   ],
   "source": [
    "x = np.zeros(5)\n",
    "y = np.ones(5)\n",
    "print(x)\n",
    "print(y)"
   ]
  },
  {
   "cell_type": "code",
   "execution_count": 308,
   "metadata": {},
   "outputs": [
    {
     "name": "stdout",
     "output_type": "stream",
     "text": [
      "[ 7  9 11 13 15 17 19 21 23 25 27 29 31 33 35 37 39 41]\n"
     ]
    }
   ],
   "source": [
    "x = np.arange(7,42,2)\n",
    "print(x)"
   ]
  },
  {
   "cell_type": "code",
   "execution_count": 311,
   "metadata": {},
   "outputs": [
    {
     "name": "stdout",
     "output_type": "stream",
     "text": [
      "[[ 1.   1.6  2.2  2.8]\n",
      " [ 3.4  4.   4.6  5.2]\n",
      " [ 5.8  6.4  7.   7.6]\n",
      " [ 8.2  8.8  9.4 10. ]]\n"
     ]
    }
   ],
   "source": [
    "x = np.linspace(1,10,16).reshape(4,4)\n",
    "print(x)"
   ]
  },
  {
   "cell_type": "code",
   "execution_count": 314,
   "metadata": {},
   "outputs": [
    {
     "name": "stdout",
     "output_type": "stream",
     "text": [
      "[[5 4 1 7]\n",
      " [1 4 8 5]\n",
      " [2 7 7 2]\n",
      " [7 4 4 4]]\n"
     ]
    }
   ],
   "source": [
    "x = np.random.randint(1,10,size=(4,4))\n",
    "print(x)"
   ]
  },
  {
   "cell_type": "code",
   "execution_count": 315,
   "metadata": {},
   "outputs": [
    {
     "name": "stdout",
     "output_type": "stream",
     "text": [
      "[0.1 0.2 0.3 0.4 0.5 0.6 0.7 0.8 0.9 1. ]\n"
     ]
    }
   ],
   "source": [
    "x = np.linspace(0.1,1,10)\n",
    "print(x)"
   ]
  },
  {
   "cell_type": "code",
   "execution_count": 318,
   "metadata": {},
   "outputs": [
    {
     "name": "stdout",
     "output_type": "stream",
     "text": [
      "[[ 7  8]\n",
      " [12 13]]\n"
     ]
    }
   ],
   "source": [
    "x = np.arange(25).reshape(5,5)\n",
    "print(x[1:3,2:4])"
   ]
  },
  {
   "cell_type": "code",
   "execution_count": 320,
   "metadata": {},
   "outputs": [
    {
     "name": "stdout",
     "output_type": "stream",
     "text": [
      "[[ 1  2  3  4]\n",
      " [ 5  6  7  8]\n",
      " [ 9 10 11 12]\n",
      " [13 14 15 16]]\n"
     ]
    }
   ],
   "source": [
    "x = np.arange(1,17).reshape(4,4)\n",
    "print(x)"
   ]
  },
  {
   "cell_type": "code",
   "execution_count": 325,
   "metadata": {},
   "outputs": [
    {
     "name": "stdout",
     "output_type": "stream",
     "text": [
      "[[ 2  4  6  8]\n",
      " [10 12 14 16]]\n"
     ]
    }
   ],
   "source": [
    "y = x[:,[1,3]].reshape(2,4) \n",
    "# y = x[x%2==0].reshaper(2,4)\n",
    "print(y)"
   ]
  },
  {
   "cell_type": "code",
   "execution_count": 329,
   "metadata": {},
   "outputs": [
    {
     "name": "stdout",
     "output_type": "stream",
     "text": [
      "[[ 1  1]\n",
      " [ 5 10]]\n",
      "\n",
      "[100 700]\n",
      "\n",
      "[60. 40.]\n"
     ]
    }
   ],
   "source": [
    "A = np.array([[1,1],[5,10]])\n",
    "B = np.array([100,700])\n",
    "print(A)\n",
    "print()\n",
    "print(B)\n",
    "print()\n",
    "x = np.linalg.solve(A,B)\n",
    "print(x)"
   ]
  },
  {
   "cell_type": "code",
   "execution_count": 331,
   "metadata": {},
   "outputs": [
    {
     "name": "stdout",
     "output_type": "stream",
     "text": [
      "[1 4 3 1]\n",
      "[2 2 1 2]\n",
      "\n",
      "15\n"
     ]
    }
   ],
   "source": [
    "x = np.random.randint(1,5,4)\n",
    "print(x)\n",
    "y = np.random.randint(1,5,4)\n",
    "print(y)\n",
    "print()\n",
    "print(np.dot(x,y))"
   ]
  },
  {
   "cell_type": "code",
   "execution_count": 332,
   "metadata": {},
   "outputs": [
    {
     "name": "stdout",
     "output_type": "stream",
     "text": [
      "[[3 3]\n",
      " [3 1]]\n",
      "[[1 3]\n",
      " [4 1]]\n",
      "\n",
      "[[15 12]\n",
      " [ 7 10]]\n"
     ]
    }
   ],
   "source": [
    "x = np.random.randint(1,5,size = (2,2))\n",
    "print(x)\n",
    "y = np.random.randint(1,5,size = (2,2))\n",
    "print(y)\n",
    "print()\n",
    "print(np.dot(x,y))"
   ]
  },
  {
   "cell_type": "code",
   "execution_count": 333,
   "metadata": {},
   "outputs": [
    {
     "name": "stdout",
     "output_type": "stream",
     "text": [
      "1.1.4\n"
     ]
    }
   ],
   "source": [
    "print(pd.__version__)"
   ]
  },
  {
   "cell_type": "code",
   "execution_count": null,
   "metadata": {},
   "outputs": [],
   "source": []
  }
 ],
 "metadata": {
  "kernelspec": {
   "display_name": "Python 3",
   "language": "python",
   "name": "python3"
  },
  "language_info": {
   "codemirror_mode": {
    "name": "ipython",
    "version": 3
   },
   "file_extension": ".py",
   "mimetype": "text/x-python",
   "name": "python",
   "nbconvert_exporter": "python",
   "pygments_lexer": "ipython3",
   "version": "3.9.1"
  }
 },
 "nbformat": 4,
 "nbformat_minor": 4
}
